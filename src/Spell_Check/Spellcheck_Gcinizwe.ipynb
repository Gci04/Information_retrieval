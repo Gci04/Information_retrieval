{
 "cells": [
  {
   "cell_type": "markdown",
   "metadata": {},
   "source": [
    "# Sorri not veri gud in inglish\n",
    "\n",
    "Have you ever googled someone's name without knowing exactly how should it be written? Were you ever reluctant to look up the correct spelling of a query you typed? Or just unable to type properly because of being in a rush? Modern search engines usually do a pretty good job in deciphering defective user input. In order to be able to do that, a good spell-checking mechanism should be incorporated into a search procedure. Today we will take one step further towards building a good search engine and work on tolerant retrieval with respect to user queries. We will consider two cases:\n",
    "\n",
    "1. User knows that he doesn't know the correct spelling OR he wants to get the results that follow some known pattern, so he uses so called wildcards - queries like 'retr*val';\n",
    "2. User doesn't know the correct spelling OR he doesn't care OR he's in a rush OR he expects his mistakes will be corrected OR your option, so he makes mistakes and we need to handle them using:\n",
    "\n",
    "    2.1. Simple spellchecker by Peter Norvig;\n",
    "    \n",
    "    2.2. Phonetic correction by means of Soundex algorithm;\n",
    "    \n",
    "    2.3. Trigrams with Jaccard coefficient."
   ]
  },
  {
   "cell_type": "markdown",
   "metadata": {},
   "source": [
    "## 1. Handling wildcards\n",
    "\n",
    "We will handle wildcard queries using k-grams. K-grams is a list of consecutive k chars in a string - i.e., for the word *'star'*, it will be '*\\$st*', '*sta*', '*tar*', and '*ar$*', if we take k=3. Take a look at [book](https://nlp.stanford.edu/IR-book/pdf/irbookonlinereading.pdf) *chapter 3.2.2* to understand how k-grams can help efficiently match a wildcard against dictionary words. Here we will only consider wildcards with star symbols (may be multiple).\n",
    "\n",
    "Notice that for building k-grams index, **we will need a vocabulary of original word forms** to compare words in user input to the vocabulary of \"correct\" words (think why inverted index which we built for stemmed words doesn't work here).   \n",
    "\n",
    "You need to implement the following:\n",
    "\n",
    "- `build_inverted_index_orig_forms` - creates inverted index of original world forms from `facts` list, which is already given to you.  \n",
    "    Output format: `term:[collection_frequency, (doc_id_1, doc_freq_1), (doc_id_2, doc_freq_2), ...]`\n",
    "    \n",
    "\n",
    "- `build_k_gram_index` - creates k-gram index which maps every k-gram encountered in facts collection to a list of words containing this k-gram. Use the abovementioned inverted index of original words to construct this index.  \n",
    "    Output format: `'k_gram': ['word1_with_k_gram', 'word2_with_k_gram', ...]`\n",
    "    \n",
    "    \n",
    "- `generate_wildcard_options` - produce a list of vocabulary words matching given wildcard by intersecting postings of k-grams present in the wildcard (refer to *ch 3.2.2*). \n",
    "\n",
    "- `search_wildcard` - return list of facts that contain the words matching a wildcard query.\n",
    "\n",
    "\n",
    "We will use the dataset with curious facts for testing."
   ]
  },
  {
   "cell_type": "code",
   "execution_count": 1,
   "metadata": {},
   "outputs": [
    {
     "name": "stdout",
     "output_type": "stream",
     "text": [
      "151. Women have twice as many pain receptors on their body than men. But a much higher pain tolerance.\n",
      "152. There are more stars in space than there are grains of sand on every beach in the world.\n",
      "153. For every human on Earth there are 1.6 million ants.\n",
      "154. The total weight of all those ants, however, is about the same as all the humans.\n",
      "155. On Jupiter and Saturn it rains diamonds.\n"
     ]
    }
   ],
   "source": [
    "import urllib.request\n",
    "data_url = \"https://raw.githubusercontent.com/hsu-ai-course/hsu.ai/master/code/datasets/nlp/facts.txt\"\n",
    "local_filename, headers = urllib.request.urlretrieve(data_url)\n",
    "\n",
    "facts = []\n",
    "with open(local_filename) as fp:\n",
    "    for cnt, line in enumerate(fp):\n",
    "        facts.append(line.strip('\\n'))\n",
    "        \n",
    "print(*facts[-5:], sep='\\n')"
   ]
  },
  {
   "cell_type": "code",
   "execution_count": 2,
   "metadata": {
    "collapsed": true
   },
   "outputs": [],
   "source": [
    "import nltk\n",
    "from collections import Counter\n",
    "import re\n",
    "\n",
    "\n",
    "def build_inverted_index_orig_forms(documents):\n",
    "    #TODO build an inverted index of original word forms \n",
    "    # (without stemming, just word tokenized and lowercased)   \n",
    "    inverted_index = {}\n",
    "        \n",
    "    return inverted_index\n",
    "\n",
    "\n",
    "def build_k_gram_index(inverted_index, k):\n",
    "    #TODO build index of k-grams for dictionary words. \n",
    "    # Padd with '$' ($word$) before splitting to k-grams    \n",
    "    k_gram_index = {}\n",
    "    \n",
    "    return k_gram_index\n",
    "\n",
    "\n",
    "def generate_wildcard_options(wildcard, k_gram_index, inverted_index):\n",
    "    #TODO for a given wildcard return all words matching it using k-grams\n",
    "    # refer to book chapter 3.2.2\n",
    "    # don't forget to pad wildcard with '$', when appropriate    \n",
    "    \n",
    "    return []\n",
    "\n",
    "\n",
    "def search_wildcard(wildcard, k_gram_index, index, docs):\n",
    "    #TODO retrive list of documnets (facts) that contain words matching wildcard\n",
    "           \n",
    "    return []\n"
   ]
  },
  {
   "cell_type": "markdown",
   "metadata": {},
   "source": [
    "### 1.2 Tests"
   ]
  },
  {
   "cell_type": "code",
   "execution_count": 3,
   "metadata": {},
   "outputs": [
    {
     "name": "stdout",
     "output_type": "stream",
     "text": [
      "['reduced', 'received', 'recorded']\n",
      "134. A person can live without food for about a month, but only about a week without water. If the amount of water in your body is \u001b[1m\u001b[91mreduced\u001b[0m by just 1%, you’ll feel thirsty. If it’s \u001b[1m\u001b[91mreduced\u001b[0m by 10%, you’ll die.\n",
      "4. The largest \u001b[1m\u001b[91mrecorded\u001b[0m snowflake was in Keogh, MT during year 1887, and was 15 inches wide.\n",
      "102. More than 50% of the people in the world have never made or \u001b[1m\u001b[91mreceived\u001b[0m a telephone call.\n"
     ]
    }
   ],
   "source": [
    "index_orig_forms = build_inverted_index_orig_forms(facts)\n",
    "k_gram_index = build_k_gram_index(index_orig_forms, 3)\n",
    "\n",
    "wildcard = \"re*ed\"\n",
    "\n",
    "wildcard_options = generate_wildcard_options(wildcard, k_gram_index, index_orig_forms)\n",
    "print(wildcard_options)\n",
    "assert(len(wildcard_options) >= 3)\n",
    "\n",
    "wildcard_results = search_wildcard(wildcard, k_gram_index, index_orig_forms, facts)\n",
    "# some pretty printing\n",
    "for r in wildcard_results:\n",
    "    # highlight terms for visual evaluation\n",
    "    for term in wildcard_options:\n",
    "        r = re.sub(r'(' + term + ')', r'\\033[1m\\033[91m\\1\\033[0m', r, flags=re.I)\n",
    "    print(r)\n",
    "\n",
    "assert(len(wildcard_results) >=3)\n",
    "\n",
    "assert \"13. James Buchanan, the 15th U.S. president continuously bought slaves with his own money in order to free them.\" in search_wildcard(\"pres*dent\", k_gram_index, index_orig_forms, facts)\n",
    "assert \"40. 9 out of 10 Americans are deficient in Potassium.\" in search_wildcard(\"p*tas*um\", k_gram_index, index_orig_forms, facts)\n",
    "assert \"61. A man from Britain changed his name to Tim Pppppppppprice to make it harder for telemarketers to pronounce.\" in search_wildcard(\"*price\", k_gram_index, index_orig_forms, facts)"
   ]
  },
  {
   "cell_type": "markdown",
   "metadata": {},
   "source": [
    "## 2. Handling typos"
   ]
  },
  {
   "cell_type": "markdown",
   "metadata": {},
   "source": [
    "### 2.1 Dataset \n",
    "\n",
    "Download github typo dataset from [here](https://github.com/mhagiwara/github-typo-corpus).\n",
    "Load it with this code:"
   ]
  },
  {
   "cell_type": "code",
   "execution_count": 4,
   "metadata": {},
   "outputs": [
    {
     "name": "stdout",
     "output_type": "stream",
     "text": [
      "Requirement already satisfied: jsonlines in c:\\users\\a.khusainova\\appdata\\local\\continuum\\anaconda3\\lib\\site-packages (1.2.0)\n",
      "Requirement already satisfied: six in c:\\users\\a.khusainova\\appdata\\local\\continuum\\anaconda3\\lib\\site-packages (from jsonlines) (1.12.0)\n",
      "Dataset size = 245909\n"
     ]
    }
   ],
   "source": [
    "!pip install jsonlines\n",
    "import jsonlines\n",
    "\n",
    "dataset_file = \"github-typo-corpus.v1.0.0.jsonl\"\n",
    "\n",
    "dataset = []\n",
    "other_langs = set()\n",
    "\n",
    "with jsonlines.open(dataset_file) as reader:\n",
    "    for obj in reader:\n",
    "        for edit in obj['edits']:\n",
    "            if edit['src']['lang'] != 'eng':\n",
    "                other_langs.add(edit['src']['lang'])\n",
    "                continue\n",
    "\n",
    "            if edit['is_typo']:\n",
    "                src, tgt = edit['src']['text'], edit['tgt']['text']\n",
    "                if src.lower() != tgt.lower():\n",
    "                    dataset.append((edit['src']['text'], edit['tgt']['text']))\n",
    "                \n",
    "print(f\"Dataset size = {len(dataset)}\")"
   ]
  },
  {
   "cell_type": "markdown",
   "metadata": {},
   "source": [
    "#### Explore sample typos\n",
    "Please, explore the dataset. You may see, that this is\n",
    "- mostly markdown\n",
    "- some common mistakes with do/does\n",
    "- some just refer to punctuation typos (which we do not consider)"
   ]
  },
  {
   "cell_type": "code",
   "execution_count": 5,
   "metadata": {},
   "outputs": [
    {
     "name": "stdout",
     "output_type": "stream",
     "text": [
      "        \"\"\"Make am instance. =>         \"\"\"Make an instance.\n",
      "* travis: test agains Node.js 11 => * travis: test against Node.js 11\n",
      "The parser receive a string and returns an array inside a user-provided  => The parser receives a string and returns an array inside a user-provided \n",
      "CSV data is send through the `write` function and the resulted data is obtained => CSV data is sent through the `write` function and the resulting data is obtained\n",
      "One useful function part of the Stream API is `pipe` to interact between  => One useful function of the Stream API is `pipe` to interact between \n",
      "source to a `stream.Writable` object destination. This example available as  => source to a `stream.Writable` object destination. This example is available as \n",
      "`node samples/pipe.js` read the file, parse its content and transform it. => `node samples/pipe.js` and reads the file, parses its content and transforms it.\n",
      "Most of the generator is imported from its parent project [CSV][csv] in a effort  => Most of the generator is imported from its parent project [CSV][csv] in an effort \n",
      "*   `quote`             Optionnal character surrounding a field, one character only, defaults to double quotes.    => *   `quote`             Optional character surrounding a field, one character only, defaults to double quotes.   \n",
      "The parser receive a string and return an array inside a user-provided  => The parser receive a string and returns an array inside a user-provided \n"
     ]
    }
   ],
   "source": [
    "for pair in dataset[1010:1020]:\n",
    "    print(f\"{pair[0]} => {pair[1]}\")"
   ]
  },
  {
   "cell_type": "markdown",
   "metadata": {},
   "source": [
    "#### Build a dataset vocabulary\n",
    "We will need it for Norvig's spellchecker as well as for estimating overall correction quality. Consider only word-level. Be carefull, there is markdown (e.g. \\`name\\`. \\[url\\]\\(http://url)) and comment symbols (\\#, //, \\*)."
   ]
  },
  {
   "cell_type": "code",
   "execution_count": 6,
   "metadata": {
    "collapsed": true
   },
   "outputs": [],
   "source": [
    "def sent_to_words(sent):\n",
    "    # splits sentence to words, filtering out non-alphabetical terms\n",
    "    words = nltk.word_tokenize(sent)    \n",
    "    words_filtered = filter(lambda x: x.isalpha(), words)\n",
    "    return words_filtered"
   ]
  },
  {
   "cell_type": "code",
   "execution_count": 7,
   "metadata": {},
   "outputs": [
    {
     "data": {
      "text/plain": [
       "58392"
      ]
     },
     "execution_count": 7,
     "metadata": {},
     "output_type": "execute_result"
    }
   ],
   "source": [
    "vocabulary = Counter()\n",
    "for pair in dataset:\n",
    "    for word in sent_to_words(pair[1].lower()):\n",
    "        vocabulary[word] += 1\n",
    "len(vocabulary)"
   ]
  },
  {
   "cell_type": "code",
   "execution_count": 8,
   "metadata": {},
   "outputs": [
    {
     "name": "stdout",
     "output_type": "stream",
     "text": [
      "[('function', 6100), ('de', 80), ('deutsch', 4), ('nocomments', 2), ('you', 41999), ('can', 26004), ('disable', 527), ('comments', 351), ('for', 44674), ('the', 206912)]\n"
     ]
    }
   ],
   "source": [
    "from itertools import islice\n",
    "print(list(islice(vocabulary.items(), 10)))"
   ]
  },
  {
   "cell_type": "markdown",
   "metadata": {},
   "source": [
    "### 2.2 Implement context-independent spellcheker ##\n",
    "\n",
    "0) Write code to compute editorial distance\n",
    "\n",
    "1) [Norvig's corrector](https://norvig.com/spell-correct.html)\n",
    "\n",
    "2) [Soundex](https://en.wikipedia.org/wiki/Soundex)\n",
    "\n",
    "3) Trigrams with Jaccard coefficient."
   ]
  },
  {
   "cell_type": "markdown",
   "metadata": {},
   "source": [
    "#### Editorial distance\n",
    "\n",
    "Frequently used distance measure between two character sequences. We will use this distance to sort Soundex search results."
   ]
  },
  {
   "cell_type": "code",
   "execution_count": 9,
   "metadata": {
    "collapsed": true
   },
   "outputs": [],
   "source": [
    "def edit_dist(s1, s2) -> int:\n",
    "    # TODO compute the Damerau-Levenshtein distance between two given strings (s1 and s2)\n",
    "    \n",
    "    return 0"
   ]
  },
  {
   "cell_type": "markdown",
   "metadata": {},
   "source": [
    "#### Tests"
   ]
  },
  {
   "cell_type": "code",
   "execution_count": 10,
   "metadata": {
    "collapsed": true
   },
   "outputs": [],
   "source": [
    "assert edit_dist(\"korrectud\", \"corrected\") == 2, \"Edit distance is computed incorrectly\"\n",
    "assert edit_dist(\"soem\", \"some\") == 1, \"Edit distance is computed incorrectly\"\n",
    "assert edit_dist(\"one\", \"one\") == 0, \"Edit distance is computed incorrectly\""
   ]
  },
  {
   "cell_type": "markdown",
   "metadata": {},
   "source": [
    "#### Norvig's spellchecker"
   ]
  },
  {
   "cell_type": "code",
   "execution_count": 11,
   "metadata": {
    "collapsed": true
   },
   "outputs": [],
   "source": [
    "def fix_typo_norvig(word) -> str:\n",
    "    #TODO return best matching result for the word\n",
    "    \n",
    "    return \"\"\n"
   ]
  },
  {
   "cell_type": "markdown",
   "metadata": {},
   "source": [
    "#### Tests"
   ]
  },
  {
   "cell_type": "code",
   "execution_count": 12,
   "metadata": {
    "collapsed": true
   },
   "outputs": [],
   "source": [
    "assert fix_typo_norvig(\"korrectud\") == \"corrected\", \"Norvig's correcter doesn't work\"\n",
    "assert fix_typo_norvig(\"speling\") == \"spelling\", \"Norvig's correcter doesn't work\""
   ]
  },
  {
   "cell_type": "markdown",
   "metadata": {},
   "source": [
    "#### Soundex \n",
    "\n",
    "For cases when the exact spelling is unknown, phonetic algorithms such as Soundex can be very helpful - they allow user to type a word the way he thinks it should sound, and then suggest the corrrect version. Go through *chapter 3.4* to understand how Soundex algorithm works."
   ]
  },
  {
   "cell_type": "code",
   "execution_count": 13,
   "metadata": {
    "collapsed": true,
    "scrolled": true
   },
   "outputs": [],
   "source": [
    "def produce_soundex_code(word):\n",
    "    #TODO implement Soundex algorithm, version from book chapter 3.4\n",
    "    # input word is already lowercased\n",
    "    # return Soundex 4-character code, like 'k450'\n",
    "        \n",
    "    return \"\"\n",
    "\n",
    "\n",
    "def build_soundex_index(dictionary):\n",
    "    #TODO build soundex index for dictionary words.\n",
    "    # dictionary is a vocabulary of original words\n",
    "    # output format: 'code1': ['word1_with_code1', 'word2_with_code1', ...]    \n",
    "    soundex_index = {}\n",
    "    \n",
    "    return soundex_index\n",
    "\n",
    "\n",
    "def fix_typo_soundex(word, soundex_index) -> list:\n",
    "    #TODO return words from vocabulary that match with result by soundex fingerprint\n",
    "    # ordered results by editorial distance\n",
    "    \n",
    "    return []"
   ]
  },
  {
   "cell_type": "markdown",
   "metadata": {},
   "source": [
    "#### Tests"
   ]
  },
  {
   "cell_type": "code",
   "execution_count": 14,
   "metadata": {
    "scrolled": true
   },
   "outputs": [
    {
     "name": "stdout",
     "output_type": "stream",
     "text": [
      "b635 b635\n",
      "['enough', 'ensue', 'eng', 'enjoy', 'emoji', 'enqueue', 'ens', 'enc', 'emojii', 'enki', 'enso', 'enzo', 'enwiki', 'emesh', 'emg', 'emc', 'emas', 'euank', 'emac', 'emgo']\n"
     ]
    }
   ],
   "source": [
    "soundex_index = build_soundex_index(vocabulary)\n",
    "\n",
    "code1 = produce_soundex_code(\"britney\")\n",
    "code2 = produce_soundex_code(\"breatany\")\n",
    "print(code1, code2)\n",
    "assert code1 == code2\n",
    "\n",
    "print(fix_typo_soundex(\"enouhg\", soundex_index))\n",
    "assert \"enough\" in fix_typo_soundex(\"enouhg\", soundex_index), \"Assert soundex failed\""
   ]
  },
  {
   "cell_type": "markdown",
   "metadata": {},
   "source": [
    "#### Trigrams with Jaccard coefficient"
   ]
  },
  {
   "cell_type": "code",
   "execution_count": 15,
   "metadata": {
    "collapsed": true
   },
   "outputs": [],
   "source": [
    "def fix_typo_kgram(word, k_gram_index) -> list:\n",
    "    #TODO return best matches with respect to Jaccard index   \n",
    "    \n",
    "    return []"
   ]
  },
  {
   "cell_type": "markdown",
   "metadata": {},
   "source": [
    "#### Tests"
   ]
  },
  {
   "cell_type": "code",
   "execution_count": 16,
   "metadata": {},
   "outputs": [
    {
     "name": "stdout",
     "output_type": "stream",
     "text": [
      "['enough', 'enought', 'eno', 'endogenous', 'enomem', 'enospc', 'enosys', 'enormous', 'renounce', 'en', 'exogenous', 'uh', 'enormously', 'homogenous', 'env', 'end', 'huh', 'hetrogenous', 'enh', 'ens']\n"
     ]
    }
   ],
   "source": [
    "k_gram_index_github = build_k_gram_index(vocabulary, 3)\n",
    "print(fix_typo_kgram(\"enouh\", k_gram_index_github)[:20])\n",
    "assert \"enough\" in fix_typo_kgram(\"enouh\", k_gram_index_github), \"Assert k-gram failed\""
   ]
  },
  {
   "cell_type": "markdown",
   "metadata": {},
   "source": [
    "### 2.3 Estimate quality"
   ]
  },
  {
   "cell_type": "code",
   "execution_count": null,
   "metadata": {
    "collapsed": true
   },
   "outputs": [],
   "source": [
    "norvig, soundex, kgram = 0, 0, 0\n",
    "limit = 10000\n",
    "counter = limit\n",
    "for i, (src, target) in enumerate(dataset):\n",
    "    if i == limit:\n",
    "        break\n",
    "    words = sent_to_words(src.lower())\n",
    "    # word suspected for typos\n",
    "    sn, ss, sk = src.lower(), src.lower(), src.lower()\n",
    "    for word in words:\n",
    "        if word not in vocabulary and word.isalpha():\n",
    "            # top-1 accuracy\n",
    "            wn, ws, wk = fix_typo_norvig(word), \\\n",
    "                         fix_typo_soundex(word, soundex_index)[0], \\\n",
    "                         fix_typo_kgram(word, k_gram_index_github)[0]\n",
    "            sn = sn.replace(word, wn)\n",
    "            ss = ss.replace(word, ws)\n",
    "            sk = sk.replace(word, wk)\n",
    "    norvig += int(sn == target.lower())\n",
    "    soundex += int(ss == target.lower())\n",
    "    kgram += int(sk == target.lower())\n",
    "\n",
    "print(f\"Norvig accuracy ({norvig}) = {norvig / limit}\")\n",
    "print(f\"Soundex accuracy ({soundex}) = {soundex / limit}\")\n",
    "print(f\"k-gram accuracy ({kgram}) = {kgram / limit}\")\n",
    "\n",
    "# Norvig accuracy (2346) = 0.2346\n",
    "# Soundex accuracy (1673) = 0.1673\n",
    "# k-gram accuracy (1566) = 0.1566"
   ]
  }
 ],
 "metadata": {
  "kernelspec": {
   "display_name": "Python 3",
   "language": "python",
   "name": "python3"
  },
  "language_info": {
   "codemirror_mode": {
    "name": "ipython",
    "version": 3
   },
   "file_extension": ".py",
   "mimetype": "text/x-python",
   "name": "python",
   "nbconvert_exporter": "python",
   "pygments_lexer": "ipython3",
   "version": "3.6.5"
  }
 },
 "nbformat": 4,
 "nbformat_minor": 4
}
