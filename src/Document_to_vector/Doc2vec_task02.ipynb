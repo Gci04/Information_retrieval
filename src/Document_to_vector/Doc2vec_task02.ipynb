{
 "cells": [
  {
   "cell_type": "markdown",
   "metadata": {
    "colab_type": "text",
    "id": "IRIVGo0TJ7Rd"
   },
   "source": [
    "# Evolving vector-space model\n",
    "\n",
    "This lab will be devoted to the use of `doc2vec` model for the needs of information retrieval and text classification.  \n",
    "\n",
    "## 1. Searching in the curious facts database\n",
    "The facts dataset is given [here](https://github.com/hsu-ai-course/hsu.ai/blob/master/code/datasets/nlp/facts.txt), take a look.  We want you to retrieve facts relevant to the query, for example, you type \"good mood\", and get to know that Cherophobia is the fear of fun. For this, the idea is to utilize document vectors. However, instead of forming vectors with tf-idf and reducing dimensions, this time we want to obtain fixed-size vectors for documents using `doc2vec` model.\n",
    "\n",
    "### 1.1 Loading trained `doc2vec` model\n",
    "\n",
    "First, let's load the pre-trained `doc2vec` model from https://github.com/jhlau/doc2vec (Associated Press News DBOW (0.6GB))"
   ]
  },
  {
   "cell_type": "code",
   "execution_count": 1,
   "metadata": {
    "colab": {
     "base_uri": "https://localhost:8080/",
     "height": 68
    },
    "colab_type": "code",
    "id": "EAIhT1gbkyYr",
    "outputId": "7ec4f17b-be76-472d-93d7-3252e1d12557"
   },
   "outputs": [
    {
     "name": "stdout",
     "output_type": "stream",
     "text": [
      "[nltk_data] Downloading package punkt to /root/nltk_data...\n",
      "[nltk_data]   Package punkt is already up-to-date!\n"
     ]
    },
    {
     "data": {
      "text/plain": [
       "True"
      ]
     },
     "execution_count": 1,
     "metadata": {
      "tags": []
     },
     "output_type": "execute_result"
    }
   ],
   "source": [
    "import nltk \n",
    "import numpy as np\n",
    "import os, tqdm\n",
    "import pandas as pd\n",
    "\n",
    "nltk.download('punkt')"
   ]
  },
  {
   "cell_type": "markdown",
   "metadata": {
    "colab_type": "text",
    "id": "FxlxQ4r1NzZ6"
   },
   "source": [
    "## 1.1.1 Download Pre-Trained Doc2Vec Models"
   ]
  },
  {
   "cell_type": "code",
   "execution_count": 2,
   "metadata": {
    "colab": {
     "base_uri": "https://localhost:8080/",
     "height": 292
    },
    "colab_type": "code",
    "id": "h5X7pkHEUKKR",
    "outputId": "c577a9af-714a-4e3f-c885-896006e729a2"
   },
   "outputs": [
    {
     "name": "stdout",
     "output_type": "stream",
     "text": [
      "--2020-02-13 10:29:11--  https://public.boxcloud.com/d/1/b1!Kms5K3EJ2EqQLt3e88BsBiWuD5PQi9MyrPA8IXHt9hSdNjpUFSVc0gjsLQLw1KODLDU0WjO6TJ9CVBrA2lvV92lUjgwFUQyOTlZoBUzbTF3TOid121WFlsjFxdi4BzZIh9hidL_-K6o942WWRkUcdd18YnQopLxDSrNukacckI1m2t0M-zR1q3sVmJcwNdUCHsi-IoJrE1UeNxpZYwpOytwshMqvl0hDTR1FpN4bXqqIRY3T-zE0KH91kl6CztRwiUZa72Ue8zYC-MZAgzIETIlxTqPPcOAX-hYXPAYec3atAbqqPfvV2gbkWu9Gfg-AwR6zurH_3ebJk1Yykgcfzpui4qGijhQYsjh-EtXiGxRvaJVgye9pGOX_pSnIk27EemSWGIxf0OzPOH-IFmiJVdMCFk9aRB7I20K6XCYcV5-cvTP5Dc1LOrndm-T_1rcSaxNoL4PXzPVzgimUsQ3vdT6earH1eI55303MN8DRYsxVUzUPEd8D6HzMh985oS5eQOZmfWSegg-N2RcTGSBzIMH7BmGKm6aQb9XuVAb34tjfmXUM5-vRPktPH-GyAWmml8nqh4D_pP0fUT4zA_5XkLUvxUokmEi5x1El5Nz6HhnNsD5uPeg2eN1R8_FbBX2e-zaNgtxBFBq9rKwg59T8-4rHJSu7GrASVmjvd6Ux713jLeI8B28z3EsG3qi_ExjUr--ay956OzpQ5IRwVAdBdVlNx0ZlSGSE609HxFd-VOUanoGu1j6qwo5qyjIgmA7PB_5zoHqyAj1SXvOhs3NNPLg9XUl_vj3vGSHbk41bCT_Mpl7wluivQ4mlvaJtYfr5uqArCE0Rcezkcf8UpTpZDFDcpkjgTTNzaNO9ueMQmwwVIMfz8Zf8E16TiPxOYJpUk5BoF89wQWU5W0eW3YrSWy16l7VJGVjubYVnWhZATrFaFwyPW5qgosID3yq6xPZmO0Wo_60qUEAdM4Fa6PhJAxtxWyvLds7w71wzYXFo_VF6HomApzrdka9M0DicanMVdHLuwq2vutGAodjTv6WP6xdtQ-EMRHqEtdHITQ6v_B1Swx2qEbsaWj9fvdpHRaGIxgHf_QoueSsi8aUqdhgAVnmRvtbtJXYfqDYF57PRU487dTQqg1GLrdwIC2AyCWjtZSJ-KToKsognKPNp_w3aI6dqq0dx_b4PoLxAenIcAmPyu7vFEkF5bjBumot6wP0btCMD-Jt5MHAKAD2KBbBaEBsl67dYshSWkH39gDiH9Inbv0JpDiFwBB20hArb0WIwAMZuV8aHVkYWJDu3mSunp_17OPMjqwYYdgsD6tvsj2FV0vQZCQNiRjrAVfKAZfJjLg../download\n",
      "Resolving public.boxcloud.com (public.boxcloud.com)... 107.152.25.200\n",
      "Connecting to public.boxcloud.com (public.boxcloud.com)|107.152.25.200|:443... connected.\n",
      "HTTP request sent, awaiting response... 200 OK\n",
      "Length: 665844707 (635M) [application/octet-stream]\n",
      "Saving to: ‘download’\n",
      "\n",
      "download            100%[===================>] 635.00M  17.6MB/s    in 36s     \n",
      "\n",
      "2020-02-13 10:29:47 (17.7 MB/s) - ‘download’ saved [665844707/665844707]\n",
      "\n",
      "apnews_dbow/\n",
      "apnews_dbow/doc2vec.bin.syn1neg.npy\n",
      "apnews_dbow/doc2vec.bin.syn0.npy\n",
      "apnews_dbow/doc2vec.bin\n"
     ]
    }
   ],
   "source": [
    "!wget https://public.boxcloud.com/d/1/b1!Kms5K3EJ2EqQLt3e88BsBiWuD5PQi9MyrPA8IXHt9hSdNjpUFSVc0gjsLQLw1KODLDU0WjO6TJ9CVBrA2lvV92lUjgwFUQyOTlZoBUzbTF3TOid121WFlsjFxdi4BzZIh9hidL_-K6o942WWRkUcdd18YnQopLxDSrNukacckI1m2t0M-zR1q3sVmJcwNdUCHsi-IoJrE1UeNxpZYwpOytwshMqvl0hDTR1FpN4bXqqIRY3T-zE0KH91kl6CztRwiUZa72Ue8zYC-MZAgzIETIlxTqPPcOAX-hYXPAYec3atAbqqPfvV2gbkWu9Gfg-AwR6zurH_3ebJk1Yykgcfzpui4qGijhQYsjh-EtXiGxRvaJVgye9pGOX_pSnIk27EemSWGIxf0OzPOH-IFmiJVdMCFk9aRB7I20K6XCYcV5-cvTP5Dc1LOrndm-T_1rcSaxNoL4PXzPVzgimUsQ3vdT6earH1eI55303MN8DRYsxVUzUPEd8D6HzMh985oS5eQOZmfWSegg-N2RcTGSBzIMH7BmGKm6aQb9XuVAb34tjfmXUM5-vRPktPH-GyAWmml8nqh4D_pP0fUT4zA_5XkLUvxUokmEi5x1El5Nz6HhnNsD5uPeg2eN1R8_FbBX2e-zaNgtxBFBq9rKwg59T8-4rHJSu7GrASVmjvd6Ux713jLeI8B28z3EsG3qi_ExjUr--ay956OzpQ5IRwVAdBdVlNx0ZlSGSE609HxFd-VOUanoGu1j6qwo5qyjIgmA7PB_5zoHqyAj1SXvOhs3NNPLg9XUl_vj3vGSHbk41bCT_Mpl7wluivQ4mlvaJtYfr5uqArCE0Rcezkcf8UpTpZDFDcpkjgTTNzaNO9ueMQmwwVIMfz8Zf8E16TiPxOYJpUk5BoF89wQWU5W0eW3YrSWy16l7VJGVjubYVnWhZATrFaFwyPW5qgosID3yq6xPZmO0Wo_60qUEAdM4Fa6PhJAxtxWyvLds7w71wzYXFo_VF6HomApzrdka9M0DicanMVdHLuwq2vutGAodjTv6WP6xdtQ-EMRHqEtdHITQ6v_B1Swx2qEbsaWj9fvdpHRaGIxgHf_QoueSsi8aUqdhgAVnmRvtbtJXYfqDYF57PRU487dTQqg1GLrdwIC2AyCWjtZSJ-KToKsognKPNp_w3aI6dqq0dx_b4PoLxAenIcAmPyu7vFEkF5bjBumot6wP0btCMD-Jt5MHAKAD2KBbBaEBsl67dYshSWkH39gDiH9Inbv0JpDiFwBB20hArb0WIwAMZuV8aHVkYWJDu3mSunp_17OPMjqwYYdgsD6tvsj2FV0vQZCQNiRjrAVfKAZfJjLg../download\n",
    "!tar -xvzf \"./download\""
   ]
  },
  {
   "cell_type": "code",
   "execution_count": 3,
   "metadata": {
    "colab": {
     "base_uri": "https://localhost:8080/",
     "height": 326
    },
    "colab_type": "code",
    "id": "XNP31gkyJ7Rf",
    "outputId": "1a67b2c5-bf5e-4f36-e5e9-91d41e1346fd"
   },
   "outputs": [
    {
     "name": "stdout",
     "output_type": "stream",
     "text": [
      "Requirement already satisfied: gensim in /usr/local/lib/python3.6/dist-packages (3.6.0)\n",
      "Requirement already satisfied: numpy>=1.11.3 in /usr/local/lib/python3.6/dist-packages (from gensim) (1.17.5)\n",
      "Requirement already satisfied: smart-open>=1.2.1 in /usr/local/lib/python3.6/dist-packages (from gensim) (1.9.0)\n",
      "Requirement already satisfied: scipy>=0.18.1 in /usr/local/lib/python3.6/dist-packages (from gensim) (1.4.1)\n",
      "Requirement already satisfied: six>=1.5.0 in /usr/local/lib/python3.6/dist-packages (from gensim) (1.12.0)\n",
      "Requirement already satisfied: boto>=2.32 in /usr/local/lib/python3.6/dist-packages (from smart-open>=1.2.1->gensim) (2.49.0)\n",
      "Requirement already satisfied: boto3 in /usr/local/lib/python3.6/dist-packages (from smart-open>=1.2.1->gensim) (1.11.10)\n",
      "Requirement already satisfied: requests in /usr/local/lib/python3.6/dist-packages (from smart-open>=1.2.1->gensim) (2.21.0)\n",
      "Requirement already satisfied: jmespath<1.0.0,>=0.7.1 in /usr/local/lib/python3.6/dist-packages (from boto3->smart-open>=1.2.1->gensim) (0.9.4)\n",
      "Requirement already satisfied: s3transfer<0.4.0,>=0.3.0 in /usr/local/lib/python3.6/dist-packages (from boto3->smart-open>=1.2.1->gensim) (0.3.2)\n",
      "Requirement already satisfied: botocore<1.15.0,>=1.14.10 in /usr/local/lib/python3.6/dist-packages (from boto3->smart-open>=1.2.1->gensim) (1.14.10)\n",
      "Requirement already satisfied: chardet<3.1.0,>=3.0.2 in /usr/local/lib/python3.6/dist-packages (from requests->smart-open>=1.2.1->gensim) (3.0.4)\n",
      "Requirement already satisfied: certifi>=2017.4.17 in /usr/local/lib/python3.6/dist-packages (from requests->smart-open>=1.2.1->gensim) (2019.11.28)\n",
      "Requirement already satisfied: idna<2.9,>=2.5 in /usr/local/lib/python3.6/dist-packages (from requests->smart-open>=1.2.1->gensim) (2.8)\n",
      "Requirement already satisfied: urllib3<1.25,>=1.21.1 in /usr/local/lib/python3.6/dist-packages (from requests->smart-open>=1.2.1->gensim) (1.24.3)\n",
      "Requirement already satisfied: docutils<0.16,>=0.10 in /usr/local/lib/python3.6/dist-packages (from botocore<1.15.0,>=1.14.10->boto3->smart-open>=1.2.1->gensim) (0.15.2)\n",
      "Requirement already satisfied: python-dateutil<3.0.0,>=2.1 in /usr/local/lib/python3.6/dist-packages (from botocore<1.15.0,>=1.14.10->boto3->smart-open>=1.2.1->gensim) (2.6.1)\n"
     ]
    }
   ],
   "source": [
    "!pip install gensim"
   ]
  },
  {
   "cell_type": "code",
   "execution_count": 2,
   "metadata": {
    "colab": {
     "base_uri": "https://localhost:8080/",
     "height": 173
    },
    "colab_type": "code",
    "id": "9XiUZ2jUJ7Rk",
    "outputId": "6c9c5da1-5e53-4420-b917-e9f52b432845"
   },
   "outputs": [
    {
     "name": "stderr",
     "output_type": "stream",
     "text": [
      "/usr/local/lib/python3.6/dist-packages/smart_open/smart_open_lib.py:402: UserWarning: This function is deprecated, use smart_open.open instead. See the migration notes for details: https://github.com/RaRe-Technologies/smart_open/blob/master/README.rst#migrating-to-the-new-open-function\n",
      "  'See the migration notes for details: %s' % _MIGRATION_NOTES_URL\n"
     ]
    },
    {
     "name": "stdout",
     "output_type": "stream",
     "text": [
      "<class 'gensim.models.doc2vec.Doc2Vec'>\n",
      "<class 'numpy.ndarray'>\n"
     ]
    },
    {
     "name": "stderr",
     "output_type": "stream",
     "text": [
      "/usr/local/lib/python3.6/dist-packages/gensim/models/doc2vec.py:566: UserWarning: The parameter `iter` is deprecated, will be removed in 4.0.0, use `epochs` instead.\n",
      "  warnings.warn(\"The parameter `iter` is deprecated, will be removed in 4.0.0, use `epochs` instead.\")\n",
      "/usr/local/lib/python3.6/dist-packages/gensim/models/doc2vec.py:570: UserWarning: The parameter `size` is deprecated, will be removed in 4.0.0, use `vector_size` instead.\n",
      "  warnings.warn(\"The parameter `size` is deprecated, will be removed in 4.0.0, use `vector_size` instead.\")\n"
     ]
    }
   ],
   "source": [
    "from gensim.models.doc2vec import Doc2Vec\n",
    "\n",
    "# unpack a model into 3 files and target the main one\n",
    "# doc2vec.bin  <---------- this\n",
    "# doc2vec.bin.syn0.npy\n",
    "# doc2vec.bin.sin1neg.npy\n",
    "model = Doc2Vec.load('./apnews_dbow/doc2vec.bin', mmap=None)\n",
    "print(type(model))\n",
    "print(type(model.infer_vector([\"to\", \"be\", \"or\", \"not\"])))"
   ]
  },
  {
   "cell_type": "markdown",
   "metadata": {
    "colab_type": "text",
    "id": "e3NvMONJJ7Rp"
   },
   "source": [
    "### 1.2 Reading data\n",
    "\n",
    "Now, let's read the facts dataset. Download it from the abovementioned url and read to the list of sentences."
   ]
  },
  {
   "cell_type": "code",
   "execution_count": 0,
   "metadata": {
    "colab": {
     "base_uri": "https://localhost:8080/",
     "height": 204
    },
    "colab_type": "code",
    "id": "0Fk4bf6uMECf",
    "outputId": "04e2d33a-8c86-41a7-88d9-cd7a55ba6eaf"
   },
   "outputs": [
    {
     "name": "stdout",
     "output_type": "stream",
     "text": [
      "--2020-02-10 08:23:59--  https://raw.githubusercontent.com/hsu-ai-course/hsu.ai/master/code/datasets/nlp/facts.txt\n",
      "Resolving raw.githubusercontent.com (raw.githubusercontent.com)... 151.101.0.133, 151.101.64.133, 151.101.128.133, ...\n",
      "Connecting to raw.githubusercontent.com (raw.githubusercontent.com)|151.101.0.133|:443... connected.\n",
      "HTTP request sent, awaiting response... 200 OK\n",
      "Length: 13158 (13K) [text/plain]\n",
      "Saving to: ‘facts.txt.1’\n",
      "\n",
      "\r",
      "facts.txt.1           0%[                    ]       0  --.-KB/s               \r",
      "facts.txt.1         100%[===================>]  12.85K  --.-KB/s    in 0.01s   \n",
      "\n",
      "2020-02-10 08:23:59 (1.04 MB/s) - ‘facts.txt.1’ saved [13158/13158]\n",
      "\n"
     ]
    }
   ],
   "source": [
    "!wget https://raw.githubusercontent.com/hsu-ai-course/hsu.ai/master/code/datasets/nlp/facts.txt"
   ]
  },
  {
   "cell_type": "code",
   "execution_count": 3,
   "metadata": {
    "colab": {
     "base_uri": "https://localhost:8080/",
     "height": 34
    },
    "colab_type": "code",
    "id": "bXFibgkFJ7Rq",
    "outputId": "4b8778c0-6bd2-43b2-dfac-6a2f84871baf",
    "scrolled": true
   },
   "outputs": [
    {
     "data": {
      "text/plain": [
       "159"
      ]
     },
     "execution_count": 3,
     "metadata": {
      "tags": []
     },
     "output_type": "execute_result"
    }
   ],
   "source": [
    "#TODO read facts into list\n",
    "with open(\"./facts.txt\") as f:\n",
    "  lines = f.readlines()\n",
    "  facts = [l.strip() for l in lines]\n",
    "\n",
    "len(facts)"
   ]
  },
  {
   "cell_type": "markdown",
   "metadata": {
    "colab_type": "text",
    "id": "nKwwhH7xJ7Rt"
   },
   "source": [
    "### 1.3 Tests"
   ]
  },
  {
   "cell_type": "code",
   "execution_count": 4,
   "metadata": {
    "colab": {
     "base_uri": "https://localhost:8080/",
     "height": 122
    },
    "colab_type": "code",
    "id": "LE5VEf1vJ7Rv",
    "outputId": "8655c6da-f0fe-480a-acea-128889767e39"
   },
   "outputs": [
    {
     "name": "stdout",
     "output_type": "stream",
     "text": [
      "1. If you somehow found a way to extract all of the gold from the bubbling core of our lovely little planet, you would be able to cover all of the land in a layer of gold up to your knees.\n",
      "2. McDonalds calls frequent buyers of their food “heavy users.”\n",
      "3. The average person spends 6 months of their lifetime waiting on a red light to turn green.\n",
      "4. The largest recorded snowflake was in Keogh, MT during year 1887, and was 15 inches wide.\n",
      "5. You burn more calories sleeping than you do watching television.\n"
     ]
    }
   ],
   "source": [
    "print(*facts[:5], sep='\\n')\n",
    "\n",
    "assert len(facts) == 159\n",
    "assert ('our lovely little planet') in facts[0]"
   ]
  },
  {
   "cell_type": "markdown",
   "metadata": {
    "colab_type": "text",
    "id": "1_HdAlk-J7Ry"
   },
   "source": [
    "### 1.4  Transforming sentences to vectors\n",
    "\n",
    "Transform the list of facts to numpy array of vectors corresponding to each document (`sent_vecs`), inferring them from the model we just loaded."
   ]
  },
  {
   "cell_type": "code",
   "execution_count": 0,
   "metadata": {
    "colab": {},
    "colab_type": "code",
    "id": "QAcqbLKBJ7Rz"
   },
   "outputs": [],
   "source": [
    "#TODO infer vectors\n",
    "# model.infer_vector(nltk.word_tokenize())\n",
    "def norm_vectors(A):\n",
    "  '''divide each row of A by its norm ||A[i]||'''\n",
    "  return A/np.linalg.norm(A,axis=1, keepdims=True)\n",
    "\n",
    "result = []\n",
    "for doc in facts:\n",
    "    result.append(model.infer_vector(nltk.word_tokenize(doc)).tolist())\n",
    "\n",
    "# result\n",
    "\n",
    "sent_vecs = norm_vectors(np.array(result))"
   ]
  },
  {
   "cell_type": "code",
   "execution_count": 6,
   "metadata": {
    "colab": {
     "base_uri": "https://localhost:8080/",
     "height": 34
    },
    "colab_type": "code",
    "id": "4EqJxNcOGSKY",
    "outputId": "a1bfbdde-c08f-4932-9bcd-b091b38190f0"
   },
   "outputs": [
    {
     "data": {
      "text/plain": [
       "(159, 300)"
      ]
     },
     "execution_count": 6,
     "metadata": {
      "tags": []
     },
     "output_type": "execute_result"
    }
   ],
   "source": [
    "sent_vecs.shape"
   ]
  },
  {
   "cell_type": "markdown",
   "metadata": {
    "colab_type": "text",
    "id": "JzN8vmBMJ7R4"
   },
   "source": [
    "### 1.5 Tests "
   ]
  },
  {
   "cell_type": "code",
   "execution_count": 7,
   "metadata": {
    "colab": {
     "base_uri": "https://localhost:8080/",
     "height": 34
    },
    "colab_type": "code",
    "id": "mnR64Q-sJ7R6",
    "outputId": "85c0069b-a9a0-4651-9f80-bae5c812eec8",
    "scrolled": true
   },
   "outputs": [
    {
     "name": "stdout",
     "output_type": "stream",
     "text": [
      "(159, 300)\n"
     ]
    }
   ],
   "source": [
    "print(sent_vecs.shape)\n",
    "assert sent_vecs.shape == (159, 300)"
   ]
  },
  {
   "cell_type": "markdown",
   "metadata": {
    "colab_type": "text",
    "id": "DWJo9aUWJ7R9"
   },
   "source": [
    "### 1.6 Find closest\n",
    "\n",
    "Now, reusing the code from the last lab, find facts which are closest to the query using cosine similarity measure."
   ]
  },
  {
   "cell_type": "code",
   "execution_count": 8,
   "metadata": {
    "colab": {
     "base_uri": "https://localhost:8080/",
     "height": 136
    },
    "colab_type": "code",
    "id": "vPp2ViUMn2Zl",
    "outputId": "f5fc6ec2-07b7-4251-fca9-80f12f9bd1be"
   },
   "outputs": [
    {
     "name": "stdout",
     "output_type": "stream",
     "text": [
      "Results for query: good mood\n",
      "\t 68. Cherophobia is the fear of fun. sim= 0.600385776436706\n",
      "\t 144. Dolphins sleep with one eye open! sim= 0.5922262552308764\n",
      "\t 76. You breathe on average about 8,409,600 times a year sim= 0.5766769718270843\n",
      "\t 57. Gorillas burp when they are happy sim= 0.5752511789661388\n",
      "\t 97. 111,111,111 X 111,111,111 = 12,345,678,987,654,321 sim= 0.5714091041172357\n",
      "\t 110. Cats have 32 muscles in each of their ears. sim= 0.557371797541728\n"
     ]
    }
   ],
   "source": [
    "#TODO output closest facts to the query\n",
    "def find_k_closest(query, dataset, k=5):\n",
    "  \"\"\"find 5 closest rows in dataset in terms of cosine similarity\"\"\"\n",
    "\n",
    "  similarities = np.dot(dataset,query)\n",
    "  top_k = (-similarities).argsort()[:k+1] # exclude the query element   \n",
    "  \n",
    "  return [[x , y, z] for x, y, z in zip(top_k, dataset[top_k] , similarities[top_k])]\n",
    "\n",
    "query = \"good mood\"\n",
    "query_vec = model.infer_vector(nltk.word_tokenize(query))\n",
    "r = find_k_closest(query_vec,sent_vecs)\n",
    "\n",
    "print(\"Results for query:\", query)\n",
    "for k, v, p in r:\n",
    "    print(\"\\t\", facts[k], \"sim=\", p)"
   ]
  },
  {
   "cell_type": "markdown",
   "metadata": {
    "colab_type": "text",
    "id": "dAHaO-fYJ7SD"
   },
   "source": [
    "## 2. Training doc2vec model and documents classifier\n",
    "\n",
    "Now we would like you to train doc2vec model yourself based on [this topic-modeling dataset](https://code.google.com/archive/p/topic-modeling-tool/downloads).\n",
    "\n",
    "### 2.1 Read dataset\n",
    "\n",
    "First, read the dataset - it consists of 4 parts, you need to merge them into single list. "
   ]
  },
  {
   "cell_type": "code",
   "execution_count": 0,
   "metadata": {
    "colab": {},
    "colab_type": "code",
    "id": "Dmb_pzU_J7SF"
   },
   "outputs": [],
   "source": [
    "# !mkdir testdata_news\n",
    "# !wget -O ./testdata_news/music.txt https://storage.googleapis.com/google-code-archive-downloads/v2/code.google.com/topic-modeling-tool/testdata_news_music_2084docs.txt\n",
    "# !wget -O ./testdata_news/economy.txt https://storage.googleapis.com/google-code-archive-downloads/v2/code.google.com/topic-modeling-tool/testdata_news_economy_2073docs.txt\n",
    "# !wget -O ./testdata_news/fuel.txt https://storage.googleapis.com/google-code-archive-downloads/v2/code.google.com/topic-modeling-tool/testdata_news_fuel_845docs.txt\n",
    "# !wget -O ./testdata_news/braininjury.txt https://storage.googleapis.com/google-code-archive-downloads/v2/code.google.com/topic-modeling-tool/testdata_braininjury_10000docs.txt\n"
   ]
  },
  {
   "cell_type": "code",
   "execution_count": 9,
   "metadata": {
    "colab": {
     "base_uri": "https://localhost:8080/",
     "height": 34
    },
    "colab_type": "code",
    "id": "7NICtyW7zDez",
    "outputId": "3cfbe811-886a-47ac-cafa-b9f71d0c2a37"
   },
   "outputs": [
    {
     "name": "stdout",
     "output_type": "stream",
     "text": [
      "15002\n"
     ]
    }
   ],
   "source": [
    "#TODO read the dataset into list\n",
    "all_data = []\n",
    "label_mapping = {}\n",
    "for i , file in enumerate(os.listdir(\"./testdata_news\")) :\n",
    "  label_mapping[i] = file[:-4]\n",
    "  with open(\"./testdata_news/\"+file) as f:\n",
    "    lines = f.readlines()\n",
    "    for l in lines:\n",
    "      all_data.append(nltk.word_tokenize(l) + [i])\n",
    "\n",
    "all_data = pd.DataFrame([[i[:-1],i[-1]] for i in all_data],columns=[\"doc\",\"label\"])\n",
    "print(len(all_data))"
   ]
  },
  {
   "cell_type": "code",
   "execution_count": 10,
   "metadata": {
    "colab": {
     "base_uri": "https://localhost:8080/",
     "height": 34
    },
    "colab_type": "code",
    "id": "MDg3XY2nOu06",
    "outputId": "1b7e225d-2870-41af-9958-449bd34893d2"
   },
   "outputs": [
    {
     "data": {
      "text/plain": [
       "{0: 'economy', 1: 'fuel', 2: 'braininjury', 3: 'music'}"
      ]
     },
     "execution_count": 10,
     "metadata": {
      "tags": []
     },
     "output_type": "execute_result"
    }
   ],
   "source": [
    "label_mapping"
   ]
  },
  {
   "cell_type": "markdown",
   "metadata": {
    "colab_type": "text",
    "id": "3QIi86sZJ7SL"
   },
   "source": [
    "### 2.2 Tests "
   ]
  },
  {
   "cell_type": "code",
   "execution_count": 11,
   "metadata": {
    "colab": {
     "base_uri": "https://localhost:8080/",
     "height": 34
    },
    "colab_type": "code",
    "id": "Y9g8oto-J7SM",
    "outputId": "b3a1f40e-b465-4b78-dc56-ec23c97247a9"
   },
   "outputs": [
    {
     "name": "stdout",
     "output_type": "stream",
     "text": [
      "15002\n"
     ]
    }
   ],
   "source": [
    "print(len(all_data))\n",
    "assert len(all_data) == 15002"
   ]
  },
  {
   "cell_type": "markdown",
   "metadata": {
    "colab_type": "text",
    "id": "e2lgpAkxJ7SQ"
   },
   "source": [
    "### 2.3 Training `doc2vec` model\n",
    "\n",
    "Train a `doc2vec` model based on the dataset you've loaded. The example of training is provided."
   ]
  },
  {
   "cell_type": "code",
   "execution_count": 12,
   "metadata": {
    "colab": {
     "base_uri": "https://localhost:8080/",
     "height": 326
    },
    "colab_type": "code",
    "id": "dv51zbSIJ7SR",
    "outputId": "1dcd887b-7a46-4c37-ecb9-0d2a123a1db5",
    "scrolled": true
   },
   "outputs": [
    {
     "name": "stdout",
     "output_type": "stream",
     "text": [
      "                                                 doc  label\n",
      "0  [the, new, york, times, said, editorial, for, ...      0\n",
      "1  [with, flags, waving, and, confetti, falling, ...      0\n",
      "2  [the, new, york, times, said, editorial, for, ...      0\n",
      "3  [amwest, stock, gets, lift, for, use, times, n...      0\n",
      "4  [whatever, happened, the, energy, crisis, reme...      0\n",
      "5  [after, unprecedented, run, five, consecutive,...      0\n",
      "6  [two, things, will, remembered, about, the, bo...      0\n",
      "7  [for, investors, should, better, than, course,...      0\n",
      "8  [nowhere, the, laws, supply, and, demand, gove...      0\n",
      "9  [after, year, filled, with, failures, the, hig...      0 \n",
      "\n",
      "[TaggedDocument(words=['the', 'new', 'york', 'times', 'said', 'editorial', 'for', 'tuesday', 'jan', 'tuesday', 'the', 'same', 'coins', 'and', 'banknotes', 'can', 'used', 'buy', 'cup', 'coffee', 'and', 'the', 'morning', 'paper', 'amsterdam', 'lisbon', 'helsinki', 'naples', 'dublin', 'and', 'dresden', 'the', 'franc', 'mark', 'lira', 'and', 'other', 'currencies', 'are', 'disappearing', 'vanquished', 'the', 'euro', 'nothing', 'quite', 'like', 'this', 'changeover', 'has', 'ever', 'taken', 'place', 'all', 'goes', 'according', 'plan', 'some', 'billion', 'worth', 'newly', 'minted', 'euros', 'will', 'enter', 'into', 'circulation', 'tuesday', 'every', 'bank', 'and', 'retail', 'establishment', 'from', 'the', 'southwestern', 'corner', 'portugal', 'where', 'the', 'atlantic', 'meets', 'the', 'mediterranean', 'finland', 'northernmost', 'tundra', 'over', 'the', 'next', 'two', 'months', 'the', 'euro', 'will', 'displace', 'the', 'traditional', 'currencies', 'used', 'million', 'people', 'countries', 'day', 'planners', 'call', 'represents', 'more', 'than', 'breathtaking', 'logistical', 'challenge', 'and', 'financial', 'milestone', 'for', 'europe', 'also', 'day', 'great', 'political', 'significance', 'with', 'euros', 'circulation', 'the', 'process', 'european', 'integration', 'first', 'championed', 'half', 'century', 'ago', 'visionary', 'french', 'statesman', 'named', 'jean', 'monnet', 'acquires', 'its', 'most', 'potent', 'and', 'tangible', 'symbol', 'the', 'euro', 'has', 'been', 'virtual', 'currency', 'since', 'that', 'when', 'the', 'euroland', 'countries', 'surrendered', 'control', 'their', 'monetary', 'policy', 'the', 'european', 'central', 'bank', 'pegged', 'the', 'value', 'their', 'currencies', 'the', 'euro', 'and', 'made', 'the', 'official', 'currency', 'for', 'all', 'interbank', 'transactions', 'the', 'euro', 'has', 'proved', 'success', 'even', 'though', 'has', 'failed', 'meet', 'exuberant', 'predictions', 'that', 'would', 'instantly', 'rival', 'the', 'dollar', 'global', 'currency', 'its', 'value', 'against', 'the', 'dollar', 'has', 'actually', 'declined', 'percent', 'since', 'britain', 'denmark', 'and', 'sweden', 'three', 'european', 'union', 'members', 'that', 'have', 'not', 'yet', 'agreed', 'adopt', 'the', 'euro', 'the', 'prevailing', 'sense', 'among', 'experts', 'that', 'they', 'must', 'inevitably', 'join', 'the', 'monetary', 'union', 'the', 'cost', 'doing', 'business', 'across', 'the', 'european', 'union', 'theory', 'single', 'market', 'even', 'before', 'had', 'single', 'currency', 'has', 'dropped', 'significantly', 'the', 'euro', 'has', 'made', 'easier', 'for', 'european', 'companies', 'merge', 'and', 'raise', 'capital', 'efficient', 'euro', 'bond', 'and', 'security', 'markets', 'the', 'fiscal', 'discipline', 'required', 'nations', 'before', 'being', 'allowed', 'join', 'the', 'european', 'monetary', 'union', 'forced', 'many', 'them', 'undertake', 'painful', 'but', 'necessary', 'reforms', 'the', 'result', 'has', 'been', 'low', 'inflationary', 'environment', 'and', 'leveling', 'economic', 'conditions', 'though', 'the', 'european', 'central', 'bank', 'still', 'struggles', 'account', 'for', 'regional', 'differences', 'when', 'setting', 'single', 'interest', 'rate', 'for', 'such', 'large', 'economy', 'countries', 'have', 'until', 'the', 'end', 'february', 'retire', 'their', 'marks', 'francs', 'lire', 'and', 'other', 'currencies', 'and', 'they', 'are', 'doing', 'different', 'times', 'within', 'the', 'period', 'the', 'transition', 'costs', 'are', 'significant', 'retailers', 'operating', 'the', 'front', 'lines', 'the', 'change', 'have', 'been', 'forced', 'store', 'five', 'times', 'much', 'cash', 'usual', 'reconfigure', 'millions', 'vending', 'machines', 'and', 'hire', 'extra', 'cashiers', 'for', 'the', 'confusion', 'likely', 'reign', 'the', 'register', 'coming', 'days', 'officials', 'must', 'make', 'sure', 'the', 'changeover', 'goes', 'smoothly', 'cash', 'shortages', 'widespread', 'reports', 'price', 'gouging', 'items', 'are', 'repriced', 'could', 'undermine', 'the', 'new', 'currency', 'unlike', 'the', 'common', 'currencies', 'offered', 'earlier', 'eras', 'conquerors', 'like', 'charlemagne', 'trading', 'states', 'like', '13th', 'century', 'florence', 'the', 'euro', 'will', 'rely', 'largely', 'the', 'public', 'confidence', 'for', 'its', 'strength', 'and', 'durability', 'makes', 'its', 'debut', 'there', 'every', 'reason', 'think', 'the', 'euro', 'here', 'stay'], tags=[0]), TaggedDocument(words=['with', 'flags', 'waving', 'and', 'confetti', 'falling', 'visibly', 'moved', 'michael', 'bloomberg', 'was', 'sworn', 'early', 'this', 'morning', 'times', 'square', 'new', 'york', '108th', 'mayor', 'bloomberg', 'billionaire', 'businessman', 'and', 'political', 'novice', 'now', 'inherits', 'the', 'responsibility', 'governing', 'new', 'york', 'city', 'from', 'rudolph', 'giuliani', 'whose', 'uncompromising', 'will', 'and', 'sheer', 'ubiquity', 'made', 'him', 'synonymous', 'with', 'the', 'city', 'presided', 'over', 'for', 'eight', 'years', 'the', 'highly', 'symbolic', 'celebration', 'the', 'first', 'such', 'ceremony', 'times', 'square', 'was', 'intended', 'assure', 'new', 'yorkers', 'that', 'the', 'city', 'now', 'bloomberg', 'hands', 'was', 'safe', 'one', 'few', 'minutes', 'after', 'the', 'famous', 'ball', 'fell', 'giuliani', 'administered', 'the', 'oath', 'bloomberg', 'whose', 'eyes', 'soon', 'welled', 'with', 'tears', 'promised', 'fulfill', 'his', 'new', 'duties', 'then', 'said', 'thank', 'you', 'mayor', 'and', 'the', 'two', 'men', 'hugged', 'before', 'bloomberg', 'turned', 'his', 'thumbs', 'greet', 'the', 'screaming', 'crowd', 'bloomberg', 'new', 'yorkers', 'receive', 'man', 'many', 'ways', 'different', 'from', 'giuliani', 'the', 'city', 'inherited', 'the', 'two', 'men', 'the', 'beginning', 'their', 'terms', 'giuliani', 'came', 'into', 'power', 'issuing', 'moratorium', 'fear', 'and', 'chaos', 'and', 'took', 'city', 'with', 'fractured', 'economy', 'soaring', 'crime', 'rates', 'myriad', 'social', 'problems', 'and', 'many', 'residents', 'seemingly', 'longing', 'leave', 'bloomberg', 'takes', 'the', 'helm', 'the', 'city', 'less', 'than', 'four', 'months', 'after', 'the', 'most', 'calamitous', 'event', 'its', 'history', 'tore', 'hole', 'lower', 'manhattan', 'leaving', 'economic', 'and', 'public', 'safety', 'problems', 'wholly', 'different', 'kind', 'with', 'little', 'precedent', 'for', 'their', 'solution', 'and', 'largely', 'novice', 'city', 'council', 'help', 'him', 'deal', 'with', 'them', 'the', 'contrast', 'between', 'the', 'two', 'men', 'was', 'clearly', 'visible', 'monday', 'giuliani', 'did', 'his', 'usual', 'canter', 'from', 'event', 'event', 'doing', 'early', 'morning', 'television', 'interviews', 'swearing', 'new', 'firefighters', 'holding', 'his', 'final', 'news', 'conference', 'ringing', 'the', 'bell', 'the', 'new', 'york', 'stock', 'exchange', 'and', 'racing', 'off', 'times', 'square', 'bloomberg', 'presided', 'over', 'ecumenical', 'breakfast', 'with', 'religious', 'leaders', 'which', 'warned', 'impending', 'budget', 'doom', 'was', 'sworn', 'then', 'closed', 'his', 'schedule', 'the', 'public', 'along', 'with', 'the', 'change', 'mayors', 'tuesday', 'also', 'marks', 'seismic', 'shift', 'city', 'government', 'prompted', 'the', 'city', 'term', 'limits', 'law', 'which', 'forced', 'top', 'citywide', 'officials', 'and', 'two', 'thirds', 'the', 'city', 'council', 'out', 'office', 'along', 'with', 'the', 'new', 'mayor', 'new', 'comptroller', 'william', 'thompson', 'new', 'public', 'advocate', 'betsy', 'gotbaum', 'and', 'more', 'than', 'three', 'dozen', 'newcomers', 'the', 'city', 'council', 'will', 'officially', 'become', 'part', 'city', 'government', 'beginning', 'tuesday', 'while', 'the', 'city', 'spirit', 'and', 'determination', 'are', 'doubtlessly', 'stronger', 'than', 'what', 'giuliani', 'encountered', 'years', 'ago', 'its', 'resources', 'are', 'far', 'more', 'limited', 'with', 'decimated', 'fire', 'department', 'embattled', 'police', 'force', 'whose', 'members', 'are', 'lured', 'other', 'opportunities', 'and', 'looming', 'billion', 'budget', 'gap', 'that', 'must', 'closed', 'through', 'inevitable', 'reduction', 'services', 'the', 'depth', 'new', 'york', 'resolve', 'which', 'has', 'awed', 'the', 'rest', 'the', 'country', 'since', 'sept', 'perceived', 'personified', 'giuliani', 'whose', 'shadow', 'bloomberg', 'must', 'find', 'way', 'escape', 'artfully', 'seeks', 'the', 'support', 'citizens', 'who', 'barely', 'know', 'him', 'and', 'from', 'whom', 'will', 'seek', 'much', 'the', 'transition', 'began', 'monday', 'morning', 'when', 'bloomberg', 'paid', 'his', 'cents', 'registration', 'fee', 'required', 'under', 'law', 'pennies', 'the', 'city', 'clerk', 'office', 'and', 'took', 'his', 'oath', 'discharge', 'faithfully', 'the', 'duties', 'the', 'office', 'mayor', 'sort', 'mayor', 'bloomberg', 'declared', 'afterward', 'the', 'city', 'charter', 'dictates', 'that', 'any', 'elected', 'official', 'take', 'the', 'oath', 'office', 'within', 'days', 'after', 'his', 'her', 'election', 'certified', 'the', 'city', 'board', 'elections', 'bloomberg', 'official', 'inauguration', 'will', 'held', 'tuesday', 'the', 'steps', 'city', 'hall', 'with', 'perhaps', 'unintentional', 'portent', 'for', 'the', 'city', 'baseball', 'culture', 'the', 'master', 'ceremonies', 'will', 'leiter', 'the', 'mets', 'pitcher', 'bette', 'midler', 'will', 'sing', 'the', 'national', 'anthem', 'followed', 'invocations', 'various', 'religious', 'leaders', 'judith', 'kaye', 'the', 'chief', 'judge', 'new', 'york', 'state', 'and', 'friend', 'bloomberg', 'will', 'administer', 'his', 'oath', 'then', 'bloomberg', 'will', 'deliver', 'his', 'inaugural', 'address', 'which', 'expected', 'call', 'the', 'rest', 'government', 'join', 'him', 'the', 'painful', 'attempt', 'cut', 'the', 'budget', 'significantly', 'with', 'agency', 'left', 'unscathed', 'thompson', 'will', 'also', 'deliver', 'inaugural', 'address', 'will', 'gotbaum', 'who', 'will', 'sworn', 'former', 'mayor', 'david', 'dinkins', 'cardinal', 'edward', 'egan', 'will', 'deliver', 'the', 'benediction', 'the', 'salsa', 'musician', 'willie', 'colon', 'will', 'perform', 'followed', 'other', 'spiritual', 'readings', 'while', 'the', 'substantive', 'differences', 'between', 'their', 'administrations', 'remain', 'seen', 'bloomberg', 'has', 'offered', 'few', 'clues', 'outside', 'official', 'appointments', 'about', 'his', 'priorities', 'and', 'plans', 'bloomberg', 'and', 'giuliani', 'are', 'vastly', 'different', 'men', 'background', 'and', 'personal', 'style', 'giuliani', 'was', 'born', 'brooklyn', 'was', 'schooled', 'manhattan', 'college', 'and', 'plans', 'retire', 'staten', 'island', 'came', 'prominence', 'aggressive', 'and', 'highly', 'visible', 'attorney', 'whose', 'proclivity', 'for', 'the', 'midnight', 'perp', 'walk', 'would', 'presage', 'the', 'arrests', 'the', 'homeless', 'incendiary', 'news', 'conferences', 'and', 'flamboyant', 'proclamations', 'everything', 'from', 'art', 'civil', 'rights', 'ferrets', 'that', 'took', 'place', 'during', 'his', 'tenure', 'mayor', 'all', 'that', 'loves', 'boast', 'about', 'little', 'gives', 'him', 'more', 'pleasure', 'than', 'his', 'exhaustive', 'knowledge', 'the', 'city', 'its', 'neighborhoods', 'and', 'people', 'even', 'though', 'his', 'closest', 'circle', 'was', 'made', 'principally', 'people', 'much', 'like', 'himself', 'when', 'not', 'dieting', 'loves', 'italian', 'food', 'and', 'his', 'most', 'highbrow', 'indulgence', 'was', 'nights', 'the', 'opera', 'most', 'comfortable', 'yankees', 'game', 'rabid', 'fan', 'the', 'team', 'bloomberg', 'exposure', 'the', 'city', 'daily', 'papers', 'was', 'until', 'last', 'year', 'more', 'less', 'relegated', 'the', 'business', 'society', 'pages', 'where', 'his', 'philanthropy', 'charity', 'balls', 'and', 'celebrity', 'dates', 'made', 'him', 'well', 'known', 'among', 'tiny', 'sliver', 'new', 'york', 'city', 'went', 'johns', 'hopkins', 'university', 'and', 'earned', 'master', 'business', 'administration', 'from', 'harvard', 'self', 'assured', 'capable', 'being', 'quite', 'bawdy', 'private', 'and', 'seemingly', 'ease', 'the', 'skin', 'very', 'wealthy', 'man', 'bloomberg', 'seems', 'far', 'less', 'confrontational', 'than', 'giuliani', 'his', 'supporters', 'suggest', 'that', 'will', 'more', 'open', 'negotiations', 'with', 'those', 'giuliani', 'preferred', 'work', 'around', 'privately', 'held', 'company', 'bloomberg', 'bloomberg', 'business', 'was', 'prone', 'far', 'less', 'scrutiny', 'the', 'financial', 'pages', 'than', 'publicly', 'traded', 'company', 'and', 'bloomberg', 'responded', 'the', 'new', 'media', 'scrutiny', 'during', 'his', 'mayoral', 'campaign', 'with', 'prickly', 'disdain', 'his', 'boston', 'accent', 'results', 'the', 'odd', 'attachment', 'the', 'letter', 'the', 'end', 'words', 'where', 'does', 'not', 'belong', 'and', 'does', 'not', 'even', 'pretend', 'drop', 'his', 'loyalty', 'the', 'red', 'sox', 'even', 'though', 'his', 'baseball', 'interests', 'seem', 'marginal', 'best', 'wraps', 'the', 'mayoralty', 'around', 'him', 'new', 'york', 'will', 'ostensibly', 'see', 'last', 'what', 'matters', 'bloomberg', 'most', 'bloomberg', 'displayed', 'his', 'wry', 'humor', 'monday', 'morning', 'the', 'breakfast', 'the', 'brooklyn', 'academy', 'music', 'which', 'was', 'attended', 'such', 'notable', 'members', 'the', 'clergy', 'cardinal', 'egan', 'the', 'rev', 'calvin', 'butts', 'harlem', 'the', 'rev', 'floyd', 'flake', 'queens', 'imam', 'izak', 'eed', 'pasha', 'and', 'rabbi', 'arthur', 'schneier', 'are', 'going', 'clearly', 'through', 'some', 'tough', 'economic', 'times', 'bloomberg', 'said', 'went', 'around', 'lot', 'you', 'offered', 'your', 'prayers', 'but', 'honestly', 'thank', 'you', 'very', 'much', 'can', 'use', 'them', 'could', 'also', 'use', 'billion', 'balance', 'the', 'budget', 'just', 'case', 'any', 'you', 'have', 'some', 'extra', 'funds', 'that', 'you', 'don', 'know', 'what', 'with', 'city', 'hall', 'monday', 'the', 'feeling', 'massive', 'shift', 'culture', 'and', 'power', 'was', 'palpable', 'city', 'officials', 'lined', 'the', 'halls', 'shaking', 'hands', 'and', 'watching', 'workers', 'assemble', 'the', 'steps', 'for', 'this', 'morning', 'ceremony', 'rehearsing', 'performers', 'filled', 'the', 'building', 'with', 'the', 'sounds', 'salsa', 'the', 'star', 'spangled', 'banner', 'and', 'dolorous', 'bagpipe', 'music', 'after', 'giuliani', 'final', 'news', 'conference', 'the', 'blue', 'room', 'where', 'over', 'the', 'last', 'eight', 'years', 'had', 'derided', 'the', 'board', 'education', 'deconstructed', 'his', 'love', 'life', 'boasted', 'about', 'his', 'crime', 'statistics', 'called', 'reporters', 'names', 'cooed', 'over', 'his', 'yankees', 'and', 'remembered', 'the', 'dead', 'lower', 'manhattan', 'the', 'departing', 'fire', 'commissioner', 'thomas', 'von', 'essen', 'stood', 'the', 'corner', 'whispering', 'tips', 'nicholas', 'scoppetta', 'his', 'successor'], tags=[1]), TaggedDocument(words=['the', 'new', 'york', 'times', 'said', 'editorial', 'for', 'tuesday', 'jan', 'new', 'year', 'day', 'has', 'way', 'stealing', 'down', 'upon', 'coming', 'the', 'shadow', 'the', 'christmas', 'week', 'and', 'its', 'own', 'scintillating', 'eve', 'you', 'celebrated', 'midnight', 'last', 'night', 'was', 'easy', 'little', 'illusory', 'think', 'the', 'festivities', 'gesture', 'dismissal', 'warding', 'off', 'the', 'old', 'year', 'and', 'its', 'associated', 'evils', 'and', 'yet', 'hard', 'feel', 'this', 'morning', 'this', 'were', 'really', 'the', 'beginning', 'new', 'chapter', 'some', 'people', 'are', 'keenly', 'sensitive', 'beginnings', 'and', 'endings', 'that', 'new', 'year', 'day', 'they', 'can', 'almost', 'hear', 'the', 'rustle', 'colossal', 'page', 'being', 'turned', 'like', 'the', 'opening', 'some', 'selznick', 'version', 'dickens', 'born', 'says', 'the', 'infant', 'new', 'year', 'and', 'off', 'headlong', 'into', 'january', 'the', 'rest', 'are', 'only', 'too', 'conscious', 'how', 'closely', 'the', 'first', 'wednesday', 'the', 'new', 'year', 'interwoven', 'with', 'the', 'last', 'monday', 'the', 'old', 'year', 'working', 'days', 'both', 'never', 'has', 'been', 'plainer', 'that', 'there', 'telling', 'what', 'the', 'new', 'year', 'will', 'bring', 'the', 'way', 'last', 'year', 'blew', 'off', 'course', 'september', 'might', 'make', 'skeptics', 'all', 'undermining', 'confidence', 'even', 'the', 'soberest', 'expectations', 'the', 'likeliest', 'possibilities', 'resolutions', 'have', 'way', 'expiring', 'their', 'own', 'and', 'last', 'year', 'most', 'drafted', 'new', 'set', 'resolutions', 'mid', 'september', 'consciously', 'not', 'resolutions', 'that', 'had', 'more', 'with', 'taking', 'care', 'the', 'necessities', 'that', 'suddenly', 'surrounded', 'than', 'with', 'the', 'usual', 'jan', 'goals', 'self', 'improvement', 'and', 'better', 'record', 'keeping', 'the', 'shock', 'day', 'like', 'sept', 'makes', 'the', 'conventions', 'our', 'lives', 'look', 'merely', 'conventional', 'for', 'instance', 'the', 'only', 'meaning', 'new', 'year', 'day', 'were', 'purely', 'consensual', 'long', 'established', 'agreement', 'that', 'says', 'only', 'begin', 'all', 'over', 'again', 'here', 'with', 'particular', 'reason', 'why', 'what', 'makes', 'new', 'year', 'day', 'merely', 'saying', 'but', 'any', 'convention', 'grown', 'old', 'enough', 'acquires', 'meaning', 'that', 'hard', 'deny', 'explain', 'hence', 'jan', 'day', 'melancholy', 'hopeful', 'completely', 'secular', 'and', 'yet', 'committed', 'many', 'even', 'ironically', 'ideal', 'renewal', 'that', 'feels', 'almost', 'spiritual', 'are', 'born', 'creatures', 'repetition', 'and', 'out', 'the', 'repetition', 'days', 'like', 'this', 'lighted', 'slowly', 'increasing', 'sun', 'grows', 'solemnity', 'worth', 'honoring', 'what', 'commit', 'ourselves', 'the', 'first', 'the', 'year', 'isn', 'sudden', 'increase', 'talent', 'intelligence', 'native', 'beauty', 'increase', 'what', 'william', 'cobbett', 'the', 'great', '19th', 'century', 'journalist', 'called', 'exertion', 'the', 'best', 'application', 'the', 'abilities', 'already', 'have', 'happiness', 'misery', 'the', 'mind', 'cobbett', 'wrote', 'but', 'the', 'power', 'exertion', 'turn', 'misery', 'into', 'happiness', 'ourselves', 'and', 'others', 'this', 'coming', 'year', 'will', 'require', 'more', 'than', 'the', 'usual', 'exertion', 'from', 'will', 'take', 'more', 'than', 'resolutions', 'more', 'than', 'the', 'hope', 'that', 'were', 'good', 'enough', 'begin', 'with', 'should', 'our', 'resolutions', 'fail', 'cobbett', 'illustrious', 'contemporary', 'the', 'rev', 'sydney', 'smith', 'has', 'some', 'words', 'that', 'might', 'well', 'guide', 'into', 'look', 'evil', 'the', 'face', 'wrote', 'walk', 'and', 'you', 'will', 'find', 'less', 'than', 'you', 'imagined', 'and', 'often', 'you', 'will', 'not', 'find', 'all', 'for', 'will', 'recede', 'you', 'advance', 'sydney', 'smith', 'knew', 'much', 'about', 'the', 'trivial', 'anxieties', 'life', 'did', 'about', 'the', 'substantial', 'ones', 'knew', 'that', 'happiness', 'less', 'often', 'matter', 'courage', 'than', 'simple', 'adjustments', 'the', 'way', 'live', 'and', 'think', 'knew', 'for', 'instance', 'that', 'you', 'may', 'virtuous', 'and', 'wise', 'and', 'good', 'but', 'that', 'also', 'helps', 'turn', 'the', 'lights', 'every', 'night', 'the', 'room', 'which', 'sit', 'wrote', 'lighted', 'like', 'town', 'after', 'great', 'naval', 'victory', 'darkness', 'will', 'come', 'early', 'tonight', 'and', 'the', 'newness', 'this', 'very', 'young', 'slightly', 'daunting', 'year', 'seems', 'dwindle', 'the', 'twilight', 'will', 'time', 'proclaim', 'your', 'own', 'naval', 'victory', 'whether', 'not', 'you', 'can', 'manage', 'virtuous', 'wise', 'good', 'there', 'nothing', 'wrong', 'with', 'beginning', 'being', 'cheerful', 'all', 'photos', 'and', 'graphics', 'from', 'the', 'new', 'york', 'times', 'news', 'service', 'are', 'available', 'nytimages', 'com', 'clients', 'who', 'have', 'photo', 'account', 'with', 'the', 'wieck', 'database', 'can', 'use', 'the', 'same', 'username', 'and', 'password', 'access', 'the', 'images', 'there', 'charge', 'for', 'browsing', 'but', 'you', 'would', 'like', 'more', 'information', 'establishing', 'account', 'download', 'art', 'from', 'nytimages', 'com', 'special', 'rate', 'please', 'call', 'our', 'report', 'has', 'also', 'moved', 'newscom', 'and', 'via', 'photoexpress', 'the', 'following', 'photos', 'have', 'been', 'sent', 'part', 'the', 'new', 'york', 'times', 'photo', 'package', 'for', 'monday', 'dec', 'nyt48', 'new', 'york', 'dec', 'new', 'year', 'celebrations', 'times', 'square', 'midnight', 'paul', 'burnett', 'the', 'new', 'york', 'times', 'nyt47', 'new', 'york', 'dec', 'new', 'year', 'the', 'usual', 'party', 'atmosphere', 'times', 'square', 'had', 'patriotic', 'theme', 'for', 'many', 'atypical', 'new', 'year', 'eve', 'monday', 'evening', 'celebrating', 'the', 'seconds', 'before', 'midnight', 'times', 'square', 'justin', 'lane', 'the', 'new', 'york', 'times', 'nyt46', 'new', 'york', 'dec', 'new', 'year', 'yajaira', 'arias', 'ryan', 'pyeatt', 'shoulders', 'both', 'manhattan', 'celebrating', 'the', 'seconds', 'before', 'midnight', 'times', 'square', 'justin', 'lane', 'the', 'new', 'york', 'times', 'nyt45', 'new', 'york', 'dec', 'new', 'year', 'the', 'usual', 'party', 'atmosphere', 'times', 'square', 'had', 'patriotic', 'theme', 'for', 'many', 'atypical', 'new', 'year', 'eve', 'monday', 'evening', 'celebrations', 'ensued', 'moments', 'after', 'the', 'ball', 'dropped', 'richard', 'perry', 'the', 'new', 'york', 'times', 'nyt44', 'new', 'york', 'dec', 'bloomberg', 'his', 'last', 'official', 'act', 'mayor', 'rudolph', 'guiliani', 'swore', 'michael', 'bloomberg', 'new', 'york', 'york', 'mayor', 'times', 'square', 'after', 'the', 'ball', 'dropped', 'hearlding', 'the', 'new', 'year', 'vincent', 'laforet', 'the', 'new', 'york', 'times', 'nyt43', 'new', 'york', 'dec', 'bloomberg', 'his', 'last', 'official', 'act', 'mayor', 'rudolph', 'guiliani', 'swore', 'michael', 'bloomberg', 'new', 'york', 'york', 'mayor', 'times', 'square', 'after', 'the', 'ball', 'dropped', 'hearlding', 'the', 'new', 'year', 'vincent', 'laforet', 'the', 'new', 'york', 'times', 'nyt42', 'new', 'york', 'dec', 'bloomberg', 'his', 'last', 'official', 'act', 'mayor', 'rudolph', 'guiliani', 'swore', 'michael', 'bloomberg', 'new', 'york', 'york', 'mayor', 'times', 'square', 'after', 'the', 'ball', 'dropped', 'hearlding', 'the', 'new', 'year', 'vincent', 'laforet', 'the', 'new', 'york', 'times', 'nyt41', 'new', 'york', 'dec', 'new', 'year', 'the', 'usual', 'party', 'atmosphere', 'times', 'square', 'had', 'patriotic', 'theme', 'for', 'many', 'atypical', 'new', 'year', 'eve', 'monday', 'evening', 'justin', 'lane', 'the', 'new', 'york', 'times', 'nyt40', 'new', 'york', 'dec', 'new', 'year', 'security', 'was', 'tight', 'times', 'square', 'this', 'year', 'people', 'began', 'staking', 'out', 'spot', 'watch', 'the', 'new', 'year', 'ball', 'drop', 'midtown', 'manhattan', 'monday', 'evening', 'richard', 'perry', 'the', 'new', 'york', 'times', 'nyt39', 'new', 'york', 'dec', 'bloomberg', 'michael', 'bloomberg', 'arriving', 'the', 'minicipal', 'building', 'lower', 'manhattan', 'take', 'his', 'oath', 'office', 'the', 'city', 'clerk', 'office', 'monday', 'will', 'officially', 'replace', 'mayor', 'rudolph', 'guiliani', 'the', 'stroke', 'midnight', 'librado', 'romero', 'the', 'new', 'york', 'times', 'nyt37', 'new', 'york', 'dec', 'new', 'year', 'some', 'police', 'officers', 'patrolled', 'times', 'square', 'monday', 'night', 'often', 'conducting', 'spot', 'checks', 'revelers', 'vincent', 'laforet', 'the', 'new', 'york', 'times', 'nyt38', 'new', 'york', 'dec', 'firefighters', 'squad', 'company', 'park', 'slope', 'brooklyn', 'firefighters', 'michael', 'stackpole', 'left', 'and', 'tim', 'rogers', 'discussed', 'the', 'appointment', 'nicholas', 'scoppetta', 'commissioner', 'for', 'department', 'logistical', 'and', 'emotional', 'turmoil', 'aaron', 'lee', 'fineman', 'the', 'new', 'york', 'times', 'nyt36', 'new', 'york', 'dec', 'new', 'year', 'security', 'was', 'tight', 'times', 'square', 'this', 'year', 'people', 'began', 'staking', 'out', 'spot', 'watch', 'the', 'new', 'year', 'ball', 'drop', 'midtown', 'manhattan', 'monday', 'evening', 'vincent', 'laforet', 'the', 'new', 'york', 'times', 'nyt35', 'new', 'york', 'dec', 'biz', 'schools', 'meyer', 'feldberg', 'dean', 'the', 'columbia', 'business', 'school', 'says', 'the', 'number', 'applications', 'schools', 'like', 'his', 'sharply', 'people', 'look', 'for', 'place', 'weather', 'the', 'recession', 'while', 'upgrading', 'their', 'skills', 'justin', 'lane', 'the', 'new', 'york', 'times', 'nyt34', 'shibarghan', 'afghanistan', 'dec', 'attack', 'prisoners', 'over', 'the', 'next', 'weeks', 'american', 'investigators', 'will', 'questioning', 'hundreds', 'foreign', 'and', 'afghan', 'taliban', 'prisoners', 'that', 'have', 'been', 'taken', 'into', 'custody', 'from', 'shibarghan', 'prison', 'soldier', 'from', 'the', 'army', '10th', 'mountain', 'division', 'stands', 'next', 'fighter', 'with', 'the', 'northern', 'alliance', 'guarding', 'the', 'gates', 'shibarghan', 'prison', 'saturday', 'alan', 'chin', 'the', 'new', 'york', 'times', 'nyt33', 'shibarghan', 'afghanistan', 'dec', 'attack', 'prisoners', 'over', 'the', 'next', 'weeks', 'american', 'investigators', 'will', 'questioning', 'hundreds', 'foreign', 'and', 'afghan', 'taliban', 'prisoners', 'that', 'have', 'been', 'taken', 'into', 'custody', 'from', 'shibarghan', 'prison', 'prisoners', 'shibarghan', 'prison', 'saturday', 'alan', 'chin', 'the', 'new', 'york', 'times', 'nyt32', 'shibarghan', 'afghanistan', 'dec', 'attack', 'prisoners', 'over', 'the', 'next', 'weeks', 'american', 'investigators', 'will', 'questioning', 'hundreds', 'foreign', 'and', 'afghan', 'taliban', 'prisoners', 'that', 'have', 'been', 'taken', 'into', 'custody', 'from', 'shibarghan', 'prison', 'prisoners', 'shibarghan', 'prison', 'saturday', 'alan', 'chin', 'the', 'new', 'york', 'times', 'nyt31', 'shibarghan', 'afghanistan', 'dec', 'attack', 'prisoners', 'over', 'the', 'next', 'weeks', 'american', 'investigators', 'will', 'questioning', 'hundreds', 'foreign', 'and', 'afghan', 'taliban', 'prisoners', 'that', 'have', 'been', 'taken', 'into', 'custody', 'from', 'shibarghan', 'prison', 'bound', 'prisoners', 'shibarghan', 'prison', 'saturday', 'alan', 'chin', 'the', 'new', 'york', 'times', 'nyt30', 'shibarghan', 'afghanistan', 'dec', 'attack', 'prisoners', 'over', 'the', 'next', 'weeks', 'american', 'investigators', 'will', 'questioning', 'hundreds', 'foreign', 'and', 'afghan', 'taliban', 'prisoners', 'that', 'have', 'been', 'taken', 'into', 'custody', 'from', 'shibarghan', 'prison', 'some', 'the', 'prisoners', 'shibarghan', 'prison', 'bathe', 'last', 'saturday', 'alan', 'chin', 'the', 'new', 'york', 'times', 'nyt29', 'hollywood', 'fla', 'dec', 'antiterror', 'course', 'recent', 'events', 'have', 'left', 'many', 'floridians', 'feeling', 'vulnerable', 'but', 'now', 'hundreds', 'average', 'south', 'floridians', 'have', 'taken', 'their', 'protection', 'into', 'their', 'own', 'hands', 'they', 'have', 'signed', 'for', 'counterterrorism', 'course', 'offered', 'retired', 'police', 'swat', 'team', 'leader', 'and', 'his', 'staff', 'former', 'elite', 'military', 'and', 'law', 'enforcement', 'personnel', 'demonstration', 'book', 'bomb', 'shown', 'example', 'how', 'terrorist', 'can', 'hide', 'deadly', 'force', 'and', 'what', 'look', 'for', 'combat', 'terrorism', 'andrew', 'itkoff', 'the', 'new', 'york', 'times', 'nyt28', 'hollywood', 'fla', 'dec', 'antiterror', 'course', 'recent', 'events', 'have', 'left', 'many', 'floridians', 'feeling', 'vulnerable', 'but', 'now', 'hundreds', 'average', 'south', 'floridians', 'have', 'taken', 'their', 'protection', 'into', 'their', 'own', 'hands', 'they', 'have', 'signed', 'for', 'counterterrorism', 'course', 'offered', 'retired', 'police', 'swat', 'team', 'leader', 'and', 'his', 'staff', 'former', 'elite', 'military', 'and', 'law', 'enforcement', 'personnel', 'demonstration', 'mock', 'terrorist', 'nelson', 'ricardo', 'instructor', 'and', 'special', 'forces', 'officer', 'portrays', 'bomber', 'and', 'what', 'increase', 'the', 'odds', 'survival', 'andrew', 'itkoff', 'the', 'new', 'york', 'times', 'nyt27', 'hollywood', 'fla', 'dec', 'antiterror', 'course', 'recent', 'events', 'have', 'left', 'many', 'floridians', 'feeling', 'vulnerable', 'but', 'now', 'hundreds', 'average', 'south', 'floridians', 'have', 'taken', 'their', 'protection', 'into', 'their', 'own', 'hands', 'they', 'have', 'signed', 'for', 'counterterrorism', 'course', 'offered', 'retired', 'police', 'swat', 'team', 'leader', 'and', 'his', 'staff', 'former', 'elite', 'military', 'and', 'law', 'enforcement', 'personnel', 'walter', 'philbrick', 'left', 'joins', 'two', 'his', 'employees', 'doreen', 'pluschau', 'and', 'nelson', 'ricardo', 'mock', 'airliner', 'hijacking', 'terrorists', 'you', 'nothing', 'when', 'terrorists', 'strike', 'philbrick', 'says', 'you', 'going', 'die', 'andrew', 'itkoff', 'the', 'new', 'york', 'times', 'nyt26', 'new', 'york', 'dec', 'mayor', 'mayor', 'rudolph', 'guiliani', 'says', 'goodbye', 'staffers', 'leaves', 'city', 'hall', 'for', 'the', 'last', 'time', 'monday', 'james', 'estrin', 'the', 'new', 'york', 'times', 'nyt25', 'new', 'york', 'dec', 'new', 'year', 'police', 'officer', 'from', 'the', 'new', 'york', 'corrections', 'department', 'and', 'his', 'unit', 'roam', 'the', 'area', 'thousands', 'await', 'the', 'start', 'new', 'year', 'ceremonies', 'times', 'square', 'monday', 'evening', 'vincent', 'laforet', 'the', 'new', 'york', 'times', 'nyt24', 'new', 'york', 'dec', 'new', 'year', 'greg', 'packer', 'huntington', 'looks', 'the', 'jumbotron', 'and', 'thousands', 'await', 'the', 'start', 'new', 'year', 'ceremonies', 'times', 'square', 'monday', 'evening', 'vincent', 'laforet', 'the', 'new', 'york', 'times', 'nyt23', 'new', 'york', 'dec', 'new', 'year', 'security', 'was', 'tight', 'times', 'square', 'this', 'year', 'people', 'began', 'staking', 'out', 'spot', 'watch', 'the', 'new', 'year', 'ball', 'drop', 'midtown', 'manhattan', 'monday', 'evening', 'vincent', 'laforet', 'the', 'new', 'york', 'times', 'nyt22', 'new', 'york', 'dec', 'mayor', 'his', 'final', 'day', 'office', 'mayor', 'rudolph', 'giuliani', 'the', 'closing', 'bell', 'the', 'new', 'york', 'stock', 'exchange', 'from', 'left', 'richard', 'grasso', 'chair', 'and', 'ceo', 'giuliani', 'and', 'his', 'companion', 'judith', 'nathan', 'keith', 'meyers', 'the', 'new', 'york', 'times', 'nyt21', 'new', 'york', 'dec', 'mayor', 'his', 'final', 'day', 'office', 'mayor', 'rudolph', 'giuliani', 'said', 'monday', 'has', 'completed', 'plans', 'for', 'his', 'new', 'business', 'venture', 'and', 'judith', 'nathan', 'are', 'love', 'and', 'his', 'regrets', 'are', 'few', 'and', 'far', 'between', 'the', 'mayor', 'even', 'said', 'miss', 'the', 'press', 'corps', 'which', 'criticized', 'frequently', 'during', 'his', 'eight', 'years', 'office', 'for', 'doing', 'poor', 'job', 'covering', 'his', 'administration', 'guiliani', 'officialy', 'leaving', 'city', 'hall', 'the', 'music', 'the', 'nypd', 'emerald', 'pipe', 'band', 'with', 'judy', 'nathan', 'his', 'side', 'michelle', 'agins', 'the', 'new', 'york', 'times', 'nyt20', 'new', 'york', 'dec', 'new', 'year', 'security', 'was', 'tight', 'times', 'square', 'this', 'year', 'people', 'began', 'staking', 'out', 'spot', 'watch', 'the', 'new', 'year', 'ball', 'drop', 'midtown', 'manhattan', 'monday', 'evening', 'aaron', 'lee', 'fineman', 'the', 'new', 'york', 'times', 'nyt19', 'quetta', 'pakistan', 'dec', 'afghan', 'refugees', 'the', 'united', 'nations', 'high', 'commission', 'for', 'refugees', 'unhcr', 'said', 'that', 'about', 'afghans', 'from', 'quetta', 'and', 'surrounding', 'villages', 'are', 'expected', 'return', 'afghanistan', 'this', 'month', 'last', 'count', 'had', 'crossed', 'mar', 'gul', 'and', 'her', 'two', 'sons', 'one', 'whom', 'stands', 'behind', 'her', 'are', 'going', 'back', 'kandahar', 'see', 'how', 'the', 'security', 'situation', 'gul', 'lost', 'her', 'husband', 'during', 'the', 'bombings', 'last', 'month', 'and', 'she', 'has', 'means', 'support', 'her', 'children', 'tasgola', 'karla', 'bruner', 'cox', 'news', 'service', 'nyt18', 'morristown', 'dec', 'sci', 'infertility', 'business', 'infertility', 'has', 'become', 'big', 'fiercely', 'competitive', 'business', 'with', 'billion', 'dollars', 'revenues', 'and', 'with', 'more', 'and', 'more', 'doctors', 'fighting', 'for', 'limited', 'number', 'patients', 'kathy', 'miller', 'and', 'richard', 'scott', 'reproductive', 'medicine', 'associates', 'dith', 'pran', 'the', 'new', 'york', 'times', 'nyt17', 'atlanta', 'dec', 'trainer', 'atlanta', 'this', 'time', 'year', 'exercise', 'the', 'minds', 'many', 'whose', 'new', 'year', 'resolutions', 'include', 'dropping', 'holiday', 'pounds', 'and', 'getting', 'fit', 'some', 'will', 'turn', 'personal', 'trainers', 'personal', 'trainer', 'lee', 'fidler', 'standing', 'who', 'with', 'the', 'decatur', 'ymca', 'with', 'client', 'deb', 'watts', 'louie', 'favorite', 'atlanta', 'journal', 'constitution', 'nyt16', 'undated', 'dec', 'calendars', 'texas', 'cox', 'aztec', 'scenes', 'gods', 'and', 'godesses', 'kings', 'and', 'conquerors', 'produced', 'mexico', 'grace', 'the', 'calendars', 'handed', 'out', 'and', 'sold', 'numerous', 'austin', 'restaurants', 'and', 'businesses', 'examples', 'mexican', 'art', 'adorning', 'calendars', 'from', 'businesses', 'austin', 'texas', 'austin', 'american', 'statesman', 'cox', 'news', 'service', 'nyt15', 'atlanta', 'dec', 'travel', 'child', 'atlanta', 'chanel', 'johnson', 'customer', 'service', 'duty', 'manager', 'for', 'air', 'tran', 'talks', 'two', 'young', 'travellers', 'who', 'were', 'flying', 'unaccompanied', 'last', 'friday', 'gate', 'hartsfield', 'airport', 'the', 'boys', 'expressed', 'interest', 'sitting', 'together', 'the', 'flight', 'bound', 'for', 'gulfport', 'miss', 'johnson', 'arranged', 'the', 'seating', 'sept', 'changed', 'how', 'people', 'view', 'air', 'travel', 'but', 'unaccompanied', 'minors', 'are', 'still', 'flying', 'the', 'skies', 'charlotte', 'teagle', 'cox', 'news', 'service', 'nyt14', 'new', 'york', 'dec', 'mayor', 'bloomberg', 'michael', 'bloomberg', 'took', 'the', 'oath', 'office', 'monday', 'the', 'first', 'three', 'swearing', 'ceremonies', 'presenting', 'city', 'clerk', 'victor', 'robles', 'with', 'pennies', 'symbol', 'progress', 'the', 'ceremony', 'did', 'not', 'actually', 'make', 'bloomberg', 'mayor', 'was', 'formally', 'sworn', 'mayor', 'rudolph', 'giuliani', 'just', 'after', 'midnight', 'times', 'square', 'then', 'again', 'tuesday', 'the', 'chief', 'judge', 'new', 'york', 'state', 'judith', 'kaye', 'front', 'city', 'hall', 'bloomberg', 'speaks', 'reporters', 'before', 'his', 'first', 'swearing', 'ceremony', 'monday', 'librado', 'romero', 'the', 'new', 'york', 'times', 'nyt13', 'red', 'house', 'virg', 'dec', 'muslim', 'enclave', 'federal', 'prosecutors', 'the', 'enclave', 'western', 'virginia', 'compound', 'potentially', 'dangerous', 'muslims', 'where', 'guns', 'are', 'prevalent', 'and', 'hatred', 'the', 'strong', 'neighbors', 'mysterious', 'collection', 'mobile', 'homes', 'but', 'the', 'families', 'red', 'house', 'devout', 'community', 'black', 'americans', 'who', 'fled', 'the', 'big', 'cities', 'raise', 'their', 'children', 'relative', 'quiet', 'sign', 'indicating', 'the', 'islamberg', 'campus', 'quranic', 'open', 'university', 'the', 'muslims', 'america', 'ozier', 'muhammad', 'the', 'new', 'york', 'times', 'nyt12', 'undated', 'dec', 'sci', 'microplumbing', 'part', 'microfluidic', 'chip', 'two', 'liquids', 'flow', 'together', 'for', 'mixing', 'pipes', 'are', 'one', 'fiftieth', 'inch', 'wide', 'after', 'shrinking', 'electronics', 'into', 'microelectronics', 'and', 'machines', 'into', 'micromachines', 'scientists', 'have', 'become', 'microplumbers', 'too', 'carving', 'mazes', 'pipes', 'the', 'width', 'human', 'hair', 'into', 'silicon', 'glass', 'and', 'plastic', 'they', 'have', 'developed', 'devices', 'that', 'shuttle', 'around', 'miniscule', 'amounts', 'liquid', 'mix', 'them', 'together', 'run', 'chemical', 'experiments', 'analyze', 'bits', 'dna', 'floating', 'within', 'they', 'are', 'essentially', 'condensing', 'entire', 'chemistry', 'laboratories', 'onto', 'small', 'chips', 'which', 'promises', 'the', 'usual', 'benefits', 'miniaturization', 'faster', 'cheaper', 'better', 'handylab', 'inc', 'the', 'new', 'york', 'times', 'nyt11', 'new', 'york', 'dec', 'edmund', 'morris', 'interview', 'edmund', 'morris', 'the', 'biographer', 'ronald', 'reagan', 'and', 'teddy', 'roosevelt', 'roosevelt', 'childhood', 'home', 'manhattan', 'earlier', 'this', 'month', 'morris', 'has', 'written', 'three', 'books', 'about', 'two', 'presidents', 'but', 'says', 'never', 'been', 'much', 'aware', 'politics', 'actually', 'fred', 'conrad', 'the', 'new', 'york', 'times', 'lite', 'nyt10', 'new', 'york', 'dec', 'detained', 'rights', 'the', 'last', 'month', 'the', 'american', 'civil', 'liberties', 'union', 'has', 'written', 'ten', 'the', 'countries', 'whose', 'citizens', 'have', 'been', 'detained', 'the', 'united', 'states', 'and', 'offered', 'legal', 'help', 'highlighting', 'instances', 'abuse', 'our', 'government', 'and', 'developing', 'systematic', 'litigation', 'challenge', 'its', 'unconstitutional', 'practices', 'pamphlets', 'handed', 'out', 'the', 'aclu', 'advising', 'people', 'their', 'rights', 'the', 'new', 'york', 'times', 'nyt9', 'ramallah', 'west', 'bank', 'dec', 'mideast', 'palestinian', 'leader', 'yasser', 'arafat', 'center', 'waves', 'supporters', 'during', 'rally', 'marking', 'the', '37th', 'anniversary', 'the', 'founding', 'his', 'fatah', 'movement', 'monday', 'night', 'ramallah', 'during', 'these', 'difficult', 'times', 'are', 'living', 'our', 'people', 'are', 'still', 'fighting', 'against', 'all', 'the', 'israeli', 'challenges', 'arafat', 'told', 'cheering', 'crowd', 'the', 'west', 'bank', 'town', 'are', 'the', 'strong', 'people', 'the', 'palestinian', 'flag', 'will', 'flown', 'above', 'the', 'walls', 'jerusalem', 'rina', 'castelnuovo', 'the', 'new', 'york', 'times', 'lite', 'nyt8', 'new', 'york', 'dec', 'burrows', 'fashion', 'amp', 'fashion', 'designer', 'stephen', 'burrows', 'with', 'model', 'sporting', 'one', 'his', 'designs', 'don', 'hogan', 'charles', 'the', 'new', 'york', 'times', 'nyt7', 'new', 'york', 'dec', 'burrows', 'fashion', 'fashion', 'designer', 'stephen', 'burrows', 'the', 'studio', 'area', 'his', 'harlem', 'home', 'during', 'interview', 'earlier', 'this', 'month', 'don', 'hogan', 'charles', 'the', 'new', 'york', 'times', 'nyt6', 'crawford', 'texas', 'dec', 'bush', 'nearly', 'year', 'after', 'taking', 'office', 'president', 'bush', 'has', 'seized', 'the', 'catastrophe', 'sept', 'project', 'himself', 'the', 'world', 'commander', 'chief', 'the', 'center', 'the', 'crisis', 'and', 'aggressively', 'reach', 'for', 'new', 'powers', 'his', 'presidency', 'yet', 'bush', 'has', 'remained', 'stymied', 'significant', 'parts', 'his', 'domestic', 'agenda', 'president', 'bush', 'speaks', 'with', 'prime', 'minister', 'tony', 'blair', 'britain', 'saturday', 'dec', 'from', 'his', 'ranch', 'crawford', 'susan', 'sterner', 'the', 'white', 'house', 'the', 'new', 'york', 'times', 'nyt5', 'new', 'york', 'dec', 'detained', 'rights', 'the', 'last', 'month', 'the', 'american', 'civil', 'liberties', 'union', 'has', 'written', 'ten', 'the', 'countries', 'whose', 'citizens', 'have', 'been', 'detained', 'the', 'united', 'states', 'and', 'offered', 'legal', 'help', 'highlighting', 'instances', 'abuse', 'our', 'government', 'and', 'developing', 'systematic', 'litigation', 'challenge', 'its', 'unconstitutional', 'practices', 'anthony', 'romero', 'executive', 'director', 'the', 'american', 'civil', 'liberties', 'union', 'one', 'the', 'organization', 'law', 'libraries', 'during', 'interview', 'earlier', 'this', 'month', 'fred', 'conrad', 'the', 'new', 'york', 'times', 'nyt4', 'rome', 'dec', 'exorcist', 'potter', 'rev', 'gabriele', 'amorth', 'the', 'catholic', 'church', 'best', 'known', 'exorcist', 'has', 'been', 'all', 'the', 'papers', 'again', 'this', 'time', 'for', 'taking', 'harry', 'potter', 'when', 'recently', 'told', 'the', 'italian', 'news', 'agency', 'that', 'the', 'devil', 'was', 'behind', 'harry', 'luring', 'children', 'into', 'supernatural', 'adventures', 'set', 'off', 'debate', 'newspapers', 'and', 'catholic', 'chat', 'rooms', 'father', 'amorth', 'his', 'office', 'earlier', 'this', 'month', 'chris', 'warde', 'jones', 'the', 'new', 'york', 'times', 'lite', 'nyt3', 'new', 'york', 'dec', 'hilfiger', 'profile', 'fashion', 'designer', 'tommy', 'hilfiger', 'during', 'interview', 'earlier', 'this', 'month', 'chester', 'higgins', 'the', 'new', 'york', 'times', 'nyt2', 'kandahar', 'afghanistan', 'dec', 'afghan', 'military', 'members', 'the', 'special', 'forces', 'part', 'convoy', 'six', 'vehicles', 'left', 'the', 'area', 'monday', 'unknown', 'destination', 'forces', 'have', 'been', 'searching', 'for', 'taliban', 'leader', 'mullah', 'mohammed', 'omar', 'since', 'dec', 'when', 'kandahar', 'fell', 'anti', 'taliban', 'afghan', 'forces', 'kandahar', 'omar', 'hometown', 'and', 'was', 'the', 'last', 'major', 'taliban', 'stronghold', 'afghanistan', 'omar', 'probably', 'somewhere', 'the', 'mountains', 'northwest', 'kandahar', 'intelligence', 'official', 'said', 'monday', 'ozier', 'muhammad', 'the', 'new', 'york', 'times', 'nyt1', 'edia', 'khil', 'afghanistan', 'dec', 'afghan', 'afghan', 'men', 'plead', 'for', 'donated', 'food', 'which', 'was', 'being', 'handed', 'out', 'from', 'the', 'back', 'truck', 'the', 'village', 'edia', 'khil', 'near', 'tora', 'bora', 'monday', 'the', 'food', 'was', 'donated', 'ali', 'baba', 'affluent', 'afghan', 'businessman', 'who', 'has', 'been', 'donating', 'food', 'villages', 'surrounding', 'jalalabad', 'joao', 'silva', 'the', 'new', 'york', 'times', 'the', 'new', 'york', 'times', 'news', 'service', 'new', 'york', 'times', 'news', 'service', 'for', 'tuesday', 'pms', 'here', 'are', 'the', 'top', 'news', 'stories', 'from', 'the', 'new', 'york', 'times', 'news', 'service', 'for', 'pms', 'tuesday', 'jan', 'the', 'pms', 'news', 'desk', 'opens', 'eastern', 'time', 'get', 'story', 'repeats', 'before', 'this', 'hour', 'call', 'for', 'reruns', 'datafeatures', 'for', 'repeats', 'upi', 'datanews', 'nyt', 'news', 'service', 'international', 'moved', 'category', 'attack', 'prisoners', 'shibarghan', 'afghanistan', 'over', 'the', 'next', 'weeks', 'american', 'investigators', 'will', 'questioning', 'hundreds', 'foreign', 'and', 'afghan', 'taliban', 'prisoners', 'that', 'have', 'been', 'taken', 'into', 'custody', 'from', 'shibarghan', 'prison', 'they', 'are', 'looking', 'for', 'intelligence', 'the', 'taliban', 'leadership', 'and', 'osama', 'bin', 'laden', 'qaida', 'network', 'they', 'will', 'find', 'odd', 'mix', 'people', 'among', 'the', 'foreign', 'prisoners', 'whose', 'individual', 'stories', 'show', 'there', 'was', 'not', 'much', 'grand', 'design', 'that', 'brought', 'them', 'together', 'carlotta', 'gall', 'national', 'general', 'moved', 'category', 'bush', 'perspective', 'crawford', 'texas', 'nearly', 'year', 'after', 'taking', 'office', 'president', 'bush', 'has', 'seized', 'the', 'catastrophe', 'sept', 'project', 'himself', 'the', 'world', 'commander', 'chief', 'the', 'center', 'the', 'crisis', 'and', 'aggressively', 'reach', 'for', 'new', 'powers', 'his', 'presidency', 'yet', 'bush', 'has', 'remained', 'stymied', 'significant', 'parts', 'his', 'domestic', 'agenda', 'elisabeth', 'bumiller', 'and', 'david', 'sanger', 'art', 'adv', 'photo', 'nyt6', 'being', 'sent', 'nyt', 'photo', 'clients', 'editors', 'the', 'times', 'has', 'concluded', 'its', 'daily', 'presentation', 'capsule', 'profiles', 'the', 'sept', 'victims', 'which', 'moved', 'the', 'wire', 'terror', 'missing', 'the', 'total', 'exceeds', 'all', 'the', 'missing', 'known', 'dead', 'whose', 'friends', 'and', 'families', 'agreed', 'interviews', 'new', 'names', 'emerge', 'more', 'families', 'make', 'themselves', 'available', 'the', 'times', 'will', 'publish', 'additional', 'profiles', 'business', 'day', 'moved', 'category', 'hewlett', 'compaq', 'undated', 'the', 'dry', 'language', 'business', 'does', 'not', 'sound', 'like', 'much', 'integration', 'risk', 'but', 'represents', 'the', 'greatest', 'single', 'doubt', 'that', 'surrounds', 'the', 'merger', 'plan', 'hewlett', 'packard', 'and', 'compaq', 'and', 'the', 'biggest', 'obstacle', 'winning', 'shareholder', 'approval', 'for', 'the', 'deal', 'the', 'concern', 'simple', 'terms', 'this', 'big', 'mergers', 'the', 'computer', 'industry', 'never', 'seem', 'work', 'steve', 'lohr', 'argentina', 'econ', 'undated', 'news', 'analysis', 'how', 'economists', 'view', 'the', 'long', 'slow', 'collapse', 'south', 'america', 'second', 'biggest', 'economy', 'daniel', 'altman', 'tyson', 'foods', 'springdale', 'ark', 'federal', 'officials', 'have', 'accused', 'tyson', 'foods', 'the', 'nation', 'largest', 'meat', 'processor', 'violating', 'labor', 'environmental', 'and', 'civil', 'rights', 'laws', 'and', 'making', 'illegal', 'gifts', 'cabinet', 'secretary', 'two', 'weeks', 'ago', 'federal', 'grand', 'jury', 'indicted', 'tyson', 'and', 'six', 'employees', 'charges', 'conspiring', 'smuggle', 'illegal', 'immigrants', 'into', 'the', 'united', 'states', 'work', 'the', 'company', 'plants', 'tyson', 'insists', 'has', 'been', 'the', 'target', 'overzealous', 'investigators', 'and', 'crusading', 'special', 'interest', 'groups', 'but', 'critics', 'say', 'that', 'both', 'tyson', 'growth', 'and', 'its', 'transgressions', 'rise', 'from', 'the', 'same', 'devil', 'may', 'care', 'philosophy', 'with', 'which', 'the', 'tyson', 'family', 'has', 'imbued', 'david', 'barboza', 'heating', 'oil', 'undated', 'for', 'the', 'past', 'few', 'years', 'thelma', 'diego', 'has', 'locked', 'the', 'cost', 'heating', 'oil', 'for', 'her', 'home', 'new', 'jersey', 'because', 'she', 'wants', 'both', 'certainty', 'and', 'savings', 'last', 'winter', 'when', 'oil', 'was', 'about', 'gallon', 'diego', 'paid', 'just', 'but', 'the', 'contract', 'that', 'diego', 'signed', 'june', 'pay', 'gallon', 'this', 'winter', 'has', 'proved', 'bad', 'bet', 'heating', 'oil', 'prices', 'today', 'are', 'percent', 'lower', 'than', 'they', 'were', 'year', 'ago', 'many', 'homeowners', 'throughout', 'the', 'northeast', 'are', 'the', 'same', 'situation', 'diego', 'oil', 'prices', 'dip', 'well', 'below', 'the', 'rates', 'they', 'locked', 'over', 'the', 'spring', 'and', 'summer', 'abby', 'ellin', 'with', 'joseph', 'kahn', 'commentary', 'moved', 'category', 'column', 'paul', 'krugman', 'sports', 'moved', 'category', 'fbn', 'playoffs', 'undated', 'pro', 'football', 'column', 'the', 'nfl', 'with', 'one', 'week', 'the', 'regular', 'season', 'and', 'the', 'playoff', 'spots', 'now', 'filled', 'thomas', 'george', 'entertainment', 'moved', 'category', 'morris', 'biography', 'new', 'york', 'interview', 'with', 'edmund', 'morris', 'the', 'biographer', 'ronald', 'reagan', 'and', 'teddy', 'roosevelt', 'bill', 'goldstein', 'art', 'adv', 'photo', 'nyt11', 'being', 'sent', 'nyt', 'photo', 'clients', 'pope', 'arts', 'grant', 'undated', 'interview', 'with', 'william', 'pope', 'conceptual', 'artist', 'involved', 'dispute', 'over', 'national', 'endowment', 'for', 'the', 'arts', 'grant', 'holland', 'cotter', 'eds', 'note', 'that', 'pope', 'mateo', 'ballet', 'cambridge', 'mass', 'young', 'ballet', 'institution', 'the', 'rise', 'here', 'offers', 'bright', 'counterpoint', 'the', 'retrenchment', 'classical', 'dance', 'elsewhere', 'around', 'the', 'country', 'fed', 'the', 'elegant', 'choreography', 'its', 'artistic', 'director', 'over', 'the', 'last', 'years', 'jose', 'mateo', 'ballet', 'theater', 'has', 'cultivated', 'distinctive', 'ballet', 'style', 'critically', 'acclaimed', 'repertory', 'original', 'work', 'school', 'and', 'member', 'company', 'now', 'with', 'this', 'season', 'nutcracker', 'ballet', 'theater', 'has', 'opened', 'the', 'first', 'professional', 'ballet', 'venue', 'this', 'erudite', 'city', 'has', 'ever', 'had', 'susan', 'diesenhouse', 'exorcist', 'potter', 'rome', 'rev', 'gabriele', 'amorth', 'the', 'catholic', 'church', 'best', 'known', 'exorcist', 'has', 'been', 'all', 'the', 'papers', 'again', 'this', 'time', 'for', 'taking', 'harry', 'potter', 'when', 'recently', 'told', 'the', 'italian', 'news', 'agency', 'that', 'the', 'devil', 'was', 'behind', 'harry', 'luring', 'children', 'into', 'supernatural', 'adventures', 'set', 'off', 'debate', 'newspapers', 'and', 'catholic', 'chat', 'rooms', 'melinda', 'henneberger', 'art', 'adv', 'photo', 'nyt4', 'being', 'sent', 'nyt', 'photo', 'clients', 'isadora', 'book', 'review', 'undated', 'isadora', 'sensational', 'life', 'the', 'dancer', 'isadora', 'duncan', 'peter', 'kurth', 'reviewed', 'jennifer', 'dunning', 'birthday', 'review', 'undated', 'tlc', 'world', 'birthday', 'new', 'york', 'times', 'and', 'granada', 'joint', 'venture', 'lesli', 'camhi', 'sci', 'universe', 'fate', 'undated', 'until', 'just', 'few', 'years', 'ago', 'most', 'scientists', 'believed', 'that', 'the', 'universe', 'would', 'undergo', 'eternal', 'expansion', 'but', 'now', 'with', 'the', 'discovery', 'dark', 'energy', 'antigravity', 'that', 'seems', 'embedded', 'space', 'itself', 'the', 'fate', 'the', 'universe', 'seems', 'far', 'more', 'bleaker', 'scientists', 'are', 'realizing', 'the', 'possibility', 'that', 'the', 'expansion', 'the', 'universe', 'not', 'just', 'continuing', 'but', 'speeding', 'that', 'true', 'rather', 'than', 'coasting', 'gently', 'into', 'the', 'night', 'distant', 'galaxies', 'will', 'eventually', 'moving', 'apart', 'quickly', 'that', 'they', 'can', 'not', 'communicate', 'with', 'one', 'another', 'effect', 'would', 'like', 'living', 'the', 'middle', 'black', 'hole', 'that', 'kept', 'getting', 'emptier', 'and', 'colder', 'words', 'dennis', 'overbye', 'science', 'moved', 'category', 'sci', 'infertility', 'business', 'undated', 'infertility', 'has', 'become', 'big', 'fiercely', 'competitive', 'business', 'with', 'billion', 'dollars', 'revenues', 'and', 'with', 'more', 'and', 'more', 'doctors', 'fighting', 'for', 'limited', 'number', 'patients', 'the', 'growth', 'the', 'field', 'has', 'been', 'fueled', 'rising', 'success', 'rates', 'and', 'increased', 'demand', 'from', 'patients', 'many', 'whom', 'pay', 'tens', 'thousands', 'dollars', 'out', 'their', 'own', 'pockets', 'hopes', 'having', 'child', 'some', 'medical', 'experts', 'are', 'deeply', 'concerned', 'with', 'marketing', 'promotions', 'that', 'can', 'shade', 'the', 'truth', 'referring', 'doctors', 'and', 'patients', 'can', 'find', 'hard', 'distinguish', 'between', 'centers', 'with', 'good', 'reputations', 'and', 'ones', 'that', 'promise', 'much', 'more', 'than', 'they', 'can', 'deliver', 'gina', 'kolata', 'words', 'art', 'adv', 'graphic', 'being', 'sent', 'nyt', 'photo', 'clients', 'sci', 'microplumbing', 'undated', 'after', 'shrinking', 'electronics', 'into', 'microelectronics', 'and', 'machines', 'into', 'micromachines', 'scientists', 'have', 'become', 'microplumbers', 'too', 'carving', 'mazes', 'pipes', 'the', 'width', 'human', 'hair', 'into', 'silicon', 'glass', 'and', 'plastic', 'they', 'have', 'developed', 'devices', 'that', 'shuttle', 'around', 'minuscule', 'amounts', 'liquid', 'mix', 'them', 'together', 'run', 'chemical', 'experiments', 'analyze', 'bits', 'dna', 'floating', 'within', 'they', 'are', 'essentially', 'condensing', 'entire', 'chemistry', 'laboratories', 'including', 'the', 'expertise', 'the', 'technicians', 'onto', 'small', 'chips', 'which', 'promises', 'the', 'usual', 'benefits', 'miniaturization', 'faster', 'cheaper', 'better', 'kenneth', 'chang', 'words', 'art', 'adv', 'photo', 'nyt12', 'being', 'sent', 'nyt', 'photo', 'clients', 'sci', 'house', 'finch', 'undated', 'ornithologists', 'have', 'discovered', 'that', 'the', 'population', 'the', 'house', 'finch', 'sparrow', 'size', 'bird', 'with', 'reddish', 'breast', 'that', 'popular', 'year', 'round', 'visitor', 'feeders', 'has', 'been', 'devastated', 'crippling', 'disease', 'just', 'seven', 'years', 'some', 'million', 'house', 'finches', 'percent', 'the', 'population', 'have', 'disappeared', 'from', 'the', 'eastern', 'united', 'states', 'the', 'apparent', 'victims', 'highly', 'contagious', 'eye', 'disease', 'jane', 'brody', 'words', 'art', 'adv', 'graphic', 'beign', 'sent', 'nyt', 'graphic', 'clients', 'sci', 'lichens', 'book', 'undated', 'lost', 'obscurity', 'near', 'the', 'bottom', 'the', 'organismal', 'totem', 'pole', 'just', 'above', 'bacteria', 'and', 'rotifers', 'lichens', 'have', 'patiently', 'awaited', 'their', 'moment', 'the', 'spotlight', 'this', 'last', 'fabulously', 'illustrated', 'and', 'exhaustively', 'researched', 'new', 'tome', 'entitled', 'lichens', 'north', 'america', 'three', 'lichen', 'besotted', 'authors', 'unmask', 'the', 'vibrant', 'beauty', 'these', 'organisms', 'carol', 'kaesuk', 'yoon', 'words', 'art', 'adv', 'map', 'beign', 'sent', 'nyt', 'graphic', 'clients', 'sci', 'watch', 'undated', 'news', 'and', 'notes', 'science', 'items', 'how', 'horse', 'anatomy', 'causes', 'bounce', 'what', 'makes', 'bones', 'tough', 'and', 'the', 'complete', 'sequencing', 'human', 'chromosome', 'henry', 'fountain', 'words', 'sci', 'graves', 'race', 'undated', 'the', 'debate', 'over', 'race', 'and', 'whether', 'meaningless', 'concept', 'continues', 'joseph', 'graves', 'professor', 'evolutionary', 'biology', 'and', 'african', 'american', 'studies', 'arizona', 'state', 'university', 'has', 'jumped', 'into', 'the', 'fray', 'his', 'provocative', 'book', 'the', 'emperor', 'new', 'clothes', 'biological', 'theories', 'race', 'the', 'millennium', 'graves', 'argues', 'that', 'biological', 'races', 'not', 'exist', 'and', 'that', 'race', 'simply', 'social', 'and', 'political', 'construct', 'that', 'the', 'world', 'would', 'better', 'without', 'conversation', 'with', 'graves', 'discusses', 'genes', 'race', 'and', 'health', 'linda', 'villarosa', 'words', 'sci', 'transgender', 'privacy', 'undated', 'after', 'meeting', 'with', 'transgendered', 'patient', 'who', 'insisted', 'that', 'her', 'sexual', 'orientation', 'left', 'out', 'her', 'medical', 'record', 'doctor', 'struggles', 'with', 'her', 'obligation', 'keep', 'the', 'medical', 'record', 'accurate', 'while', 'also', 'respecting', 'her', 'patient', 'privacy', 'abigail', 'zuger', 'words', 'sci', 'therapist', 'privacy', 'undated', 'for', 'years', 'therapists', 'have', 'argued', 'about', 'how', 'much', 'themselves', 'they', 'should', 'reveal', 'their', 'patients', 'freud', 'argued', 'that', 'psychoanalysts', 'should', 'refrain', 'from', 'disclosing', 'personal', 'information', 'their', 'patients', 'while', 'humanistic', 'psychologists', 'like', 'carl', 'rogers', 'recommended', 'self', 'disclosure', 'way', 'helping', 'patients', 'open', 'about', 'themselves', 'now', 'new', 'study', 'has', 'found', 'that', 'patients', 'whose', 'therapists', 'are', 'more', 'revealing', 'both', 'like', 'their', 'therapists', 'more', 'and', 'are', 'less', 'distressed', 'than', 'patients', 'whose', 'therapists', 'limit', 'their', 'disclosures', 'erica', 'goode', 'words', 'sci', 'brody', 'health', 'undated', 'personal', 'health', 'while', 'nearly', 'every', 'woman', 'knows', 'that', 'modern', 'medicine', 'has', 'developed', 'techniques', 'help', 'women', 'with', 'compromised', 'fertility', 'and', 'complicated', 'pregnancies', 'relatively', 'few', 'seem', 'aware', 'the', 'challenges', 'financial', 'emotional', 'and', 'medical', 'associated', 'with', 'these', 'treatments', 'with', 'their', 'often', 'limited', 'chance', 'success', 'jane', 'brody', 'art', 'adv', 'graphic', 'being', 'sent', 'nyt', 'graphic', 'clients', 'sci', 'book', 'review', 'undated', 'timebomb', 'the', 'global', 'epidemic', 'multi', 'drug', 'resistant', 'tuberculosis', 'reviewed', 'john', 'langone', 'words', 'and', 'sci', 'hypertension', 'book', 'review', 'undated', 'questions', 'and', 'answers', 'about', 'hypertension', 'reviewed', 'john', 'langone', 'words', 'sci', 'vital', 'signs', 'undated', 'news', 'and', 'notes', 'health', 'and', 'fitness', 'thumbsucking', 'pacifier', 'use', 'after', 'age', 'may', 'increase', 'the', 'risk', 'conditions', 'like', 'buck', 'teeth', 'and', 'the', 'eventual', 'need', 'for', 'braces', 'according', 'report', 'the', 'latest', 'issue', 'the', 'journal', 'the', 'american', 'dental', 'association', 'words', 'new', 'study', 'published', 'the', 'journal', 'psychological', 'science', 'offers', 'evidence', 'that', 'caffeine', 'can', 'make', 'measurable', 'difference', 'mental', 'acuity', 'for', 'the', 'elderly', 'words', 'major', 'operation', 'that', 'often', 'performed', 'women', 'with', 'severe', 'inflammation', 'the', 'colon', 'appears', 'reduce', 'their', 'fertility', 'researchers', 'report', 'this', 'month', 'the', 'journal', 'gastroenterology', 'words', 'women', 'who', 'undergo', 'hormone', 'replacement', 'therapy', 'after', 'menopause', 'appear', 'enjoy', 'better', 'mental', 'functioning', 'according', 'study', 'published', 'the', 'current', 'issue', 'neurology', 'words', 'researchers', 'describe', 'world', 'class', 'case', 'jet', 'lag', 'only', 'the', 'problem', 'occurs', 'not', 'this', 'world', 'but', 'off', 'the', 'human', 'clock', 'researchers', 'from', 'nasa', 'found', 'can', 'not', 'adjust', 'days', 'that', 'are', 'not', 'hours', 'long', 'problem', 'for', 'astronauts', 'extended', 'missions', 'words', 'sci', 'amp', 'undated', 'science', 'question', 'answered', 'the', 'fetus', 'nourished', 'through', 'the', 'placenta', 'while', 'the', 'womb', 'what', 'happens', 'the', 'waste', 'claiborne', 'ray', 'words', 'editors', 'all', 'clients', 'receive', 'all', 'budgets', 'but', 'only', 'full', 'service', 'clients', 'receive', 'all', 'stories', 'please', 'check', 'your', 'level', 'service', 'determine', 'which', 'stories', 'you', 'will', 'receive', 'nyt', 'news', 'service'], tags=[2]), TaggedDocument(words=['amwest', 'stock', 'gets', 'lift', 'for', 'use', 'times', 'news', 'service', 'clients', 'hal', 'mattern', 'the', 'arizona', 'republic', 'america', 'west', 'airlines', 'saw', 'its', 'stock', 'price', 'soar', 'nearly', '42percent', 'monday', 'courtesy', 'uncle', 'sam', 'the', 'first', 'day', 'trading', 'since', 'friday', 'when', 'the', 'airline', 'received', 'conditional', 'approval', '380million', 'federal', 'loan', 'guarantees', 'wall', 'street', 'reacted', 'pushing', 'its', 'stock', 'price', 'share', 'close', 'was', 'the', 'biggest', 'one', 'day', 'jump', 'america', 'west', 'stock', 'since', 'the', 'sept', 'terrorist', 'attacks', 'there', 'has', 'been', 'speculation', 'that', 'approval', 'the', 'loan', 'guarantees', 'could', 'cause', 'the', 'airline', 'stock', 'quickly', 'return', 'pre', 'attack', 'levels', 'about', 'share', 'eventually', 'approaching', 'its', 'week', 'high', 'nearly', 'but', 'price', 'share', 'considered', 'more', 'reasonable', 'initially', 'because', 'the', 'loan', 'guarantees', 'won', 'finalized', 'for', 'another', 'two', 'weeks', 'analysts', 'said', 'they', 'also', 'cautioned', 'that', 'the', 'tempe', 'based', 'carrier', 'still', 'could', 'encounter', 'financial', 'turbulence', 'seeks', 'return', 'profitability', 'balance', 'think', 'america', 'west', 'share', 'price', 'should', 'respond', 'favorably', 'said', 'michael', 'linenberg', 'analyst', 'for', 'merrill', 'lynch', 'however', 'the', 'company', 'still', 'facing', 'surmountable', 'hurdles', 'works', 'toward', 'shoring', 'its', 'financial', 'position', 'linenberg', 'and', 'other', 'wall', 'street', 'analysts', 'said', 'they', 'expected', 'that', 'america', 'west', 'stock', 'value', 'will', 'diluted', 'significantly', 'because', 'the', 'airline', 'return', 'for', 'the', 'loan', 'guarantees', 'has', 'give', 'the', 'federal', 'government', 'the', 'option', 'purchasing', '33percent', 'its', 'stock', 'because', 'the', 'airline', 'would', 'have', 'increase', 'the', 'number', 'shares', 'cover', 'the', 'government', 'option', 'the', 'value', 'existing', 'shares', 'would', 'decrease', 'but', 'the', 'alternative', 'possible', 'chapter', 'bankruptcy', 'filing', 'would', 'unequivocally', 'far', 'worse', 'outcome', 'for', 'shareholders', 'linenberg', 'said', 'report', 'the', 'airline', 'released', 'monday', 'jim', 'sabourin', 'spokesman', 'for', 'america', 'west', 'said', 'was', 'too', 'early', 'determine', 'the', 'impact', 'the', 'stock', 'options', 'shareholders', 'because', 'the', 'terms', 'have', 'not', 'been', 'finalized', 'said', 'the', 'government', 'will', 'given', 'the', 'option', 'buying', 'about', '11million', 'shares', 'non', 'voting', 'stock', 'price', 'yet', 'determined', 'and', 'likely', 'will', 'sell', 'them', 'profit', 'the', 'stock', 'options', 'were', 'required', 'that', 'taxpayers', 'would', 'compensated', 'for', 'the', 'risk', 'involved', 'with', 'guaranteeing', 'the', 'loans', 'friday', 'loan', 'guarantee', 'approval', 'was', 'the', 'first', 'the', 'air', 'transportation', 'stabilization', 'board', 'created', 'congress', 'help', 'airlines', 'survive', 'the', 'aftermath', 'sept', 'the', 'board', 'agreed', 'guarantee', '380million', 'loans', 'about', '85percent', '445million', 'financing', 'package', 'negotiated', 'america', 'west', 'with', 'private', 'lenders', 'besides', 'asking', 'for', 'the', 'stock', 'options', 'the', 'board', 'also', 'requiring', 'the', 'airline', 'keep', 'its', 'labor', 'costs', 'down', 'ensure', 'that', 'will', 'able', 'repay', 'the', 'loans', 'over', 'the', 'next', 'seven', 'years', 'america', 'west', 'officials', 'said', 'the', 'carrier', 'has', 'history', 'low', 'labor', 'costs', 'and', 'would', 'have', 'problem', 'continuing', 'that', 'trend', 'however', 'because', 'the', 'airline', 'has', 'been', 'plagued', 'recent', 'years', 'labor', 'disputes', 'and', 'complaints', 'about', 'its', 'service', 'could', 'face', 'problems', 'with', 'its', 'workforce', 'said', 'james', 'higgins', 'analyst', 'with', 'credit', 'suisse', 'first', 'boston', 'employee', 'morale', 'low', 'large', 'part', 'because', 'america', 'west', 'provides', 'the', 'lowest', 'pay', 'any', 'major', 'airline', 'unlikely', 'improve', 'higgins', 'said', 'service', 'quality', 'gains', 'are', 'correspondingly', 'likely', 'prove', 'difficult', 'achieve', 'said', 'union', 'officials', 'representing', 'america', 'west', 'pilots', 'have', 'said', 'the', 'lack', 'salary', 'and', 'benefit', 'increases', 'could', 'force', 'some', 'employees', 'leave', 'the', 'airline', 'for', 'other', 'jobs', 'the', 'pilots', 'have', 'worked', 'without', 'new', 'contract', 'since', 'january', 'and', 'negotiations', 'were', 'postponed', 'after', 'sept', 'the', 'loan', 'guarantees', 'will', 'trigger', 'additional', '600million', 'concessions', 'from', 'america', 'west', 'vendors', 'including', 'aircraft', 'manufacturers', 'and', 'leasing', 'companies', 'phoenix', 'and', 'arizona', 'also', 'have', 'offered', 'about', '10million', 'grants', 'and', 'loans', 'gov', 'jane', 'hull', 'has', 'proposed', 'giving', 'the', 'airline', '5million', 'low', 'interest', 'loans', 'and', 'job', 'training', 'and', 'economic', 'development', 'grants', 'details', 'have', 'not', 'been', 'finalized', 'phoenix', 'has', 'discussed', 'spending', 'about', '5million', 'buy', 'some', 'america', 'west', 'jet', 'bridges', 'the', 'walkways', 'that', 'connect', 'the', 'gates', 'the', 'planes', 'sky', 'harbor', 'international', 'airport', 'and', 'leasing', 'them', 'back', 'the', 'airline', 'that', 'proposal', 'would', 'need', 'the', 'approval', 'the', 'phoenix', 'city', 'council', 'state', 'legislator', 'proposing', 'concessions', 'all', 'airlines', 'serving', 'sky', 'harbor', 'not', 'just', 'america', 'west', 'sen', 'scott', 'bundgaard', 'glendale', 'has', 'filed', 'senate', 'bill', 'which', 'would', 'defer', 'for', 'two', 'years', 'flight', 'property', 'taxes', 'and', 'corporate', 'income', 'taxes', 'paid', 'the', 'airlines', 'said', 'analysts', 'are', 'working', 'determine', 'the', 'exact', 'cost', 'the', 'state', 'estimated', 'more', 'than', '5million', 'year', 'the', 'bill', 'will', 'considered', 'during', 'legislative', 'session', 'that', 'starts', 'jan', 'although', 'still', 'face', 'uncertainty', 'our', 'state', 'budget', 'revenues', 'can', 'afford', 'not', 'consider', 'this', 'action', 'bundgaard', 'said', 'the', 'federal', 'loan', 'guarantees', 'accompanied', 'this', 'tax', 'deferral', 'will', 'help', 'maintain', 'low', 'fares', 'and', 'keep', 'airline', 'related', 'jobs', 'secure', 'for', 'the', 'time', 'being', 'reach', 'the', 'reporter', 'hal', 'mattern', 'arizona', 'republic', 'com', 'editors', 'publications', 'outside', 'the', 'united', 'states', 'may', 'find', 'the', 'following', 'stories', 'from', 'the', 'new', 'york', 'times', 'news', 'service', 'for', 'wednesday', 'jan', 'particular', 'interest', 'international', 'will', 'move', 'news', 'category', 'india', 'pakistan', 'new', 'delhi', 'india', 'for', 'the', 'first', 'time', 'indian', 'officials', 'are', 'beginning', 'admit', 'the', 'possibility', 'that', 'the', 'leader', 'pakistan', 'gen', 'pervez', 'musharraf', 'may', 'ready', 'alter', 'pakistan', 'longstanding', 'strategy', 'fomenting', 'anti', 'india', 'violence', 'kashmir', 'though', 'the', 'indians', 'deeply', 'mistrust', 'him', 'the', 'architect', 'pakistan', 'army', 'incursion', 'into', 'the', 'indian', 'state', 'jammu', 'and', 'kashmir', 'they', 'say', 'that', 'perhaps', 'changing', 'even', 'only', 'under', 'severe', 'diplomatic', 'pressure', 'from', 'the', 'united', 'states', 'and', 'extreme', 'military', 'threat', 'from', 'india', 'celia', 'dugger', 'early', 'version', 'this', 'story', 'will', 'move', 'edt', 'peru', 'fire', 'lima', 'peru', 'developments', 'the', 'aftermath', 'the', 'fire', 'that', 'killed', 'nearly', 'people', 'david', 'gonzalez', 'argentina', 'president', 'buenos', 'aires', 'argentina', 'lawmakers', 'will', 'attempt', 'select', 'president', 'tuesday', 'larry', 'rohter', 'mideast', 'jerusalem', 'the', 'special', 'envoy', 'the', 'mideast', 'will', 'return', 'the', 'region', 'thursday', 'for', 'meetings', 'with', 'palestinian', 'and', 'israeli', 'officials', 'douglas', 'frantz', 'early', 'version', 'this', 'story', 'will', 'move', 'edt', 'afghan', 'karzai', 'kabul', 'afghanistan', 'the', 'chairman', 'afghanistan', 'interim', 'government', 'hamid', 'karzai', 'said', 'tuesday', 'that', 'wanted', 'the', 'bombing', 'afghanistan', 'continue', 'until', 'all', 'terrorist', 'activity', 'rooted', 'out', 'but', 'also', 'expressed', 'concern', 'about', 'mounting', 'civilian', 'casualties', 'karzai', 'made', 'his', 'comments', 'interview', 'the', 'gulkhanna', 'palace', 'extraordinary', 'moment', 'his', 'country', 'history', 'just', 'over', 'week', 'ago', 'took', 'office', 'afghanistan', 'first', 'peaceful', 'transition', 'barring', 'handoffs', 'from', 'father', 'son', 'inheriting', 'country', 'broken', 'more', 'than', 'two', 'decades', 'war', 'amy', 'waldman', 'early', 'version', 'this', 'story', 'will', 'move', 'edt', 'attack', 'afghan', 'dateline', 'come', 'developments', 'the', 'military', 'attacks', 'afghanistan', 'staff', 'byline', 'come', 'euro', 'frankfurt', 'germany', 'developments', 'the', 'single', 'european', 'currency', 'comes', 'life', 'edmund', 'andrews', 'zambia', 'politics', 'lusaka', 'zambia', 'court', 'has', 'put', 'off', 'announcing', 'election', 'results', 'here', 'because', 'possible', 'fraud', 'rachel', 'swarns', 'world', 'briefs', 'undated', 'world', 'news', 'brief', 'united', 'states', 'general', 'will', 'move', 'category', 'noted', 'new', 'year', 'new', 'york', 'the', 'final', 'tally', 'from', 'times', 'square', 'where', 'the', 'scene', 'was', 'relatively', 'quiet', 'monday', 'night', 'david', 'herszenhorn', 'latino', 'muslims', 'new', 'york', 'latino', 'muslims', 'are', 'little', 'known', 'but', 'growing', 'population', 'and', 'one', 'the', 'more', 'surprising', 'examples', 'the', 'kaleidoscopic', 'nature', 'islam', 'america', 'also', 'subset', 'american', 'islam', 'that', 'endures', 'particular', 'set', 'pressures', 'and', 'presents', 'unusually', 'diverse', 'set', 'paths', 'the', 'faith', 'daniel', 'wakin', 'business', 'will', 'move', 'news', 'category', 'the', 'new', 'york', 'times', 'annual', 'markets', 'and', 'investing', 'outlook', 'section', 'for', 'will', 'published', 'wednesday', 'articles', 'will', 'include', 'outlook', 'market', 'undated', 'the', 'theme', 'for', 'the', 'new', 'year', 'risk', 'avoidance', 'does', 'that', 'mean', 'the', 'end', 'decent', 'returns', 'alex', 'berenson', 'with', 'graphic', 'outlook', 'oil', 'undated', 'these', 'prices', 'does', 'make', 'sense', 'make', 'big', 'effort', 'look', 'for', 'more', 'oil', 'and', 'gas', 'neela', 'banerjee', 'with', 'graphic', 'outlook', 'biz', 'jargon', 'undated', 'these', 'hurry', 'times', 'some', 'people', 'can', 'wait', 'for', 'jargon', 'enter', 'the', 'vernacular', 'they', 'make', 'themselves', 'and', 'sell', 'others', 'hubert', 'herring', 'outlook', 'bankruptcies', 'undated', 'big', 'bankruptcies', 'set', 'record', 'did', 'junk', 'defaults', 'alex', 'berenson', 'assesses', 'the', 'future', 'corporate', 'finance', 'outlook', 'currency', 'undated', 'the', 'dollar', 'has', 'retained', 'its', 'strength', 'despite', 'the', 'economy', 'look', 'what', 'this', 'means', 'for', 'exports', 'and', 'for', 'investing', 'abroad', 'jonathan', 'fuerbringer', 'outlook', 'commodities', 'undated', 'coffee', 'base', 'metals', 'and', 'other', 'commodities', 'are', 'record', 'lows', 'does', 'that', 'signal', 'global', 'economic', 'recovery', 'far', 'off', 'kenneth', 'gilpin', 'entertainment', 'arts', 'will', 'move', 'news', 'category', 'indicated', 'puerto', 'rican', 'poets', 'new', 'york', 'preoccupation', 'with', 'the', 'puerto', 'rican', 'condition', 'still', 'anchors', 'nuyorican', 'poetry', 'did', 'when', 'came', 'into', 'being', 'the', '1960s', 'and', '70s', 'nuyorican', 'poetry', 'still', 'going', 'strong', 'amid', 'the', 'surge', 'the', 'popularity', 'poetry', 'america', 'the', 'nuyorican', 'poets', 'cafe', 'mireya', 'navarro', 'italy', 'jazz', 'violin', 'genoa', 'italy', 'typically', 'the', 'honor', 'playing', 'the', 'cannon', 'the', 'legendary', 'instrument', 'the', '19th', 'century', 'composer', 'and', 'virtuoso', 'violinist', 'niccolo', 'paganini', 'falls', 'select', 'world', 'class', 'guest', 'soloists', 'and', 'winners', 'the', 'paganini', 'competition', 'who', 'are', 'allowed', 'perform', 'only', 'from', 'classical', 'repertory', 'that', 'has', 'been', 'approved', 'advance', 'but', 'concert', 'the', 'jazz', 'violinist', 'regina', 'carter', 'marked', 'the', 'first', 'time', 'the', 'history', 'the', 'violin', 'that', 'nonclassical', 'musician', 'played', 'basoli', 'opera', 'tradition', 'undated', 'critic', 'notebook', 'all', 'the', 'performing', 'arts', 'classical', 'music', 'has', 'been', 'the', 'most', 'hopelessly', 'bound', 'past', 'repertory', 'essential', 'for', 'those', 'who', 'want', 'this', 'art', 'form', 'have', 'future', 'well', 'history', 'encourage', 'new', 'work', 'yet', 'that', 'not', 'meant', 'criticism', 'the', 'standard', 'repertory', 'standard', 'works', 'have', 'survived', 'for', 'reason', 'recapture', 'the', 'impact', 'staples', 'like', 'tchaikovsky', 'pathetique', 'symphony', 'bizet', 'carmen', 'performers', 'must', 'reconnect', 'the', 'daring', 'and', 'timeless', 'elements', 'these', 'works', 'anthony', 'tommasini', 'book', 'review', 'undated', 'mortality', 'and', 'loss', 'are', 'the', 'center', 'bruce', 'wagner', 'virtuosic', 'new', 'novel', 'let', 'you', 'reviewed', 'michiko', 'kakutani', 'wine', 'talk', 'undated', 'wine', 'talk', 'column', 'was', 'thinking', 'making', 'list', 'wines', 'really', 'liked', 'last', 'year', 'when', 'occurred', 'that', 'out', 'context', 'list', 'would', 'read', 'like', 'railroad', 'timetable', 'missing', 'was', 'what', 'movie', 'people', 'call', 'the', 'back', 'story', 'sure', 'wine', 'can', 'analyzed', 'and', 'critically', 'judged', 'but', 'truly', 'enjoyed', 'must', 'part', 'life', 'frank', 'prial', 'will', 'move', 'category', 'for', 'additional', 'information', 'please', 'contact', 'josephine', 'schmidt', 'international', 'editor', 'mail', 'jossch', 'nytimes', 'com', 'moving', 'later', 'nyt', 'budget', 'the', 'top', 'international', 'political', 'and', 'financial', 'stories', 'being', 'considered', 'new', 'york', 'times', 'editors', 'add', 'nyt', 'budget', 'rundown', 'culture', 'lifestyle', 'sports', 'and', 'special', 'section', 'stories', 'will', 'move', 'page1', 'nyt', 'consider', 'list', 'stories', 'being', 'considered', 'new', 'york', 'times', 'editors', 'for', 'page', 'will', 'move', 'early', 'frontpage', 'nyt', 'stories', 'scheduled', 'for', 'page', 'will', 'listed', 'frontpage', 'nyt', 'description', 'the', 'front', 'page', 'layout', 'the', 'first', 'edition', 'the', 'new', 'york', 'times', 'will', 'move', 'technical', 'problems', 'berris', 'anderson', 'berris', 'nytimes', 'com', 'mail', 'pager', 'page', 'berris', 'nytimes', 'com', 'numeric', 'page', 'pin', 'new', 'york', 'times', 'partners', 'please', 'note', 'that', 'the', 'new', 'york', 'times', 'news', 'service', 'report', 'includes', 'news', 'and', 'features', 'from', 'the', 'arizona', 'republic', 'the', 'boston', 'globe', 'bridgenews', 'cox', 'news', 'service', 'the', 'fort', 'worth', 'star', 'telegram', 'hearst', 'newspapers', 'the', 'houston', 'chronicle', 'the', 'kansas', 'city', 'star', 'the', 'los', 'angeles', 'daily', 'news', 'the', 'san', 'francisco', 'chronicle', 'the', 'seattle', 'post', 'intelligencer', 'states', 'news', 'service', 'and', 'the', 'new', 'york', 'times', 'regional', 'newspapers', 'editors', 'all', 'clients', 'receive', 'all', 'budgets', 'but', 'only', 'full', 'service', 'clients', 'receive', 'all', 'stories', 'please', 'check', 'your', 'level', 'service', 'determine', 'which', 'stories', 'you', 'will', 'receive', 'for', 'wednesday', 'ams', 'here', 'are', 'today', 'top', 'news', 'stories', 'from', 'the', 'new', 'york', 'times', 'news', 'service', 'for', 'ams', 'wednesday', 'jan', 'international', 'will', 'move', 'news', 'file', 'india', 'pakistan', 'new', 'delhi', 'india', 'for', 'the', 'first', 'time', 'indian', 'officials', 'are', 'beginning', 'admit', 'the', 'possibility', 'that', 'the', 'leader', 'pakistan', 'gen', 'pervez', 'musharraf', 'may', 'ready', 'alter', 'pakistan', 'longstanding', 'strategy', 'fomenting', 'anti', 'india', 'violence', 'kashmir', 'though', 'the', 'indians', 'deeply', 'mistrust', 'him', 'the', 'architect', 'pakistan', 'army', 'incursion', 'into', 'the', 'indian', 'state', 'jammu', 'and', 'kashmir', 'they', 'say', 'that', 'perhaps', 'changing', 'even', 'only', 'under', 'severe', 'diplomatic', 'pressure', 'from', 'the', 'united', 'states', 'and', 'extreme', 'military', 'threat', 'from', 'india', 'celia', 'dugger', 'early', 'version', 'this', 'story', 'will', 'move', 'edt', 'peru', 'fire', 'lima', 'peru', 'developments', 'the', 'aftermath', 'the', 'fire', 'that', 'killed', 'nearly', 'people', 'david', 'gonzalez', 'argentina', 'president', 'buenos', 'aires', 'argentina', 'lawmakers', 'will', 'attempt', 'select', 'president', 'tuesday', 'larry', 'rohter', 'mideast', 'jerusalem', 'the', 'special', 'envoy', 'the', 'mideast', 'will', 'return', 'the', 'region', 'thursday', 'for', 'meetings', 'with', 'palestinian', 'and', 'israeli', 'officials', 'douglas', 'frantz', 'early', 'version', 'this', 'story', 'will', 'move', 'edt', 'afghan', 'karzai', 'kabul', 'afghanistan', 'the', 'chairman', 'afghanistan', 'interim', 'government', 'hamid', 'karzai', 'said', 'tuesday', 'that', 'wanted', 'the', 'bombing', 'afghanistan', 'continue', 'until', 'all', 'terrorist', 'activity', 'rooted', 'out', 'but', 'also', 'expressed', 'concern', 'about', 'mounting', 'civilian', 'casualties', 'karzai', 'made', 'his', 'comments', 'interview', 'the', 'gulkhanna', 'palace', 'extraordinary', 'moment', 'his', 'country', 'history', 'just', 'over', 'week', 'ago', 'took', 'office', 'afghanistan', 'first', 'peaceful', 'transition', 'barring', 'handoffs', 'from', 'father', 'son', 'inheriting', 'country', 'broken', 'more', 'than', 'two', 'decades', 'war', 'amy', 'waldman', 'early', 'version', 'this', 'story', 'will', 'move', 'edt', 'attack', 'afghan', 'dateline', 'come', 'developments', 'the', 'military', 'attacks', 'afghanistan', 'staff', 'byline', 'come', 'euro', 'frankfurt', 'germany', 'developments', 'the', 'single', 'european', 'currency', 'comes', 'life', 'edmund', 'andrews', 'zambia', 'politics', 'lusaka', 'zambia', 'court', 'has', 'put', 'off', 'announcing', 'election', 'results', 'here', 'because', 'possible', 'fraud', 'rachel', 'swarns', 'world', 'briefs', 'undated', 'world', 'news', 'brief', 'national', 'will', 'move', 'news', 'file', 'terror', 'aclu', 'undated', 'the', 'last', 'month', 'the', 'american', 'civil', 'liberties', 'union', 'has', 'written', 'the', 'countries', 'who', 'have', 'detainees', 'offering', 'legal', 'help', 'highlighting', 'instances', 'abuse', 'our', 'government', 'and', 'developing', 'systematic', 'litigation', 'challenge', 'its', 'unconstitutional', 'practices', 'pakistan', 'consul', 'says', 'welcomes', 'the', 'help', 'but', 'others', 'seemed', 'interviews', 'unsure', 'what', 'make', 'the', 'offer', 'with', 'egypt', 'consul', 'asking', 'whether', 'the', 'aclu', 'was', 'banned', 'organization', 'the', 'story', 'the', 'letter', 'shows', 'the', 'frustrations', 'lawyers', 'trying', 'challenge', 'the', 'terrorism', 'crackdown', 'william', 'glaberson', 'airlines', 'disabled', 'miami', 'for', 'airlines', 'and', 'travelers', 'has', 'been', 'challenge', 'balance', 'the', 'demands', 'increased', 'security', 'and', 'the', 'extra', 'needs', 'the', 'disabled', 'growing', 'segment', 'airline', 'passengers', 'dana', 'canedy', 'microsoft', 'outlook', 'redmond', 'wash', 'not', 'long', 'ago', 'gloom', 'hung', 'over', 'the', 'home', 'microsoft', 'tech', 'companies', 'tanked', 'the', 'economy', 'soured', 'and', 'the', 'government', 'was', 'about', 'dismember', 'the', 'company', 'now', 'things', 'are', 'looking', 'for', 'microsoft', 'sam', 'howe', 'verhovek', 'offroad', 'rowdies', 'glamis', 'calif', 'after', 'rowdy', 'parties', 'over', 'the', 'thanksgiving', 'weekend', 'off', 'roaders', 'the', 'imperial', 'sand', 'dunes', 'recreational', 'area', 'led', 'stabbing', 'fatal', 'shooting', 'attack', 'ranger', 'and', 'dozens', 'crashes', 'that', 'left', 'two', 'dead', 'and', 'more', 'than', 'injured', 'officials', 'tripled', 'the', 'police', 'presence', 'and', 'prepared', 'for', 'the', 'worst', 'over', 'the', 'past', 'four', 'days', 'nick', 'madigan', 'new', 'year', 'new', 'york', 'the', 'final', 'tally', 'from', 'times', 'square', 'where', 'the', 'scene', 'was', 'relatively', 'quiet', 'monday', 'night', 'david', 'herszenhorn', 'latino', 'muslims', 'new', 'york', 'latino', 'muslims', 'are', 'little', 'known', 'but', 'growing', 'population', 'and', 'one', 'the', 'more', 'surprising', 'examples', 'the', 'kaleidoscopic', 'nature', 'islam', 'america', 'also', 'subset', 'american', 'islam', 'that', 'endures', 'particular', 'set', 'pressures', 'and', 'presents', 'unusually', 'diverse', 'set', 'paths', 'the', 'faith', 'daniel', 'wakin', 'business', 'will', 'move', 'news', 'file', 'the', 'new', 'york', 'times', 'annual', 'markets', 'and', 'investing', 'outlook', 'section', 'for', 'will', 'published', 'wednesday', 'articles', 'will', 'include', 'outlook', 'market', 'undated', 'the', 'theme', 'for', 'the', 'new', 'year', 'risk', 'avoidance', 'does', 'that', 'mean', 'the', 'end', 'decent', 'returns', 'alex', 'berenson', 'with', 'graphic', 'outlook', 'investors', 'undated', 'prominent', 'investors', 'chat', 'about', 'their', 'portfolios', 'and', 'where', 'they', 'believe', 'the', 'markets', 'are', 'heading', 'floyd', 'norris', 'with', 'graphic', 'outlook', 'pittsburgh', 'average', 'investors', 'main', 'street', 'view', 'the', 'pummeling', 'that', 'their', 'and', 'other', 'investments', 'have', 'taken', 'they', 'have', 'the', 'appetite', 'for', 'more', 'robert', 'hershey', 'outlook', 'bankruptcies', 'undated', 'big', 'bankruptcies', 'set', 'record', 'did', 'junk', 'defaults', 'alex', 'berenson', 'assesses', 'the', 'future', 'corporate', 'finance', 'outlook', 'currency', 'undated', 'the', 'dollar', 'has', 'retained', 'its', 'strength', 'despite', 'the', 'economy', 'look', 'what', 'this', 'means', 'for', 'exports', 'and', 'for', 'investing', 'abroad', 'jonathan', 'fuerbringer', 'outlook', 'bonds', 'undated', 'bonds', 'had', 'fabulous', 'can', 'they', 'keep', 'jonathan', 'fuerbringer', 'with', 'graphic', 'outlook', 'oil', 'undated', 'these', 'prices', 'does', 'make', 'sense', 'make', 'big', 'effort', 'look', 'for', 'more', 'oil', 'and', 'gas', 'neela', 'banerjee', 'with', 'graphic', 'outlook', 'commodities', 'undated', 'coffee', 'base', 'metals', 'and', 'other', 'commodities', 'are', 'record', 'lows', 'does', 'that', 'signal', 'global', 'economic', 'recovery', 'far', 'off', 'kenneth', 'gilpin', 'outlook', 'biz', 'jargon', 'undated', 'these', 'hurry', 'times', 'some', 'people', 'can', 'wait', 'for', 'jargon', 'enter', 'the', 'vernacular', 'they', 'make', 'themselves', 'and', 'sell', 'others', 'hubert', 'herring', 'columns', 'will', 'move', 'news', 'file', 'friedman', 'column', 'subject', 'thomas', 'friedman', 'kristof', 'column', 'subject', 'nicholas', 'kristof', 'moving', 'later', 'add', 'nyt', 'budget', 'rundown', 'culture', 'lifestyle', 'sports', 'and', 'special', 'section', 'stories', 'will', 'move', 'page1', 'nyt', 'consider', 'list', 'stories', 'being', 'considered', 'new', 'york', 'times', 'editors', 'for', 'page', 'will', 'move', 'early', 'frontpage', 'nyt', 'stories', 'scheduled', 'for', 'page', 'will', 'listed', 'frontpage', 'nyt', 'description', 'the', 'front', 'page', 'layout', 'the', 'first', 'edition', 'the', 'new', 'york', 'times', 'will', 'move', 'questions', 'reruns', 'the', 'day', 'supervisor', 'lynn', 'hoogenboom', 'mail', 'lyhoog', 'nytimes', 'com', 'the', 'night', 'supervisor', 'pat', 'ryan', 'mail', 'patryan', 'nytimes', 'com', 'the', 'late', 'supervisor', 'ray', 'krueger', 'mail', 'rkrueger', 'nytimes', 'com', 'photos', 'and', 'graphics', 'the', 'photo', 'graphics', 'editor', 'sergio', 'florez', 'phone', 'mail', 'florez', 'nytimes', 'com', 'technical', 'problems', 'berris', 'anderson', 'berris', 'nytimes', 'com', 'mail', 'pager', 'page', 'berris', 'nytimes', 'com', 'numeric', 'page', 'pin', 'new', 'york', 'times', 'partners', 'please', 'note', 'that', 'your', 'new', 'york', 'times', 'news', 'service', 'report', 'includes', 'news', 'and', 'features', 'from', 'the', 'arizona', 'republic', 'the', 'boston', 'globe', 'cox', 'news', 'service', 'the', 'fort', 'worth', 'star', 'telegram', 'hearst', 'newspapers', 'the', 'houston', 'chronicle', 'the', 'kansas', 'city', 'star', 'the', 'los', 'angeles', 'daily', 'news', 'the', 'san', 'francisco', 'chronicle', 'the', 'seattle', 'post', 'intelligencer', 'states', 'news', 'service', 'and', 'the', 'new', 'york', 'times', 'regional', 'newspapers', 'editors', 'all', 'clients', 'receive', 'all', 'budgets', 'but', 'only', 'full', 'service', 'clients', 'receive', 'all', 'stories', 'please', 'check', 'your', 'level', 'service', 'determine', 'which', 'stories', 'you', 'will', 'receive', 'entertainment', 'and', 'culture', 'stories', 'from', 'the', 'new', 'york', 'times', 'news', 'service', 'for', 'wednesday', 'jan', 'puerto', 'rican', 'poets', 'new', 'york', 'preoccupation', 'with', 'the', 'puerto', 'rican', 'condition', 'still', 'anchors', 'nuyorican', 'poetry', 'did', 'when', 'came', 'into', 'being', 'the', '1960s', 'and', '70s', 'still', 'going', 'strong', 'amid', 'the', 'surge', 'popularity', 'poetry', 'nationwide', 'the', 'nuyorican', 'poets', 'cafe', 'which', 'still', 'home', 'for', 'many', 'nuyorican', 'poets', 'mireya', 'navarro', 'italy', 'jazz', 'violin', 'genoa', 'italy', 'typically', 'the', 'honor', 'playing', 'the', 'cannon', 'the', 'legendary', 'instrument', 'the', '19th', 'century', 'composer', 'and', 'virtuoso', 'violinist', 'niccolo', 'paganini', 'falls', 'select', 'world', 'class', 'guest', 'soloists', 'and', 'winners', 'the', 'paganini', 'competition', 'who', 'are', 'allowed', 'perform', 'only', 'from', 'classical', 'repertory', 'that', 'has', 'been', 'approved', 'advance', 'but', 'concert', 'the', 'jazz', 'violinst', 'regina', 'carter', 'marked', 'the', 'first', 'time', 'the', 'history', 'the', 'violin', 'that', 'nonclassical', 'musician', 'played', 'basoli', 'opera', 'tradition', 'undated', 'critic', 'notebook', 'all', 'the', 'performing', 'arts', 'classical', 'music', 'has', 'been', 'the', 'most', 'hopelessly', 'bound', 'past', 'repertory', 'essential', 'for', 'those', 'who', 'want', 'this', 'art', 'form', 'have', 'future', 'well', 'history', 'encourage', 'new', 'work', 'and', 'cajole', 'ensembles', 'orchestras', 'and', 'opera', 'companies', 'into', 'supporting', 'living', 'composers', 'yet', 'such', 'calls', 'are', 'not', 'meant', 'criticism', 'the', 'standard', 'repertory', 'these', 'works', 'have', 'survived', 'for', 'reason', 'recapture', 'the', 'impact', 'staples', 'like', 'tchaikovsky', 'pathetique', 'symphony', 'bizet', 'carmen', 'performers', 'must', 'reconnect', 'the', 'daring', 'and', 'timeless', 'elements', 'these', 'works', 'anthony', 'tommasini', 'eisenstein', 'film', 'review', 'undated', 'eisenstein', 'directed', 'renny', 'bartlett', 'reviewed', 'stephen', 'holden', 'mill', 'review', 'undated', 'mill', 'times', 'new', 'live', 'action', 'and', 'animated', 'documentary', 'about', 'american', 'textile', 'mills', 'pbs', 'reviewed', 'ron', 'wertheimer', 'book', 'review', 'undated', 'mortality', 'and', 'loss', 'are', 'the', 'center', 'bruce', 'wagner', 'virtuosic', 'new', 'novel', 'let', 'you', 'reviewed', 'michiko', 'kakutani', 'for', 'information', 'and', 'repeats', 'call', 'the', 'news', 'service', 'and', 'sure', 'look', 'for', 'other', 'entertainment', 'stories', 'from', 'our', 'partners', 'the', 'boston', 'globe', 'cox', 'news', 'service', 'hearst', 'newspapers', 'the', 'houston', 'chronicle', 'the', 'arizona', 'republic', 'kansas', 'city', 'star', 'fort', 'worth', 'star', 'telegram', 'los', 'angeles', 'daily', 'news', 'san', 'francisco', 'chronicle', 'and', 'seattle', 'post', 'intelligencer', 'editors', 'all', 'clients', 'receive', 'all', 'budgets', 'but', 'only', 'full', 'service', 'clients', 'receive', 'all', 'stories', 'please', 'check', 'your', 'level', 'service', 'determine', 'which', 'stories', 'you', 'will', 'receive', 'attn', 'sports', 'editors', 'sports', 'stories', 'from', 'the', 'new', 'york', 'times', 'news', 'service', 'for', 'wednesday', 'jan', 'commentary', 'fbn', 'anderson', 'column', 'undated', 'sports', 'the', 'times', 'the', 'jets', 'dave', 'anderson', 'day', 'events', 'fbc', 'fiesta', 'bowl', 'tempe', 'ariz', 'the', 'fiesta', 'bowl', 'colorado', 'oregon', 'joe', 'drape', 'fbc', 'notre', 'dame', 'coach', 'south', 'bend', 'ind', 'notre', 'dame', 'holds', 'noon', 'press', 'conference', 'introduce', 'its', 'new', 'head', 'coach', 'tyrone', 'willingham', 'stanford', 'ira', 'berkow', 'features', 'fbc', 'willingham', 'undated', 'tyrone', 'willingham', 'becomes', 'the', 'head', 'coach', 'what', 'has', 'been', 'the', 'most', 'revered', 'and', 'scrutinized', 'college', 'football', 'program', 'the', 'country', 'who', 'exactly', 'edward', 'wong', 'fbc', 'rose', 'bowl', 'pasadena', 'calif', 'rose', 'bowl', 'advance', 'looking', 'nebraska', 'defense', 'which', 'was', 'humiliated', 'trouncing', 'colorado', 'joe', 'lapointe', 'fbn', 'favre', 'undated', 'pro', 'football', 'brett', 'favre', 'who', 'winging', 'again', 'for', 'the', 'green', 'bay', 'packers', 'and', 'has', 'his', 'team', 'back', 'the', 'postseason', 'mike', 'freeman', 'for', 'information', 'and', 'repeats', 'call', 'the', 'news', 'service', 'and', 'sure', 'look', 'for', 'other', 'sports', 'stories', 'from', 'our', 'partners', 'the', 'boston', 'globe', 'cox', 'news', 'service', 'hearst', 'news', 'service', 'the', 'arizona', 'republic', 'kansas', 'city', 'star', 'fort', 'worth', 'star', 'telegram', 'los', 'angeles', 'daily', 'news', 'san', 'francisco', 'chronicle', 'and', 'seattle', 'post', 'intelligencer', 'editors', 'all', 'clients', 'receive', 'all', 'budgets', 'but', 'only', 'full', 'service', 'clients', 'receive', 'all', 'stories', 'please', 'check', 'your', 'level', 'service', 'determine', 'which', 'stories', 'you', 'will', 'receive', 'food', 'and', 'dining', 'stories', 'from', 'the', 'new', 'york', 'times', 'news', 'service', 'for', 'wednesday', 'jan', 'features', 'dietary', 'supplements', 'undated', 'the', 'dietary', 'supplement', 'industry', 'has', 'always', 'been', 'the', 'wild', 'west', 'health', 'unregulated', 'and', 'risky', 'there', 'has', 'been', 'way', 'know', 'whether', 'bottle', 'contained', 'what', 'the', 'label', 'said', 'did', 'and', 'way', 'know', 'whether', 'the', 'supplement', 'was', 'effective', 'now', 'the', 'absence', 'government', 'oversight', 'several', 'private', 'companies', 'are', 'getting', 'into', 'the', 'business', 'analysis', 'and', 'certification', 'while', 'some', 'critics', 'the', 'supplement', 'industry', 'are', 'pleased', 'see', 'any', 'effort', 'all', 'others', 'shake', 'their', 'heads', 'dismay', 'marian', 'burros', 'australia', 'wine', 'country', 'margaret', 'river', 'australia', 'through', 'quirk', 'fate', 'act', 'providence', 'some', 'the', 'world', 'great', 'wines', 'are', 'made', 'some', 'its', 'great', 'beauty', 'spots', 'the', 'napa', 'valley', 'comes', 'immediately', 'mind', 'course', 'but', 'the', 'mendoza', 'vineyards', 'beneath', 'the', 'snowy', 'andes', 'argentina', 'the', 'vertiginous', 'moselle', 'valley', 'germany', 'and', 'the', 'vine', 'bordered', 'half', 'timbered', 'villages', 'alsace', 'now', 'add', 'the', 'margaret', 'river', 'the', 'hit', 'parade', 'apple', 'crepes', 'new', 'york', 'nothing', 'more', 'than', 'very', 'thin', 'cakes', 'filled', 'with', 'sweetness', 'crepes', 'are', 'the', 'antithesis', 'the', 'overwrought', 'dessert', 'they', 'lie', 'low', 'and', 'deliver', 'clear', 'simple', 'satisfaction', 'wonder', 'many', 'chefs', 'who', 'fancy', 'themselves', 'the', 'gaudis', 'sugar', 'have', 'forgotten', 'them', 'regina', 'schrambling', 'columns', 'master', 'chef', 'new', 'york', 'the', 'column', 'strudel', 'something', 'take', 'for', 'granted', 'austria', 'where', 'grew', 'used', 'for', 'everything', 'desserts', 'and', 'savory', 'dishes', 'kurt', 'gutenbrunner', 'simple', 'cooking', 'undated', 'the', 'column', 'walnuts', 'are', 'grown', 'temperate', 'areas', 'throughout', 'the', 'world', 'but', 'nowhere', 'their', 'aromatic', 'bitterness', 'used', 'well', 'the', 'mediterranean', 'and', 'its', 'hinterlands', 'there', 'they', 'star', 'creamy', 'chunky', 'sauces', 'that', 'not', 'appear', 'elsewhere', 'but', 'have', 'universal', 'appeal', 'mark', 'bittman', 'winetalk', 'undated', 'the', 'weekly', 'wine', 'column', 'was', 'thinking', 'making', 'list', 'wines', 'really', 'liked', 'last', 'year', 'when', 'occurred', 'that', 'out', 'context', 'list', 'would', 'read', 'like', 'railroad', 'timetable', 'missing', 'was', 'what', 'movie', 'people', 'call', 'the', 'back', 'story', 'sure', 'wine', 'can', 'analyzed', 'and', 'critically', 'judged', 'but', 'truly', 'enjoyed', 'must', 'part', 'life', 'frank', 'prial', 'tastings', 'undated', 'the', 'column', 'guinness', 'stout', 'has', 'reputation', 'one', 'the', 'world', 'great', 'brews', 'which', 'must', 'puzzling', 'people', 'who', 'have', 'tasted', 'only', 'the', 'bottled', 'extra', 'stout', 'the', 'canned', 'draught', 'available', 'almost', 'any', 'corner', 'deli', 'sadly', 'these', 'products', 'only', 'faintly', 'resemble', 'the', 'creamy', 'complex', 'guinness', 'properly', 'poured', 'from', 'well', 'tapped', 'keg', 'eric', 'asimov', 'expect', 'move', 'all', 'dining', 'section', 'stories', 'early', 'evening', 'with', 'category', 'code', 'unless', 'otherwise', 'indicated', 'for', 'information', 'and', 'repeats', 'call', 'the', 'news', 'service', 'and', 'sure', 'look', 'for', 'other', 'stories', 'from', 'our', 'partners', 'the', 'boston', 'globe', 'cox', 'news', 'service', 'hearst', 'newspapers', 'the', 'arizona', 'republic', 'kansas', 'city', 'star', 'fort', 'worth', 'star', 'telegram', 'los', 'angeles', 'daily', 'news', 'san', 'francisco', 'chronicle', 'and', 'seattle', 'post', 'intelligencer', 'editors', 'all', 'clients', 'receive', 'all', 'budgets', 'but', 'only', 'full', 'service', 'clients', 'receive', 'all', 'stories', 'please', 'check', 'your', 'level', 'service', 'determine', 'which', 'stories', 'you', 'will', 'receive', 'add', 'new', 'york', 'times', 'news', 'service', 'budget', 'for', 'papers', 'wednesday', 'jan', 'entertainment', 'category', 'code', 'puerto', 'rican', 'poets', 'new', 'york', 'preoccupation', 'with', 'the', 'puerto', 'rican', 'condition', 'still', 'anchors', 'nuyorican', 'poetry', 'did', 'when', 'came', 'into', 'being', 'the', '1960s', 'and', '70s', 'still', 'going', 'strong', 'amid', 'the', 'surge', 'popularity', 'poetry', 'nationwide', 'the', 'nuyorican', 'poets', 'cafe', 'which', 'still', 'home', 'for', 'many', 'nuyorican', 'poets', 'mireya', 'navarro', 'italy', 'jazz', 'violin', 'genoa', 'italy', 'typically', 'the', 'honor', 'playing', 'the', 'cannon', 'the', 'legendary', 'instrument', 'the', '19th', 'century', 'composer', 'and', 'virtuoso', 'violinist', 'niccolo', 'paganini', 'falls', 'select', 'world', 'class', 'guest', 'soloists', 'and', 'winners', 'the', 'paganini', 'competition', 'who', 'are', 'allowed', 'perform', 'only', 'from', 'classical', 'repertory', 'that', 'has', 'been', 'approved', 'advance', 'but', 'concert', 'the', 'jazz', 'violinist', 'regina', 'carter', 'marked', 'the', 'first', 'time', 'the', 'history', 'the', 'violin', 'that', 'nonclassical', 'musician', 'played', 'basoli', 'opera', 'tradition', 'undated', 'critic', 'notebook', 'all', 'the', 'performing', 'arts', 'classical', 'music', 'has', 'been', 'the', 'most', 'hopelessly', 'bound', 'past', 'repertory', 'essential', 'for', 'those', 'who', 'want', 'this', 'art', 'form', 'have', 'future', 'well', 'history', 'encourage', 'new', 'work', 'and', 'cajole', 'ensembles', 'orchestras', 'and', 'opera', 'companies', 'into', 'supporting', 'living', 'composers', 'yet', 'such', 'calls', 'are', 'not', 'meant', 'criticism', 'the', 'standard', 'repertory', 'these', 'works', 'have', 'survived', 'for', 'reason', 'recapture', 'the', 'impact', 'staples', 'like', 'tchaikovsky', 'pathetique', 'symphony', 'bizet', 'carmen', 'performers', 'must', 'reconnect', 'the', 'daring', 'and', 'timeless', 'elements', 'these', 'works', 'anthony', 'tommasini', 'eisenstein', 'film', 'review', 'undated', 'eisenstein', 'directed', 'renny', 'bartlett', 'reviewed', 'stephen', 'holden', 'mill', 'review', 'undated', 'mill', 'times', 'new', 'live', 'action', 'and', 'animated', 'documentary', 'about', 'american', 'textile', 'mills', 'pbs', 'reviewed', 'ron', 'wertheimer', 'book', 'review', 'undated', 'mortality', 'and', 'loss', 'are', 'the', 'center', 'bruce', 'wagner', 'virtuosic', 'new', 'novel', 'let', 'you', 'reviewed', 'michiko', 'kakutani', 'sports', 'category', 'code', 'fbn', 'anderson', 'column', 'undated', 'sports', 'the', 'times', 'the', 'jets', 'dave', 'anderson', 'fbc', 'fiesta', 'bowl', 'tempe', 'ariz', 'the', 'fiesta', 'bowl', 'colorado', 'oregon', 'joe', 'drape', 'fbc', 'notre', 'dame', 'coach', 'south', 'bend', 'ind', 'notre', 'dame', 'holds', 'noon', 'press', 'conference', 'introduce', 'its', 'new', 'head', 'coach', 'tyrone', 'willingham', 'stanford', 'ira', 'berkow', 'fbc', 'willingham', 'undated', 'tyrone', 'willingham', 'becomes', 'the', 'head', 'coach', 'what', 'has', 'been', 'the', 'most', 'revered', 'and', 'scrutinized', 'college', 'football', 'program', 'the', 'country', 'who', 'exactly', 'edward', 'wong', 'fbc', 'rose', 'bowl', 'pasadena', 'calif', 'rose', 'bowl', 'advance', 'looking', 'nebraska', 'defense', 'which', 'was', 'humiliated', 'trouncing', 'colorado', 'joe', 'lapointe', 'fbn', 'favre', 'undated', 'pro', 'football', 'brett', 'favre', 'who', 'winging', 'again', 'for', 'the', 'green', 'bay', 'packers', 'and', 'has', 'his', 'team', 'back', 'the', 'postseason', 'mike', 'freeman', 'dining', 'category', 'code', 'dietary', 'supplements', 'undated', 'the', 'dietary', 'supplement', 'industry', 'has', 'always', 'been', 'the', 'wild', 'west', 'health', 'unregulated', 'and', 'risky', 'there', 'has', 'been', 'way', 'know', 'whether', 'bottle', 'contained', 'what', 'the', 'label', 'said', 'did', 'and', 'way', 'know', 'whether', 'the', 'supplement', 'was', 'effective', 'now', 'the', 'absence', 'government', 'oversight', 'several', 'private', 'companies', 'are', 'getting', 'into', 'the', 'business', 'analysis', 'and', 'certification', 'while', 'some', 'critics', 'the', 'supplement', 'industry', 'are', 'pleased', 'see', 'any', 'effort', 'all', 'others', 'shake', 'their', 'heads', 'dismay', 'marian', 'burros', 'australia', 'wine', 'country', 'margaret', 'river', 'australia', 'through', 'quirk', 'fate', 'act', 'providence', 'some', 'the', 'world', 'great', 'wines', 'are', 'made', 'some', 'its', 'great', 'beauty', 'spots', 'the', 'napa', 'valley', 'comes', 'immediately', 'mind', 'course', 'but', 'the', 'mendoza', 'vineyards', 'beneath', 'the', 'snowy', 'andes', 'argentina', 'the', 'vertiginous', 'moselle', 'valley', 'germany', 'and', 'the', 'vine', 'bordered', 'half', 'timbered', 'villages', 'alsace', 'now', 'add', 'the', 'margaret', 'river', 'the', 'hit', 'parade', 'apple', 'crepes', 'new', 'york', 'nothing', 'more', 'than', 'very', 'thin', 'cakes', 'filled', 'with', 'sweetness', 'crepes', 'are', 'the', 'antithesis', 'the', 'overwrought', 'dessert', 'they', 'lie', 'low', 'and', 'deliver', 'clear', 'simple', 'satisfaction', 'wonder', 'many', 'chefs', 'who', 'fancy', 'themselves', 'the', 'gaudis', 'sugar', 'have', 'forgotten', 'them', 'regina', 'schrambling', 'master', 'chef', 'new', 'york', 'the', 'column', 'strudel', 'something', 'take', 'for', 'granted', 'austria', 'where', 'grew', 'used', 'for', 'everything', 'desserts', 'and', 'savory', 'dishes', 'kurt', 'gutenbrunner', 'simple', 'cooking', 'undated', 'the', 'column', 'walnuts', 'are', 'grown', 'temperate', 'areas', 'throughout', 'the', 'world', 'but', 'nowhere', 'their', 'aromatic', 'bitterness', 'used', 'well', 'the', 'mediterranean', 'and', 'its', 'hinterlands', 'there', 'they', 'star', 'creamy', 'chunky', 'sauces', 'that', 'not', 'appear', 'elsewhere', 'but', 'have', 'universal', 'appeal', 'mark', 'bittman', 'winetalk', 'undated', 'the', 'weekly', 'wine', 'column', 'was', 'thinking', 'making', 'list', 'wines', 'really', 'liked', 'last', 'year', 'when', 'occurred', 'that', 'out', 'context', 'list', 'would', 'read', 'like', 'railroad', 'timetable', 'missing', 'was', 'what', 'movie', 'people', 'call', 'the', 'back', 'story', 'sure', 'wine', 'can', 'analyzed', 'and', 'critically', 'judged', 'but', 'truly', 'enjoyed', 'must', 'part', 'life', 'frank', 'prial', 'tastings', 'undated', 'the', 'column', 'guinness', 'stout', 'has', 'reputation', 'one', 'the', 'world', 'great', 'brews', 'which', 'must', 'puzzling', 'people', 'who', 'have', 'tasted', 'only', 'the', 'bottled', 'extra', 'stout', 'the', 'canned', 'draught', 'available', 'almost', 'any', 'corner', 'deli', 'sadly', 'these', 'products', 'only', 'faintly', 'resemble', 'the', 'creamy', 'complex', 'guinness', 'properly', 'poured', 'from', 'well', 'tapped', 'keg', 'eric', 'asimov', 'questions', 'reruns', 'the', 'day', 'supervisor', 'lynn', 'hoogenboom', 'mail', 'lyhoog', 'nytimes', 'com', 'the', 'evening', 'supervisor', 'pat', 'ryan', 'mail', 'patryan', 'nytimes', 'com', 'the', 'late', 'supervisor', 'ray', 'krueger', 'mail', 'rkrueger', 'nytimes', 'com', 'photos', 'and', 'graphics', 'the', 'photo', 'graphics', 'editor', 'sergio', 'florez', 'phone', 'mail', 'florez', 'nytimes', 'com', 'technical', 'problems', 'berris', 'anderson', 'berris', 'nytimes', 'com', 'mail', 'pager', 'page', 'berris', 'nytimes', 'com', 'numeric', 'page', 'pin', 'new', 'york', 'times', 'partners', 'please', 'note', 'that', 'your', 'new', 'york', 'times', 'news', 'service', 'report', 'includes', 'news', 'and', 'features', 'from', 'the', 'arizona', 'republic', 'the', 'boston', 'globe', 'cox', 'news', 'service', 'the', 'fort', 'worth', 'star', 'telegram', 'hearst', 'newspapers', 'the', 'houston', 'chronicle', 'the', 'kansas', 'city', 'star', 'the', 'los', 'angeles', 'daily', 'news', 'the', 'san', 'francisco', 'chronicle', 'the', 'seattle', 'post', 'intelligencer', 'states', 'news', 'service', 'and', 'the', 'new', 'york', 'times', 'regional', 'newspapers', 'editors', 'all', 'clients', 'receive', 'all', 'budgets', 'but', 'only', 'full', 'service', 'clients', 'receive', 'all', 'stories', 'please', 'check', 'your', 'level', 'service', 'determine', 'which', 'stories', 'you', 'will', 'receive'], tags=[3]), TaggedDocument(words=['whatever', 'happened', 'the', 'energy', 'crisis', 'remember', 'those', 'predictions', 'last', 'spring', 'the', 'bush', 'administration', 'that', 'unless', 'the', 'united', 'states', 'expanded', 'oil', 'and', 'gas', 'drilling', 'federally', 'protected', 'lands', 'and', 'encouraged', 'companies', 'build', 'power', 'plant', 'day', 'economic', 'might', 'would', 'atrophy', 'the', 'market', 'turned', 'out', 'took', 'care', 'matters', 'when', 'demand', 'was', 'high', 'and', 'energy', 'prices', 'rising', 'during', 'the', 'first', 'half', 'the', 'year', 'companies', 'responded', 'was', 'the', 'first', 'year', 'decade', 'that', 'domestic', 'oil', 'production', 'increased', 'however', 'slightly', 'the', 'energy', 'department', 'said', 'but', 'the', 'economic', 'slowdown', 'that', 'deepened', 'after', 'the', 'sept', 'attacks', 'particularly', 'the', 'slumps', 'travel', 'and', 'trade', 'have', 'created', 'global', 'oil', 'glut', 'that', 'the', 'organization', 'the', 'petroleum', 'exporting', 'countries', 'struggling', 'control', 'prevent', 'prices', 'from', 'tumbling', 'any', 'lower', 'most', 'people', 'see', 'low', 'energy', 'prices', 'boon', 'but', 'they', 'contain', 'subtle', 'dangers', 'the', 'price', 'oil', 'falls', 'too', 'low', 'the', 'economies', 'allies', 'from', 'mexico', 'saudi', 'arabia', 'could', 'threatened', 'and', 'the', 'health', 'the', 'domestic', 'industry', 'and', 'states', 'like', 'alaska', 'and', 'texas', 'eroded', 'the', 'united', 'states', 'isn', 'just', 'the', 'largest', 'consumer', 'oil', 'but', 'one', 'its', 'largest', 'producers', 'there', 'with', 'russia', 'and', 'saudi', 'arabia', 'said', 'adam', 'sieminski', 'oil', 'strategist', 'for', 'deutsche', 'banc', 'alex', 'brown', 'prices', 'fall', 'very', 'low', 'will', 'hard', 'for', 'lot', 'american', 'states', 'the', 'question', 'that', 'opec', 'and', 'the', 'oil', 'companies', 'have', 'grappled', 'with', 'far', 'vain', 'how', 'smooth', 'the', 'boom', 'and', 'bust', 'cycles', 'the', 'oil', 'industry', 'and', 'with', 'the', 'wild', 'swings', 'the', 'price', 'oil', 'after', 'the', 'economies', 'asia', 'collapsed', 'and', 'the', 'fallout', 'spread', 'the', 'price', 'oil', 'fell', 'about', 'barrel', 'late', 'sept', 'rocketed', 'the', 'highest', 'level', 'since', 'the', 'persian', 'gulf', 'war', 'and', 'nov', 'the', 'price', 'had', 'fallen', 'the', 'lowest', 'level', 'more', 'than', 'two', 'years', 'gasoline', 'prices', 'which', 'some', 'midyear', 'predicted', 'would', 'reach', 'gallon', 'dropped', 'below', 'parts', 'the', 'united', 'states', 'last', 'month', 'opec', 'response', 'has', 'been', 'try', 'micromanage', 'the', 'markets', 'adding', 'barrels', 'when', 'demand', 'high', 'and', 'cutting', 'production', 'when', 'low', 'has', 'sought', 'hold', 'the', 'average', 'price', 'several', 'types', 'crude', 'oil', 'range', 'barrel', 'but', 'opec', 'strategy', 'keeping', 'oil', 'prices', 'those', 'relatively', 'high', 'levels', 'eventually', 'backfired', 'high', 'prices', 'gave', 'non', 'opec', 'exporters', 'most', 'notably', 'russia', 'the', 'cash', 'repair', 'old', 'wells', 'drill', 'new', 'ones', 'and', 'raise', 'overall', 'output', 'opec', 'cut', 'production', 'million', 'barrels', 'day', 'percent', 'throughout', 'try', 'prop', 'prices', 'but', 'russia', 'and', 'others', 'did', 'not', 'they', 'turn', 'took', 'over', 'the', 'market', 'share', 'that', 'opec', 'had', 'relinquished', 'and', 'prices', 'continued', 'fall', 'last', 'week', 'with', 'promises', 'cuts', 'from', 'nonmembers', 'including', 'russia', 'opec', 'ministers', 'agreed', 'reduce', 'the', 'group', 'production', 'million', 'barrels', 'day', 'the', 'new', 'year', 'began', 'any', 'output', 'reductions', 'opec', 'makes', 'this', 'year', 'shore', 'prices', 'will', 'passed', 'the', 'major', 'oil', 'companies', 'all', 'which', 'pump', 'oil', 'from', 'projects', 'opec', 'territory', 'typically', 'opec', 'members', 'direct', 'foreign', 'operators', 'joint', 'venture', 'projects', 'their', 'countries', 'reduce', 'production', 'first', 'before', 'looking', 'their', 'own', 'production', 'david', 'reilly', 'the', 'chairman', 'chevrontexaco', 'has', 'said', 'that', 'the', 'company', 'expected', 'cut', 'production', 'barrels', 'day', 'largely', 'projects', 'nigeria', 'and', 'venezuela', 'both', 'opec', 'members', 'the', 'amount', 'small', 'compared', 'with', 'the', 'million', 'barrels', 'day', 'that', 'chevrontexaco', 'pumps', 'around', 'the', 'world', 'most', 'analysts', 'think', 'that', 'price', 'barrel', 'would', 'provide', 'ample', 'revenues', 'for', 'producing', 'countries', 'without', 'endangering', 'global', 'economic', 'recovery', 'from', 'the', 'united', 'states', 'point', 'view', 'barrel', 'oil', 'would', 'ideal', 'from', 'both', 'perspectives', 'because', 'the', 'government', 'thinking', 'about', 'the', 'future', 'producer', 'countries', 'said', 'gerald', 'kepes', 'specialist', 'exploration', 'and', 'production', 'the', 'petroleum', 'finance', 'washington', 'consulting', 'group', 'yet', 'because', 'percent', 'drop', 'oil', 'prices', 'after', 'the', 'sept', 'attacks', 'barrel', 'and', 'the', 'uncertainty', 'surrounding', 'the', 'recovery', 'the', 'global', 'economy', 'oil', 'companies', 'are', 'increasing', 'their', 'exploration', 'and', 'production', 'budgets', 'far', 'more', 'cautiously', 'than', 'they', 'did', 'when', 'oil', 'prices', 'were', 'above', 'barrel', 'according', 'survey', 'salomon', 'smith', 'barney', 'oil', 'companies', 'increased', 'spending', 'exploration', 'and', 'production', 'percent', 'the', 'steepest', 'jump', 'years', 'the', 'companies', 'are', 'expected', 'increase', 'their', 'spending', 'foreign', 'projects', 'percent', 'this', 'year', 'but', 'spending', 'domestic', 'exploration', 'and', 'production', 'especially', 'for', 'natural', 'gas', 'expected', 'fall', 'percent', 'but', 'when', 'the', 'economy', 'rebounds', 'which', 'economists', 'expect', 'begin', 'this', 'spring', 'will', 'the', 'domestic', 'oil', 'industry', 'ready', 'ramp', 'oil', 'and', 'gas', 'production', 'protracted', 'lag', 'could', 'lead', 'higher', 'prices', 'again', 'demand', 'rises', 'but', 'supplies', 'remain', 'constrained', 'certainly', 'looking', 'the', 'boom', 'and', 'bust', 'pendulum', 'again', 'sieminski', 'the', 'deutsche', 'banc', 'alex', 'brown', 'oil', 'strategist', 'said'], tags=[4]), TaggedDocument(words=['after', 'unprecedented', 'run', 'five', 'consecutive', 'years', 'which', 'many', 'investors', 'earned', 'profits', 'percent', 'more', 'the', 'stock', 'market', 'the', 'major', 'averages', 'have', 'now', 'lost', 'money', 'for', 'two', 'straight', 'years', 'and', 'the', 'economy', 'mired', 'recession', 'get', 'perspectives', 'what', 'will', 'happen', 'this', 'year', 'gretchen', 'morgenson', 'and', 'floyd', 'norris', 'the', 'times', 'turned', 'two', 'wall', 'street', 'most', 'respected', 'strategists', 'and', 'one', 'man', 'who', 'was', 'that', 'group', 'before', 'started', 'hedge', 'fund', 'just', 'few', 'days', 'before', 'the', 'stock', 'market', 'peaked', 'they', 'are', 'abby', 'joseph', 'cohen', 'goldman', 'sachs', 'and', 'byron', 'wien', 'morgan', 'stanley', 'dean', 'witter', 'and', 'charles', 'clough', 'who', 'started', 'clough', 'capital', 'partners', 'boston', 'after', 'stepping', 'down', 'merrill', 'lynch', 'top', 'market', 'guru', 'the', 'good', 'news', 'that', 'all', 'think', 'the', 'stock', 'market', 'will', 'rise', 'this', 'year', 'and', 'the', 'recession', 'will', 'end', 'though', 'they', 'not', 'agree', 'whether', 'the', 'recovery', 'will', 'relatively', 'short', 'sharp', 'shaped', 'event', 'more', 'drawn', 'out', 'harder', 'shaped', 'rebound', 'they', 'are', 'also', 'split', 'about', 'whether', 'the', 'good', 'old', 'days', 'will', 'return', 'following', 'are', 'excerpts', 'from', 'that', 'discussion', 'thank', 'you', 'all', 'for', 'coming', 'last', 'year', 'was', 'extraordinary', 'one', 'both', 'for', 'the', 'economy', 'and', 'the', 'stock', 'market', 'where', 'now', 'what', 'going', 'happen', 'the', 'economy', 'cohen', 'think', 'that', 'the', 'economy', 'will', 'looking', 'better', 'next', 'year', 'because', 'even', 'though', 'the', 'national', 'bureau', 'economic', 'research', 'didn', 'tell', 'until', 'december', 'that', 'recession', 'the', 'recession', 'probably', 'much', 'closer', 'its', 'end', 'than', 'its', 'beginning', 'the', 'peak', 'economic', 'activity', 'was', 'the', 'fourth', 'quarter', 'real', 'gdp', 'growth', 'percent', 'the', 'peak', 'terms', 'profit', 'growth', 'was', 'also', 'the', 'fourth', 'quarter', 'amp', 'operating', 'profit', 'growth', 'percent', 'and', 'have', 'now', 'gone', 'through', 'almost', 'two', 'years', 'economic', 'deceleration', 'enormous', 'inventory', 'cutback', 'reductions', 'capital', 'spending', 'and', 'now', 'into', 'what', 'the', 'most', 'painful', 'part', 'adjustment', 'process', 'the', 'economy', 'and', 'that', 'the', 'labor', 'markets', 'our', 'judgment', 'that', 'come', 'spring', 'things', 'will', 'start', 'look', 'better', 'expect', 'economic', 'data', 'start', 'stabilize', 'and', 'what', 'hoping', 'that', 'begin', 'see', 'inventories', 'rebuilt', 'consumer', 'spending', 'stabilize', 'and', 'ultimately', 'the', 'year', 'goes', 'the', 'labor', 'markets', 'tighten', 'wien', 'think', 'going', 'have', 'recovery', 'next', 'year', 'think', 'that', 'too', 'many', 'people', 'think', 'recovery', 'starting', 'with', 'bell', 'ringing', 'july', 'and', 'heading', 'strongly', 'from', 'there', 'skeptical', 'think', 'sometime', 'toward', 'the', 'middle', 'the', 'year', 'business', 'conditions', 'will', 'get', 'better', 'but', 'will', 'feeble', 'recovery', 'more', 'shape', 'with', 'weak', 'right', 'arm', 'the', 'look', 'for', 'recovery', 'but', 'not', 'dramatic', 'one', 'clough', 'well', 'think', 'you', 'have', 'put', 'the', 'context', 'where', 'coming', 'from', 'the', 'economy', 'abby', 'pointed', 'out', 'fell', 'into', 'recession', 'earlier', 'this', 'year', 'the', 'events', 'sept', 'obviously', 'exacerbated', 'that', 'especially', 'the', 'manufacturing', 'sector', 'and', 'large', 'portions', 'the', 'services', 'sector', 'there', 'going', 'bounce', 'back', 'from', 'that', 'early', 'october', 'there', 'were', 'trucks', 'lined', 'the', 'ontario', 'border', 'that', 'couldn', 'get', 'there', 'was', 'artificial', 'compression', 'economic', 'activity', 'think', 'the', 'bounce', 'back', 'from', 'that', 'artificial', 'low', 'going', 'look', 'and', 'feel', 'like', 'recovery', 'may', 'already', 'beginning', 'see', 'parts', 'but', 'think', 'the', 'real', 'issue', 'what', 'happens', 'after', 'that', 'natural', 'bounce', 'back', 'and', 'there', 'one', 'major', 'cycle', 'going', 'here', 'that', 'suggests', 'that', 'the', 'recovery', 'will', 'sluggish', 'and', 'may', 'sluggish', 'for', 'long', 'time', 'and', 'that', 'the', 'investment', 'cycle', 'the', 'overinvestment', 'that', 'became', 'the', 'achilles', 'heel', 'the', 'economy', 'takes', 'time', 'heal', 'that', 'would', 'say', 'the', 'first', 'half', 'might', 'actually', 'look', 'pretty', 'good', 'hit', 'that', 'snapback', 'effect', 'might', 'differ', 'from', 'the', 'consensus', 'and', 'say', 'might', 'have', 'more', 'difficulty', 'the', 'latter', 'part', 'and', 'sustaining', 'because', 'going', 'while', 'before', 'the', 'investment', 'side', 'the', 'economy', 'comes', 'back', 'wien', 'this', 'was', 'capital', 'spending', 'led', 'boom', 'that', 'occurred', 'the', 'period', 'and', 'capital', 'spending', 'led', 'bust', 'there', 'overinventory', 'capital', 'equipment', 'out', 'there', 'going', 'have', 'work', 'off', 'that', 'inventory', 'which', 'going', 'take', 'while', 'addition', 'that', 'think', 'the', 'profit', 'recovery', 'going', 'sluggish', 'and', 'you', 'need', 'strong', 'profits', 'become', 'ambitious', 'terms', 'capital', 'spending', 'for', 'those', 'reasons', 'think', 'the', 'recovery', 'will', 'shallow', 'best', 'what', 'does', 'the', 'stock', 'market', 'see', 'seems', 'see', 'something', 'far', 'rosier', 'wien', 'the', 'stock', 'market', 'sees', 'recovery', 'the', 'stock', 'market', 'very', 'optimistic', 'that', 'the', 'beginning', 'the', 'second', 'half', 'the', 'year', 'the', 'economy', 'going', 'recover', 'strongly', 'and', 'profits', 'are', 'going', 'the', 'stock', 'market', 'has', 'much', 'more', 'ambitious', 'target', 'for', 'amp', 'earnings', 'than', 'and', 'yours', 'while', 'the', 'subject', 'wien', 'think', 'the', 'amp', 'next', 'year', 'will', 'earn', 'and', 'think', 'most', 'estimates', 'are', 'above', 'that', 'there', 'are', 'some', 'estimates', 'that', 'are', 'below', 'but', 'the', 'consensus', 'definitely', 'above', 'and', 'even', 'that', 'may', 'jeopardy', 'abby', 'are', 'you', 'more', 'optimistic', 'profits', 'cohen', 'our', 'number', 'for', 'amp', 'operating', 'earnings', 'that', 'put', 'our', 'valuation', 'model', 'for', 'this', 'year', 'and', 'for', 'next', 'year', 'that', 'our', 'totally', 'scrubbed', 'gaap', 'consistent', 'generally', 'accepted', 'accounting', 'principles', 'operating', 'earnings', 'estimates', 'then', 'have', 'the', 'second', 'series', 'which', 'what', 'the', 'data', 'vendors', 'want', 'report', 'which', 'not', 'gaap', 'consistent', 'instead', 'more', 'earnings', 'before', 'whatever', 'approach', 'very', 'simplistic', 'for', 'next', 'year', 'have', 'about', 'clough', 'think', 'earnings', 'are', 'trouble', 'and', 'think', 'the', 'accounting', 'profession', 'about', 'undergo', 'massive', 'restructuring', 'principles', 'organization', 'because', 'the', 'enron', 'event', 'really', 'just', 'the', 'icing', 'the', 'cake', 'accounting', 'principles', 'have', 'been', 'violated', 'five', 'ways', 'sunday', 'for', 'years', 'evidenced', 'huge', 'write', 'offs', 'that', 'never', 'stop', 'they', 'just', 'and', 'and', 'one', 'the', 'things', 'that', 'corporations', 'have', 'given', 'you', 'over', 'the', 'last', 'several', 'years', 'even', 'during', 'the', 'boom', 'times', 'was', 'that', 'the', 'midst', 'very', 'rapid', 'reported', 'earnings', 'gains', 'there', 'was', 'huge', 'nonfinancial', 'corporate', 'borrowing', 'fact', 'you', 'subtracted', 'capital', 'expenditures', 'from', 'borrowing', 'you', 'still', 'got', 'lot', 'borrowing', 'which', 'means', 'that', 'cash', 'flow', 'earnings', 'real', 'cash', 'flow', 'never', 'came', 'close', 'what', 'companies', 'were', 'reporting', 'wien', 'when', 'first', 'entered', 'this', 'business', 'the', 'numbers', 'that', 'were', 'reported', 'company', 'were', 'taken', 'gospel', 'you', 'really', 'believed', 'them', 'because', 'there', 'was', 'adversarial', 'relationship', 'between', 'the', 'accountants', 'and', 'the', 'corporation', 'now', 'there', 'kind', 'collegial', 'cooperative', 'relationship', 'and', 'part', 'that', 'encouraged', 'the', 'fact', 'that', 'most', 'the', 'major', 'accounting', 'firms', 'have', 'large', 'consulting', 'organizations', 'and', 'they', 'both', 'consulting', 'and', 'auditing', 'the', 'case', 'enron', 'for', 'example', 'enron', 'paid', 'arthur', 'andersen', 'million', 'million', 'was', 'for', 'consulting', 'services', 'and', 'would', 'seem', 'that', 'that', 'would', 'put', 'the', 'auditors', 'difficult', 'position', 'let', 'turn', 'the', 'stock', 'market', 'clough', 'what', 'investors', 'have', 'get', 'used', 'that', 'total', 'returns', 'all', 'the', 'capital', 'markets', 'are', 'going', 'compound', 'out', 'substantially', 'lower', 'rates', 'than', 'what', 'they', 'had', 'were', 'expected', 'the', 'past', 'are', 'deflationary', 'period', 'and', 'more', 'than', 'manufacturing', 'also', 'the', 'services', 'side', 'you', 'can', 'see', 'what', 'happening', 'the', 'pharmaceutical', 'industry', 'for', 'the', 'first', 'time', 'ever', 'but', 'the', 'offset', 'that', 'the', 'middle', 'the', 'last', 'recession', 'short', 'rates', 'were', 'percent', 'now', 'they', 'percent', 'that', 'dramatic', 'change', 'terms', 'the', 'price', 'credit', 'the', 'price', 'earnings', 'ratio', 'likely', 'higher', 'guess', 'and', 'only', 'guess', 'that', 'works', 'out', 'probably', 'percent', 'annualized', 'returns', 'capital', 'markets', 'but', 'they', 'are', 'achievable', 'the', 'capital', 'markets', 'looking', 'ahead', 'will', 'provide', 'modest', 'but', 'decent', 'returns', 'how', 'about', 'where', 'the', 'dow', 'what', 'are', 'the', 'averages', 'going', 'clough', 'where', 'the', 'averages', 'well', 'the', 'honest', 'answer', 'haven', 'the', 'slightest', 'idea', 'but', 'take', 'shot', 'say', 'for', 'the', 'dow', 'for', 'the', 'amp', 'about', 'for', 'the', 'nasda', 'byron', 'how', 'about', 'you', 'wien', 'those', 'numbers', 'are', 'similar', 'mine', 'for', 'the', 'amp', 'say', 'for', 'the', 'dow', 'for', 'the', 'nasdaq', 'abby', 'cohen', 'since', 'the', 'markets', 'reopened', 'sept', 'been', 'using', 'the', 'following', 'ranges', 'amp', 'and', 'the', 'dow', 'with', 'regard', 'the', 'nasdaq', 'stopped', 'forecasting', 'the', 'nasdaq', 'the', 'end', 'our', 'valuation', 'models', 'are', 'driven', 'things', 'like', 'earnings', 'and', 'cash', 'flow', 'and', 'the', 'nasdaq', 'didn', 'have', 'earnings', 'and', 'cash', 'flow', 'suspended', 'our', 'forecast', 'she', 'much', 'more', 'optimistic', 'than', 'you', 'guys', 'are', 'about', 'the', 'stock', 'market', 'next', 'year', 'why', 'that', 'wien', 'from', 'the', 'market', 'went', 'percent', 'every', 'year', 'averaged', 'think', 'pretty', 'close', 'percent', 'during', 'the', 'five', 'year', 'period', 'had', 'never', 'done', 'that', 'before', 'left', 'the', 'market', 'level', 'overvaluation', 'that', 'may', 'not', 'have', 'been', 'corrected', 'yet', 'there', 'nothing', 'say', 'that', 'might', 'not', 'have', 'three', 'year', 'period', 'where', 'the', 'market', 'down', 'every', 'year', 'the', 'price', 'earnings', 'ratio', 'the', 'market', 'using', 'abby', 'and', 'numbers', 'about', 'while', 'you', 'can', 'say', 'that', 'there', 'are', 'flaws', 'the', 'price', 'earnings', 'ratio', 'concept', 'and', 'would', 'agree', 'with', 'that', 'isn', 'totally', 'irrelevant', 'and', 'the', 'long', 'term', 'average', 'above', 'the', 'long', 'term', 'range', 'now', 'interest', 'rates', 'are', 'low', 'inflation', 'dead', 'and', 'maybe', 'you', 'can', 'argue', 'for', 'higher', 'multiple', 'but', 'there', 'just', 'way', 'say', 'that', 'the', 'market', 'cheap', 'out', 'there', 'clough', 'not', 'only', 'was', 'question', 'overvaluation', 'but', 'the', 'corporate', 'sector', 'has', 'left', 'itself', 'very', 'highly', 'leveraged', 'the', 'consumer', 'sector', 'has', 'left', 'itself', 'very', 'highly', 'leveraged', 'when', 'start', 'economic', 'recovery', 'there', 'not', 'going', 'lot', 'pent', 'demand', 'certainly', 'not', 'the', 'durable', 'sector', 'housing', 'and', 'autos', 'really', 'haven', 'even', 'broken', 'yet', 'there', 'are', 'lot', 'drags', 'economic', 'recovery', 'think', 'the', 'thing', 'about', 'profits', 'that', 'you', 'have', 'understand', 'that', 'profits', 'are', 'leveraged', 'enterprise', 'you', 'get', 'lot', 'more', 'profits', 'the', 'economy', 'grows', 'percent', 'rate', 'than', 'grows', 'percent', 'rate', 'profits', 'are', 'going', 'labor', 'under', 'that', 'kind', 'environment', 'and', 'that', 'the', 'kind', 'environment', 'see', 'wien', 'you', 'got', 'look', 'what', 'you', 'entitled', 'investor', 'view', 'all', 'you', 'entitled', 'the', 'profit', 'growth', 'plus', 'the', 'dividend', 'the', 'year', 'period', 'from', 'that', 'was', 'about', 'percent', 'the', 'market', 'during', 'that', 'period', 'gave', 'you', 'about', 'percent', 'you', 'got', 'extra', 'percentage', 'points', 'reward', 'relation', 'how', 'much', 'earnings', 'were', 'increasing', 'that', 'left', 'the', 'market', 'point', 'where', 'particularly', 'profits', 'are', 'struggling', 'there', 'could', 'some', 'adjustment', 'and', 'that', 'why', 'the', 'returns', 'from', 'the', 'market', 'may', 'below', 'the', 'long', 'term', 'average', 'percent', 'abby', 'cohen', 'the', 'end', 'told', 'our', 'clients', 'that', 'was', 'time', 'think', 'about', 'the', 'same', 'sort', 'long', 'term', 'trends', 'that', 'chuck', 'and', 'byron', 'are', 'talking', 'about', 'and', 'that', 'thought', 'that', 'earnings', 'growth', 'would', 'percent', 'rather', 'than', 'the', 'percent', 'that', 'had', 'been', 'experienced', 'previously', 'and', 'that', 'returns', 'from', 'the', 'market', 'would', 'the', 'order', 'price', 'appreciation', 'percent', 'also', 'agree', 'that', 'the', 'recovery', 'from', 'this', 'economic', 'recession', 'will', 'more', 'muted', 'than', 'the', 'average', 'housing', 'and', 'autos', 'are', 'already', 'strong', 'they', 'not', 'going', 'add', 'that', 'much', 'more', 'vigor', 'next', 'year', 'addition', 'would', 'raise', 'one', 'other', 'point', 'not', 'really', 'touched', 'and', 'that', 'the', 'rest', 'the', 'world', 'the', 'rest', 'the', 'world', 'lethargic', 'the', 'fed', 'has', 'lowered', 'interest', 'rates', 'times', 'the', 'european', 'central', 'bank', 'acting', 'there', 'not', 'much', 'problem', 'and', 'yet', 'there', 'not', 'one', 'country', 'europe', 'whose', 'industrial', 'production', 'didn', 'down', 'november', 'there', 'not', 'one', 'country', 'europe', 'that', 'doesn', 'have', 'higher', 'unemployment', 'rate', 'than', 'and', 'unemployment', 'rate', 'that', 'rising', 'very', 'concerned', 'too', 'about', 'the', 'global', 'situation', 'which', 'not', 'particularly', 'bright', 'haven', 'even', 'mentioned', 'japan', 'wien', 'gone', 'pretty', 'far', 'this', 'discussion', 'without', 'mentioning', 'sept', 'and', 'the', 'stock', 'market', 'has', 'sort', 'sloughed', 'off', 'the', 'stock', 'market', 'while', 'hasn', 'had', 'great', 'year', 'now', 'trading', 'higher', 'than', 'was', 'sept', 'and', 'while', 'may', 'have', 'subdued', 'the', 'taliban', 'and', 'identified', 'number', 'qaida', 'cells', 'don', 'think', 'that', 'the', 'threat', 'terrorism', 'has', 'totally', 'been', 'diminished', 'even', 'has', 'the', 'costs', 'associated', 'with', 'the', 'terrorist', 'attacks', 'are', 'real', 'they', 'going', 'higher', 'costs', 'for', 'insurance', 'for', 'transportation', 'for', 'security', 'and', 'for', 'inventories', 'result', 'those', 'attacks', 'and', 'that', 'going', 'put', 'additional', 'pressure', 'profit', 'margins', 'the', 'stock', 'market', 'saying', 'that', 'the', 'risk', 'premium', 'should', 'about', 'the', 'same', 'was', 'before', 'the', 'risk', 'premium', 'has', 'declined', 'the', 'market', 'back', 'where', 'was', 'prior', 'the', 'attacks', 'and', 'that', 'the', 'stock', 'market', 'fairly', 'optimistic', 'about', 'the', 'ability', 'the', 'economy', 'recover', 'strongly', 'and', 'suspicious', 'both', 'those', 'concepts', 'chuck', 'how', 'you', 'see', 'the', 'world', 'clough', 'does', 'look', 'like', 'sluggish', 'place', 'china', 'huge', 'area', 'impact', 'corporate', 'activity', 'developing', 'very', 'rapidly', 'certainly', 'making', 'more', 'difficult', 'for', 'japan', 'fight', 'its', 'way', 'out', 'its', 'deflation', 'and', 'going', 'make', 'difficult', 'for', 'number', 'asian', 'countries', 'come', 'back', 'fast', 'they', 'might', 'have', 'otherwise', 'but', 'also', 'going', 'have', 'impact', 'the', 'price', 'manufactured', 'goods', 'here', 'and', 'europe', 'all', 'that', 'makes', 'difficult', 'see', 'awful', 'lot', 'profits', 'growth', 'looking', 'ahead', 'before', 'the', 'recent', 'boom', 'people', 'talked', 'about', 'basic', 'industries', 'such', 'autos', 'and', 'steel', 'having', 'worldwide', 'overcapacity', 'and', 'there', 'were', 'dire', 'forecasts', 'that', 'the', 'countries', 'with', 'the', 'highest', 'production', 'costs', 'would', 'the', 'big', 'losers', 'that', 'was', 'forgotten', 'during', 'the', 'good', 'days', 'and', 'now', 'suddenly', 'back', 'have', 'long', 'term', 'problem', 'with', 'overcapacity', 'lot', 'industries', 'cohen', 'yes', 'number', 'the', 'industries', 'that', 'you', 'mention', 'have', 'short', 'term', 'issues', 'not', 'recommending', 'auto', 'stocks', 'the', 'united', 'states', 'for', 'the', 'obvious', 'reasons', 'but', 'longer', 'term', 'basis', 'what', 'see', 'happening', 'that', 'lot', 'the', 'participants', 'may', 'fact', 'have', 'gained', 'some', 'advantage', 'over', 'the', 'last', 'few', 'years', 'because', 'they', 'have', 'become', 'more', 'efficient', 'the', 'productivity', 'the', 'workers', 'has', 'increased', 'let', 'keep', 'mind', 'that', 'the', 'productivity', 'the', 'worker', 'probably', 'percent', 'above', 'that', 'other', 'industrial', 'nations', 'and', 'that', 'going', 'very', 'very', 'helpful', 'come', 'out', 'recession', 'when', 'recession', 'everybody', 'going', 'feel', 'the', 'pain', 'come', 'out', 'recession', 'think', 'there', 'could', 'some', 'market', 'share', 'improvements', 'clough', 'this', 'the', 'first', 'time', 'that', 'come', 'out', 'recession', 'with', 'not', 'only', 'excess', 'capacity', 'manufacturing', 'but', 'lot', 'services', 'well', 'going', 'test', 'lot', 'the', 'theories', 'about', 'how', 'come', 'out', 'recession', 'the', 'price', 'capital', 'was', 'zero', 'for', 'many', 'industries', 'telecom', 'for', 'example', 'for', 'pretty', 'extended', 'period', 'time', 'there', 'the', 'bubble', 'was', 'not', 'only', 'the', 'financial', 'markets', 'but', 'was', 'the', 'investment', 'side', 'the', 'economy', 'well', 'you', 'saw', 'confined', 'energy', 'the', '70s', 'and', 'took', 'years', 'for', 'the', 'energy', 'sector', 'recover', 'this', 'one', 'much', 'more', 'pervasive', 'not', 'only', 'telecom', 'you', 'got', 'this', 'pattern', 'overexpansion', 'the', 'services', 'sector', 'well', 'overcapacity', 'seems', 'pretty', 'systemic', 'throughout', 'the', 'global', 'economy', 'what', 'about', 'the', 'consumer', 'the', 'consumer', 'huge', 'piece', 'this', 'economic', 'puzzle', 'the', 'recovery', 'wien', 'think', 'the', 'consumer', 'will', 'continue', 'spend', 'because', 'most', 'people', 'still', 'have', 'jobs', 'even', 'though', 'the', 'unemployment', 'rate', 'has', 'gone', 'still', 'have', 'percent', 'americans', 'who', 'want', 'work', 'with', 'jobs', 'but', 'they', 'not', 'feeling', 'secure', 'about', 'those', 'jobs', 'they', 'were', 'before', 'and', 'they', 'not', 'being', 'compensated', 'well', 'consequently', 'think', 'the', 'consumer', 'will', 'positive', 'the', 'economy', 'but', 'only', 'mild', 'one', 'cohen', 'with', 'regard', 'unemployment', 'the', 'reality', 'the', 'situation', 'that', 'the', 'impact', 'has', 'come', 'hardest', 'our', 'youngest', 'and', 'lowest', 'paid', 'workers', 'you', 'look', 'who', 'have', 'lost', 'their', 'jobs', 'since', 'the', 'beginning', 'the', 'year', 'about', 'two', 'thirds', 'fall', 'into', 'that', 'category', 'helps', 'explain', 'why', 'personal', 'spending', 'continues', 'and', 'personal', 'income', 'growth', 'has', 'actually', 'been', 'positive', 'with', 'the', 'exception', 'the', 'last', 'two', 'months', 'even', 'though', 'the', 'unemployment', 'rate', 'rising', 'because', 'the', 'people', 'who', 'have', 'lost', 'their', 'jobs', 'were', 'earning', 'the', 'bottom', 'end', 'the', 'income', 'spectrum', 'clough', 'this', 'might', 'the', 'first', 'recession', 'through', 'where', 'consumer', 'credit', 'doesn', 'decline', 'without', 'some', 'deleveraging', 'the', 'consumer', 'sector', 'hard', 'make', 'case', 'for', 'really', 'powerful', 'recovery', 'looking', 'ahead', 'wien', 'made', 'the', 'point', 'that', 'the', 'consumer', 'isn', 'going', 'and', 'earlier', 'made', 'the', 'point', 'that', 'can', 'count', 'capital', 'spending', 'pretty', 'convincing', 'that', 'the', 'recovery', 'going', 'meager', 'one', 'cohen', 'not', 'really', 'talking', 'about', 'the', 'consumer', 'collapsing', 'consumer', 'spending', 'positive', 'number', 'will', 'probably', 'get', 'little', 'more', 'robust', 'recovery', 'comes', 'about', 'for', 'variety', 'reasons', 'the', 'consumer', 'continues', 'spend', 'inventories', 'some', 'point', 'start', 'rebuild', 'and', 'maybe', 'getting', 'close', 'the', 'other', 'thing', 'that', 'could', 'helpful', 'selective', 'capital', 'spending', 'there', 'going', 'rolling', 'recovery', 'and', 'there', 'are', 'some', 'areas', 'where', 'see', 'demand', 'beginning', 'improve', 'capital', 'goods', 'over', 'the', 'very', 'short', 'term', 'the', 'fed', 'has', 'had', 'really', 'tricky', 'time', 'this', 'year', 'the', 'interest', 'rate', 'cuts', 'have', 'not', 'really', 'done', 'what', 'everybody', 'thought', 'they', 'would', 'the', 'time', 'that', 'everybody', 'thought', 'they', 'would', 'going', 'forward', 'what', 'see', 'from', 'the', 'bond', 'market', 'and', 'interest', 'rates', 'response', 'this', 'wien', 'more', 'investors', 'got', 'hoodwinked', 'fed', 'easing', 'than', 'any', 'other', 'single', 'concept', 'the', 'prevailing', 'view', 'last', 'january', 'was', 'that', 'the', 'fed', 'your', 'friend', 'and', 'the', 'fed', 'cutting', 'rates', 'the', 'market', 'going', 'environment', 'where', 'earnings', 'are', 'deteriorating', 'fast', 'they', 'did', 'last', 'year', 'doesn', 'matter', 'that', 'the', 'fed', 'easing', 'clough', 'what', 'ails', 'the', 'economy', 'overbuilt', 'capital', 'stock', 'and', 'again', 'extends', 'beyond', 'fiber', 'optics', 'extends', 'into', 'large', 'numbers', 'the', 'areas', 'the', 'price', 'the', 'overnight', 'fed', 'funds', 'rate', 'doesn', 'change', 'demand', 'for', 'this', 'kind', 'stuff', 'think', 'could', 'period', 'where', 'should', 'get', 'ready', 'for', 'astonishingly', 'low', 'interest', 'rates', 'for', 'fairly', 'extended', 'period', 'time', 'wien', 'that', 'would', 'good', 'for', 'growth', 'stocks', 'clough', 'you', 'got', 'find', 'growth', 'though', 'cohen', 'and', 'equities', 'general', 'think', 'the', 'fed', 'not', 'getting', 'the', 'respect', 'that', 'deserves', 'chuck', 'makes', 'very', 'good', 'point', 'that', 'much', 'the', 'weakness', 'the', 'economy', 'sectors', 'where', 'interest', 'rate', 'policy', 'not', 'particularly', 'effective', 'and', 'let', 'keep', 'mind', 'that', 'the', 'areas', 'the', 'economy', 'which', 'are', 'strong', 'now', 'are', 'areas', 'where', 'interest', 'rate', 'policy', 'very', 'effective', 'housing', 'and', 'autos', 'are', 'extraordinarily', 'strong', 'addition', 'think', 'the', 'fed', 'deserves', 'great', 'deal', 'credit', 'for', 'the', 'other', 'function', 'which', 'supervision', 'and', 'regulation', 'the', 'fed', 'went', 'into', 'the', 'nation', 'commercial', 'banks', 'and', 'again', 'during', 'the', 'asian', 'crisis', 'and', 'the', 'currency', 'crises', 'saying', 'you', 'guys', 'better', 'make', 'sure', 'your', 'lending', 'standards', 'and', 'the', 'banks', 'did', 'fabulous', 'job', 'are', 'now', 'two', 'years', 'into', 'very', 'broad', 'based', 'economic', 'deceleration', 'and', 'not', 'aware', 'any', 'banking', 'failure', 'there', 'going', 'disappointment', 'terms', 'returns', 'for', 'individual', 'retirement', 'accounts', 'and', 'are', 'people', 'being', 'set', 'for', 'returns', 'that', 'are', 'not', 'going', 'match', 'their', 'expectations', 'and', 'their', 'plans', 'wien', 'know', 'that', 'during', 'the', 'late', '1990s', 'people', 'expected', 'their', 'mutual', 'fund', 'returns', 'excess', 'percent', 'and', 'then', 'they', 'scaled', 'down', 'percent', 'don', 'think', 'that', 'there', 'anybody', 'who', 'expects', 'less', 'than', 'and', 'think', 'less', 'than', 'equity', 'fund', 'reasonable', 'possibility', 'certainly', 'they', 'haven', 'gotten', 'over', 'the', 'last', 'two', 'years', 'and', 'some', 'them', 'have', 'taken', 'big', 'hits', 'clough', 'remember', 'reading', 'the', 'midst', 'the', 'dot', 'com', 'boom', 'anecdote', 'that', 'one', 'couple', 'looked', 'their', 'and', 'they', 'found', 'was', 'over', 'million', 'dollars', 'and', 'they', 'both', 'quit', 'their', 'jobs', 'and', 'booked', 'cruise', 'australia', 'true', 'story', 'don', 'think', 'they', 'realized', 'what', 'that', 'would', 'after', 'tax', 'but', 'was', 'signal', 'how', 'easy', 'was', 'inflate', 'what', 'your', 'retirement', 'assets', 'really', 'were', 'going', 'the', 'totally', 'risk', 'adverse', 'investor', 'think', 'looking', 'forward', 'going', 'have', 'change', 'his', 'her', 'investment', 'structure', 'that', 'why', 'don', 'think', 'there', 'going', 'large', 'exodus', 'household', 'capital', 'from', 'equities', 'bonds', 'think', 'there', 'will', 'more', 'and', 'more', 'pressure', 'balance', 'portfolios', 'but', 'don', 'see', 'massive', 'exodus', 'here', 'because', 'the', 'money', 'rate', 'simply', 'won', 'much', 'enticement', 'wien', 'one', 'the', 'drivers', 'for', 'the', 'market', 'the', 'period', 'was', 'the', 'enormous', 'amount', 'money', 'that', 'flowed', 'into', 'equity', 'mutual', 'funds', 'that', 'isn', 'happening', 'anymore', 'true', 'that', 'the', 'withdrawals', 'have', 'been', 'sluggish', 'but', 'the', 'net', 'new', 'money', 'coming', 'into', 'funds', 'almost', 'nonexistent', 'seen', 'over', 'the', 'last', 'several', 'years', 'quite', 'flood', 'into', 'the', 'dollar', 'international', 'investors', 'wanted', 'dollar', 'based', 'assets', 'and', 'bought', 'lot', 'dollars', 'fund', 'those', 'assets', 'and', 'that', 'kept', 'the', 'dollar', 'stronger', 'than', 'one', 'might', 'have', 'expected', 'given', 'balance', 'payments', 'numbers', 'that', 'going', 'continue', 'cohen', 'over', 'the', 'longer', 'term', 'might', 'move', 'lower', 'because', 'the', 'current', 'account', 'issues', 'and', 'but', 'for', 'the', 'moment', 'the', 'united', 'states', 'although', 'have', 'cyclical', 'problems', 'nevertheless', 'looking', 'relatively', 'good', 'looks', 'good', 'vis', 'vis', 'japan', 'and', 'the', 'europeans', 'while', 'there', 'was', 'great', 'enthusiasm', 'about', 'the', 'euro', 'when', 'was', 'introduced', 'are', 'feeling', 'that', 'perhaps', 'not', 'such', 'bad', 'thing', 'own', 'dollars', 'the', 'way', 'the', 'opposite', 'also', 'true', 'you', 'take', 'look', 'what', 'investors', 'have', 'done', 'most', 'are', 'not', 'particularly', 'interested', 'owning', 'non', 'equities', 'this', 'point', 'the', 'last', 'time', 'were', 'was', 'the', 'same', 'time', 'the', 'europeans', 'were', 'interested', 'owning', 'stocks', 'which', 'was', 'the', 'end', 'early', 'they', 'were', 'buying', 'technology', 'stocks', 'returned', 'the', 'favor', 'bought', 'tech', 'and', 'telecom', 'stocks', 'their', 'markets', 'does', 'that', 'prove', 'that', 'foreign', 'investors', 'are', 'always', 'wrong', 'cohen', 'almost', 'always', 'yes', 'yes', 'not', 'percent', 'but', 'pretty', 'good', 'rule', 'thumb', 'wien', 'the', 'still', 'the', 'cradle', 'entrepreneurship', 'and', 'entrepreneurship', 'what', 'creates', 'opportunity', 'for', 'investors', 'the', 'period', 'the', 'united', 'states', 'created', 'million', 'new', 'jobs', 'and', 'the', 'same', 'time', 'eliminated', 'million', 'jobs', 'eliminated', 'the', 'million', 'the', 'old', 'economy', 'sectors', 'the', 'steel', 'auto', 'basic', 'industry', 'sectors', 'and', 'created', 'the', 'new', 'jobs', 'technology', 'and', 'biotechnology', 'other', 'fields', 'the', 'home', 'depots', 'and', 'intels', 'etc', 'europe', 'during', 'that', 'same', 'period', 'created', 'million', 'jobs', 'and', 'they', 'were', 'all', 'the', 'public', 'sector', 'cohen', 'what', 'byron', 'didn', 'tell', 'you', 'was', 'that', 'the', 'population', 'the', 'two', 'groups', 'the', 'same', 'becomes', 'even', 'more', 'striking', 'wien', 'point', 'that', 'that', 'isn', 'going', 'change', 'think', 'capital', 'flows', 'are', 'still', 'going', 'positive', 'whether', 'they', 'will', 'sufficient', 'offset', 'the', 'trade', 'flows', 'don', 'know', 'but', 'don', 'think', 'the', 'dollar', 'headed', 'for', 'period', 'significant', 'weakness', 'where', 'should', 'people', 'invest', 'now', 'wien', 'the', 'growth', 'area', 'the', 'only', 'sector', 'that', 'like', 'right', 'now', 'health', 'care', 'and', 'like', 'variety', 'facets', 'most', 'the', 'things', 'that', 'like', 'are', 'stocks', 'that', 'were', 'beaten', 'down', 'the', 'post', 'sept', 'decline', 'and', 'have', 'come', 'back', 'some', 'but', 'not', 'lot', 'and', 'that', 'would', 'include', 'industrials', 'capital', 'goods', 'companies', 'materials', 'companies', 'retailers', 'and', 'another', 'sector', 'the', 'growth', 'area', 'that', 'would', 'like', 'cable', 'give', 'some', 'names', 'wien', 'wholesale', 'there', 'are', 'two', 'retailers', 'wholesale', 'one', 'that', 'probably', 'not', 'familiar', 'all', 'your', 'readers', 'and', 'abercrombie', 'amp', 'fitch', 'one', 'conglomerate', 'itt', 'two', 'health', 'care', 'stocks', 'medtronic', 'and', 'abbott', 'and', 'one', 'dirty', 'old', 'cyclical', 'dow', 'chemical', 'clough', 'looked', 'for', 'areas', 'where', 'profitability', 'has', 'been', 'very', 'low', 'the', 'cost', 'capital', 'result', 'has', 'been', 'very', 'high', 'and', 'result', 'there', 'some', 'restriction', 'supply', 'and', 'got', 'couple', 'the', 'hospital', 'industry', 'has', 'been', 'almost', 'depression', 'many', 'the', 'public', 'sector', 'hospitals', 'ever', 'since', 'lot', 'the', 'third', 'party', 'payments', 'were', 'cut', 'back', 'and', 'think', 'that', 'about', 'change', 'that', 'many', 'hospitals', 'are', 'looking', 'double', 'digit', 'revenue', 'growth', 'now', 'two', 'stocks', 'scratched', 'down', 'here', 'were', 'select', 'medical', 'and', 'hca', 'the', 'second', 'international', 'reinsurance', 'this', 'story', 'that', 'think', 'has', 'some', 'very', 'powerful', 'fundamentals', 'behind', 'insurance', 'rates', 'and', 'insurance', 'capacity', 'was', 'already', 'contracting', 'before', 'sept', 'think', 'sept', 'kind', 'exacerbated', 'that', 'like', 'the', 'ace', 'ltd', 'and', 'the', 'principal', 'financial', 'group', 'among', 'others', 'the', 'property', 'casualty', 'sector', 'and', 'some', 'financials', 'are', 'pretty', 'cheap', 'golden', 'west', 'financial', 'and', 'washington', 'mutual', 'among', 'others', 'and', 'the', 'cable', 'industry', 'does', 'look', 'like', 'going', 'from', 'period', 'massive', 'investment', 'needs', 'digital', 'cable', 'comes', 'generating', 'more', 'positive', 'cash', 'flow', 'and', 'the', 'stocks', 'are', 'down', 'like', 'adelphia', 'communications', 'and', 'cablevision', 'systems', 'cohen', 'think', 'that', 'there', 'significant', 'opportunity', 'still', 'technology', 'computer', 'related', 'technology', 'software', 'and', 'service', 'think', 'that', 'this', 'environment', 'that', 'will', 'good', 'for', 'well', 'managed', 'financials', 'many', 'the', 'banks', 'look', 'good', 'some', 'the', 'diversified', 'financial', 'services', 'companies', 'look', 'good', 'and', 'want', 'own', 'energy', 'equities', 'when', 'everybody', 'talking', 'about', 'how', 'warm', 'and', 'how', 'low', 'the', 'spot', 'market', 'finally', 'within', 'the', 'amp', 'least', 'industrials', 'this', 'the', 'first', 'time', 'three', 'years', 'that', 'suggesting', 'some', 'the', 'down', 'and', 'dirty', 'industrials', 'because', 'the', 'first', 'time', 'think', 'that', 'consensus', 'earnings', 'estimates', 'are', 'probably', 'the', 'right', 'place', 'and', 'the', 'stocks', 'are', 'priced', 'relative', 'that', 'and', 'finally', 'outside', 'the', 'usual', 'amp', 'portfolio', 'there', 'are', 'two', 'things', 'one', 'higher', 'quality', 'corporate', 'bonds', 'and', 'don', 'mean', 'necessarily', 'the', 'highest', 'rated', 'corporate', 'bonds', 'but', 'even', 'some', 'with', 'lower', 'ratings', 'that', 'are', 'just', 'kind', 'being', 'ignored', 'because', 'the', 'problems', 'the', 'telecom', 'area', 'and', 'finally', 'small', 'and', 'mid', 'cap', 'stocks', 'wien', 'have', 'disagreement', 'with', 'abby', 'view', 'technology', 'has', 'come', 'long', 'way', 'since', 'sept', 'and', 'its', 'earnings', 'prospects', 'have', 'improved', 'but', 'its', 'multiples', 'have', 'improved', 'faster', 'technology', 'many', 'cases', 'seems', 'almost', 'expensive', 'today', 'did', 'sept', 'and', 'wasn', 'cheap', 'then', 'technology', 'would', 'sector', 'would', 'avoid', 'you', 'told', 'what', 'should', 'own', 'what', 'should', 'avoid', 'now', 'wien', 'tech', 'and', 'financials', 'clough', 'well', 'think', 'byron', 'right', 'there', 'are', 'shorts', 'both', 'those', 'sectors', 'and', 'think', 'there', 'are', 'still', 'lot', 'problems', 'ahead', 'for', 'the', 'sub', 'prime', 'lenders', 'not', 'only', 'does', 'consumer', 'credit', 'bad', 'unemployment', 'grows', 'and', 'employment', 'and', 'income', 'slow', 'but', 'lot', 'them', 'are', 'heavily', 'dependent', 'the', 'ability', 'securitize', 'their', 'assets', 'they', 'make', 'lot', 'loans', 'very', 'aggressively', 'and', 'they', 'have', 'securitize', 'those', 'assets', 'some', 'the', 'stocks', 'that', 'have', 'rallied', 'way', 'too', 'far', 'and', 'are', 'going', 'have', 'difficulty', 'really', 'creating', 'much', 'the', 'way', 'earnings', 'the', 'years', 'ahead', 'are', 'some', 'the', 'telecom', 'chip', 'providers', 'also', 'skeptical', 'about', 'some', 'consumer', 'durables', 'like', 'the', 'housing', 'stocks', 'but', 'that', 'because', 'there', 'consolidation', 'larger', 'players', 'there', 'but', 'some', 'other', 'consumer', 'durables', 'the', 'mobile', 'home', 'area', 'and', 'even', 'the', 'auto', 'stocks', 'think', 'are', 'going', 'have', 'trouble', 'ahead', 'look', 'for', 'problems', 'there', 'well', 'abby', 'cohen', 'telecom', 'area', 'that', 'still', 'not', 'comfortable', 'with', 'would', 'have', 'some', 'discomfort', 'with', 'europe', 'the', 'united', 'states', 'already', 'had', 'dramatic', 'reduction', 'consensus', 'expectations', 'for', 'gdp', 'for', 'earnings', 'and', 'that', 'not', 'yet', 'the', 'case', 'europe', 'where', 'investors', 'and', 'the', 'central', 'banks', 'also', 'have', 'been', 'very', 'lethargic', 'recognizing', 'the', 'difficult', 'situation', 'that', 'being', 'faced', 'what', 'about', 'the', 'government', 'wien', 'there', 'been', 'complete', 'reversal', 'thinking', 'about', 'government', 'from', 'thinking', 'was', 'irrelevant', 'and', 'the', 'way', 'thinking', 'god', 'glad', 'got', 'one', 'that', 'terms', 'the', 'national', 'security', 'terms', 'the', 'economy', 'though', 'think', 'there', 'lot', 'criticism', 'the', 'fed', 'and', 'there', 'certainly', 'criticism', 'the', 'president', 'stimulus', 'policy', 'and', 'there', 'even', 'some', 'criticism', 'ashcroft', 'policy', 'national', 'security', 'cohen', 'let', 'honest', 'about', 'where', 'the', 'problem', 'the', 'economy', 'inadequate', 'demand', 'consumers', 'feeling', 'funky', 'and', 'good', 'deal', 'the', 'pain', 'from', 'the', 'recession', 'has', 'fallen', 'middle', 'income', 'and', 'lower', 'income', 'people', 'and', 'the', 'stimulus', 'package', 'that', 'was', 'proposed', 'the', 'president', 'and', 'one', 'that', 'supported', 'the', 'house', 'doesn', 'really', 'address', 'that', 'view', 'directly', 'could', 'some', 'the', 'measures', 'that', 'could', 'very', 'effective', 'would', 'the', 'extension', 'the', 'rebate', 'program', 'providing', 'extension', 'the', 'earned', 'income', 'tax', 'credit', 'also', 'the', 'extension', 'the', 'unemployment', 'benefits', 'basically', 'getting', 'the', 'heart', 'the', 'problem', 'and', 'affecting', 'those', 'who', 'been', 'most', 'directly', 'impacted', 'the', 'recession', 'would', 'helpful', 'clough', 'skeptical', 'that', 'fiscal', 'policy', 'likely', 'have', 'that', 'much', 'impact', 'not', 'because', 'uncertainty', 'and', 'delay', 'getting', 'package', 'the', 'problems', 'the', 'economy', 'dealing', 'with', 'have', 'more', 'with', 'investment', 'cycles', 'and', 'fiscal', 'policy', 'doesn', 'really', 'change', 'that', 'very', 'much', 'guess', 'more', 'than', 'ever', 'the', 'economy', 'simply', 'needs', 'time', 'heal', 'the', 'excesses', 'that', 'lived', 'through', 'since', 'the', 'market', 'peaked', 'march', 'investors', 'have', 'been', 'remarkably', 'able', 'withstand', 'enormous', 'confidence', 'shattering', 'events', 'whether', 'enron', 'the', 'telecom', 'bust', 'have', 'investors', 'just', 'become', 'very', 'resilient', 'and', 'long', 'term', 'their', 'focus', 'and', 'willing', 'withstand', 'anything', 'wien', 'investors', 'have', 'taken', 'the', 'very', 'significant', 'decline', 'since', 'march', 'with', 'remarkable', 'complacency', 'the', 'reason', 'for', 'was', 'that', 'they', 'were', 'playing', 'with', 'the', 'house', 'money', 'they', 'had', 'made', 'enormous', 'amount', 'money', 'their', 'investments', 'the', 'latter', 'part', 'the', '1990s', 'and', 'they', 'saw', 'those', 'profits', 'melt', 'away', 'but', 'they', 'didn', 'see', 'their', 'initial', 'stake', 'disappear', 'and', 'they', 'also', 'had', 'been', 'inculcated', 'within', 'the', 'feeling', 'that', 'equities', 'were', 'the', 'asset', 'choice', 'because', 'over', 'any', 'rolling', 'year', 'period', 'they', 'always', 'outperform', 'bonds', 'what', 'could', 'change', 'that', 'opinion', 'they', 'through', 'long', 'period', 'single', 'digit', 'returns', 'then', 'they', 'may', 'become', 'less', 'enthusiastic', 'about', 'equities', 'because', 'think', 'they', 'more', 'positive', 'about', 'them', 'result', 'thinking', 'that', 'the', 'percent', 'returns', 'are', 'around', 'the', 'corner', 'again', 'and', 'this', 'has', 'just', 'been', 'bad', 'period', 'clough', 'think', 'employment', 'trends', 'play', 'much', 'more', 'significant', 'role', 'here', 'people', 'obviously', 'can', 'deal', 'with', 'capital', 'loss', 'employment', 'and', 'income', 'are', 'sort', 'still', 'there', 'somebody', 'lost', 'his', 'dealing', 'with', 'some', 'capital', 'loss', 'house', 'money', 'not', 'you', 'compound', 'that', 'with', 'income', 'effect', 'then', 'think', 'you', 'got', 'problem', 'employment', 'much', 'more', 'important', 'factor', 'consumer', 'attitudes', 'and', 'consumer', 'spending', 'ten', 'years', 'ago', 'relatively', 'few', 'people', 'thought', 'stocks', 'were', 'the', 'asset', 'choice', 'for', 'the', 'long', 'run', 'couple', 'years', 'ago', 'had', 'become', 'consensus', 'what', 'your', 'guess', 'years', 'from', 'now', 'will', 'that', 'still', 'the', 'consensus', 'view', 'cohen', 'think', 'that', 'the', 'message', 'that', 'many', 'individuals', 'have', 'been', 'receiving', 'since', 'early', 'that', 'good', 'idea', 'balanced', 'good', 'idea', 'balanced', 'terms', 'asset', 'mix', 'wien', 'think', 'over', 'the', 'next', 'decade', 'next', 'years', 'four', 'things', 'will', 'happen', 'the', 'first', 'that', 'accountants', 'will', 'become', 'tougher', 'the', 'second', 'that', 'dividends', 'will', 'become', 'much', 'more', 'important', 'the', 'third', 'that', 'investors', 'expectations', 'will', 'become', 'much', 'more', 'realistic', 'the', 'fourth', 'that', 'equities', 'will', 'still', 'the', 'asset', 'choice', 'clough', 'don', 'know', 'where', 'years', 'from', 'now', 'but', 'think', 'right', 'now', 'the', 'attitude', 'move', 'more', 'towards', 'balanced', 'kind', 'investment', 'strategy', 'and', 'that', 'will', 'probably', 'last', 'for', 'bit', 'don', 'think', 'ever', 'get', 'point', 'where', 'bonds', 'will', 'universally', 'considered', 'asset', 'choice', 'but', 'don', 'see', 'equity', 'culture', 'coming', 'back', 'for', 'quite', 'while'], tags=[5]), TaggedDocument(words=['two', 'things', 'will', 'remembered', 'about', 'the', 'bond', 'market', 'and', 'both', 'say', 'something', 'about', 'the', 'new', 'year', 'one', 'was', 'the', 'wrenching', 'turns', 'interest', 'rates', 'ended', 'took', 'about', 'weeks', 'for', 'the', 'yield', 'the', 'treasury', 'year', 'note', 'fall', 'full', 'percentage', 'point', 'its', 'low', 'percent', 'nov', 'then', 'took', 'just', 'two', 'weeks', 'shoot', 'back', 'percent', 'two', 'weeks', 'fall', 'percent', 'and', 'just', 'another', 'week', 'and', 'half', 'soar', 'percent', 'that', 'volatility', 'reflected', 'the', 'uncertainty', 'about', 'the', 'outlook', 'for', 'the', 'economy', 'and', 'the', 'federal', 'reserve', 'interest', 'rate', 'policy', 'that', 'uncertainty', 'and', 'volatility', 'should', 'continue', 'for', 'while', 'those', 'wrenching', 'twists', 'also', 'wiped', 'out', 'big', 'portion', 'the', 'gains', 'bonds', 'had', 'been', 'making', 'last', 'year', 'the', 'low', 'for', 'treasury', 'interest', 'rates', 'the', 'return', 'treasury', 'notes', 'and', 'bonds', 'was', 'percent', 'the', 'end', 'the', 'year', 'was', 'percent', 'only', 'high', 'yield', 'junk', 'bonds', 'rallied', 'the', 'end', 'the', 'year', 'from', 'annual', 'return', 'percent', 'nov', 'percent', 'the', 'second', 'memorable', 'thing', 'for', 'bonds', 'last', 'year', 'was', 'that', 'they', 'outperformed', 'the', 'stock', 'market', 'investment', 'grade', 'bonds', 'over', 'all', 'including', 'treasuries', 'corporates', 'mortgages', 'and', 'agencies', 'had', 'return', 'percent', 'last', 'year', 'according', 'merrill', 'lynch', 'bond', 'indexes', 'that', 'was', 'down', 'from', 'annual', 'return', 'percent', 'nov', 'junk', 'bond', 'return', 'was', 'also', 'plus', 'contrast', 'the', 'standard', 'amp', 'poor', 'stock', 'index', 'fell', 'percent', 'this', 'was', 'the', 'second', 'straight', 'year', 'that', 'domestic', 'bonds', 'have', 'been', 'better', 'bet', 'than', 'stocks', 'and', 'the', 'first', 'two', 'year', 'outperformance', 'bonds', 'since', 'emerging', 'market', 'bonds', 'excluding', 'argentina', 'had', 'total', 'return', 'percent', 'but', 'argentina', 'bonds', 'which', 'the', 'government', 'has', 'defaulted', 'declined', 'percent', 'value', 'there', 'was', 'dip', 'percent', 'overall', 'for', 'emerging', 'market', 'bonds', 'according', 'morgan', 'bond', 'indexes', 'the', 'question', 'can', 'this', 'outperformance', 'continue', 'while', 'that', 'answer', 'the', 'air', 'there', 'little', 'doubt', 'that', 'making', 'money', 'bonds', 'will', 'probably', 'more', 'difficult', 'than', 'was', 'said', 'amy', 'falls', 'global', 'fixed', 'income', 'strategist', 'morgan', 'stanley', 'dean', 'witter', 'the', 'key', 'variables', 'for', 'volatility', 'and', 'performance', 'are', 'the', 'shape', 'the', 'economic', 'recovery', 'that', 'the', 'consensus', 'forecast', 'for', 'the', 'spring', 'and', 'how', 'long', 'fed', 'policy', 'makers', 'wait', 'before', 'they', 'decide', 'push', 'their', 'short', 'term', 'interest', 'rate', 'benchmark', 'the', 'federal', 'funds', 'rate', 'overnight', 'loans', 'among', 'banks', 'the', 'surge', 'interest', 'rates', 'the', 'end', 'the', 'year', 'meant', 'that', 'many', 'investors', 'believed', 'that', 'the', 'economic', 'recovery', 'had', 'already', 'begun', 'would', 'begin', 'very', 'soon', 'and', 'that', 'strong', 'rebound', 'would', 'force', 'the', 'fed', 'which', 'lowered', 'rates', 'times', 'raise', 'them', 'bulwark', 'against', 'inflation', 'june', 'not', 'earlier', 'other', 'analysts', 'however', 'say', 'the', 'recovery', 'will', 'moderate', 'part', 'because', 'the', 'recent', 'rise', 'longer', 'term', 'interest', 'rates', 'putting', 'drag', 'housing', 'through', 'higher', 'mortgage', 'rates', 'and', 'corporate', 'investment', 'slower', 'recovery', 'would', 'make', 'unlikely', 'that', 'the', 'fed', 'would', 'move', 'before', 'the', 'end', 'this', 'year', 'possibly', 'not', 'before', 'early', 'another', 'restraint', 'the', 'fed', 'these', 'analysts', 'argue', 'that', 'inflation', 'pressures', 'will', 'remain', 'contained', 'the', 'core', 'consumer', 'price', 'index', 'which', 'excludes', 'food', 'and', 'energy', 'rose', 'percent', 'the', 'months', 'through', 'november', 'the', 'recovery', 'quick', 'many', 'investors', 'will', 'take', 'bigger', 'risks', 'get', 'the', 'higher', 'yields', 'needed', 'offset', 'the', 'decline', 'bond', 'prices', 'that', 'comes', 'with', 'rising', 'interest', 'rates', 'with', 'the', 'economy', 'improving', 'high', 'yield', 'bonds', 'would', 'become', 'more', 'attractive', 'because', 'company', 'outlooks', 'would', 'improve', 'the', 'expectation', 'quick', 'recovery', 'set', 'off', 'rush', 'into', 'high', 'yield', 'the', 'end', 'but', 'there', 'slow', 'recovery', 'and', 'patient', 'fed', 'then', 'picking', 'companies', 'with', 'higher', 'credit', 'ratings', 'would', 'better', 'bet', 'environment', 'rising', 'steady', 'interest', 'rates', 'mortgage', 'backed', 'securities', 'look', 'good', 'falling', 'interest', 'rates', 'that', 'are', 'troublesome', 'mortgage', 'performance', 'homeowners', 'rush', 'refinance', 'their', 'mortgages', 'lower', 'rates', 'analysts', 'generally', 'agree', 'that', 'interest', 'rates', 'hit', 'bottom', 'november', 'and', 'will', 'move', 'higher', 'this', 'year', 'the', 'yield', 'the', 'treasury', 'year', 'note', 'forecast', 'rise', 'percent', 'percent', 'from', 'the', 'percent', 'ended', 'last', 'year', 'the', 'yield', 'the', 'two', 'year', 'note', 'which', 'finished', 'percent', 'could', 'rise', 'percent', 'this', 'year', 'that', 'rise', 'rates', 'means', 'that', 'the', 'treasury', 'market', 'not', 'the', 'place', 'rising', 'rates', 'will', 'push', 'treasury', 'prices', 'lower', 'merrill', 'lynch', 'argues', 'that', 'there', 'one', 'more', 'treasury', 'rally', 'store', 'investors', 'find', 'out', 'the', 'recovery', 'will', 'not', 'immediate', 'strong', 'then', 'interest', 'rates', 'will', 'rise', 'this', 'means', 'that', 'the', 'bet', 'for', 'this', 'year', 'bonds', 'whether', 'they', 'outperform', 'stocks', 'not', 'what', 'known', 'spread', 'product', 'this', 'covers', 'the', 'other', 'fixed', 'income', 'securities', 'including', 'investment', 'grade', 'corporate', 'bonds', 'agency', 'and', 'mortgage', 'backed', 'securities', 'and', 'below', 'investment', 'grade', 'junk', 'bonds', 'they', 'all', 'trade', 'higher', 'yield', 'than', 'the', 'comparable', 'maturity', 'the', 'treasury', 'market', 'and', 'the', 'difference', 'called', 'the', 'spread', 'analysts', 'are', 'recommending', 'investing', 'spread', 'product', 'for', 'several', 'reasons', 'first', 'these', 'sectors', 'offer', 'higher', 'yields', 'than', 'does', 'the', 'treasury', 'market', 'addition', 'analysts', 'think', 'that', 'while', 'yields', 'will', 'also', 'rise', 'these', 'sectors', 'the', 'fixed', 'income', 'market', 'they', 'will', 'not', 'much', 'treasury', 'yields', 'this', 'means', 'that', 'the', 'spread', 'among', 'corporates', 'agencies', 'mortgages', 'and', 'junk', 'bonds', 'will', 'narrow', 'versus', 'treasuries', 'and', 'this', 'profit', 'opportunity', 'this', 'very', 'much', 'the', 'same', 'advice', 'that', 'analysts', 'gave', 'going', 'into', 'this', 'year', 'and', 'turned', 'out', 'except', 'maybe', 'the', 'junk', 'bond', 'market', 'where', 'annual', 'rate', 'return', 'percent', 'january', 'turned', 'minus', 'percent', 'december', 'the', 'return', 'for', 'corporate', 'bonds', 'was', 'percent', 'compared', 'with', 'percent', 'mortgages', 'had', 'return', 'percent', 'compared', 'with', 'percent', 'last', 'year', 'and', 'agencies', 'had', 'total', 'return', 'percent', 'compared', 'with', 'percent'], tags=[6]), TaggedDocument(words=['for', 'investors', 'should', 'better', 'than', 'course', 'that', 'prediction', 'not', 'exactly', 'going', 'out', 'limb', 'despite', 'rally', 'the', 'fall', 'the', 'standard', 'amp', 'poor', 'stock', 'index', 'ended', 'down', 'percent', 'the', 'second', 'straight', 'year', 'the', 'index', 'fell', 'more', 'than', 'percent', 'the', 'nasdaq', 'composite', 'index', 'which', 'includes', 'many', 'computer', 'and', 'biotechnology', 'stocks', 'performed', 'even', 'more', 'poorly', 'giving', 'percent', 'after', 'percent', 'loss', 'investors', 'like', 'all', 'americans', 'can', 'forgiven', 'for', 'wanting', 'put', 'behind', 'them', 'and', 'with', 'the', 'possibility', 'economic', 'recovery', 'early', 'this', 'year', 'the', 'outlook', 'for', 'stocks', 'appears', 'solid', 'least', 'for', 'the', 'next', 'couple', 'months', 'but', 'analysts', 'warn', 'investors', 'not', 'get', 'too', 'giddy', 'although', 'the', 'economy', 'and', 'corporate', 'profits', 'will', 'probably', 'growing', 'again', 'soon', 'the', 'rate', 'growth', 'may', 'lower', 'than', 'investors', 'expect', 'result', 'stocks', 'will', 'rise', 'only', 'moderately', 'this', 'year', 'they', 'say', 'foregone', 'conclusion', 'unless', 'something', 'comes', 'totally', 'off', 'the', 'radar', 'screen', 'that', 'there', 'will', 'both', 'economic', 'and', 'profit', 'recovery', 'before', 'the', 'end', 'the', 'first', 'half', 'the', 'year', 'said', 'charles', 'pradilla', 'the', 'chief', 'market', 'strategist', 'for', 'cowen', 'but', 'there', 'may', 'some', 'disappointment', 'with', 'the', 'vigor', 'the', 'recovery', 'are', 'not', 'going', 'get', 'the', 'terrific', 'profit', 'rebound', 'that', 'were', 'expecting', 'like', 'many', 'strategists', 'pradilla', 'forecasts', 'that', 'the', 'amp', 'will', 'end', 'around', 'gain', 'percent', 'from', 'its', 'current', 'level', 'the', 'year', 'just', 'past', 'offers', 'reasons', 'for', 'both', 'optimism', 'and', 'fear', 'the', 'decline', 'the', 'amp', 'and', 'the', 'enormous', 'losses', 'suffered', 'many', 'technology', 'investors', 'are', 'proof', 'that', 'stocks', 'can', 'dangerous', 'especially', 'for', 'investors', 'who', 'take', 'too', 'much', 'risk', 'use', 'margin', 'loans', 'increase', 'their', 'leverage', 'but', 'they', 'examine', 'their', 'year', 'end', 'mutual', 'fund', 'and', 'brokerage', 'statements', 'shareholders', 'might', 'wise', 'remember', 'that', 'could', 'have', 'been', 'much', 'worse', 'over', 'the', 'last', 'three', 'months', 'the', 'stock', 'market', 'has', 'rewarded', 'the', 'optimists', 'including', 'many', 'small', 'investors', 'who', 'kept', 'faith', 'the', 'resiliency', 'the', 'economy', 'after', 'sept', 'since', 'their', 'lows', 'late', 'september', 'the', 'dow', 'jones', 'industrial', 'average', 'and', 'amp', 'have', 'both', 'gained', 'about', 'percent', 'while', 'the', 'nasdaq', 'composite', 'index', 'which', 'contains', 'most', 'big', 'technology', 'stocks', 'has', 'risen', 'percent', 'almost', 'one', 'expected', 'stocks', 'recover', 'quickly', 'they', 'have', 'especially', 'given', 'the', 'failure', 'congress', 'pass', 'stimulus', 'package', 'aid', 'the', 'economy', 'but', 'now', 'appears', 'though', 'the', 'economy', 'will', 'pull', 'itself', 'out', 'recession', 'matter', 'what', 'washington', 'does', 'housing', 'construction', 'remains', 'very', 'strong', 'for', 'example', 'and', 'consumer', 'spending', 'across', 'the', 'board', 'seems', 'solid', 'though', 'not', 'great', 'after', 'plunging', 'september', 'and', 'october', 'and', 'dipping', 'november', 'consumer', 'confidence', 'recovered', 'strongly', 'december', 'initial', 'claims', 'for', 'unemployment', 'benefits', 'are', 'dropping', 'although', 'they', 'remain', 'high', 'even', 'the', 'technology', 'sector', 'seems', 'bottoming', 'out', 'after', 'yearlong', 'slump', 'over', 'the', 'last', 'month', 'several', 'leading', 'technology', 'companies', 'including', 'cisco', 'systems', 'the', 'leading', 'maker', 'internet', 'equipment', 'and', 'nokia', 'the', 'finnish', 'cellular', 'phone', 'company', 'have', 'reported', 'that', 'business', 'better', 'than', 'analysts', 'expected', 'the', 'transition', 'from', 'recession', 'recovery', 'will', 'start', 'the', 'spring', 'said', 'stuart', 'hoffman', 'chief', 'economist', 'the', 'pnc', 'financial', 'services', 'group', 'which', 'manages', 'more', 'than', 'billion', 'bonds', 'and', 'stocks', 'the', 'recovery', 'being', 'driven', 'the', 'federal', 'reserve', 'which', 'cut', 'short', 'term', 'interest', 'rates', 'times', 'last', 'year', 'and', 'plunging', 'prices', 'for', 'oil', 'and', 'natural', 'gas', 'said', 'tobias', 'levkovich', 'equity', 'strategist', 'salomon', 'smith', 'barney', 'the', 'combination', 'lower', 'rates', 'and', 'lower', 'energy', 'prices', 'gives', 'consumers', 'and', 'business', 'more', 'money', 'spend', 'other', 'goods', 'and', 'services', 'helping', 'stimulate', 'the', 'economy', 'addition', 'companies', 'spent', 'much', 'working', 'off', 'excess', 'inventories', 'even', 'moderate', 'increase', 'demand', 'this', 'year', 'will', 'lead', 'higher', 'production', 'and', 'profits', 'and', 'with', 'inflation', 'low', 'the', 'federal', 'reserve', 'will', 'face', 'little', 'pressure', 'increase', 'short', 'term', 'interest', 'rates', 'when', 'the', 'economy', 'does', 'rally', 'think', 'the', 'market', 'has', 'seen', 'the', 'worst', 'and', 'that', 'the', 'tendency', 'for', 'the', 'market', 'will', 'grind', 'its', 'way', 'higher', 'said', 'gail', 'seneca', 'chief', 'investment', 'officer', 'seneca', 'capital', 'management', 'which', 'manages', 'billion', 'seneca', 'says', 'that', 'the', 'amp', 'will', 'gain', 'percent', 'she', 'expects', 'stocks', 'midsize', 'companies', 'those', 'valued', 'billion', 'billion', 'better', 'rising', 'much', 'percent', 'and', 'she', 'likes', 'specialty', 'pharmaceutical', 'companies', 'and', 'niche', 'manufacturing', 'companies', 'two', 'her', 'favorites', 'are', 'the', 'spx', 'corp', 'which', 'makes', 'specialty', 'tools', 'and', 'equipment', 'and', 'the', 'biovail', 'corp', 'which', 'creates', 'time', 'release', 'versions', 'both', 'branded', 'and', 'generic', 'drugs', 'before', 'investors', 'grow', 'too', 'excited', 'analysts', 'warn', 'that', 'they', 'should', 'recognize', 'that', 'this', 'year', 'recovery', 'may', 'not', 'strong', 'other', 'post', 'recession', 'bounces', 'consumers', 'are', 'carrying', 'heavy', 'debt', 'loads', 'and', 'not', 'have', 'much', 'room', 'increase', 'their', 'spending', 'while', 'businesses', 'are', 'still', 'trying', 'figure', 'out', 'whether', 'the', 'investments', 'they', 'made', 'computers', 'and', 'internet', 'equipment', 'the', 'end', 'the', '1990s', 'were', 'smart', 'even', 'with', 'the', 'fed', 'rate', 'cuts', 'corporate', 'spending', 'computers', 'and', 'communications', 'equipment', 'percent', 'lower', 'now', 'than', 'the', 'end', 'long', 'term', 'interest', 'rates', 'which', 'are', 'crucial', 'for', 'both', 'the', 'economy', 'and', 'the', 'stock', 'market', 'have', 'meanwhile', 'crept', 'higher', 'over', 'the', 'last', 'month', 'after', 'falling', 'low', 'percent', 'november', 'the', 'interest', 'rate', 'the', 'year', 'treasury', 'note', 'benchmark', 'for', 'mortgages', 'and', 'corporate', 'bonds', 'had', 'climbed', 'percent', 'monday', 'and', 'short', 'term', 'interest', 'rates', 'are', 'already', 'low', 'that', 'the', 'federal', 'reserve', 'does', 'not', 'have', 'much', 'room', 'cut', 'them', 'further', 'the', 'fed', 'the', 'nation', 'central', 'bank', 'last', 'month', 'cut', 'its', 'benchmark', 'federal', 'funds', 'rate', 'the', 'interest', 'charged', 'overnight', 'loans', 'among', 'banks', 'percent', 'the', 'lowest', 'level', 'four', 'decades', 'addition', 'investors', 'are', 'generally', 'too', 'optimistic', 'about', 'the', 'speed', 'which', 'corporate', 'profits', 'will', 'recover', 'after', 'recession', 'said', 'steven', 'wieting', 'senior', 'economist', 'salomon', 'smith', 'barney', 'the', 'end', 'the', 'average', 'market', 'strategist', 'estimated', 'that', 'profits', 'for', 'companies', 'the', 'amp', 'index', 'would', 'rise', 'percent', 'fact', 'profits', 'fell', 'percent', 'the', 'consensus', 'for', 'for', 'net', 'operating', 'profit', 'per', 'share', 'for', 'the', 'stocks', 'the', 'amp', 'index', 'increase', 'percent', 'according', 'analysts', 'surveyed', 'thomson', 'financial', 'first', 'call', 'wieting', 'notes', 'that', 'the', 'amp', 'rallied', 'strongly', 'even', 'though', 'profits', 'were', 'far', 'short', 'expectations', 'but', 'warns', 'that', 'profit', 'shortfall', 'might', 'have', 'more', 'severe', 'consequences', 'because', 'stocks', 'are', 'more', 'expensive', 'relative', 'their', 'earnings', 'than', 'they', 'were', 'decade', 'ago', 'the', 'amp', 'price', 'earnings', 'ratio', 'stands', 'today', 'excluding', 'one', 'time', 'charges', 'compared', 'with', 'january', 'and', 'historical', 'average', 'the', 'mid', 'teens', 'with', 'the', 'amp', 'already', 'expensive', 'price', 'earnings', 'ratios', 'will', 'probably', 'not', 'expand', 'further', 'stocks', 'will', 'rise', 'only', 'quickly', 'profits', 'wieting', 'said', 'all', 'got', 'ahead', 'are', 'just', 'expectations', 'recovery', 'earnings', 'said', 'the', 'problem', 'even', 'more', 'acute', 'the', 'technology', 'sector', 'which', 'has', 'had', 'the', 'biggest', 'gains', 'this', 'fall', 'the', 'stocks', 'some', 'smaller', 'technology', 'companies', 'have', 'tripled', 'quadrupled', 'value', 'since', 'bottoming', 'out', 'late', 'september', 'even', 'giants', 'like', 'intel', 'have', 'posted', 'gains', 'percent', 'more', 'the', 'average', 'large', 'technology', 'stock', 'now', 'trades', 'more', 'than', 'times', 'its', 'annual', 'profits', 'according', 'salomon', 'smith', 'barney', 'that', 'the', 'second', 'highest', 'level', 'ever', 'after', 'ratios', 'seen', 'the', 'fall', 'there', 'are', 'number', 'companies', 'that', 'still', 'have', 'very', 'very', 'high', 'multiples', 'said', 'michelle', 'clayman', 'chief', 'investment', 'officer', 'new', 'amsterdam', 'partners', 'which', 'manages', 'billion', 'clayman', 'said', 'investors', 'seemed', 'hoping', 'that', 'technology', 'companies', 'would', 'rapidly', 'return', 'the', 'sales', 'and', 'profits', 'they', 'posted', 'during', 'the', 'internet', 'bubble', 'and', 'early', 'very', 'tempting', 'say', 'tech', 'led', 'the', 'market', 'the', 'bull', 'market', 'that', 'where', 'you', 'need', 'clayman', 'said', 'but', 'investors', 'need', 'recognize', 'that', 'the', 'technology', 'spending', 'bubble', 'unlikely', 'repeated', 'she', 'said', 'instead', 'clayman', 'likes', 'capital', 'goods', 'and', 'basic', 'materials', 'companies', 'well', 'some', 'energy', 'companies', 'among', 'her', 'top', 'picks', 'pogo', 'producing', 'billion', 'energy', 'company', 'with', 'wells', 'the', 'gulf', 'mexico', 'texas', 'and', 'louisiana', 'pogo', 'has', 'nice', 'properties', 'their', 'own', 'yet', 'the', 'same', 'time', 'there', 'been', 'lot', 'consolidation', 'the', 'oil', 'patch', 'and', 'this', 'acquisition', 'target', 'she', 'said', 'potential', 'pothole', 'the', 'declining', 'quality', 'financial', 'reporting', 'investors', 'have', 'largely', 'shrugged', 'off', 'the', 'collapse', 'enron', 'the', 'houston', 'energy', 'trader', 'that', 'filed', 'for', 'bankruptcy', 'after', 'admitting', 'that', 'had', 'for', 'years', 'overstated', 'its', 'profits', 'and', 'understated', 'its', 'debts', 'but', 'other', 'big', 'companies', 'are', 'forced', 'restate', 'their', 'earnings', 'are', 'suddenly', 'denied', 'access', 'credit', 'investors', 'confidence', 'corporate', 'financial', 'statements', 'could', 'severely', 'shaken', 'addition', 'there', 'real', 'but', 'unquantifiable', 'risk', 'another', 'major', 'terrorist', 'attack', 'which', 'could', 'hurt', 'consumer', 'confidence', 'and', 'the', 'economy', 'most', 'analysts', 'say', 'they', 'are', 'simply', 'assuming', 'that', 'second', 'attack', 'will', 'not', 'occur', 'because', 'they', 'have', 'way', 'figuring', 'out', 'what', 'the', 'effects', 'attack', 'might', 'how', 'likely', 'happen', 'finally', 'the', 'united', 'states', 'will', 'probably', 'not', 'get', 'much', 'help', 'from', 'either', 'europe', 'where', 'growth', 'has', 'been', 'anemic', 'for', 'years', 'japan', 'where', 'the', 'economy', 'has', 'been', 'mired', 'decade', 'long', 'slump', 'nor', 'have', 'overseas', 'stock', 'markets', 'had', 'much', 'appeal', 'for', 'investors', 'all', 'the', 'major', 'european', 'markets', 'well', 'those', 'japan', 'and', 'hong', 'kong', 'have', 'performed', 'worse', 'than', 'the', 'amp', 'last', 'year', 'despite', 'the', 'possible', 'roadblocks', 'the', 'combination', 'low', 'inflation', 'low', 'energy', 'prices', 'and', 'decent', 'economic', 'growth', 'should', 'produce', 'solid', 'gains', 'for', 'the', 'market', 'this', 'year', 'levkovich', 'salomon', 'smith', 'barney', 'said', 'predicts', 'that', 'the', 'amp', 'could', 'close', 'this', 'year', 'between', 'and', 'gain', 'percent', 'although', 'not', 'sanguine', 'about', 'and', 'beyond', 'got', 'ourselves', 'into', 'mode', 'the', 'last', 'five', 'years', 'that', 'percent', 'gains', 'were', 'normal', 'levkovich', 'said', 'and', 'that', 'not', 'normal', 'attention', 'editors', 'all', 'photos', 'and', 'graphics', 'from', 'the', 'new', 'york', 'times', 'news', 'service', 'are', 'now', 'available', 'nytimages', 'com', 'clients', 'who', 'have', 'either', 'photo', 'graphics', 'account', 'with', 'the', 'wieck', 'database', 'can', 'use', 'the', 'same', 'username', 'and', 'password', 'access', 'the', 'images', 'there', 'charge', 'for', 'browsing', 'but', 'you', 'would', 'like', 'more', 'information', 'establishing', 'account', 'download', 'art', 'from', 'nytimages', 'com', 'special', 'rate', 'please', 'call', 'here', 'are', 'the', 'new', 'york', 'times', 'news', 'service', 'macintosh', 'graphics', 'scheduled', 'for', 'ams', 'wednesday', 'they', 'are', 'available', 'all', 'nyt', 'graphic', 'clients', 'via', 'satellite', 'associated', 'press', 'graphicsnet', 'and', 'will', 'posted', 'nytimages', 'com', 'and', 'newscom', 'for', 'retransmission', 'graphics', 'from', 'the', 'call', 'the', 'service', 'desk', 'non', 'subscribers', 'may', 'make', 'individual', 'graphics', 'purchases', 'get', 'additional', 'information', 'calling', 'the', 'nyt', 'photo', 'graphics', 'desk', 'between', 'noon', 'and', 'edt', 'attention', 'editors', 'the', 'following', 'graphic', 'longer', 'running', 'terror', 'toll', 'update', 'general', 'locator', 'map', 'desert', 'nyt', 'locator', 'map', 'locator', 'map', 'border', 'nyt', 'locator', 'map', 'network', 'share', 'weekly', 'feature', 'weekly', 'television', 'ratings', 'science', 'there', 'are', 'graphics', 'scheduled', 'this', 'time', 'travel', 'whatsdoing', 'singapore', 'travel', 'feature', 'locator', 'map', 'vital', 'stats', 'singapore', 'travel', 'feature', 'city', 'expense', 'information', 'glance', 'foreign', 'rates', 'travel', 'feature', 'rates', 'paid', 'travelers', 'the', 'for', 'each', 'dollar', 'exchanged', 'lowest', 'air', 'fares', 'travel', 'feature', 'the', 'lowest', 'restricted', 'and', 'unrestricted', 'round', 'trip', 'airfares', 'events', 'calendar', 'travel', 'feature', 'locations', 'dates', 'and', 'contacts', 'for', 'events', 'around', 'the', 'world', 'financial', 'there', 'are', 'graphics', 'scheduled', 'this', 'time', 'outlook', 'nasdaq', 'companies', 'stand', 'alone', 'graphic', 'ipo', 'slump', 'drop', 'listed', 'companies', 'nasdaq', 'ipo', 'stand', 'alone', 'graphic', 'ipos', 'outlook', 'roundtable', '38p6', 'outlook', 'investors', 'nyt', 'predictions', 'roundtable', 'participants', 'outlook', 'bonds', 'outlook', 'bonds', 'nyt', 'year', 'returns', 'types', 'bonds', 'outlook', 'dollar', 'outlook', 'currency', 'nyt', 'chart', 'showing', 'dollar', 'strength', 'outlook', 'oil', 'produce', 'outlook', 'oil', 'nyt', 'avg', 'daily', 'oil', 'production', 'since', 'outlook', 'market', 'outlook', 'market', 'nyt', 'stock', 'markets', 'interest', 'rates', 'currencies', 'commodities', 'outlook', 'bond', 'amp', 'treasure', 'outlook', 'bankruptcies', 'nyt', 'spread', 'junk', 'bonds', 'versus', 'treasuries', 'daily', 'business', 'minute', 'minute', '22p6', 'dow', 'activity', 'minute', 'minute', 'hiloclose', '25p6', 'amp', 'high', 'low', 'and', 'close', 'nyse', 'volume', '25p6', 'volume', 'the', 'nyse', 'key', 'rates', '12p6', 'treasury', 'bonds', 'notes', 'and', 'bills', 'arrows', '22p6', 'market', 'performance', 'indicators', 'world', 'biz', '25p4', 'amp', 'arrows', 'msci', 'world', 'stock', 'daily', 'weather', 'color', 'weather', 'national', 'forecast', 'map', 'color', 'amp', 'weather', 'national', 'forecast', 'map', 'moon', 'phases', 'the', 'phases', 'the', 'moon', 'the', 'new', 'york', 'times', 'news', 'service'], tags=[7]), TaggedDocument(words=['nowhere', 'the', 'laws', 'supply', 'and', 'demand', 'govern', 'economic', 'activity', 'more', 'nakedly', 'completely', 'than', 'the', 'buying', 'and', 'selling', 'commodities', 'for', 'the', 'most', 'part', 'commodity', 'prices', 'moved', 'lower', 'for', 'the', 'better', 'part', 'because', 'supplies', 'were', 'high', 'demand', 'contracted', 'and', 'the', 'dollar', 'the', 'currency', 'which', 'most', 'commodities', 'are', 'priced', 'was', 'strong', 'the', 'outlook', 'for', 'this', 'year', 'not', 'much', 'different', 'even', 'the', 'global', 'economy', 'begins', 'recover', 'order', 'have', 'recovery', 'prices', 'are', 'going', 'need', 'more', 'than', 'modest', 'recovery', 'economic', 'activity', 'said', 'steve', 'strongin', 'director', 'commodities', 'research', 'goldman', 'sachs', 'amp', 'draw', 'down', 'inventories', 'are', 'going', 'need', 'substantial', 'rebound', 'growth', 'percent', 'percent', 'for', 'few', 'quarters', 'percent', 'for', 'couple', 'years', 'would', 'unweighted', 'index', 'commodities', 'futures', 'prices', 'published', 'the', 'commodity', 'research', 'bureau', 'rose', 'percent', 'largely', 'because', 'sharp', 'gains', 'energy', 'prices', 'the', 'year', 'just', 'concluded', 'that', 'same', 'index', 'fell', 'more', 'than', 'percent', 'after', 'reaching', 'its', 'high', 'jan', 'closed', 'the', 'year', 'the', 'crb', 'index', 'will', 'probably', 'recover', 'somewhat', 'next', 'year', 'said', 'david', 'rinehimer', 'head', 'futures', 'research', 'salomon', 'smith', 'barney', 'but', 'without', 'weather', 'event', 'some', 'exogenous', 'factor', 'you', 'can', 'predict', 'don', 'see', 'any', 'markets', 'that', 'should', 'have', 'dynamic', 'moves', 'the', 'upside', 'get', 'excited', 'about', 'for', 'most', 'last', 'year', 'energy', 'prices', 'were', 'the', 'exception', 'the', 'relentless', 'slide', 'futures', 'prices', 'but', 'they', 'tumbled', 'late', 'the', 'year', 'supply', 'glut', 'the', 'organization', 'the', 'petroleum', 'exporting', 'countries', 'struggled', 'try', 'persuade', 'other', 'oil', 'producing', 'nations', 'agree', 'cut', 'production', 'crude', 'oil', 'which', 'began', 'the', 'year', 'the', 'new', 'york', 'mercantile', 'exchange', 'climbed', 'above', 'and', 'stayed', 'the', 'upper', '20s', 'until', 'plunged', 'from', 'post', 'attack', 'high', 'sept', 'the', 'end', 'the', 'year', 'abundant', 'harvests', 'dragged', 'down', 'prices', 'grains', 'and', 'consumables', 'like', 'coffee', 'livestock', 'and', 'meat', 'prices', 'also', 'fell', 'natural', 'disasters', 'drought', 'low', 'commodity', 'prices', 'and', 'global', 'surpluses', 'have', 'hurt', 'producers', 'agriculture', 'secretary', 'ann', 'veneman', 'said', 'last', 'month', 'corn', 'billion', 'year', 'export', 'for', 'the', 'united', 'states', 'and', 'the', 'nation', 'most', 'important', 'feed', 'grain', 'for', 'raising', 'beef', 'pork', 'and', 'poultry', 'for', 'americans', 'tables', 'fell', 'from', 'high', 'almost', 'bushel', 'early', 'the', 'end', 'the', 'year', 'one', 'reason', 'for', 'the', 'price', 'slides', 'was', 'that', 'export', 'markets', 'were', 'shrinking', 'since', 'december', 'when', 'japanese', 'inspectors', 'said', 'that', 'tests', 'shipments', 'corn', 'had', 'detected', 'starlink', 'genetically', 'modified', 'corn', 'that', 'not', 'approved', 'for', 'human', 'consumption', 'the', 'united', 'states', 'and', 'banned', 'japan', 'and', 'some', 'other', 'nations', 'the', 'agriculture', 'department', 'said', 'corn', 'exports', 'were', 'running', 'percent', 'lower', 'far', 'this', 'crop', 'year', 'compared', 'with', 'the', 'period', 'japan', 'taiwan', 'egypt', 'and', 'mexico', 'the', 'biggest', 'buyers', 'corn', 'have', 'all', 'cut', 'purchases', 'other', 'grains', 'also', 'retreated', 'wheat', 'futures', 'slipped', 'percent', 'from', 'end', 'the', 'year', 'bushel', 'industrial', 'commodity', 'prices', 'were', 'undercut', 'sharp', 'decline', 'manufacturing', 'precious', 'metals', 'like', 'gold', 'once', 'weather', 'vane', 'inflation', 'expectations', 'also', 'ended', 'lower', 'gold', 'closed', 'ounce', 'down', 'from', 'high', 'sept', 'and', 'from', 'the', 'the', 'end', 'large', 'measure', 'the', 'market', 'became', 'saturated', 'with', 'goods', 'because', 'the', 'start', 'producers', 'had', 'little', 'reason', 'expect', 'the', 'world', 'economy', 'would', 'stumble', 'demand', 'was', 'lot', 'weaker', 'than', 'anticipated', 'the', 'beginning', 'the', 'year', 'rinehimer', 'said', 'not', 'many', 'folks', 'were', 'looking', 'global', 'recession', 'william', 'byers', 'director', 'futures', 'research', 'bear', 'stearns', 'said', 'that', 'historically', 'people', 'have', 'looked', 'the', 'supply', 'side', 'the', 'most', 'important', 'part', 'the', 'equation', 'because', 'demand', 'for', 'most', 'commodities', 'usually', 'pretty', 'static', 'there', 'are', 'signs', 'that', 'the', 'imbalance', 'supply', 'and', 'demand', 'beginning', 'right', 'itself', 'strongin', 'said', 'but', 'will', 'take', 'many', 'months', 'before', 'the', 'change', 'shows', 'prices', 'and', 'will', 'take', 'some', 'time', 'bring', 'commodity', 'prices', 'back', 'where', 'they', 'stood', 'the', 'end', 'reflecting', 'the', 'slump', 'the', 'industrial', 'economy', 'copper', 'prices', 'are', 'down', 'about', 'percent', 'this', 'year', 'cotton', 'down', 'more', 'than', 'percent', 'coffee', 'prices', 'reflecting', 'abundant', 'harvests', 'have', 'plunged', 'nearly', 'percent', 'that', 'they', 'are', 'close', 'year', 'lows', 'the', 'slump', 'has', 'aggravated', 'already', 'weak', 'conditions', 'developing', 'countries', 'like', 'chile', 'and', 'brazil', 'which', 'are', 'major', 'commodity', 'exporters', 'brazil', 'forecasting', 'coffee', 'crop', 'that', 'could', 'match', 'the', 'record', 'set', 'million', 'pound', 'bags', 'the', 'agriculture', 'department', 'puts', 'brazil', 'harvest', 'estimated', 'million', 'bags', 'contrast', 'some', 'commodities', 'like', 'aluminum', 'capacity', 'has', 'been', 'shrinking', 'important', 'producing', 'areas', 'like', 'brazil', 'and', 'the', 'pacific', 'northwest', 'investment', 'very', 'low', 'with', 'net', 'reduction', 'capacity', 'strongin', 'said', 'still', 'will', 'take', 'time', 'for', 'inventories', 'worked', 'off', 'tracked', 'the', 'london', 'metal', 'exchange', 'industrial', 'metal', 'inventories', 'bottomed', 'the', 'first', 'quarter', 'said', 'byers', 'bear', 'stearns', 'and', 'have', 'been', 'rising', 'ever', 'since', 'this', 'decent', 'indicator', 'what', 'going', 'the', 'market', 'said', 'the', 'time', 'that', 'indicator', 'turns', 'prices', 'will', 'have', 'already', 'moved', 'consequently', 'analysts', 'say', 'next', 'january', 'the', 'picture', 'will', 'look', 'much', 'brighter', 'there', 'was', 'excess', 'capacity', 'for', 'much', 'the', '1990s', 'strongin', 'said', 'would', 'expect', 'prices', 'stabilize', 'over', 'the', 'next', 'six', 'nine', 'months', 'and', 'then', 'move', 'higher', 'highly', 'likely', 'you', 'will', 'hearing', 'very', 'optimistic', 'statements', 'months', 'from', 'now'], tags=[8]), TaggedDocument(words=['after', 'year', 'filled', 'with', 'failures', 'the', 'high', 'yield', 'debt', 'market', 'junk', 'bonds', 'are', 'expected', 'live', 'their', 'name', 'again', 'with', 'the', 'economy', 'weak', 'and', 'many', 'companies', 'carrying', 'lot', 'debt', 'default', 'rates', 'junk', 'bonds', 'will', 'probably', 'rise', 'new', 'highs', 'this', 'year', 'analysts', 'say', 'but', 'that', 'prospect', 'has', 'not', 'deterred', 'junk', 'bond', 'investors', 'who', 'returned', 'the', 'market', 'with', 'some', 'vigor', 'the', 'fall', 'like', 'stock', 'investors', 'high', 'yield', 'bondholders', 'are', 'expecting', 'the', 'nation', 'economy', 'recover', 'this', 'year', 'and', 'figure', 'that', 'prices', 'junk', 'bonds', 'have', 'already', 'fallen', 'far', 'enough', 'compensate', 'them', 'for', 'the', 'higher', 'risk', 'defaults', 'analysts', 'say', 'the', 'market', 'has', 'already', 'adjusted', 'reduced', 'expectations', 'said', 'sean', 'egan', 'the', 'managing', 'director', 'the', 'egan', 'jones', 'ratings', 'independent', 'bond', 'rating', 'agency', 'wynnewood', 'the', 'bonds', 'are', 'already', 'way', 'down', 'the', 'last', 'months', 'have', 'been', 'any', 'standard', 'grim', 'stretch', 'for', 'high', 'yield', 'debt', 'the', 'worst', 'year', 'since', 'when', 'the', 'united', 'states', 'last', 'fell', 'into', 'recession', 'about', 'percent', 'high', 'yield', 'bonds', 'defaulted', 'last', 'year', 'from', 'percent', 'junk', 'bonds', 'over', 'all', 'including', 'investment', 'grade', 'debt', 'dec', 'there', 'had', 'been', 'defaults', 'bond', 'issuers', 'around', 'the', 'world', 'billion', 'debt', 'according', 'standard', 'amp', 'poor', 'sharply', 'from', 'when', 'companies', 'defaulted', 'billion', 'debt', 'leading', 'the', 'march', 'down', 'were', 'the', 'telecommunications', 'companies', 'that', 'raised', 'hundreds', 'billions', 'dollars', 'from', 'investors', 'during', 'the', 'last', 'five', 'years', 'build', 'high', 'speed', 'fiber', 'optic', 'networks', 'around', 'the', 'world', 'the', 'list', 'high', 'profile', 'telecommunications', 'bankruptcies', 'includes', 'winstar', 'communications', '360networks', 'and', 'the', 'home', 'corp', 'and', 'more', 'big', 'defaults', 'the', 'sector', 'are', 'expected', 'global', 'crossing', 'which', 'has', 'billion', 'debt', 'announced', 'dec', 'that', 'had', 'suspended', 'paying', 'dividends', 'some', 'its', 'preferred', 'stock', 'conserve', 'cash', 'overall', 'high', 'yield', 'bond', 'defaults', 'will', 'probably', 'peak', 'the', 'summer', 'said', 'diane', 'vazza', 'the', 'managing', 'director', 'for', 'global', 'fixed', 'income', 'research', 'amp', 'are', 'looking', 'bottom', 'recession', 'the', 'first', 'quarter', 'vazza', 'said', 'typically', 'defaults', 'peak', 'six', 'months', 'after', 'that', 'standard', 'amp', 'poor', 'forecasts', 'defaults', 'percent', 'high', 'yield', 'debt', 'struggling', 'companies', 'burn', 'through', 'their', 'cash', 'but', 'the', 'market', 'has', 'already', 'anticipated', 'many', 'those', 'defaults', 'she', 'said', 'result', 'some', 'investors', 'are', 'still', 'opening', 'their', 'pockets', 'buy', 'junk', 'debt', 'despite', 'the', 'rising', 'default', 'rate', 'companies', 'were', 'able', 'issue', 'billion', 'high', 'yield', 'bonds', 'last', 'year', 'compared', 'with', 'billion', 'vazza', 'said', 'the', 'credit', 'quality', 'junk', 'bonds', 'varies', 'widely', 'the', 'upper', 'end', 'the', 'junk', 'spectrum', 'are', 'those', 'rated', 'ba1', 'moody', 'investors', 'service', 'amp', 'bonds', 'that', 'the', 'rating', 'agencies', 'consider', 'riskier', 'because', 'the', 'issuing', 'companies', 'and', 'municipalities', 'have', 'less', 'likelihood', 'repaying', 'them', 'may', 'rated', 'triple', 'even', 'unrated', 'junk', 'prices', 'are', 'also', 'much', 'more', 'volatile', 'than', 'those', 'other', 'bonds', 'often', 'moving', 'tandem', 'with', 'the', 'equity', 'markets', 'after', 'sept', 'junk', 'bonds', 'tumbled', 'along', 'with', 'stocks', 'but', 'the', 'end', 'last', 'year', 'prices', 'were', 'and', 'yields', 'easing', 'the', 'sector', 'one', 'sign', 'that', 'the', 'billion', 'junk', 'market', 'has', 'stabilized', 'the', 'shrinking', 'spread', 'yields', 'between', 'junk', 'bonds', 'and', 'bonds', 'issued', 'the', 'federal', 'government', 'which', 'are', 'considered', 'the', 'safest', 'form', 'debt', 'ten', 'year', 'junk', 'bonds', 'ended', 'the', 'year', 'paying', 'interest', 'rate', 'percent', 'percentage', 'points', 'higher', 'than', 'the', 'year', 'treasury', 'note', 'according', 'bloomberg', 'financial', 'markets', 'that', 'spread', 'was', 'down', 'considerably', 'from', 'oct', 'when', 'the', 'high', 'yield', 'rate', 'peaked', 'percent', 'percentage', 'points', 'above', 'the', 'year', 'treasury', 'the', 'shrinking', 'spread', 'means', 'that', 'investors', 'are', 'not', 'demanding', 'much', 'extra', 'interest', 'buy', 'junk', 'bonds', 'also', 'the', 'ratio', 'credit', 'rating', 'downgrades', 'upgrades', 'expected', 'drop', 'quickly', 'another', 'sign', 'that', 'companies', 'are', 'becoming', 'healthier', 'and', 'bonds', 'less', 'risky', 'vazza', 'said', 'there', 'will', 'still', 'companies', 'that', 'are', 'defaulting', 'she', 'said', 'but', 'terms', 'credit', 'quality', 'are', 'going', 'see', 'improvement', 'still', 'junk', 'bonds', 'remain', 'too', 'risky', 'for', 'many', 'investors', 'said', 'stuart', 'hoffman', 'chief', 'economist', 'the', 'pnc', 'financial', 'services', 'group', 'pittsburgh', 'they', 'may', 'yield', 'more', 'than', 'treasuries', 'but', 'the', 'risk', 'being', 'wrong', 'much', 'greater', 'the', 'downside', 'for', 'investors', 'who', 'want', 'speculate', 'high', 'yield', 'bonds', 'one', 'alternative', 'may', 'junk', 'bond', 'mutual', 'fund', 'which', 'can', 'offer', 'investors', 'the', 'relative', 'safety', 'diversification'], tags=[9])] \n",
      "\n"
     ]
    },
    {
     "name": "stderr",
     "output_type": "stream",
     "text": [
      "/usr/local/lib/python3.6/dist-packages/smart_open/smart_open_lib.py:402: UserWarning: This function is deprecated, use smart_open.open instead. See the migration notes for details: https://github.com/RaRe-Technologies/smart_open/blob/master/README.rst#migrating-to-the-new-open-function\n",
      "  'See the migration notes for details: %s' % _MIGRATION_NOTES_URL\n"
     ]
    },
    {
     "name": "stdout",
     "output_type": "stream",
     "text": [
      "[-0.02604702  0.05160572  0.15603408  0.03523102 -0.0684602 ]\n"
     ]
    }
   ],
   "source": [
    "#TODO change this according to the task\n",
    "# small set of tokenized sentences\n",
    "from gensim.test.utils import common_texts\n",
    "from gensim.models.doc2vec import Doc2Vec, TaggedDocument\n",
    "# just a test set of tokenized sentences\n",
    "print(all_data[:10], \"\\n\")\n",
    "documents = [TaggedDocument(doc, [i]) for i, doc in enumerate(all_data.doc.values)]\n",
    "print(documents[:10], \"\\n\")\n",
    "# train a model\n",
    "model = Doc2Vec(\n",
    "    documents,     # collection of texts\n",
    "    vector_size=5, # output vector size\n",
    "    window=2,      # maximum distance between the target word and its neighboring word\n",
    "    min_count=1,   # minimal number of \n",
    "    workers=4      # in parallel\n",
    ")\n",
    "\n",
    "# clean training data\n",
    "model.delete_temporary_training_data(keep_doctags_vectors=True, keep_inference=True)\n",
    "\n",
    "# save and load\n",
    "model.save(\"d2v.model\")\n",
    "model = Doc2Vec.load(\"d2v.model\")\n",
    "\n",
    "vec = model.infer_vector([\"system\", \"response\"])\n",
    "print(vec)"
   ]
  },
  {
   "cell_type": "markdown",
   "metadata": {
    "colab_type": "text",
    "id": "yn8P09o-J7SX"
   },
   "source": [
    "### 2.4 Form train and test datasets\n",
    "\n",
    "Transform documents to vectors and split data to train and test sets. Make sure that the split is stratified as the classes are imbalanced."
   ]
  },
  {
   "cell_type": "code",
   "execution_count": 0,
   "metadata": {
    "colab": {},
    "colab_type": "code",
    "id": "fWtVLHTKJ7SY"
   },
   "outputs": [],
   "source": [
    "#TODO transform and make a train-test split\n",
    "from sklearn.model_selection import train_test_split\n",
    "X_train, X_test, y_train, y_test = train_test_split(all_data.doc, all_data.label, stratify=all_data.label, shuffle = True , random_state = 89,test_size=0.25)\n"
   ]
  },
  {
   "cell_type": "markdown",
   "metadata": {
    "colab_type": "text",
    "id": "k3MnRNQ4J7Sc"
   },
   "source": [
    "### 2.5 Train topics classifier\n",
    "\n",
    "Train a classifier that would classify any document to one of four categories: fuel, brain injury, music, and economy.\n",
    "Print a classification report for test data."
   ]
  },
  {
   "cell_type": "code",
   "execution_count": 14,
   "metadata": {
    "colab": {
     "base_uri": "https://localhost:8080/",
     "height": 204
    },
    "colab_type": "code",
    "id": "pfTwh28uJ7Sd",
    "outputId": "50bb8118-616c-4efc-ed98-4cea4a816984"
   },
   "outputs": [
    {
     "name": "stdout",
     "output_type": "stream",
     "text": [
      "              precision    recall  f1-score   support\n",
      "\n",
      "     economy       0.67      0.78      0.72       518\n",
      "        fuel       0.43      0.17      0.24       211\n",
      " braininjury       1.00      1.00      1.00      2501\n",
      "       music       0.74      0.79      0.76       521\n",
      "\n",
      "    accuracy                           0.89      3751\n",
      "   macro avg       0.71      0.68      0.68      3751\n",
      "weighted avg       0.88      0.89      0.88      3751\n",
      "\n"
     ]
    }
   ],
   "source": [
    "#TODO train a classifier and measure its performance\n",
    "from sklearn.ensemble import RandomForestClassifier\n",
    "from sklearn.metrics import classification_report, f1_score\n",
    "\n",
    "train_embeddings = np.array([model.infer_vector(doc_words = doc_words).tolist() for doc_words in X_train]) \n",
    "test_embeddings = np.array([model.infer_vector(doc_words = doc_words).tolist() for doc_words in X_test])\n",
    "\n",
    "rf = RandomForestClassifier(n_estimators=50)\n",
    "rf.fit(train_embeddings,y_train.values)\n",
    "y_pred = rf.predict(test_embeddings)\n",
    "\n",
    "print(classification_report(y_test.values, y_pred,target_names=label_mapping.values()))"
   ]
  },
  {
   "cell_type": "markdown",
   "metadata": {
    "colab_type": "text",
    "id": "sqZpJsI0J7Sh"
   },
   "source": [
    "Which class is the hardest one to recognize? <br> \n",
    "**Answer** : Fuel news"
   ]
  },
  {
   "cell_type": "markdown",
   "metadata": {
    "colab_type": "text",
    "id": "FSriJjOXJ7Si"
   },
   "source": [
    "### 2.6 Bonus task\n",
    "\n",
    "What if we trained our `doc2vec` model using window size = 5 or 10? Would it improve the classification acccuracy? What about vector dimensionality? Does it mean that increasing it we will achieve better performance in terms of classification?\n",
    "\n",
    "Explore the influence of these parameters on classification performance, visualizing it as a graph (e.g. window size vs f1-score, vector dim vs f1-score)."
   ]
  },
  {
   "cell_type": "code",
   "execution_count": 15,
   "metadata": {
    "colab": {
     "base_uri": "https://localhost:8080/",
     "height": 354,
     "referenced_widgets": [
      "150a440654a547a5b892a59c465a72e7",
      "624b65f73af44b4a99149418fc033266",
      "2758ba3658e346b4986367066e366536",
      "9b2509ac6c2c4cdc80401f9981650d0f",
      "951ac5639f5442adb975999ef69db15e",
      "739c11f3ed6441b5b91f1bbd70f5c09e",
      "8bc4fda38f9740349933ef7a79afb69c",
      "9bba2962094d4e4483cb8e7c425443bf",
      "84a432cab28f428ca5df21edf111493e",
      "dee5df0f36584e6f9e0ee00b006da3ed",
      "888e912fd90145d7badd182747756c81",
      "2f353c828e8b4bd6b74470b3fcb271a5",
      "bc09094ec30941b9907026b7ff850c53",
      "2eab7c98e3ea43c0ae16c7e4560d0948",
      "e06b276965c34332be0e8f3bc848bd65",
      "e6fb97c158d246b89f4d106ba9dca510",
      "170049fc0d914b30840ecffed3b0245b",
      "61e0c6ee4d2a467ca7aa5eb63f285b34",
      "fdff260078b14c24a0eb4cfac0ac456e",
      "414a96a1aae64ce9995271d2899aafcf",
      "91a4aa4a0d4d428981d967c98b27b11d",
      "cf42d250cb724647ab5b7ad9614725ea",
      "05894dc5b10d4909b70b8922cdbeed20",
      "f4aff43dcf1843be9a13fbaff97e53dc",
      "0fef66ce373943e09e8d8d480b805e6f",
      "c5fc89fafa08437a93783e4ac229d9e0",
      "4de336ac8ddc4cffb805d6709dd3ba49",
      "9f73bd5a01cb46b4a5fd97ab508ddb55",
      "8cf74fe77ffc468f959fa2d9994fdb34",
      "dfb0e5440af14d66be726c390d05a169",
      "4bc3a419fbc2461b8b7eabde4f6046c6",
      "577dfafbf7c549b3a8deb241f4156744",
      "dce1901c9b2048e384cee75b9a76843e",
      "497f7133783646c998851bb5e9781c84",
      "d12f874a68fa4ec38c741188b0cfb99a",
      "714c6dc693844d2e935ce266d3e493ae",
      "0febcfb46a18454e9ea866e00ff8f97c",
      "bc429548f0994cdaa54f81cc9f21c721",
      "9380f5da8e1948b19447b14755564094",
      "5c7ba6a3f5584f1aaedb1da1c89bee4e",
      "95ff68175f054bcbaeb2bf2e86b50808",
      "bcb28ff11e1a40a2b0b272a7e4ae490a",
      "425da1b4ece84af6ba6be26ea8087066",
      "6783c09120184bf6aaf9d4a4868b8722",
      "3120c51eee95438aae83b6b3ee7dc1f1",
      "cf1b2c99255e4713825e0376fd098844",
      "7b14bc6d37204773a6993feb555de719",
      "bf1f355f6e2e43ee9883503637d2dc8d",
      "df8b550c8f2f4adba976090455272406",
      "f94eed65e955471cbb63d6fcab9240a3",
      "93240c440f834e15b4302f6d519918f5",
      "407c6402ba3e466ab77e0d243635f660",
      "42365b1c6c4a41e985ea2fc1d0dec5fc",
      "1634b94164934249a0322e1b90f751fa",
      "c65a9d5144db426fb36ca69c88f4eaf6",
      "f71b35301d1d403fb3c616ff6987019f",
      "257abea8ef8c4bd9925f75a183873f46",
      "350fba3dfa9b4582a7086c1da0e4253d",
      "b6e284738b9244648d0b2fd1fe4c855d",
      "7895ac85168a4d6ea49156fec2f68fc8",
      "c6f695d52d0749a6bb9e979530322073",
      "473420d2fdf4405fb202e60867e57762",
      "a42ef75f139c4070853f2c894a6f1a9e",
      "99e4a1cc94ee42af9f183714e53fa68b",
      "50dc685901fc49f3bb89f4e5abf447d1",
      "21190437a4f640b2886d87960c5027e4",
      "4ded8176f37043d3ac5d9ee83249ebfe",
      "5e97c4b74e974d0dacef70dc05b27b5c",
      "53cb0f91ba664939b20dba1438f91148",
      "a99f434c306241f8be37af5663ad0aab",
      "12808e094e86452e8c8de9e1afe39e7b",
      "6aae5e9597b8401ba2b849ee75d716ee",
      "0605d519a81849409904d742ee515279",
      "f693bb1c1b734dd59d455384e2155f06",
      "126bf0b2d9e04bd5bf851e53c3273351",
      "031074a2746944a68451b33d0d1479d0",
      "8ef8eb52f5f548528283fca297264b53",
      "7bf9241307bb476e85e1c0d083188f4a",
      "92ac81f027734fb1b17b2f9fd4218c7a",
      "c7acedd9804d476593f4e7945e416726"
     ]
    },
    "colab_type": "code",
    "id": "-LmWSuczJ7Sj",
    "outputId": "68103d56-a4c4-4880-9993-ee897ee7f1d3"
   },
   "outputs": [
    {
     "data": {
      "application/vnd.jupyter.widget-view+json": {
       "model_id": "150a440654a547a5b892a59c465a72e7",
       "version_major": 2,
       "version_minor": 0
      },
      "text/plain": [
       "HBox(children=(IntProgress(value=0, max=9), HTML(value='')))"
      ]
     },
     "metadata": {
      "tags": []
     },
     "output_type": "display_data"
    },
    {
     "data": {
      "application/vnd.jupyter.widget-view+json": {
       "model_id": "84a432cab28f428ca5df21edf111493e",
       "version_major": 2,
       "version_minor": 0
      },
      "text/plain": [
       "HBox(children=(IntProgress(value=0, max=9), HTML(value='')))"
      ]
     },
     "metadata": {
      "tags": []
     },
     "output_type": "display_data"
    },
    {
     "data": {
      "application/vnd.jupyter.widget-view+json": {
       "model_id": "170049fc0d914b30840ecffed3b0245b",
       "version_major": 2,
       "version_minor": 0
      },
      "text/plain": [
       "HBox(children=(IntProgress(value=0, max=9), HTML(value='')))"
      ]
     },
     "metadata": {
      "tags": []
     },
     "output_type": "display_data"
    },
    {
     "data": {
      "application/vnd.jupyter.widget-view+json": {
       "model_id": "0fef66ce373943e09e8d8d480b805e6f",
       "version_major": 2,
       "version_minor": 0
      },
      "text/plain": [
       "HBox(children=(IntProgress(value=0, max=9), HTML(value='')))"
      ]
     },
     "metadata": {
      "tags": []
     },
     "output_type": "display_data"
    },
    {
     "data": {
      "application/vnd.jupyter.widget-view+json": {
       "model_id": "dce1901c9b2048e384cee75b9a76843e",
       "version_major": 2,
       "version_minor": 0
      },
      "text/plain": [
       "HBox(children=(IntProgress(value=0, max=9), HTML(value='')))"
      ]
     },
     "metadata": {
      "tags": []
     },
     "output_type": "display_data"
    },
    {
     "data": {
      "application/vnd.jupyter.widget-view+json": {
       "model_id": "95ff68175f054bcbaeb2bf2e86b50808",
       "version_major": 2,
       "version_minor": 0
      },
      "text/plain": [
       "HBox(children=(IntProgress(value=0, max=9), HTML(value='')))"
      ]
     },
     "metadata": {
      "tags": []
     },
     "output_type": "display_data"
    },
    {
     "data": {
      "application/vnd.jupyter.widget-view+json": {
       "model_id": "df8b550c8f2f4adba976090455272406",
       "version_major": 2,
       "version_minor": 0
      },
      "text/plain": [
       "HBox(children=(IntProgress(value=0, max=9), HTML(value='')))"
      ]
     },
     "metadata": {
      "tags": []
     },
     "output_type": "display_data"
    },
    {
     "data": {
      "application/vnd.jupyter.widget-view+json": {
       "model_id": "257abea8ef8c4bd9925f75a183873f46",
       "version_major": 2,
       "version_minor": 0
      },
      "text/plain": [
       "HBox(children=(IntProgress(value=0, max=9), HTML(value='')))"
      ]
     },
     "metadata": {
      "tags": []
     },
     "output_type": "display_data"
    },
    {
     "data": {
      "application/vnd.jupyter.widget-view+json": {
       "model_id": "50dc685901fc49f3bb89f4e5abf447d1",
       "version_major": 2,
       "version_minor": 0
      },
      "text/plain": [
       "HBox(children=(IntProgress(value=0, max=9), HTML(value='')))"
      ]
     },
     "metadata": {
      "tags": []
     },
     "output_type": "display_data"
    },
    {
     "data": {
      "application/vnd.jupyter.widget-view+json": {
       "model_id": "0605d519a81849409904d742ee515279",
       "version_major": 2,
       "version_minor": 0
      },
      "text/plain": [
       "HBox(children=(IntProgress(value=0, max=9), HTML(value='')))"
      ]
     },
     "metadata": {
      "tags": []
     },
     "output_type": "display_data"
    },
    {
     "name": "stdout",
     "output_type": "stream",
     "text": [
      "\n"
     ]
    }
   ],
   "source": [
    "#TODO bonus task\n",
    "# for window & vector size\n",
    "\n",
    "res = []\n",
    "documents = [TaggedDocument(doc, [i]) for i, doc in enumerate(all_data.doc.values)]\n",
    "for w in tqdm.tqdm_notebook(np.arange(1,10)):\n",
    "  for v in tqdm.tqdm_notebook(np.arange(1,10)):\n",
    "    model = Doc2Vec(documents,vector_size=v,window=w,min_count=1, workers=4)\n",
    "    model.delete_temporary_training_data(keep_doctags_vectors=True, keep_inference=True)\n",
    "\n",
    "    train_embeddings = np.array([model.infer_vector(doc_words = doc_words).tolist() for doc_words in X_train]) \n",
    "    test_embeddings = np.array([model.infer_vector(doc_words = doc_words).tolist() for doc_words in X_test])\n",
    "\n",
    "    rf = RandomForestClassifier(n_estimators=50)\n",
    "    rf.fit(train_embeddings,y_train.values)\n",
    "    y_pred = rf.predict(test_embeddings)\n",
    "\n",
    "    f1 = f1_score(y_test.values, y_pred,average=\"weighted\")\n",
    "    res.append([w,v,f1])\n",
    "\n",
    "res = pd.DataFrame(res,columns=[\"window_size\",\"vector_size\",\"fscore\"])"
   ]
  },
  {
   "cell_type": "code",
   "execution_count": 38,
   "metadata": {
    "colab": {
     "base_uri": "https://localhost:8080/",
     "height": 607
    },
    "colab_type": "code",
    "id": "R61RrzhtENGv",
    "outputId": "b3492c89-47eb-468c-a6f6-e824489021d1"
   },
   "outputs": [
    {
     "data": {
      "image/png": "[encoded data removed]",
      "text/plain": [
       "<Figure size 864x576 with 2 Axes>"
      ]
     },
     "metadata": {
      "tags": []
     },
     "output_type": "display_data"
    }
   ],
   "source": [
    "from matplotlib import pyplot as plt\n",
    "from matplotlib import cm\n",
    "from mpl_toolkits.mplot3d import Axes3D\n",
    "%matplotlib inline\n",
    "\n",
    "fig = plt.figure(figsize=(12,8))\n",
    "ax = Axes3D(fig)\n",
    "surf = ax.plot_trisurf(res.window_size, res.vector_size,res.fscore, cmap=cm.jet, linewidth=0.1)\n",
    "ax.set_xlabel('window')\n",
    "ax.set_ylabel('Vector size')\n",
    "ax.set_zlabel('F1 score')\n",
    "ax.set_title(\"Random Forest classifier perfomace with respect to Doc2vec window and vector size\",pad=5,fontdict={\n",
    "    \"fontweight\" : \"bold\",\n",
    "    \"fontsize\":14\n",
    "})\n",
    "fig.colorbar(surf, shrink=0.5, aspect=5)\n",
    "# plt.savefig(\"task4.png\",pad_inches=0.3)\n",
    "plt.show()"
   ]
  },
  {
   "cell_type": "markdown",
   "metadata": {
    "colab_type": "text",
    "id": "uNcHwjNQeZgs"
   },
   "source": [
    "## Conclusion \n",
    "\n",
    "- The value of of `window` and `vector_size` in the Doc2vec model has an effect on the perfomace of Random Forest classifier (f1 score). \n",
    "- Increasing only `vector_size` does not guarantee increase in perfomace , so is increasing only `window`. \n",
    "- **Solution to improving classifier perfomance** : search for optimal values of `window` & `vector_size` which maximizes chosen classifier fscore . example shown from the above 3D plot.\n",
    "<!-- - The perfomace of Random Forest classifier in terms of f-score value of `window`  -->"
   ]
  }
 ],
 "metadata": {
  "colab": {
   "collapsed_sections": [],
   "name": "Doc2vec_Gcinizwe.ipynb",
   "provenance": []
  },
  "kernelspec": {
   "display_name": "Python 3",
   "language": "python",
   "name": "python3"
  },
  "language_info": {
   "codemirror_mode": {
    "name": "ipython",
    "version": 3
   },
   "file_extension": ".py",
   "mimetype": "text/x-python",
   "name": "python",
   "nbconvert_exporter": "python",
   "pygments_lexer": "ipython3",
   "version": "3.6.5"
  },
  "widgets": {
   "application/vnd.jupyter.widget-state+json": {
    "031074a2746944a68451b33d0d1479d0": {
     "model_module": "@jupyter-widgets/controls",
     "model_name": "HTMLModel",
     "state": {
      "_dom_classes": [],
      "_model_module": "@jupyter-widgets/controls",
      "_model_module_version": "1.5.0",
      "_model_name": "HTMLModel",
      "_view_count": null,
      "_view_module": "@jupyter-widgets/controls",
      "_view_module_version": "1.5.0",
      "_view_name": "HTMLView",
      "description": "",
      "description_tooltip": null,
      "layout": "IPY_MODEL_c7acedd9804d476593f4e7945e416726",
      "placeholder": "​",
      "style": "IPY_MODEL_92ac81f027734fb1b17b2f9fd4218c7a",
      "value": "100% 9/9 [22:26&lt;00:00, 153.25s/it]"
     }
    },
    "05894dc5b10d4909b70b8922cdbeed20": {
     "model_module": "@jupyter-widgets/controls",
     "model_name": "DescriptionStyleModel",
     "state": {
      "_model_module": "@jupyter-widgets/controls",
      "_model_module_version": "1.5.0",
      "_model_name": "DescriptionStyleModel",
      "_view_count": null,
      "_view_module": "@jupyter-widgets/base",
      "_view_module_version": "1.2.0",
      "_view_name": "StyleView",
      "description_width": ""
     }
    },
    "0605d519a81849409904d742ee515279": {
     "model_module": "@jupyter-widgets/controls",
     "model_name": "HBoxModel",
     "state": {
      "_dom_classes": [],
      "_model_module": "@jupyter-widgets/controls",
      "_model_module_version": "1.5.0",
      "_model_name": "HBoxModel",
      "_view_count": null,
      "_view_module": "@jupyter-widgets/controls",
      "_view_module_version": "1.5.0",
      "_view_name": "HBoxView",
      "box_style": "",
      "children": [
       "IPY_MODEL_126bf0b2d9e04bd5bf851e53c3273351",
       "IPY_MODEL_031074a2746944a68451b33d0d1479d0"
      ],
      "layout": "IPY_MODEL_f693bb1c1b734dd59d455384e2155f06"
     }
    },
    "0febcfb46a18454e9ea866e00ff8f97c": {
     "model_module": "@jupyter-widgets/controls",
     "model_name": "ProgressStyleModel",
     "state": {
      "_model_module": "@jupyter-widgets/controls",
      "_model_module_version": "1.5.0",
      "_model_name": "ProgressStyleModel",
      "_view_count": null,
      "_view_module": "@jupyter-widgets/base",
      "_view_module_version": "1.2.0",
      "_view_name": "StyleView",
      "bar_color": null,
      "description_width": ""
     }
    },
    "0fef66ce373943e09e8d8d480b805e6f": {
     "model_module": "@jupyter-widgets/controls",
     "model_name": "HBoxModel",
     "state": {
      "_dom_classes": [],
      "_model_module": "@jupyter-widgets/controls",
      "_model_module_version": "1.5.0",
      "_model_name": "HBoxModel",
      "_view_count": null,
      "_view_module": "@jupyter-widgets/controls",
      "_view_module_version": "1.5.0",
      "_view_name": "HBoxView",
      "box_style": "",
      "children": [
       "IPY_MODEL_4de336ac8ddc4cffb805d6709dd3ba49",
       "IPY_MODEL_9f73bd5a01cb46b4a5fd97ab508ddb55"
      ],
      "layout": "IPY_MODEL_c5fc89fafa08437a93783e4ac229d9e0"
     }
    },
    "126bf0b2d9e04bd5bf851e53c3273351": {
     "model_module": "@jupyter-widgets/controls",
     "model_name": "IntProgressModel",
     "state": {
      "_dom_classes": [],
      "_model_module": "@jupyter-widgets/controls",
      "_model_module_version": "1.5.0",
      "_model_name": "IntProgressModel",
      "_view_count": null,
      "_view_module": "@jupyter-widgets/controls",
      "_view_module_version": "1.5.0",
      "_view_name": "ProgressView",
      "bar_style": "success",
      "description": "",
      "description_tooltip": null,
      "layout": "IPY_MODEL_7bf9241307bb476e85e1c0d083188f4a",
      "max": 9,
      "min": 0,
      "orientation": "horizontal",
      "style": "IPY_MODEL_8ef8eb52f5f548528283fca297264b53",
      "value": 9
     }
    },
    "12808e094e86452e8c8de9e1afe39e7b": {
     "model_module": "@jupyter-widgets/controls",
     "model_name": "DescriptionStyleModel",
     "state": {
      "_model_module": "@jupyter-widgets/controls",
      "_model_module_version": "1.5.0",
      "_model_name": "DescriptionStyleModel",
      "_view_count": null,
      "_view_module": "@jupyter-widgets/base",
      "_view_module_version": "1.2.0",
      "_view_name": "StyleView",
      "description_width": ""
     }
    },
    "150a440654a547a5b892a59c465a72e7": {
     "model_module": "@jupyter-widgets/controls",
     "model_name": "HBoxModel",
     "state": {
      "_dom_classes": [],
      "_model_module": "@jupyter-widgets/controls",
      "_model_module_version": "1.5.0",
      "_model_name": "HBoxModel",
      "_view_count": null,
      "_view_module": "@jupyter-widgets/controls",
      "_view_module_version": "1.5.0",
      "_view_name": "HBoxView",
      "box_style": "",
      "children": [
       "IPY_MODEL_2758ba3658e346b4986367066e366536",
       "IPY_MODEL_9b2509ac6c2c4cdc80401f9981650d0f"
      ],
      "layout": "IPY_MODEL_624b65f73af44b4a99149418fc033266"
     }
    },
    "1634b94164934249a0322e1b90f751fa": {
     "model_module": "@jupyter-widgets/base",
     "model_name": "LayoutModel",
     "state": {
      "_model_module": "@jupyter-widgets/base",
      "_model_module_version": "1.2.0",
      "_model_name": "LayoutModel",
      "_view_count": null,
      "_view_module": "@jupyter-widgets/base",
      "_view_module_version": "1.2.0",
      "_view_name": "LayoutView",
      "align_content": null,
      "align_items": null,
      "align_self": null,
      "border": null,
      "bottom": null,
      "display": null,
      "flex": null,
      "flex_flow": null,
      "grid_area": null,
      "grid_auto_columns": null,
      "grid_auto_flow": null,
      "grid_auto_rows": null,
      "grid_column": null,
      "grid_gap": null,
      "grid_row": null,
      "grid_template_areas": null,
      "grid_template_columns": null,
      "grid_template_rows": null,
      "height": null,
      "justify_content": null,
      "justify_items": null,
      "left": null,
      "margin": null,
      "max_height": null,
      "max_width": null,
      "min_height": null,
      "min_width": null,
      "object_fit": null,
      "object_position": null,
      "order": null,
      "overflow": null,
      "overflow_x": null,
      "overflow_y": null,
      "padding": null,
      "right": null,
      "top": null,
      "visibility": null,
      "width": null
     }
    },
    "170049fc0d914b30840ecffed3b0245b": {
     "model_module": "@jupyter-widgets/controls",
     "model_name": "HBoxModel",
     "state": {
      "_dom_classes": [],
      "_model_module": "@jupyter-widgets/controls",
      "_model_module_version": "1.5.0",
      "_model_name": "HBoxModel",
      "_view_count": null,
      "_view_module": "@jupyter-widgets/controls",
      "_view_module_version": "1.5.0",
      "_view_name": "HBoxView",
      "box_style": "",
      "children": [
       "IPY_MODEL_fdff260078b14c24a0eb4cfac0ac456e",
       "IPY_MODEL_414a96a1aae64ce9995271d2899aafcf"
      ],
      "layout": "IPY_MODEL_61e0c6ee4d2a467ca7aa5eb63f285b34"
     }
    },
    "21190437a4f640b2886d87960c5027e4": {
     "model_module": "@jupyter-widgets/base",
     "model_name": "LayoutModel",
     "state": {
      "_model_module": "@jupyter-widgets/base",
      "_model_module_version": "1.2.0",
      "_model_name": "LayoutModel",
      "_view_count": null,
      "_view_module": "@jupyter-widgets/base",
      "_view_module_version": "1.2.0",
      "_view_name": "LayoutView",
      "align_content": null,
      "align_items": null,
      "align_self": null,
      "border": null,
      "bottom": null,
      "display": null,
      "flex": null,
      "flex_flow": null,
      "grid_area": null,
      "grid_auto_columns": null,
      "grid_auto_flow": null,
      "grid_auto_rows": null,
      "grid_column": null,
      "grid_gap": null,
      "grid_row": null,
      "grid_template_areas": null,
      "grid_template_columns": null,
      "grid_template_rows": null,
      "height": null,
      "justify_content": null,
      "justify_items": null,
      "left": null,
      "margin": null,
      "max_height": null,
      "max_width": null,
      "min_height": null,
      "min_width": null,
      "object_fit": null,
      "object_position": null,
      "order": null,
      "overflow": null,
      "overflow_x": null,
      "overflow_y": null,
      "padding": null,
      "right": null,
      "top": null,
      "visibility": null,
      "width": null
     }
    },
    "257abea8ef8c4bd9925f75a183873f46": {
     "model_module": "@jupyter-widgets/controls",
     "model_name": "HBoxModel",
     "state": {
      "_dom_classes": [],
      "_model_module": "@jupyter-widgets/controls",
      "_model_module_version": "1.5.0",
      "_model_name": "HBoxModel",
      "_view_count": null,
      "_view_module": "@jupyter-widgets/controls",
      "_view_module_version": "1.5.0",
      "_view_name": "HBoxView",
      "box_style": "",
      "children": [
       "IPY_MODEL_b6e284738b9244648d0b2fd1fe4c855d",
       "IPY_MODEL_7895ac85168a4d6ea49156fec2f68fc8"
      ],
      "layout": "IPY_MODEL_350fba3dfa9b4582a7086c1da0e4253d"
     }
    },
    "2758ba3658e346b4986367066e366536": {
     "model_module": "@jupyter-widgets/controls",
     "model_name": "IntProgressModel",
     "state": {
      "_dom_classes": [],
      "_model_module": "@jupyter-widgets/controls",
      "_model_module_version": "1.5.0",
      "_model_name": "IntProgressModel",
      "_view_count": null,
      "_view_module": "@jupyter-widgets/controls",
      "_view_module_version": "1.5.0",
      "_view_name": "ProgressView",
      "bar_style": "success",
      "description": "",
      "description_tooltip": null,
      "layout": "IPY_MODEL_739c11f3ed6441b5b91f1bbd70f5c09e",
      "max": 9,
      "min": 0,
      "orientation": "horizontal",
      "style": "IPY_MODEL_951ac5639f5442adb975999ef69db15e",
      "value": 9
     }
    },
    "2eab7c98e3ea43c0ae16c7e4560d0948": {
     "model_module": "@jupyter-widgets/base",
     "model_name": "LayoutModel",
     "state": {
      "_model_module": "@jupyter-widgets/base",
      "_model_module_version": "1.2.0",
      "_model_name": "LayoutModel",
      "_view_count": null,
      "_view_module": "@jupyter-widgets/base",
      "_view_module_version": "1.2.0",
      "_view_name": "LayoutView",
      "align_content": null,
      "align_items": null,
      "align_self": null,
      "border": null,
      "bottom": null,
      "display": null,
      "flex": null,
      "flex_flow": null,
      "grid_area": null,
      "grid_auto_columns": null,
      "grid_auto_flow": null,
      "grid_auto_rows": null,
      "grid_column": null,
      "grid_gap": null,
      "grid_row": null,
      "grid_template_areas": null,
      "grid_template_columns": null,
      "grid_template_rows": null,
      "height": null,
      "justify_content": null,
      "justify_items": null,
      "left": null,
      "margin": null,
      "max_height": null,
      "max_width": null,
      "min_height": null,
      "min_width": null,
      "object_fit": null,
      "object_position": null,
      "order": null,
      "overflow": null,
      "overflow_x": null,
      "overflow_y": null,
      "padding": null,
      "right": null,
      "top": null,
      "visibility": null,
      "width": null
     }
    },
    "2f353c828e8b4bd6b74470b3fcb271a5": {
     "model_module": "@jupyter-widgets/controls",
     "model_name": "HTMLModel",
     "state": {
      "_dom_classes": [],
      "_model_module": "@jupyter-widgets/controls",
      "_model_module_version": "1.5.0",
      "_model_name": "HTMLModel",
      "_view_count": null,
      "_view_module": "@jupyter-widgets/controls",
      "_view_module_version": "1.5.0",
      "_view_name": "HTMLView",
      "description": "",
      "description_tooltip": null,
      "layout": "IPY_MODEL_e6fb97c158d246b89f4d106ba9dca510",
      "placeholder": "​",
      "style": "IPY_MODEL_e06b276965c34332be0e8f3bc848bd65",
      "value": "100% 9/9 [20:14&lt;00:00, 138.67s/it]"
     }
    },
    "3120c51eee95438aae83b6b3ee7dc1f1": {
     "model_module": "@jupyter-widgets/controls",
     "model_name": "ProgressStyleModel",
     "state": {
      "_model_module": "@jupyter-widgets/controls",
      "_model_module_version": "1.5.0",
      "_model_name": "ProgressStyleModel",
      "_view_count": null,
      "_view_module": "@jupyter-widgets/base",
      "_view_module_version": "1.2.0",
      "_view_name": "StyleView",
      "bar_color": null,
      "description_width": ""
     }
    },
    "350fba3dfa9b4582a7086c1da0e4253d": {
     "model_module": "@jupyter-widgets/base",
     "model_name": "LayoutModel",
     "state": {
      "_model_module": "@jupyter-widgets/base",
      "_model_module_version": "1.2.0",
      "_model_name": "LayoutModel",
      "_view_count": null,
      "_view_module": "@jupyter-widgets/base",
      "_view_module_version": "1.2.0",
      "_view_name": "LayoutView",
      "align_content": null,
      "align_items": null,
      "align_self": null,
      "border": null,
      "bottom": null,
      "display": null,
      "flex": null,
      "flex_flow": null,
      "grid_area": null,
      "grid_auto_columns": null,
      "grid_auto_flow": null,
      "grid_auto_rows": null,
      "grid_column": null,
      "grid_gap": null,
      "grid_row": null,
      "grid_template_areas": null,
      "grid_template_columns": null,
      "grid_template_rows": null,
      "height": null,
      "justify_content": null,
      "justify_items": null,
      "left": null,
      "margin": null,
      "max_height": null,
      "max_width": null,
      "min_height": null,
      "min_width": null,
      "object_fit": null,
      "object_position": null,
      "order": null,
      "overflow": null,
      "overflow_x": null,
      "overflow_y": null,
      "padding": null,
      "right": null,
      "top": null,
      "visibility": null,
      "width": null
     }
    },
    "407c6402ba3e466ab77e0d243635f660": {
     "model_module": "@jupyter-widgets/controls",
     "model_name": "HTMLModel",
     "state": {
      "_dom_classes": [],
      "_model_module": "@jupyter-widgets/controls",
      "_model_module_version": "1.5.0",
      "_model_name": "HTMLModel",
      "_view_count": null,
      "_view_module": "@jupyter-widgets/controls",
      "_view_module_version": "1.5.0",
      "_view_name": "HTMLView",
      "description": "",
      "description_tooltip": null,
      "layout": "IPY_MODEL_f71b35301d1d403fb3c616ff6987019f",
      "placeholder": "​",
      "style": "IPY_MODEL_c65a9d5144db426fb36ca69c88f4eaf6",
      "value": "100% 9/9 [21:22&lt;00:00, 146.75s/it]"
     }
    },
    "414a96a1aae64ce9995271d2899aafcf": {
     "model_module": "@jupyter-widgets/controls",
     "model_name": "HTMLModel",
     "state": {
      "_dom_classes": [],
      "_model_module": "@jupyter-widgets/controls",
      "_model_module_version": "1.5.0",
      "_model_name": "HTMLModel",
      "_view_count": null,
      "_view_module": "@jupyter-widgets/controls",
      "_view_module_version": "1.5.0",
      "_view_name": "HTMLView",
      "description": "",
      "description_tooltip": null,
      "layout": "IPY_MODEL_f4aff43dcf1843be9a13fbaff97e53dc",
      "placeholder": "​",
      "style": "IPY_MODEL_05894dc5b10d4909b70b8922cdbeed20",
      "value": "100% 9/9 [21:13&lt;00:00, 145.46s/it]"
     }
    },
    "42365b1c6c4a41e985ea2fc1d0dec5fc": {
     "model_module": "@jupyter-widgets/controls",
     "model_name": "ProgressStyleModel",
     "state": {
      "_model_module": "@jupyter-widgets/controls",
      "_model_module_version": "1.5.0",
      "_model_name": "ProgressStyleModel",
      "_view_count": null,
      "_view_module": "@jupyter-widgets/base",
      "_view_module_version": "1.2.0",
      "_view_name": "StyleView",
      "bar_color": null,
      "description_width": ""
     }
    },
    "425da1b4ece84af6ba6be26ea8087066": {
     "model_module": "@jupyter-widgets/controls",
     "model_name": "IntProgressModel",
     "state": {
      "_dom_classes": [],
      "_model_module": "@jupyter-widgets/controls",
      "_model_module_version": "1.5.0",
      "_model_name": "IntProgressModel",
      "_view_count": null,
      "_view_module": "@jupyter-widgets/controls",
      "_view_module_version": "1.5.0",
      "_view_name": "ProgressView",
      "bar_style": "success",
      "description": "",
      "description_tooltip": null,
      "layout": "IPY_MODEL_cf1b2c99255e4713825e0376fd098844",
      "max": 9,
      "min": 0,
      "orientation": "horizontal",
      "style": "IPY_MODEL_3120c51eee95438aae83b6b3ee7dc1f1",
      "value": 9
     }
    },
    "473420d2fdf4405fb202e60867e57762": {
     "model_module": "@jupyter-widgets/base",
     "model_name": "LayoutModel",
     "state": {
      "_model_module": "@jupyter-widgets/base",
      "_model_module_version": "1.2.0",
      "_model_name": "LayoutModel",
      "_view_count": null,
      "_view_module": "@jupyter-widgets/base",
      "_view_module_version": "1.2.0",
      "_view_name": "LayoutView",
      "align_content": null,
      "align_items": null,
      "align_self": null,
      "border": null,
      "bottom": null,
      "display": null,
      "flex": null,
      "flex_flow": null,
      "grid_area": null,
      "grid_auto_columns": null,
      "grid_auto_flow": null,
      "grid_auto_rows": null,
      "grid_column": null,
      "grid_gap": null,
      "grid_row": null,
      "grid_template_areas": null,
      "grid_template_columns": null,
      "grid_template_rows": null,
      "height": null,
      "justify_content": null,
      "justify_items": null,
      "left": null,
      "margin": null,
      "max_height": null,
      "max_width": null,
      "min_height": null,
      "min_width": null,
      "object_fit": null,
      "object_position": null,
      "order": null,
      "overflow": null,
      "overflow_x": null,
      "overflow_y": null,
      "padding": null,
      "right": null,
      "top": null,
      "visibility": null,
      "width": null
     }
    },
    "497f7133783646c998851bb5e9781c84": {
     "model_module": "@jupyter-widgets/base",
     "model_name": "LayoutModel",
     "state": {
      "_model_module": "@jupyter-widgets/base",
      "_model_module_version": "1.2.0",
      "_model_name": "LayoutModel",
      "_view_count": null,
      "_view_module": "@jupyter-widgets/base",
      "_view_module_version": "1.2.0",
      "_view_name": "LayoutView",
      "align_content": null,
      "align_items": null,
      "align_self": null,
      "border": null,
      "bottom": null,
      "display": null,
      "flex": null,
      "flex_flow": null,
      "grid_area": null,
      "grid_auto_columns": null,
      "grid_auto_flow": null,
      "grid_auto_rows": null,
      "grid_column": null,
      "grid_gap": null,
      "grid_row": null,
      "grid_template_areas": null,
      "grid_template_columns": null,
      "grid_template_rows": null,
      "height": null,
      "justify_content": null,
      "justify_items": null,
      "left": null,
      "margin": null,
      "max_height": null,
      "max_width": null,
      "min_height": null,
      "min_width": null,
      "object_fit": null,
      "object_position": null,
      "order": null,
      "overflow": null,
      "overflow_x": null,
      "overflow_y": null,
      "padding": null,
      "right": null,
      "top": null,
      "visibility": null,
      "width": null
     }
    },
    "4bc3a419fbc2461b8b7eabde4f6046c6": {
     "model_module": "@jupyter-widgets/controls",
     "model_name": "DescriptionStyleModel",
     "state": {
      "_model_module": "@jupyter-widgets/controls",
      "_model_module_version": "1.5.0",
      "_model_name": "DescriptionStyleModel",
      "_view_count": null,
      "_view_module": "@jupyter-widgets/base",
      "_view_module_version": "1.2.0",
      "_view_name": "StyleView",
      "description_width": ""
     }
    },
    "4de336ac8ddc4cffb805d6709dd3ba49": {
     "model_module": "@jupyter-widgets/controls",
     "model_name": "IntProgressModel",
     "state": {
      "_dom_classes": [],
      "_model_module": "@jupyter-widgets/controls",
      "_model_module_version": "1.5.0",
      "_model_name": "IntProgressModel",
      "_view_count": null,
      "_view_module": "@jupyter-widgets/controls",
      "_view_module_version": "1.5.0",
      "_view_name": "ProgressView",
      "bar_style": "success",
      "description": "",
      "description_tooltip": null,
      "layout": "IPY_MODEL_dfb0e5440af14d66be726c390d05a169",
      "max": 9,
      "min": 0,
      "orientation": "horizontal",
      "style": "IPY_MODEL_8cf74fe77ffc468f959fa2d9994fdb34",
      "value": 9
     }
    },
    "4ded8176f37043d3ac5d9ee83249ebfe": {
     "model_module": "@jupyter-widgets/controls",
     "model_name": "IntProgressModel",
     "state": {
      "_dom_classes": [],
      "_model_module": "@jupyter-widgets/controls",
      "_model_module_version": "1.5.0",
      "_model_name": "IntProgressModel",
      "_view_count": null,
      "_view_module": "@jupyter-widgets/controls",
      "_view_module_version": "1.5.0",
      "_view_name": "ProgressView",
      "bar_style": "success",
      "description": "",
      "description_tooltip": null,
      "layout": "IPY_MODEL_a99f434c306241f8be37af5663ad0aab",
      "max": 9,
      "min": 0,
      "orientation": "horizontal",
      "style": "IPY_MODEL_53cb0f91ba664939b20dba1438f91148",
      "value": 9
     }
    },
    "50dc685901fc49f3bb89f4e5abf447d1": {
     "model_module": "@jupyter-widgets/controls",
     "model_name": "HBoxModel",
     "state": {
      "_dom_classes": [],
      "_model_module": "@jupyter-widgets/controls",
      "_model_module_version": "1.5.0",
      "_model_name": "HBoxModel",
      "_view_count": null,
      "_view_module": "@jupyter-widgets/controls",
      "_view_module_version": "1.5.0",
      "_view_name": "HBoxView",
      "box_style": "",
      "children": [
       "IPY_MODEL_4ded8176f37043d3ac5d9ee83249ebfe",
       "IPY_MODEL_5e97c4b74e974d0dacef70dc05b27b5c"
      ],
      "layout": "IPY_MODEL_21190437a4f640b2886d87960c5027e4"
     }
    },
    "53cb0f91ba664939b20dba1438f91148": {
     "model_module": "@jupyter-widgets/controls",
     "model_name": "ProgressStyleModel",
     "state": {
      "_model_module": "@jupyter-widgets/controls",
      "_model_module_version": "1.5.0",
      "_model_name": "ProgressStyleModel",
      "_view_count": null,
      "_view_module": "@jupyter-widgets/base",
      "_view_module_version": "1.2.0",
      "_view_name": "StyleView",
      "bar_color": null,
      "description_width": ""
     }
    },
    "577dfafbf7c549b3a8deb241f4156744": {
     "model_module": "@jupyter-widgets/base",
     "model_name": "LayoutModel",
     "state": {
      "_model_module": "@jupyter-widgets/base",
      "_model_module_version": "1.2.0",
      "_model_name": "LayoutModel",
      "_view_count": null,
      "_view_module": "@jupyter-widgets/base",
      "_view_module_version": "1.2.0",
      "_view_name": "LayoutView",
      "align_content": null,
      "align_items": null,
      "align_self": null,
      "border": null,
      "bottom": null,
      "display": null,
      "flex": null,
      "flex_flow": null,
      "grid_area": null,
      "grid_auto_columns": null,
      "grid_auto_flow": null,
      "grid_auto_rows": null,
      "grid_column": null,
      "grid_gap": null,
      "grid_row": null,
      "grid_template_areas": null,
      "grid_template_columns": null,
      "grid_template_rows": null,
      "height": null,
      "justify_content": null,
      "justify_items": null,
      "left": null,
      "margin": null,
      "max_height": null,
      "max_width": null,
      "min_height": null,
      "min_width": null,
      "object_fit": null,
      "object_position": null,
      "order": null,
      "overflow": null,
      "overflow_x": null,
      "overflow_y": null,
      "padding": null,
      "right": null,
      "top": null,
      "visibility": null,
      "width": null
     }
    },
    "5c7ba6a3f5584f1aaedb1da1c89bee4e": {
     "model_module": "@jupyter-widgets/base",
     "model_name": "LayoutModel",
     "state": {
      "_model_module": "@jupyter-widgets/base",
      "_model_module_version": "1.2.0",
      "_model_name": "LayoutModel",
      "_view_count": null,
      "_view_module": "@jupyter-widgets/base",
      "_view_module_version": "1.2.0",
      "_view_name": "LayoutView",
      "align_content": null,
      "align_items": null,
      "align_self": null,
      "border": null,
      "bottom": null,
      "display": null,
      "flex": null,
      "flex_flow": null,
      "grid_area": null,
      "grid_auto_columns": null,
      "grid_auto_flow": null,
      "grid_auto_rows": null,
      "grid_column": null,
      "grid_gap": null,
      "grid_row": null,
      "grid_template_areas": null,
      "grid_template_columns": null,
      "grid_template_rows": null,
      "height": null,
      "justify_content": null,
      "justify_items": null,
      "left": null,
      "margin": null,
      "max_height": null,
      "max_width": null,
      "min_height": null,
      "min_width": null,
      "object_fit": null,
      "object_position": null,
      "order": null,
      "overflow": null,
      "overflow_x": null,
      "overflow_y": null,
      "padding": null,
      "right": null,
      "top": null,
      "visibility": null,
      "width": null
     }
    },
    "5e97c4b74e974d0dacef70dc05b27b5c": {
     "model_module": "@jupyter-widgets/controls",
     "model_name": "HTMLModel",
     "state": {
      "_dom_classes": [],
      "_model_module": "@jupyter-widgets/controls",
      "_model_module_version": "1.5.0",
      "_model_name": "HTMLModel",
      "_view_count": null,
      "_view_module": "@jupyter-widgets/controls",
      "_view_module_version": "1.5.0",
      "_view_name": "HTMLView",
      "description": "",
      "description_tooltip": null,
      "layout": "IPY_MODEL_6aae5e9597b8401ba2b849ee75d716ee",
      "placeholder": "​",
      "style": "IPY_MODEL_12808e094e86452e8c8de9e1afe39e7b",
      "value": "100% 9/9 [22:08&lt;00:00, 152.80s/it]"
     }
    },
    "61e0c6ee4d2a467ca7aa5eb63f285b34": {
     "model_module": "@jupyter-widgets/base",
     "model_name": "LayoutModel",
     "state": {
      "_model_module": "@jupyter-widgets/base",
      "_model_module_version": "1.2.0",
      "_model_name": "LayoutModel",
      "_view_count": null,
      "_view_module": "@jupyter-widgets/base",
      "_view_module_version": "1.2.0",
      "_view_name": "LayoutView",
      "align_content": null,
      "align_items": null,
      "align_self": null,
      "border": null,
      "bottom": null,
      "display": null,
      "flex": null,
      "flex_flow": null,
      "grid_area": null,
      "grid_auto_columns": null,
      "grid_auto_flow": null,
      "grid_auto_rows": null,
      "grid_column": null,
      "grid_gap": null,
      "grid_row": null,
      "grid_template_areas": null,
      "grid_template_columns": null,
      "grid_template_rows": null,
      "height": null,
      "justify_content": null,
      "justify_items": null,
      "left": null,
      "margin": null,
      "max_height": null,
      "max_width": null,
      "min_height": null,
      "min_width": null,
      "object_fit": null,
      "object_position": null,
      "order": null,
      "overflow": null,
      "overflow_x": null,
      "overflow_y": null,
      "padding": null,
      "right": null,
      "top": null,
      "visibility": null,
      "width": null
     }
    },
    "624b65f73af44b4a99149418fc033266": {
     "model_module": "@jupyter-widgets/base",
     "model_name": "LayoutModel",
     "state": {
      "_model_module": "@jupyter-widgets/base",
      "_model_module_version": "1.2.0",
      "_model_name": "LayoutModel",
      "_view_count": null,
      "_view_module": "@jupyter-widgets/base",
      "_view_module_version": "1.2.0",
      "_view_name": "LayoutView",
      "align_content": null,
      "align_items": null,
      "align_self": null,
      "border": null,
      "bottom": null,
      "display": null,
      "flex": null,
      "flex_flow": null,
      "grid_area": null,
      "grid_auto_columns": null,
      "grid_auto_flow": null,
      "grid_auto_rows": null,
      "grid_column": null,
      "grid_gap": null,
      "grid_row": null,
      "grid_template_areas": null,
      "grid_template_columns": null,
      "grid_template_rows": null,
      "height": null,
      "justify_content": null,
      "justify_items": null,
      "left": null,
      "margin": null,
      "max_height": null,
      "max_width": null,
      "min_height": null,
      "min_width": null,
      "object_fit": null,
      "object_position": null,
      "order": null,
      "overflow": null,
      "overflow_x": null,
      "overflow_y": null,
      "padding": null,
      "right": null,
      "top": null,
      "visibility": null,
      "width": null
     }
    },
    "6783c09120184bf6aaf9d4a4868b8722": {
     "model_module": "@jupyter-widgets/controls",
     "model_name": "HTMLModel",
     "state": {
      "_dom_classes": [],
      "_model_module": "@jupyter-widgets/controls",
      "_model_module_version": "1.5.0",
      "_model_name": "HTMLModel",
      "_view_count": null,
      "_view_module": "@jupyter-widgets/controls",
      "_view_module_version": "1.5.0",
      "_view_name": "HTMLView",
      "description": "",
      "description_tooltip": null,
      "layout": "IPY_MODEL_bf1f355f6e2e43ee9883503637d2dc8d",
      "placeholder": "​",
      "style": "IPY_MODEL_7b14bc6d37204773a6993feb555de719",
      "value": "100% 9/9 [21:18&lt;00:00, 147.42s/it]"
     }
    },
    "6aae5e9597b8401ba2b849ee75d716ee": {
     "model_module": "@jupyter-widgets/base",
     "model_name": "LayoutModel",
     "state": {
      "_model_module": "@jupyter-widgets/base",
      "_model_module_version": "1.2.0",
      "_model_name": "LayoutModel",
      "_view_count": null,
      "_view_module": "@jupyter-widgets/base",
      "_view_module_version": "1.2.0",
      "_view_name": "LayoutView",
      "align_content": null,
      "align_items": null,
      "align_self": null,
      "border": null,
      "bottom": null,
      "display": null,
      "flex": null,
      "flex_flow": null,
      "grid_area": null,
      "grid_auto_columns": null,
      "grid_auto_flow": null,
      "grid_auto_rows": null,
      "grid_column": null,
      "grid_gap": null,
      "grid_row": null,
      "grid_template_areas": null,
      "grid_template_columns": null,
      "grid_template_rows": null,
      "height": null,
      "justify_content": null,
      "justify_items": null,
      "left": null,
      "margin": null,
      "max_height": null,
      "max_width": null,
      "min_height": null,
      "min_width": null,
      "object_fit": null,
      "object_position": null,
      "order": null,
      "overflow": null,
      "overflow_x": null,
      "overflow_y": null,
      "padding": null,
      "right": null,
      "top": null,
      "visibility": null,
      "width": null
     }
    },
    "714c6dc693844d2e935ce266d3e493ae": {
     "model_module": "@jupyter-widgets/controls",
     "model_name": "HTMLModel",
     "state": {
      "_dom_classes": [],
      "_model_module": "@jupyter-widgets/controls",
      "_model_module_version": "1.5.0",
      "_model_name": "HTMLModel",
      "_view_count": null,
      "_view_module": "@jupyter-widgets/controls",
      "_view_module_version": "1.5.0",
      "_view_name": "HTMLView",
      "description": "",
      "description_tooltip": null,
      "layout": "IPY_MODEL_5c7ba6a3f5584f1aaedb1da1c89bee4e",
      "placeholder": "​",
      "style": "IPY_MODEL_9380f5da8e1948b19447b14755564094",
      "value": "100% 9/9 [20:40&lt;00:00, 141.75s/it]"
     }
    },
    "739c11f3ed6441b5b91f1bbd70f5c09e": {
     "model_module": "@jupyter-widgets/base",
     "model_name": "LayoutModel",
     "state": {
      "_model_module": "@jupyter-widgets/base",
      "_model_module_version": "1.2.0",
      "_model_name": "LayoutModel",
      "_view_count": null,
      "_view_module": "@jupyter-widgets/base",
      "_view_module_version": "1.2.0",
      "_view_name": "LayoutView",
      "align_content": null,
      "align_items": null,
      "align_self": null,
      "border": null,
      "bottom": null,
      "display": null,
      "flex": null,
      "flex_flow": null,
      "grid_area": null,
      "grid_auto_columns": null,
      "grid_auto_flow": null,
      "grid_auto_rows": null,
      "grid_column": null,
      "grid_gap": null,
      "grid_row": null,
      "grid_template_areas": null,
      "grid_template_columns": null,
      "grid_template_rows": null,
      "height": null,
      "justify_content": null,
      "justify_items": null,
      "left": null,
      "margin": null,
      "max_height": null,
      "max_width": null,
      "min_height": null,
      "min_width": null,
      "object_fit": null,
      "object_position": null,
      "order": null,
      "overflow": null,
      "overflow_x": null,
      "overflow_y": null,
      "padding": null,
      "right": null,
      "top": null,
      "visibility": null,
      "width": null
     }
    },
    "7895ac85168a4d6ea49156fec2f68fc8": {
     "model_module": "@jupyter-widgets/controls",
     "model_name": "HTMLModel",
     "state": {
      "_dom_classes": [],
      "_model_module": "@jupyter-widgets/controls",
      "_model_module_version": "1.5.0",
      "_model_name": "HTMLModel",
      "_view_count": null,
      "_view_module": "@jupyter-widgets/controls",
      "_view_module_version": "1.5.0",
      "_view_name": "HTMLView",
      "description": "",
      "description_tooltip": null,
      "layout": "IPY_MODEL_99e4a1cc94ee42af9f183714e53fa68b",
      "placeholder": "​",
      "style": "IPY_MODEL_a42ef75f139c4070853f2c894a6f1a9e",
      "value": "100% 9/9 [21:41&lt;00:00, 149.16s/it]"
     }
    },
    "7b14bc6d37204773a6993feb555de719": {
     "model_module": "@jupyter-widgets/controls",
     "model_name": "DescriptionStyleModel",
     "state": {
      "_model_module": "@jupyter-widgets/controls",
      "_model_module_version": "1.5.0",
      "_model_name": "DescriptionStyleModel",
      "_view_count": null,
      "_view_module": "@jupyter-widgets/base",
      "_view_module_version": "1.2.0",
      "_view_name": "StyleView",
      "description_width": ""
     }
    },
    "7bf9241307bb476e85e1c0d083188f4a": {
     "model_module": "@jupyter-widgets/base",
     "model_name": "LayoutModel",
     "state": {
      "_model_module": "@jupyter-widgets/base",
      "_model_module_version": "1.2.0",
      "_model_name": "LayoutModel",
      "_view_count": null,
      "_view_module": "@jupyter-widgets/base",
      "_view_module_version": "1.2.0",
      "_view_name": "LayoutView",
      "align_content": null,
      "align_items": null,
      "align_self": null,
      "border": null,
      "bottom": null,
      "display": null,
      "flex": null,
      "flex_flow": null,
      "grid_area": null,
      "grid_auto_columns": null,
      "grid_auto_flow": null,
      "grid_auto_rows": null,
      "grid_column": null,
      "grid_gap": null,
      "grid_row": null,
      "grid_template_areas": null,
      "grid_template_columns": null,
      "grid_template_rows": null,
      "height": null,
      "justify_content": null,
      "justify_items": null,
      "left": null,
      "margin": null,
      "max_height": null,
      "max_width": null,
      "min_height": null,
      "min_width": null,
      "object_fit": null,
      "object_position": null,
      "order": null,
      "overflow": null,
      "overflow_x": null,
      "overflow_y": null,
      "padding": null,
      "right": null,
      "top": null,
      "visibility": null,
      "width": null
     }
    },
    "84a432cab28f428ca5df21edf111493e": {
     "model_module": "@jupyter-widgets/controls",
     "model_name": "HBoxModel",
     "state": {
      "_dom_classes": [],
      "_model_module": "@jupyter-widgets/controls",
      "_model_module_version": "1.5.0",
      "_model_name": "HBoxModel",
      "_view_count": null,
      "_view_module": "@jupyter-widgets/controls",
      "_view_module_version": "1.5.0",
      "_view_name": "HBoxView",
      "box_style": "",
      "children": [
       "IPY_MODEL_888e912fd90145d7badd182747756c81",
       "IPY_MODEL_2f353c828e8b4bd6b74470b3fcb271a5"
      ],
      "layout": "IPY_MODEL_dee5df0f36584e6f9e0ee00b006da3ed"
     }
    },
    "888e912fd90145d7badd182747756c81": {
     "model_module": "@jupyter-widgets/controls",
     "model_name": "IntProgressModel",
     "state": {
      "_dom_classes": [],
      "_model_module": "@jupyter-widgets/controls",
      "_model_module_version": "1.5.0",
      "_model_name": "IntProgressModel",
      "_view_count": null,
      "_view_module": "@jupyter-widgets/controls",
      "_view_module_version": "1.5.0",
      "_view_name": "ProgressView",
      "bar_style": "success",
      "description": "",
      "description_tooltip": null,
      "layout": "IPY_MODEL_2eab7c98e3ea43c0ae16c7e4560d0948",
      "max": 9,
      "min": 0,
      "orientation": "horizontal",
      "style": "IPY_MODEL_bc09094ec30941b9907026b7ff850c53",
      "value": 9
     }
    },
    "8bc4fda38f9740349933ef7a79afb69c": {
     "model_module": "@jupyter-widgets/controls",
     "model_name": "DescriptionStyleModel",
     "state": {
      "_model_module": "@jupyter-widgets/controls",
      "_model_module_version": "1.5.0",
      "_model_name": "DescriptionStyleModel",
      "_view_count": null,
      "_view_module": "@jupyter-widgets/base",
      "_view_module_version": "1.2.0",
      "_view_name": "StyleView",
      "description_width": ""
     }
    },
    "8cf74fe77ffc468f959fa2d9994fdb34": {
     "model_module": "@jupyter-widgets/controls",
     "model_name": "ProgressStyleModel",
     "state": {
      "_model_module": "@jupyter-widgets/controls",
      "_model_module_version": "1.5.0",
      "_model_name": "ProgressStyleModel",
      "_view_count": null,
      "_view_module": "@jupyter-widgets/base",
      "_view_module_version": "1.2.0",
      "_view_name": "StyleView",
      "bar_color": null,
      "description_width": ""
     }
    },
    "8ef8eb52f5f548528283fca297264b53": {
     "model_module": "@jupyter-widgets/controls",
     "model_name": "ProgressStyleModel",
     "state": {
      "_model_module": "@jupyter-widgets/controls",
      "_model_module_version": "1.5.0",
      "_model_name": "ProgressStyleModel",
      "_view_count": null,
      "_view_module": "@jupyter-widgets/base",
      "_view_module_version": "1.2.0",
      "_view_name": "StyleView",
      "bar_color": null,
      "description_width": ""
     }
    },
    "91a4aa4a0d4d428981d967c98b27b11d": {
     "model_module": "@jupyter-widgets/controls",
     "model_name": "ProgressStyleModel",
     "state": {
      "_model_module": "@jupyter-widgets/controls",
      "_model_module_version": "1.5.0",
      "_model_name": "ProgressStyleModel",
      "_view_count": null,
      "_view_module": "@jupyter-widgets/base",
      "_view_module_version": "1.2.0",
      "_view_name": "StyleView",
      "bar_color": null,
      "description_width": ""
     }
    },
    "92ac81f027734fb1b17b2f9fd4218c7a": {
     "model_module": "@jupyter-widgets/controls",
     "model_name": "DescriptionStyleModel",
     "state": {
      "_model_module": "@jupyter-widgets/controls",
      "_model_module_version": "1.5.0",
      "_model_name": "DescriptionStyleModel",
      "_view_count": null,
      "_view_module": "@jupyter-widgets/base",
      "_view_module_version": "1.2.0",
      "_view_name": "StyleView",
      "description_width": ""
     }
    },
    "93240c440f834e15b4302f6d519918f5": {
     "model_module": "@jupyter-widgets/controls",
     "model_name": "IntProgressModel",
     "state": {
      "_dom_classes": [],
      "_model_module": "@jupyter-widgets/controls",
      "_model_module_version": "1.5.0",
      "_model_name": "IntProgressModel",
      "_view_count": null,
      "_view_module": "@jupyter-widgets/controls",
      "_view_module_version": "1.5.0",
      "_view_name": "ProgressView",
      "bar_style": "success",
      "description": "",
      "description_tooltip": null,
      "layout": "IPY_MODEL_1634b94164934249a0322e1b90f751fa",
      "max": 9,
      "min": 0,
      "orientation": "horizontal",
      "style": "IPY_MODEL_42365b1c6c4a41e985ea2fc1d0dec5fc",
      "value": 9
     }
    },
    "9380f5da8e1948b19447b14755564094": {
     "model_module": "@jupyter-widgets/controls",
     "model_name": "DescriptionStyleModel",
     "state": {
      "_model_module": "@jupyter-widgets/controls",
      "_model_module_version": "1.5.0",
      "_model_name": "DescriptionStyleModel",
      "_view_count": null,
      "_view_module": "@jupyter-widgets/base",
      "_view_module_version": "1.2.0",
      "_view_name": "StyleView",
      "description_width": ""
     }
    },
    "951ac5639f5442adb975999ef69db15e": {
     "model_module": "@jupyter-widgets/controls",
     "model_name": "ProgressStyleModel",
     "state": {
      "_model_module": "@jupyter-widgets/controls",
      "_model_module_version": "1.5.0",
      "_model_name": "ProgressStyleModel",
      "_view_count": null,
      "_view_module": "@jupyter-widgets/base",
      "_view_module_version": "1.2.0",
      "_view_name": "StyleView",
      "bar_color": null,
      "description_width": ""
     }
    },
    "95ff68175f054bcbaeb2bf2e86b50808": {
     "model_module": "@jupyter-widgets/controls",
     "model_name": "HBoxModel",
     "state": {
      "_dom_classes": [],
      "_model_module": "@jupyter-widgets/controls",
      "_model_module_version": "1.5.0",
      "_model_name": "HBoxModel",
      "_view_count": null,
      "_view_module": "@jupyter-widgets/controls",
      "_view_module_version": "1.5.0",
      "_view_name": "HBoxView",
      "box_style": "",
      "children": [
       "IPY_MODEL_425da1b4ece84af6ba6be26ea8087066",
       "IPY_MODEL_6783c09120184bf6aaf9d4a4868b8722"
      ],
      "layout": "IPY_MODEL_bcb28ff11e1a40a2b0b272a7e4ae490a"
     }
    },
    "99e4a1cc94ee42af9f183714e53fa68b": {
     "model_module": "@jupyter-widgets/base",
     "model_name": "LayoutModel",
     "state": {
      "_model_module": "@jupyter-widgets/base",
      "_model_module_version": "1.2.0",
      "_model_name": "LayoutModel",
      "_view_count": null,
      "_view_module": "@jupyter-widgets/base",
      "_view_module_version": "1.2.0",
      "_view_name": "LayoutView",
      "align_content": null,
      "align_items": null,
      "align_self": null,
      "border": null,
      "bottom": null,
      "display": null,
      "flex": null,
      "flex_flow": null,
      "grid_area": null,
      "grid_auto_columns": null,
      "grid_auto_flow": null,
      "grid_auto_rows": null,
      "grid_column": null,
      "grid_gap": null,
      "grid_row": null,
      "grid_template_areas": null,
      "grid_template_columns": null,
      "grid_template_rows": null,
      "height": null,
      "justify_content": null,
      "justify_items": null,
      "left": null,
      "margin": null,
      "max_height": null,
      "max_width": null,
      "min_height": null,
      "min_width": null,
      "object_fit": null,
      "object_position": null,
      "order": null,
      "overflow": null,
      "overflow_x": null,
      "overflow_y": null,
      "padding": null,
      "right": null,
      "top": null,
      "visibility": null,
      "width": null
     }
    },
    "9b2509ac6c2c4cdc80401f9981650d0f": {
     "model_module": "@jupyter-widgets/controls",
     "model_name": "HTMLModel",
     "state": {
      "_dom_classes": [],
      "_model_module": "@jupyter-widgets/controls",
      "_model_module_version": "1.5.0",
      "_model_name": "HTMLModel",
      "_view_count": null,
      "_view_module": "@jupyter-widgets/controls",
      "_view_module_version": "1.5.0",
      "_view_name": "HTMLView",
      "description": "",
      "description_tooltip": null,
      "layout": "IPY_MODEL_9bba2962094d4e4483cb8e7c425443bf",
      "placeholder": "​",
      "style": "IPY_MODEL_8bc4fda38f9740349933ef7a79afb69c",
      "value": "100% 9/9 [3:11:42&lt;00:00, 1306.05s/it]"
     }
    },
    "9bba2962094d4e4483cb8e7c425443bf": {
     "model_module": "@jupyter-widgets/base",
     "model_name": "LayoutModel",
     "state": {
      "_model_module": "@jupyter-widgets/base",
      "_model_module_version": "1.2.0",
      "_model_name": "LayoutModel",
      "_view_count": null,
      "_view_module": "@jupyter-widgets/base",
      "_view_module_version": "1.2.0",
      "_view_name": "LayoutView",
      "align_content": null,
      "align_items": null,
      "align_self": null,
      "border": null,
      "bottom": null,
      "display": null,
      "flex": null,
      "flex_flow": null,
      "grid_area": null,
      "grid_auto_columns": null,
      "grid_auto_flow": null,
      "grid_auto_rows": null,
      "grid_column": null,
      "grid_gap": null,
      "grid_row": null,
      "grid_template_areas": null,
      "grid_template_columns": null,
      "grid_template_rows": null,
      "height": null,
      "justify_content": null,
      "justify_items": null,
      "left": null,
      "margin": null,
      "max_height": null,
      "max_width": null,
      "min_height": null,
      "min_width": null,
      "object_fit": null,
      "object_position": null,
      "order": null,
      "overflow": null,
      "overflow_x": null,
      "overflow_y": null,
      "padding": null,
      "right": null,
      "top": null,
      "visibility": null,
      "width": null
     }
    },
    "9f73bd5a01cb46b4a5fd97ab508ddb55": {
     "model_module": "@jupyter-widgets/controls",
     "model_name": "HTMLModel",
     "state": {
      "_dom_classes": [],
      "_model_module": "@jupyter-widgets/controls",
      "_model_module_version": "1.5.0",
      "_model_name": "HTMLModel",
      "_view_count": null,
      "_view_module": "@jupyter-widgets/controls",
      "_view_module_version": "1.5.0",
      "_view_name": "HTMLView",
      "description": "",
      "description_tooltip": null,
      "layout": "IPY_MODEL_577dfafbf7c549b3a8deb241f4156744",
      "placeholder": "​",
      "style": "IPY_MODEL_4bc3a419fbc2461b8b7eabde4f6046c6",
      "value": "100% 9/9 [20:34&lt;00:00, 140.40s/it]"
     }
    },
    "a42ef75f139c4070853f2c894a6f1a9e": {
     "model_module": "@jupyter-widgets/controls",
     "model_name": "DescriptionStyleModel",
     "state": {
      "_model_module": "@jupyter-widgets/controls",
      "_model_module_version": "1.5.0",
      "_model_name": "DescriptionStyleModel",
      "_view_count": null,
      "_view_module": "@jupyter-widgets/base",
      "_view_module_version": "1.2.0",
      "_view_name": "StyleView",
      "description_width": ""
     }
    },
    "a99f434c306241f8be37af5663ad0aab": {
     "model_module": "@jupyter-widgets/base",
     "model_name": "LayoutModel",
     "state": {
      "_model_module": "@jupyter-widgets/base",
      "_model_module_version": "1.2.0",
      "_model_name": "LayoutModel",
      "_view_count": null,
      "_view_module": "@jupyter-widgets/base",
      "_view_module_version": "1.2.0",
      "_view_name": "LayoutView",
      "align_content": null,
      "align_items": null,
      "align_self": null,
      "border": null,
      "bottom": null,
      "display": null,
      "flex": null,
      "flex_flow": null,
      "grid_area": null,
      "grid_auto_columns": null,
      "grid_auto_flow": null,
      "grid_auto_rows": null,
      "grid_column": null,
      "grid_gap": null,
      "grid_row": null,
      "grid_template_areas": null,
      "grid_template_columns": null,
      "grid_template_rows": null,
      "height": null,
      "justify_content": null,
      "justify_items": null,
      "left": null,
      "margin": null,
      "max_height": null,
      "max_width": null,
      "min_height": null,
      "min_width": null,
      "object_fit": null,
      "object_position": null,
      "order": null,
      "overflow": null,
      "overflow_x": null,
      "overflow_y": null,
      "padding": null,
      "right": null,
      "top": null,
      "visibility": null,
      "width": null
     }
    },
    "b6e284738b9244648d0b2fd1fe4c855d": {
     "model_module": "@jupyter-widgets/controls",
     "model_name": "IntProgressModel",
     "state": {
      "_dom_classes": [],
      "_model_module": "@jupyter-widgets/controls",
      "_model_module_version": "1.5.0",
      "_model_name": "IntProgressModel",
      "_view_count": null,
      "_view_module": "@jupyter-widgets/controls",
      "_view_module_version": "1.5.0",
      "_view_name": "ProgressView",
      "bar_style": "success",
      "description": "",
      "description_tooltip": null,
      "layout": "IPY_MODEL_473420d2fdf4405fb202e60867e57762",
      "max": 9,
      "min": 0,
      "orientation": "horizontal",
      "style": "IPY_MODEL_c6f695d52d0749a6bb9e979530322073",
      "value": 9
     }
    },
    "bc09094ec30941b9907026b7ff850c53": {
     "model_module": "@jupyter-widgets/controls",
     "model_name": "ProgressStyleModel",
     "state": {
      "_model_module": "@jupyter-widgets/controls",
      "_model_module_version": "1.5.0",
      "_model_name": "ProgressStyleModel",
      "_view_count": null,
      "_view_module": "@jupyter-widgets/base",
      "_view_module_version": "1.2.0",
      "_view_name": "StyleView",
      "bar_color": null,
      "description_width": ""
     }
    },
    "bc429548f0994cdaa54f81cc9f21c721": {
     "model_module": "@jupyter-widgets/base",
     "model_name": "LayoutModel",
     "state": {
      "_model_module": "@jupyter-widgets/base",
      "_model_module_version": "1.2.0",
      "_model_name": "LayoutModel",
      "_view_count": null,
      "_view_module": "@jupyter-widgets/base",
      "_view_module_version": "1.2.0",
      "_view_name": "LayoutView",
      "align_content": null,
      "align_items": null,
      "align_self": null,
      "border": null,
      "bottom": null,
      "display": null,
      "flex": null,
      "flex_flow": null,
      "grid_area": null,
      "grid_auto_columns": null,
      "grid_auto_flow": null,
      "grid_auto_rows": null,
      "grid_column": null,
      "grid_gap": null,
      "grid_row": null,
      "grid_template_areas": null,
      "grid_template_columns": null,
      "grid_template_rows": null,
      "height": null,
      "justify_content": null,
      "justify_items": null,
      "left": null,
      "margin": null,
      "max_height": null,
      "max_width": null,
      "min_height": null,
      "min_width": null,
      "object_fit": null,
      "object_position": null,
      "order": null,
      "overflow": null,
      "overflow_x": null,
      "overflow_y": null,
      "padding": null,
      "right": null,
      "top": null,
      "visibility": null,
      "width": null
     }
    },
    "bcb28ff11e1a40a2b0b272a7e4ae490a": {
     "model_module": "@jupyter-widgets/base",
     "model_name": "LayoutModel",
     "state": {
      "_model_module": "@jupyter-widgets/base",
      "_model_module_version": "1.2.0",
      "_model_name": "LayoutModel",
      "_view_count": null,
      "_view_module": "@jupyter-widgets/base",
      "_view_module_version": "1.2.0",
      "_view_name": "LayoutView",
      "align_content": null,
      "align_items": null,
      "align_self": null,
      "border": null,
      "bottom": null,
      "display": null,
      "flex": null,
      "flex_flow": null,
      "grid_area": null,
      "grid_auto_columns": null,
      "grid_auto_flow": null,
      "grid_auto_rows": null,
      "grid_column": null,
      "grid_gap": null,
      "grid_row": null,
      "grid_template_areas": null,
      "grid_template_columns": null,
      "grid_template_rows": null,
      "height": null,
      "justify_content": null,
      "justify_items": null,
      "left": null,
      "margin": null,
      "max_height": null,
      "max_width": null,
      "min_height": null,
      "min_width": null,
      "object_fit": null,
      "object_position": null,
      "order": null,
      "overflow": null,
      "overflow_x": null,
      "overflow_y": null,
      "padding": null,
      "right": null,
      "top": null,
      "visibility": null,
      "width": null
     }
    },
    "bf1f355f6e2e43ee9883503637d2dc8d": {
     "model_module": "@jupyter-widgets/base",
     "model_name": "LayoutModel",
     "state": {
      "_model_module": "@jupyter-widgets/base",
      "_model_module_version": "1.2.0",
      "_model_name": "LayoutModel",
      "_view_count": null,
      "_view_module": "@jupyter-widgets/base",
      "_view_module_version": "1.2.0",
      "_view_name": "LayoutView",
      "align_content": null,
      "align_items": null,
      "align_self": null,
      "border": null,
      "bottom": null,
      "display": null,
      "flex": null,
      "flex_flow": null,
      "grid_area": null,
      "grid_auto_columns": null,
      "grid_auto_flow": null,
      "grid_auto_rows": null,
      "grid_column": null,
      "grid_gap": null,
      "grid_row": null,
      "grid_template_areas": null,
      "grid_template_columns": null,
      "grid_template_rows": null,
      "height": null,
      "justify_content": null,
      "justify_items": null,
      "left": null,
      "margin": null,
      "max_height": null,
      "max_width": null,
      "min_height": null,
      "min_width": null,
      "object_fit": null,
      "object_position": null,
      "order": null,
      "overflow": null,
      "overflow_x": null,
      "overflow_y": null,
      "padding": null,
      "right": null,
      "top": null,
      "visibility": null,
      "width": null
     }
    },
    "c5fc89fafa08437a93783e4ac229d9e0": {
     "model_module": "@jupyter-widgets/base",
     "model_name": "LayoutModel",
     "state": {
      "_model_module": "@jupyter-widgets/base",
      "_model_module_version": "1.2.0",
      "_model_name": "LayoutModel",
      "_view_count": null,
      "_view_module": "@jupyter-widgets/base",
      "_view_module_version": "1.2.0",
      "_view_name": "LayoutView",
      "align_content": null,
      "align_items": null,
      "align_self": null,
      "border": null,
      "bottom": null,
      "display": null,
      "flex": null,
      "flex_flow": null,
      "grid_area": null,
      "grid_auto_columns": null,
      "grid_auto_flow": null,
      "grid_auto_rows": null,
      "grid_column": null,
      "grid_gap": null,
      "grid_row": null,
      "grid_template_areas": null,
      "grid_template_columns": null,
      "grid_template_rows": null,
      "height": null,
      "justify_content": null,
      "justify_items": null,
      "left": null,
      "margin": null,
      "max_height": null,
      "max_width": null,
      "min_height": null,
      "min_width": null,
      "object_fit": null,
      "object_position": null,
      "order": null,
      "overflow": null,
      "overflow_x": null,
      "overflow_y": null,
      "padding": null,
      "right": null,
      "top": null,
      "visibility": null,
      "width": null
     }
    },
    "c65a9d5144db426fb36ca69c88f4eaf6": {
     "model_module": "@jupyter-widgets/controls",
     "model_name": "DescriptionStyleModel",
     "state": {
      "_model_module": "@jupyter-widgets/controls",
      "_model_module_version": "1.5.0",
      "_model_name": "DescriptionStyleModel",
      "_view_count": null,
      "_view_module": "@jupyter-widgets/base",
      "_view_module_version": "1.2.0",
      "_view_name": "StyleView",
      "description_width": ""
     }
    },
    "c6f695d52d0749a6bb9e979530322073": {
     "model_module": "@jupyter-widgets/controls",
     "model_name": "ProgressStyleModel",
     "state": {
      "_model_module": "@jupyter-widgets/controls",
      "_model_module_version": "1.5.0",
      "_model_name": "ProgressStyleModel",
      "_view_count": null,
      "_view_module": "@jupyter-widgets/base",
      "_view_module_version": "1.2.0",
      "_view_name": "StyleView",
      "bar_color": null,
      "description_width": ""
     }
    },
    "c7acedd9804d476593f4e7945e416726": {
     "model_module": "@jupyter-widgets/base",
     "model_name": "LayoutModel",
     "state": {
      "_model_module": "@jupyter-widgets/base",
      "_model_module_version": "1.2.0",
      "_model_name": "LayoutModel",
      "_view_count": null,
      "_view_module": "@jupyter-widgets/base",
      "_view_module_version": "1.2.0",
      "_view_name": "LayoutView",
      "align_content": null,
      "align_items": null,
      "align_self": null,
      "border": null,
      "bottom": null,
      "display": null,
      "flex": null,
      "flex_flow": null,
      "grid_area": null,
      "grid_auto_columns": null,
      "grid_auto_flow": null,
      "grid_auto_rows": null,
      "grid_column": null,
      "grid_gap": null,
      "grid_row": null,
      "grid_template_areas": null,
      "grid_template_columns": null,
      "grid_template_rows": null,
      "height": null,
      "justify_content": null,
      "justify_items": null,
      "left": null,
      "margin": null,
      "max_height": null,
      "max_width": null,
      "min_height": null,
      "min_width": null,
      "object_fit": null,
      "object_position": null,
      "order": null,
      "overflow": null,
      "overflow_x": null,
      "overflow_y": null,
      "padding": null,
      "right": null,
      "top": null,
      "visibility": null,
      "width": null
     }
    },
    "cf1b2c99255e4713825e0376fd098844": {
     "model_module": "@jupyter-widgets/base",
     "model_name": "LayoutModel",
     "state": {
      "_model_module": "@jupyter-widgets/base",
      "_model_module_version": "1.2.0",
      "_model_name": "LayoutModel",
      "_view_count": null,
      "_view_module": "@jupyter-widgets/base",
      "_view_module_version": "1.2.0",
      "_view_name": "LayoutView",
      "align_content": null,
      "align_items": null,
      "align_self": null,
      "border": null,
      "bottom": null,
      "display": null,
      "flex": null,
      "flex_flow": null,
      "grid_area": null,
      "grid_auto_columns": null,
      "grid_auto_flow": null,
      "grid_auto_rows": null,
      "grid_column": null,
      "grid_gap": null,
      "grid_row": null,
      "grid_template_areas": null,
      "grid_template_columns": null,
      "grid_template_rows": null,
      "height": null,
      "justify_content": null,
      "justify_items": null,
      "left": null,
      "margin": null,
      "max_height": null,
      "max_width": null,
      "min_height": null,
      "min_width": null,
      "object_fit": null,
      "object_position": null,
      "order": null,
      "overflow": null,
      "overflow_x": null,
      "overflow_y": null,
      "padding": null,
      "right": null,
      "top": null,
      "visibility": null,
      "width": null
     }
    },
    "cf42d250cb724647ab5b7ad9614725ea": {
     "model_module": "@jupyter-widgets/base",
     "model_name": "LayoutModel",
     "state": {
      "_model_module": "@jupyter-widgets/base",
      "_model_module_version": "1.2.0",
      "_model_name": "LayoutModel",
      "_view_count": null,
      "_view_module": "@jupyter-widgets/base",
      "_view_module_version": "1.2.0",
      "_view_name": "LayoutView",
      "align_content": null,
      "align_items": null,
      "align_self": null,
      "border": null,
      "bottom": null,
      "display": null,
      "flex": null,
      "flex_flow": null,
      "grid_area": null,
      "grid_auto_columns": null,
      "grid_auto_flow": null,
      "grid_auto_rows": null,
      "grid_column": null,
      "grid_gap": null,
      "grid_row": null,
      "grid_template_areas": null,
      "grid_template_columns": null,
      "grid_template_rows": null,
      "height": null,
      "justify_content": null,
      "justify_items": null,
      "left": null,
      "margin": null,
      "max_height": null,
      "max_width": null,
      "min_height": null,
      "min_width": null,
      "object_fit": null,
      "object_position": null,
      "order": null,
      "overflow": null,
      "overflow_x": null,
      "overflow_y": null,
      "padding": null,
      "right": null,
      "top": null,
      "visibility": null,
      "width": null
     }
    },
    "d12f874a68fa4ec38c741188b0cfb99a": {
     "model_module": "@jupyter-widgets/controls",
     "model_name": "IntProgressModel",
     "state": {
      "_dom_classes": [],
      "_model_module": "@jupyter-widgets/controls",
      "_model_module_version": "1.5.0",
      "_model_name": "IntProgressModel",
      "_view_count": null,
      "_view_module": "@jupyter-widgets/controls",
      "_view_module_version": "1.5.0",
      "_view_name": "ProgressView",
      "bar_style": "success",
      "description": "",
      "description_tooltip": null,
      "layout": "IPY_MODEL_bc429548f0994cdaa54f81cc9f21c721",
      "max": 9,
      "min": 0,
      "orientation": "horizontal",
      "style": "IPY_MODEL_0febcfb46a18454e9ea866e00ff8f97c",
      "value": 9
     }
    },
    "dce1901c9b2048e384cee75b9a76843e": {
     "model_module": "@jupyter-widgets/controls",
     "model_name": "HBoxModel",
     "state": {
      "_dom_classes": [],
      "_model_module": "@jupyter-widgets/controls",
      "_model_module_version": "1.5.0",
      "_model_name": "HBoxModel",
      "_view_count": null,
      "_view_module": "@jupyter-widgets/controls",
      "_view_module_version": "1.5.0",
      "_view_name": "HBoxView",
      "box_style": "",
      "children": [
       "IPY_MODEL_d12f874a68fa4ec38c741188b0cfb99a",
       "IPY_MODEL_714c6dc693844d2e935ce266d3e493ae"
      ],
      "layout": "IPY_MODEL_497f7133783646c998851bb5e9781c84"
     }
    },
    "dee5df0f36584e6f9e0ee00b006da3ed": {
     "model_module": "@jupyter-widgets/base",
     "model_name": "LayoutModel",
     "state": {
      "_model_module": "@jupyter-widgets/base",
      "_model_module_version": "1.2.0",
      "_model_name": "LayoutModel",
      "_view_count": null,
      "_view_module": "@jupyter-widgets/base",
      "_view_module_version": "1.2.0",
      "_view_name": "LayoutView",
      "align_content": null,
      "align_items": null,
      "align_self": null,
      "border": null,
      "bottom": null,
      "display": null,
      "flex": null,
      "flex_flow": null,
      "grid_area": null,
      "grid_auto_columns": null,
      "grid_auto_flow": null,
      "grid_auto_rows": null,
      "grid_column": null,
      "grid_gap": null,
      "grid_row": null,
      "grid_template_areas": null,
      "grid_template_columns": null,
      "grid_template_rows": null,
      "height": null,
      "justify_content": null,
      "justify_items": null,
      "left": null,
      "margin": null,
      "max_height": null,
      "max_width": null,
      "min_height": null,
      "min_width": null,
      "object_fit": null,
      "object_position": null,
      "order": null,
      "overflow": null,
      "overflow_x": null,
      "overflow_y": null,
      "padding": null,
      "right": null,
      "top": null,
      "visibility": null,
      "width": null
     }
    },
    "df8b550c8f2f4adba976090455272406": {
     "model_module": "@jupyter-widgets/controls",
     "model_name": "HBoxModel",
     "state": {
      "_dom_classes": [],
      "_model_module": "@jupyter-widgets/controls",
      "_model_module_version": "1.5.0",
      "_model_name": "HBoxModel",
      "_view_count": null,
      "_view_module": "@jupyter-widgets/controls",
      "_view_module_version": "1.5.0",
      "_view_name": "HBoxView",
      "box_style": "",
      "children": [
       "IPY_MODEL_93240c440f834e15b4302f6d519918f5",
       "IPY_MODEL_407c6402ba3e466ab77e0d243635f660"
      ],
      "layout": "IPY_MODEL_f94eed65e955471cbb63d6fcab9240a3"
     }
    },
    "dfb0e5440af14d66be726c390d05a169": {
     "model_module": "@jupyter-widgets/base",
     "model_name": "LayoutModel",
     "state": {
      "_model_module": "@jupyter-widgets/base",
      "_model_module_version": "1.2.0",
      "_model_name": "LayoutModel",
      "_view_count": null,
      "_view_module": "@jupyter-widgets/base",
      "_view_module_version": "1.2.0",
      "_view_name": "LayoutView",
      "align_content": null,
      "align_items": null,
      "align_self": null,
      "border": null,
      "bottom": null,
      "display": null,
      "flex": null,
      "flex_flow": null,
      "grid_area": null,
      "grid_auto_columns": null,
      "grid_auto_flow": null,
      "grid_auto_rows": null,
      "grid_column": null,
      "grid_gap": null,
      "grid_row": null,
      "grid_template_areas": null,
      "grid_template_columns": null,
      "grid_template_rows": null,
      "height": null,
      "justify_content": null,
      "justify_items": null,
      "left": null,
      "margin": null,
      "max_height": null,
      "max_width": null,
      "min_height": null,
      "min_width": null,
      "object_fit": null,
      "object_position": null,
      "order": null,
      "overflow": null,
      "overflow_x": null,
      "overflow_y": null,
      "padding": null,
      "right": null,
      "top": null,
      "visibility": null,
      "width": null
     }
    },
    "e06b276965c34332be0e8f3bc848bd65": {
     "model_module": "@jupyter-widgets/controls",
     "model_name": "DescriptionStyleModel",
     "state": {
      "_model_module": "@jupyter-widgets/controls",
      "_model_module_version": "1.5.0",
      "_model_name": "DescriptionStyleModel",
      "_view_count": null,
      "_view_module": "@jupyter-widgets/base",
      "_view_module_version": "1.2.0",
      "_view_name": "StyleView",
      "description_width": ""
     }
    },
    "e6fb97c158d246b89f4d106ba9dca510": {
     "model_module": "@jupyter-widgets/base",
     "model_name": "LayoutModel",
     "state": {
      "_model_module": "@jupyter-widgets/base",
      "_model_module_version": "1.2.0",
      "_model_name": "LayoutModel",
      "_view_count": null,
      "_view_module": "@jupyter-widgets/base",
      "_view_module_version": "1.2.0",
      "_view_name": "LayoutView",
      "align_content": null,
      "align_items": null,
      "align_self": null,
      "border": null,
      "bottom": null,
      "display": null,
      "flex": null,
      "flex_flow": null,
      "grid_area": null,
      "grid_auto_columns": null,
      "grid_auto_flow": null,
      "grid_auto_rows": null,
      "grid_column": null,
      "grid_gap": null,
      "grid_row": null,
      "grid_template_areas": null,
      "grid_template_columns": null,
      "grid_template_rows": null,
      "height": null,
      "justify_content": null,
      "justify_items": null,
      "left": null,
      "margin": null,
      "max_height": null,
      "max_width": null,
      "min_height": null,
      "min_width": null,
      "object_fit": null,
      "object_position": null,
      "order": null,
      "overflow": null,
      "overflow_x": null,
      "overflow_y": null,
      "padding": null,
      "right": null,
      "top": null,
      "visibility": null,
      "width": null
     }
    },
    "f4aff43dcf1843be9a13fbaff97e53dc": {
     "model_module": "@jupyter-widgets/base",
     "model_name": "LayoutModel",
     "state": {
      "_model_module": "@jupyter-widgets/base",
      "_model_module_version": "1.2.0",
      "_model_name": "LayoutModel",
      "_view_count": null,
      "_view_module": "@jupyter-widgets/base",
      "_view_module_version": "1.2.0",
      "_view_name": "LayoutView",
      "align_content": null,
      "align_items": null,
      "align_self": null,
      "border": null,
      "bottom": null,
      "display": null,
      "flex": null,
      "flex_flow": null,
      "grid_area": null,
      "grid_auto_columns": null,
      "grid_auto_flow": null,
      "grid_auto_rows": null,
      "grid_column": null,
      "grid_gap": null,
      "grid_row": null,
      "grid_template_areas": null,
      "grid_template_columns": null,
      "grid_template_rows": null,
      "height": null,
      "justify_content": null,
      "justify_items": null,
      "left": null,
      "margin": null,
      "max_height": null,
      "max_width": null,
      "min_height": null,
      "min_width": null,
      "object_fit": null,
      "object_position": null,
      "order": null,
      "overflow": null,
      "overflow_x": null,
      "overflow_y": null,
      "padding": null,
      "right": null,
      "top": null,
      "visibility": null,
      "width": null
     }
    },
    "f693bb1c1b734dd59d455384e2155f06": {
     "model_module": "@jupyter-widgets/base",
     "model_name": "LayoutModel",
     "state": {
      "_model_module": "@jupyter-widgets/base",
      "_model_module_version": "1.2.0",
      "_model_name": "LayoutModel",
      "_view_count": null,
      "_view_module": "@jupyter-widgets/base",
      "_view_module_version": "1.2.0",
      "_view_name": "LayoutView",
      "align_content": null,
      "align_items": null,
      "align_self": null,
      "border": null,
      "bottom": null,
      "display": null,
      "flex": null,
      "flex_flow": null,
      "grid_area": null,
      "grid_auto_columns": null,
      "grid_auto_flow": null,
      "grid_auto_rows": null,
      "grid_column": null,
      "grid_gap": null,
      "grid_row": null,
      "grid_template_areas": null,
      "grid_template_columns": null,
      "grid_template_rows": null,
      "height": null,
      "justify_content": null,
      "justify_items": null,
      "left": null,
      "margin": null,
      "max_height": null,
      "max_width": null,
      "min_height": null,
      "min_width": null,
      "object_fit": null,
      "object_position": null,
      "order": null,
      "overflow": null,
      "overflow_x": null,
      "overflow_y": null,
      "padding": null,
      "right": null,
      "top": null,
      "visibility": null,
      "width": null
     }
    },
    "f71b35301d1d403fb3c616ff6987019f": {
     "model_module": "@jupyter-widgets/base",
     "model_name": "LayoutModel",
     "state": {
      "_model_module": "@jupyter-widgets/base",
      "_model_module_version": "1.2.0",
      "_model_name": "LayoutModel",
      "_view_count": null,
      "_view_module": "@jupyter-widgets/base",
      "_view_module_version": "1.2.0",
      "_view_name": "LayoutView",
      "align_content": null,
      "align_items": null,
      "align_self": null,
      "border": null,
      "bottom": null,
      "display": null,
      "flex": null,
      "flex_flow": null,
      "grid_area": null,
      "grid_auto_columns": null,
      "grid_auto_flow": null,
      "grid_auto_rows": null,
      "grid_column": null,
      "grid_gap": null,
      "grid_row": null,
      "grid_template_areas": null,
      "grid_template_columns": null,
      "grid_template_rows": null,
      "height": null,
      "justify_content": null,
      "justify_items": null,
      "left": null,
      "margin": null,
      "max_height": null,
      "max_width": null,
      "min_height": null,
      "min_width": null,
      "object_fit": null,
      "object_position": null,
      "order": null,
      "overflow": null,
      "overflow_x": null,
      "overflow_y": null,
      "padding": null,
      "right": null,
      "top": null,
      "visibility": null,
      "width": null
     }
    },
    "f94eed65e955471cbb63d6fcab9240a3": {
     "model_module": "@jupyter-widgets/base",
     "model_name": "LayoutModel",
     "state": {
      "_model_module": "@jupyter-widgets/base",
      "_model_module_version": "1.2.0",
      "_model_name": "LayoutModel",
      "_view_count": null,
      "_view_module": "@jupyter-widgets/base",
      "_view_module_version": "1.2.0",
      "_view_name": "LayoutView",
      "align_content": null,
      "align_items": null,
      "align_self": null,
      "border": null,
      "bottom": null,
      "display": null,
      "flex": null,
      "flex_flow": null,
      "grid_area": null,
      "grid_auto_columns": null,
      "grid_auto_flow": null,
      "grid_auto_rows": null,
      "grid_column": null,
      "grid_gap": null,
      "grid_row": null,
      "grid_template_areas": null,
      "grid_template_columns": null,
      "grid_template_rows": null,
      "height": null,
      "justify_content": null,
      "justify_items": null,
      "left": null,
      "margin": null,
      "max_height": null,
      "max_width": null,
      "min_height": null,
      "min_width": null,
      "object_fit": null,
      "object_position": null,
      "order": null,
      "overflow": null,
      "overflow_x": null,
      "overflow_y": null,
      "padding": null,
      "right": null,
      "top": null,
      "visibility": null,
      "width": null
     }
    },
    "fdff260078b14c24a0eb4cfac0ac456e": {
     "model_module": "@jupyter-widgets/controls",
     "model_name": "IntProgressModel",
     "state": {
      "_dom_classes": [],
      "_model_module": "@jupyter-widgets/controls",
      "_model_module_version": "1.5.0",
      "_model_name": "IntProgressModel",
      "_view_count": null,
      "_view_module": "@jupyter-widgets/controls",
      "_view_module_version": "1.5.0",
      "_view_name": "ProgressView",
      "bar_style": "success",
      "description": "",
      "description_tooltip": null,
      "layout": "IPY_MODEL_cf42d250cb724647ab5b7ad9614725ea",
      "max": 9,
      "min": 0,
      "orientation": "horizontal",
      "style": "IPY_MODEL_91a4aa4a0d4d428981d967c98b27b11d",
      "value": 9
     }
    }
   }
  }
 },
 "nbformat": 4,
 "nbformat_minor": 1
}
