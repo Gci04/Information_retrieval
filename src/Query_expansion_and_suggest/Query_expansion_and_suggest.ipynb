{
 "cells": [
  {
   "cell_type": "markdown",
   "metadata": {
    "colab_type": "text",
    "id": "_ENJNmwv1ope"
   },
   "source": [
    "# Sugges_ #"
   ]
  },
  {
   "cell_type": "markdown",
   "metadata": {
    "colab_type": "text",
    "id": "D2YrBebD1opi"
   },
   "source": [
    "One of the strategies to improve user experience is to provide user with hints, or, otherwise, to autocomplete his queries. Let's consider suggest.\n",
    "\n",
    "Today we will practice generating suggestions using [Trie](https://en.wikipedia.org/wiki/Trie) datastructure (prefix tree), see the example below.\n",
    "\n",
    "Plan:\n",
    "\n",
    "1. Build Trie based on real search query data provided by AOL company;\n",
    "2. Generate suggestion based on trie;\n",
    "3. Measure suggestion speed;\n",
    "4. Add spellcheck to suggest (optional).\n",
    "\n",
    "\n",
    "![image](https://www.ritambhara.in/wp-content/uploads/2017/05/Screen-Shot-2017-05-01-at-4.01.38-PM.png)"
   ]
  },
  {
   "cell_type": "markdown",
   "metadata": {
    "colab_type": "text",
    "id": "hXUpWGm_1opk"
   },
   "source": [
    "## Install Trie DS support\n",
    "\n",
    "You are free to use any library implementation of Trie, as well as the one we suggest.\n",
    "\n",
    "https://github.com/google/pygtrie"
   ]
  },
  {
   "cell_type": "code",
   "execution_count": 1,
   "metadata": {
    "colab": {},
    "colab_type": "code",
    "id": "Kv6vRzN21opm"
   },
   "outputs": [],
   "source": [
    "# !pip install pygtrie"
   ]
  },
  {
   "cell_type": "code",
   "execution_count": 2,
   "metadata": {
    "colab": {},
    "colab_type": "code",
    "id": "PlEiOV4w1opu"
   },
   "outputs": [
    {
     "name": "stdout",
     "output_type": "stream",
     "text": [
      "CharTrie(this: B, this is 3: A, this is 2: ['G', 1], that.is 3: C)\n",
      "Node = False; Subtree = False\n",
      "this ~ B\n",
      "this is 3 ~ A\n",
      "this is 2 ~ ['G', 1]\n"
     ]
    }
   ],
   "source": [
    "import pygtrie\n",
    "t = pygtrie.CharTrie()\n",
    "t[\"this is 3\"] = \"A\"\n",
    "t[\"this is 2\"] = [\"G\",1]\n",
    "t[\"this\"] = \"B\"\n",
    "t[\"that.is 3\"] = \"C\"\n",
    "\n",
    "print(t)\n",
    "\n",
    "n = t.has_node('this') == pygtrie.Trie.HAS_VALUE\n",
    "s = t.has_node('this') == pygtrie.Trie.HAS_SUBTRIE\n",
    "\n",
    "print(f\"Node = {n}; Subtree = {s}\")\n",
    "\n",
    "for key, val in t.iteritems(\"this\"):\n",
    "    print(key, '~', val)"
   ]
  },
  {
   "cell_type": "markdown",
   "metadata": {
    "colab_type": "text",
    "id": "_DsiIlgu1op1"
   },
   "source": [
    "## 1. Build a trie upon a dataset ##\n",
    "\n",
    "### 1.1 Read dataset\n",
    "\n",
    "Download the [dataset](https://drive.google.com/drive/folders/1rOE5eed37Jy2ANQItZVwDIFgPmkCoFu6) (we provide only the first part of the original data for simplicity (~3.5 mln queries)).\n",
    "Explore the data, see readme file. Load the dataset."
   ]
  },
  {
   "cell_type": "code",
   "execution_count": 3,
   "metadata": {
    "colab": {},
    "colab_type": "code",
    "id": "VNZTgNu01op3",
    "scrolled": true
   },
   "outputs": [
    {
     "name": "stdout",
     "output_type": "stream",
     "text": [
      "DS size: 3558411\n"
     ]
    },
    {
     "data": {
      "text/html": [
       "<div>\n",
       "<style scoped>\n",
       "    .dataframe tbody tr th:only-of-type {\n",
       "        vertical-align: middle;\n",
       "    }\n",
       "\n",
       "    .dataframe tbody tr th {\n",
       "        vertical-align: top;\n",
       "    }\n",
       "\n",
       "    .dataframe thead th {\n",
       "        text-align: right;\n",
       "    }\n",
       "</style>\n",
       "<table border=\"1\" class=\"dataframe\">\n",
       "  <thead>\n",
       "    <tr style=\"text-align: right;\">\n",
       "      <th></th>\n",
       "      <th>AnonID</th>\n",
       "      <th>Query</th>\n",
       "      <th>QueryTime</th>\n",
       "      <th>ItemRank</th>\n",
       "      <th>ClickURL</th>\n",
       "    </tr>\n",
       "  </thead>\n",
       "  <tbody>\n",
       "    <tr>\n",
       "      <th>0</th>\n",
       "      <td>142</td>\n",
       "      <td>rentdirect.com</td>\n",
       "      <td>2006-03-01 07:17:12</td>\n",
       "      <td>NaN</td>\n",
       "      <td>NaN</td>\n",
       "    </tr>\n",
       "    <tr>\n",
       "      <th>1</th>\n",
       "      <td>142</td>\n",
       "      <td>www.prescriptionfortime.com</td>\n",
       "      <td>2006-03-12 12:31:06</td>\n",
       "      <td>NaN</td>\n",
       "      <td>NaN</td>\n",
       "    </tr>\n",
       "    <tr>\n",
       "      <th>2</th>\n",
       "      <td>142</td>\n",
       "      <td>staple.com</td>\n",
       "      <td>2006-03-17 21:19:29</td>\n",
       "      <td>NaN</td>\n",
       "      <td>NaN</td>\n",
       "    </tr>\n",
       "    <tr>\n",
       "      <th>3</th>\n",
       "      <td>142</td>\n",
       "      <td>staple.com</td>\n",
       "      <td>2006-03-17 21:19:45</td>\n",
       "      <td>NaN</td>\n",
       "      <td>NaN</td>\n",
       "    </tr>\n",
       "    <tr>\n",
       "      <th>4</th>\n",
       "      <td>142</td>\n",
       "      <td>www.newyorklawyersite.com</td>\n",
       "      <td>2006-03-18 08:02:58</td>\n",
       "      <td>NaN</td>\n",
       "      <td>NaN</td>\n",
       "    </tr>\n",
       "  </tbody>\n",
       "</table>\n",
       "</div>"
      ],
      "text/plain": [
       "   AnonID                        Query            QueryTime  ItemRank ClickURL\n",
       "0     142               rentdirect.com  2006-03-01 07:17:12       NaN      NaN\n",
       "1     142  www.prescriptionfortime.com  2006-03-12 12:31:06       NaN      NaN\n",
       "2     142                   staple.com  2006-03-17 21:19:29       NaN      NaN\n",
       "3     142                   staple.com  2006-03-17 21:19:45       NaN      NaN\n",
       "4     142    www.newyorklawyersite.com  2006-03-18 08:02:58       NaN      NaN"
      ]
     },
     "execution_count": 3,
     "metadata": {},
     "output_type": "execute_result"
    }
   ],
   "source": [
    "import pandas as pd \n",
    "import tqdm\n",
    "\n",
    "aol_data = pd.read_csv(\"user-ct-test-collection-01.txt\",sep=\"\\t\")\n",
    "print(\"DS size:\", aol_data.shape[0])\n",
    "aol_data.head()"
   ]
  },
  {
   "cell_type": "markdown",
   "metadata": {},
   "source": [
    "### 1.2 Build Trie\n",
    "\n",
    "We want suggest function to be non-sensitive to stop words because we don't want to upset the user if he confuses/omits prepositions, for example. Consider \"public events in Innopolis\" vs \"public events at Innopolis\" or \"public events Innopolis\" - they all mean the same.\n",
    "\n",
    "Build Trie based on the dataset, storing query statistics such as query frequency, urls and ranks in nodes. Some queries may not have associated urls, others may have multiple ranked urls. Think of the way to store this information."
   ]
  },
  {
   "cell_type": "code",
   "execution_count": 4,
   "metadata": {
    "colab": {},
    "colab_type": "code",
    "id": "Ar__oXDi1oqD",
    "scrolled": true
   },
   "outputs": [
    {
     "name": "stderr",
     "output_type": "stream",
     "text": [
      "/usr/local/lib/python3.6/site-packages/ipykernel_launcher.py:3: TqdmDeprecationWarning: This function will be removed in tqdm==5.0.0\n",
      "Please use `tqdm.notebook.tqdm` instead of `tqdm.tqdm_notebook`\n",
      "  This is separate from the ipykernel package so we can avoid doing imports until\n"
     ]
    },
    {
     "data": {
      "application/vnd.jupyter.widget-view+json": {
       "model_id": "52c5cbb683174f4facee8445fbc9a8cd",
       "version_major": 2,
       "version_minor": 0
      },
      "text/plain": [
       "HBox(children=(FloatProgress(value=1.0, bar_style='info', max=1.0), HTML(value='')))"
      ]
     },
     "metadata": {},
     "output_type": "display_data"
    },
    {
     "name": "stdout",
     "output_type": "stream",
     "text": [
      "\n"
     ]
    }
   ],
   "source": [
    "#TODO: build trie based on data\n",
    "aol_trie = pygtrie.CharTrie()\n",
    "for index, row in tqdm.tqdm_notebook(aol_data.iterrows()):\n",
    "    if type(row['Query']) is not str : continue\n",
    "    if aol_trie.has_node(row['Query']) == 0 or aol_trie.has_subtrie(row['Query']):\n",
    "        link = dict() if type(row['ClickURL']) is not str else {row['ClickURL']:row[\"ItemRank\"]}\n",
    "        aol_trie[row['Query']] = {\"word\":row['Query'], \"count\":1, \"links\":link}\n",
    "\n",
    "    else:\n",
    "        aol_trie[row['Query']][\"count\"] += 1\n",
    "        if type(row['ClickURL']) is str : aol_trie[row['Query']][\"links\"].update({row['ClickURL']:row[\"ItemRank\"]})"
   ]
  },
  {
   "cell_type": "code",
   "execution_count": 5,
   "metadata": {},
   "outputs": [
    {
     "name": "stdout",
     "output_type": "stream",
     "text": [
      "sample question surveys ~ {'word': 'sample question surveys', 'count': 5, 'links': {'http://www.surveyconnect.com': 7.0, 'http://www.custominsight.com': 4.0, 'http://www.askemployees.com': 10.0, 'http://www.lg-employers.gov.uk': 1.0}}\n",
      "sample questions for immigration interview ~ {'word': 'sample questions for immigration interview', 'count': 1, 'links': {}}\n",
      "sample questions for interview ~ {'word': 'sample questions for interview', 'count': 1, 'links': {'http://www.quintcareers.com': 1.0}}\n",
      "sample questions for family interview ~ {'word': 'sample questions for family interview', 'count': 3, 'links': {'http://www.grandparents-day.com': 2.0, 'http://www.quintcareers.com': 5.0, 'http://jobsearchtech.about.com': 3.0}}\n",
      "sample questions for us citizenship test ~ {'word': 'sample questions for us citizenship test', 'count': 1, 'links': {'http://uscis.gov': 1.0}}\n",
      "sample questions sociology race and ethnicity ~ {'word': 'sample questions sociology race and ethnicity', 'count': 1, 'links': {}}\n",
      "sample questions biology ~ {'word': 'sample questions biology', 'count': 2, 'links': {'http://www.utexas.edu': 3.0, 'http://www.troy.k12.ny.us': 6.0}}\n",
      "sample questionarie teaching evaluation ~ {'word': 'sample questionarie teaching evaluation', 'count': 1, 'links': {}}\n",
      "sample questionnaire teaching evaluation ~ {'word': 'sample questionnaire teaching evaluation', 'count': 5, 'links': {'http://www.surveyconsole.com': 1.0, 'http://www.usask.ca': 2.0, 'http://teaching.berkeley.edu': 6.0, 'http://www.flinders.edu.au': 9.0, 'http://oregonstate.edu': 10.0}}\n",
      "sample questionnaire for clinical research coordinators certification ~ {'word': 'sample questionnaire for clinical research coordinators certification', 'count': 1, 'links': {'http://www.pharmatech.com': 9.0}}\n"
     ]
    }
   ],
   "source": [
    "# test trie\n",
    "for key, val in aol_trie.iteritems(\"sample q\"):\n",
    "    print(key, '~', val)"
   ]
  },
  {
   "cell_type": "markdown",
   "metadata": {
    "colab_type": "text",
    "id": "30u0nb8f1osE"
   },
   "source": [
    "## 2. Write a suggest function which is non-sensitive to stop words ##\n",
    "\n",
    "Suggest options for user query based on Trie you just built.\n",
    "Output results sorted by frequency, print query count for each suggestion. If there is an url available, print the url too. If multiple url-s are available, print the one with the highest rank (the less the better).\n",
    "\n",
    "Q: What is the empirical threshold for minimal prefix for suggest?"
   ]
  },
  {
   "cell_type": "code",
   "execution_count": 6,
   "metadata": {
    "colab": {},
    "colab_type": "code",
    "id": "TZzx2Vp31osB"
   },
   "outputs": [
    {
     "name": "stdout",
     "output_type": "stream",
     "text": [
      "Query: trie\n",
      "Results:\n",
      "Count 5 : tried and true tattoo http://www.tattoonow.com\n",
      "Count 3 : triethanalomine http://www.amazon.com\n",
      "Count 3 : triest\n",
      "Count 2 : tried and failed\n",
      "Count 1 : triethanolamine http://www.dermaxime.com\n"
     ]
    },
    {
     "data": {
      "text/plain": [
       "(True, True)"
      ]
     },
     "execution_count": 6,
     "metadata": {},
     "output_type": "execute_result"
    }
   ],
   "source": [
    "def complete_user_query(query, trie, top_k=5):\n",
    "    if not trie.has_key(query) and not trie.has_subtrie(query): \n",
    "        print(\"Nothing to Suggest\")\n",
    "        return \n",
    "    \n",
    "    if trie.has_subtrie(query):\n",
    "        sd = list(trie.iteritems(query))\n",
    "        sd = sorted(sd,key=lambda x : x[1][\"count\"])[-top_k:]\n",
    "        res = []\n",
    "        for _ , i in reversed(sd):\n",
    "            if len(i.get(\"links\",[])) == 0 :\n",
    "                print(f\"Count {i.get('count')} : {i.get('word')}\")\n",
    "                res.append(i[\"word\"])\n",
    "            else:\n",
    "                best_link = sorted(i[\"links\"],key=lambda x : x[1]).pop()\n",
    "                print(f'Count {i[\"count\"]} : {i[\"word\"]} {best_link}')\n",
    "    else:\n",
    "        res = aol_trie[query]\n",
    "        best_link = sorted(res[\"links\"],key=lambda x : x[1]).pop() if len(res.get(\"links\",[])) > 0 else \"\"\n",
    "        print(f\"Count {res['count']} : {query} , {best_link}\")\n",
    "\n",
    "\n",
    "inp = \"trie\"\n",
    "print(\"Query:\", inp)\n",
    "print(\"Results:\")\n",
    "complete_user_query(inp, aol_trie)"
   ]
  },
  {
   "cell_type": "markdown",
   "metadata": {
    "colab_type": "text",
    "id": "F6Uivwxk1osF"
   },
   "source": [
    "## 3. Measure suggest speed ##\n",
    "\n",
    "Check how fast your search is working. Consider changing your code if it takes too long on average."
   ]
  },
  {
   "cell_type": "code",
   "execution_count": 7,
   "metadata": {},
   "outputs": [
    {
     "name": "stdout",
     "output_type": "stream",
     "text": [
      "Query :  inf\n",
      "Results:\n",
      "Count 94 : information clearing house http://www.informationclearinghouse.info\n",
      "Count 72 : information on training puppy http://www.dogbreedinfo.com\n",
      "Count 59 : inflatable slides\n",
      "Count 40 : infolanka http://www.infolanka.net\n",
      "Count 36 : inflatable pool water slide http://www.hullaballoorental.com\n",
      "Time elapsed : 0.06824 sec\n",
      "\n",
      "\n",
      "Query :  the best \n",
      "Results:\n",
      "Count 30 : the best chocolate cake http://www.nebraska.tv\n",
      "Count 15 : the best of word jazz http://www.hip-oselect.com\n",
      "Count 12 : the best nfl mock drafts http://nfldraft.rivals.com\n",
      "Count 11 : the best way to lose bulky muscle http://www.youronlinefitness.com\n",
      "Count 7 : the best face products http://www.nativeremedies.com\n",
      "Time elapsed : 0.00658 sec\n",
      "\n",
      "\n",
      "Query :  information retrieval\n",
      "Results:\n",
      "Nothing to Suggest\n",
      "Time elapsed : 7e-05 sec\n",
      "\n",
      "\n",
      "Query :  sherlock hol\n",
      "Results:\n",
      "Count 2 : sherlock holmes chronological order http://www.geocities.com\n",
      "Count 2 : sherlock holmes society http://www.sherlockian.net\n",
      "Count 1 : sherlock holmes audiotapes\n",
      "Count 1 : sherlock holmes address\n",
      "Count 1 : sherlock holmes\n",
      "Time elapsed : 0.00047 sec\n",
      "\n",
      "\n",
      "Query :  carnegie mell\n",
      "Results:\n",
      "Count 1 : carnegie mellon university http://www.cmu.edu\n",
      "Count 1 : carnegie mellon\n",
      "Time elapsed : 0.00018 sec\n",
      "\n",
      "\n",
      "Query :  babies r\n",
      "Results:\n",
      "Count 15 : babies r us.com http://www.state.nj.us\n",
      "Count 5 : babies r us birmingham al registry http://www.amazon.com\n",
      "Count 4 : babies r us regestry\n",
      "Count 3 : babies rus\n",
      "Count 3 : babies r us baby registry http://www.amazon.com\n",
      "Time elapsed : 0.001 sec\n",
      "\n",
      "\n",
      "Query :  new york\n",
      "Results:\n",
      "Count 122 : new york alarm installer jobs http://www.thinkjobs.com\n",
      "Count 54 : new york times learning http://www.education-world.com\n",
      "Count 52 : new york red bulls http://www.msnbc.msn.com\n",
      "Count 22 : new york state tax forms http://www.savewealth.com\n",
      "Count 21 : new york driver job http://itmanagement.earthweb.com\n",
      "Time elapsed : 0.05892 sec\n",
      "\n",
      "\n",
      "Query :  googol\n",
      "Results:\n",
      "Count 9 : googole http://www.googole.com\n",
      "Count 6 : googol . com. http://www-users.cs.york.ac.uk\n",
      "Count 1 : googol.cokm\n",
      "Count 1 : googolle\n",
      "Count 1 : googol\n",
      "Time elapsed : 0.00034 sec\n",
      "\n",
      "\n",
      "Query :  inter\n",
      "Results:\n",
      "Count 66 : international male.com\n",
      "Count 42 : international bar association http://www.ibanet.org\n",
      "Count 34 : internationalliving.com http://www.agoraimages.com\n",
      "Count 32 : international chats\n",
      "Count 30 : interior design drawings\n",
      "Time elapsed : 0.07326 sec\n",
      "\n",
      "\n",
      "Query :  USA sta\n",
      "Results:\n",
      "Count 1 : usa state map\n",
      "Time elapsed : 0.00011 sec\n",
      "\n",
      "\n",
      "Query :  Barbara \n",
      "Results:\n",
      "Count 23 : barbara ann priddy teacher oklahoma city oklahoma\n",
      "Count 21 : barbara eden http://www.glencharlow.com\n",
      "Count 14 : barbara franzoso http://www.nh.com\n",
      "Count 14 : barbara a priddy oklahoma city oklahoma http://www.oklahomahistory.net\n",
      "Count 13 : barbara ann priddy psychiatric history\n",
      "Time elapsed : 0.00477 sec\n",
      "\n",
      "\n"
     ]
    }
   ],
   "source": [
    "inp_queries = [\"inf\", \"the best \", \"information retrieval\", \"sherlock hol\", \"carnegie mell\", \n",
    "               \"babies r\", \"new york\", \"googol\", \"inter\", \"USA sta\", \"Barbara \"]\n",
    "\n",
    "from time import time\n",
    "query_times = dict()\n",
    "for q in inp_queries:\n",
    "    print(\"Query : \", q)\n",
    "    print(\"Results:\")\n",
    "    stat_t = time()\n",
    "    complete_user_query(q.lower(), aol_trie)\n",
    "    end_time = time()\n",
    "    query_times[q] = end_time - stat_t\n",
    "    print(f\"Time elapsed : {round(query_times[q],5)} sec\")\n",
    "    print(\"\\n\")\n"
   ]
  },
  {
   "cell_type": "markdown",
   "metadata": {
    "colab_type": "text",
    "id": "gH_RNJRj1osG"
   },
   "source": [
    "## 4. Bonus task ##\n",
    "\n",
    "Add spellchecking to your suggest."
   ]
  },
  {
   "cell_type": "code",
   "execution_count": null,
   "metadata": {},
   "outputs": [],
   "source": []
  }
 ],
 "metadata": {
  "colab": {
   "name": "Suggest.ipynb",
   "provenance": []
  },
  "kernelspec": {
   "display_name": "Python 3",
   "language": "python",
   "name": "python3"
  },
  "language_info": {
   "codemirror_mode": {
    "name": "ipython",
    "version": 3
   },
   "file_extension": ".py",
   "mimetype": "text/x-python",
   "name": "python",
   "nbconvert_exporter": "python",
   "pygments_lexer": "ipython3",
   "version": "3.6.5"
  }
 },
 "nbformat": 4,
 "nbformat_minor": 1
}
