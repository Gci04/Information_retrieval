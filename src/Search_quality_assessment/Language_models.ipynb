{
 "cells": [
  {
   "cell_type": "markdown",
   "metadata": {},
   "source": [
    "# Language and Topic models\n",
    "\n",
    "A common suggestion to users for coming up with good queries is to think of words that would likely appear in a relevant document, and to use those words as the query. The language modeling approach to IR directly models this idea: a document is a good match to a query if the document model is likely to generate the query, which will in turn happen if the document contains the query words often. \n",
    "\n",
    "Today we will score documents with respect to user query using language models and also get some experience with topic modelling."
   ]
  },
  {
   "cell_type": "markdown",
   "metadata": {},
   "source": [
    "## Loading data\n",
    "\n",
    "In this class we will use the dataset we already used once - [this topic-modeling dataset](https://code.google.com/archive/p/topic-modeling-tool/downloads)."
   ]
  },
  {
   "cell_type": "code",
   "execution_count": 1,
   "metadata": {
    "collapsed": true
   },
   "outputs": [],
   "source": [
    "# TODO: read the dataset\n",
    "def read_dataset(file_path):\n",
    "    docs = []\n",
    "    with open(file_path) as fp:\n",
    "        for cnt, line in enumerate(fp):\n",
    "            docs.append(line)\n",
    "    return docs\n",
    "\n",
    "fuel_data = read_dataset(\"topic_modeling_dataset/testdata_news_fuel_845docs.txt\")\n",
    "brain_inj_data = read_dataset(\"topic_modeling_dataset/testdata_braininjury_10000docs.txt\")\n",
    "economy_data = read_dataset(\"topic_modeling_dataset/testdata_news_economy_2073docs.txt\")\n",
    "music_data = read_dataset(\"topic_modeling_dataset/testdata_news_music_2084docs.txt\")\n",
    "\n",
    "all_data = fuel_data + brain_inj_data + economy_data + music_data"
   ]
  },
  {
   "cell_type": "code",
   "execution_count": 2,
   "metadata": {
    "scrolled": true
   },
   "outputs": [
    {
     "name": "stdout",
     "output_type": "stream",
     "text": [
      "# of documents 15002\n"
     ]
    }
   ],
   "source": [
    "print(\"# of documents\", len(all_data))\n",
    "assert len(all_data) == 15002"
   ]
  },
  {
   "cell_type": "code",
   "execution_count": 3,
   "metadata": {},
   "outputs": [
    {
     "data": {
      "text/plain": [
       "'the new york times said editorial for tuesday jan new year day has way stealing down upon coming the shadow the christmas week and its own scintillating eve you celebrated midnight last night was easy little illusory think the festivities gesture dismissal warding off the old year and its associated...'"
      ]
     },
     "execution_count": 3,
     "metadata": {},
     "output_type": "execute_result"
    }
   ],
   "source": [
    "all_data[0][:300] + \"...\""
   ]
  },
  {
   "cell_type": "code",
   "execution_count": 4,
   "metadata": {},
   "outputs": [
    {
     "name": "stdout",
     "output_type": "stream",
     "text": [
      "data_ranges [('fuel', 845), ('brain_injury', 10845), ('economy', 12918), ('music', 15002)]\n"
     ]
    }
   ],
   "source": [
    "data_ranges = [(\"fuel\", len(fuel_data)), (\"brain_injury\", len(fuel_data)+len(brain_inj_data)),\n",
    "               (\"economy\", len(fuel_data)+len(brain_inj_data)+len(economy_data)), (\"music\", len(all_data))]\n",
    "\n",
    "def get_doc_category(doc_id, ranges):\n",
    "    for r in ranges:\n",
    "        if doc_id < r[1]:\n",
    "            return r[0]\n",
    "    return \"out of range\"\n",
    "\n",
    "print(\"data_ranges\", data_ranges)"
   ]
  },
  {
   "cell_type": "markdown",
   "metadata": {},
   "source": [
    "## 1. Ranking Using Language Models\n",
    "Our goal is to rank documents by *P(d|q)*, where the probability of a document is interpreted as the likelihood that it is relevant to the query. \n",
    "\n",
    "Using Bayes rule: *P(d|q) = P(q|d)P(d)/P(q)*\n",
    "\n",
    "*P(q)* is the same for all documents, and so can be ignored. The prior probability of a document *P(d)* is often treated as uniform across all *d* and so it can also be ignored. What does it mean? \n",
    "\n",
    "It means that comparing *P(q|d)* between different documents we can compare how relevant are they to the query. How can we estimate *P(q|d)*?\n",
    "\n",
    "*P(q|d)* can be estimated as:\n",
    "![](https://i.imgur.com/BEIMAC1.png)\n",
    "\n",
    "where M<sub>d</sub> is the language model of document *d*, tf<sub>t,d</sub> is the term frequency of term *t* in document *d*, and L<sub>d</sub> is the number of tokens in document *d*. That is, we just count up how often each word occurred, and divide by the total number of words in the document *d*. The first thing we need to do is to build a term-document matrix for tour dataset."
   ]
  },
  {
   "cell_type": "code",
   "execution_count": 5,
   "metadata": {},
   "outputs": [
    {
     "name": "stdout",
     "output_type": "stream",
     "text": [
      "vocabulary size 92067\n",
      "first 100 terms:  ['000l', '000m', '000th', '03rd', '0as', '0dpt', '0gy', '0mm', '0yrs', '1000m', '1000w', '100ab', '100b', '100bb', '100beta', '100g', '100percent', '100th', '101st', '1027g', '103rd', '1040a', '1040s', '104th', '105th', '106s', '106th', '107th', '108th', '109th', '10am', '10fr', '10g', '10million', '10mm', '10mo', '10mwt', '10mwts', '10p10', '10s', '10th', '10x', '10y', '10years', '110million', '110mm', '110th', '112th', '113th', '114th', '115th', '116th', '117th', '118b', '118th', '1199s', '11a', '11b', '11c', '11million', '11th', '120min', '120th', '1223willsmith', '123i', '1240ut', '125cc', '125d', '125i', '125ml', '125ms', '125s', '125th', '126th', '127th', '128th', '1296c', '129th', '12h', '12m', '12million', '12mo', '12p2', '12p6', '12p70', '12th', '12u', '12v2', '1300s', '130f', '130j', '130million', '130r', '130s', '131xe', '135th', '136million', '137th', '138th', '139th']\n"
     ]
    }
   ],
   "source": [
    "# TODO: Build term-document matrix for the dataset\n",
    "from sklearn.feature_extraction.text import CountVectorizer\n",
    "\n",
    "vectorizer = CountVectorizer(stop_words='english')\n",
    "counts_data = vectorizer.fit_transform(all_data)\n",
    "terms = vectorizer.get_feature_names()\n",
    "print(\"vocabulary size\", len(terms))\n",
    "print(\"first 100 terms: \", terms[0:100])"
   ]
  },
  {
   "cell_type": "markdown",
   "metadata": {},
   "source": [
    "### Smoothing\n",
    "\n",
    "Now, you need to implement the abovementioned logic in the `lm_rank_documents` function below. Do you see any potential problems?\n",
    "\n",
    "Yes, data sparsity - we don't expect to meet each term in each doc, so, in most cases, we will get zero scores, which is not what we really want.\n",
    "\n",
    "The solution is smooting.\n",
    "\n",
    "One option is *additive smoothing* - adding a small number (0 to 1) to the observed counts and renormalizing to give a probability distribution.\n",
    "\n",
    "Another option is called Jelinek-Mercer smoothing - a simple idea that works well in practice is to use a mixture between a document-specific distribution and distribution estimated from the entire collection:\n",
    "\n",
    "![](https://i.imgur.com/8Qv41Wp.png)\n",
    "\n",
    "where 0 < λ < 1 and M<sub>c</sub> is a language model built from the entire document collection.\n",
    "\n",
    "Refer to *Chapter 12* for the detailed explanation.\n",
    "\n",
    "\n",
    "You are going to apply both in your `lm_rank_documents` function. This function takes as an input tdm matrix, and ranks all documents \"building\" a language model for each document, returning relative probabilities of query being generated by a document as a document's score."
   ]
  },
  {
   "cell_type": "code",
   "execution_count": 6,
   "metadata": {
    "collapsed": true
   },
   "outputs": [],
   "source": [
    "import numpy as np\n",
    "\n",
    "def lm_rank_documents(query, tdm, terms_list, smoothing='additive', param=0.001):\n",
    "    # TODO: score each document in tdm using this document's language model\n",
    "    # implement two types of smoothing. Looks up term frequencies in tdm\n",
    "    # return document scores in a convenient form\n",
    "    # param is alpha for additive / lambda for jelinek-mercer\n",
    "    \"\"\"\n",
    "    :param query: dict, term:count            \n",
    "    :param tdm: term-document matrix\n",
    "    :param terms_list: vocabulary list\n",
    "    :param smoothing: which smoothing to apply, either 'additive' or 'jelinek-mercer'\n",
    "    :param param: alpha for additive / lambda for jelinek-mercer\n",
    "    :return: list of scores, list of doc_ids sorted by their scores \n",
    "    \"\"\"\n",
    "    n_docs = tdm.shape[0]\n",
    "    doc_lengths = tdm.sum(axis=1)\n",
    "    len_collection = np.sum(doc_lengths)\n",
    "    scores = np.zeros(n_docs)\n",
    "    for term in query.keys():\n",
    "        # check if term exists\n",
    "        if term in terms_list:\n",
    "            # get term's id\n",
    "            term_id = terms_list.index(term)\n",
    "        else:\n",
    "            continue\n",
    "        query_tf = query[term]\n",
    "        # calculate collection frequency of a term\n",
    "        collection_tf = np.sum(tdm[:, term_id])\n",
    "        for doc_id in range(n_docs):\n",
    "            doc_tf = tdm[doc_id, term_id]\n",
    "            # apply smoothing of any\n",
    "            if smoothing == 'additive':\n",
    "                doc_score_factor = (doc_tf + param) / (doc_lengths[doc_id] + param*len(terms_list))\n",
    "            elif smoothing == 'jelinek':\n",
    "                doc_score_factor = param*doc_tf/doc_lengths[doc_id] + (1-param)*collection_tf/len_collection\n",
    "            else:\n",
    "                doc_score_factor = doc_tf/doc_lengths[doc_id]\n",
    "            doc_score_factor = doc_score_factor**query_tf\n",
    "\n",
    "            if doc_id not in scores:\n",
    "                scores[doc_id] = 1\n",
    "            # accumulate scores\n",
    "            scores[doc_id] *= doc_score_factor\n",
    "    # sort doc_ids by scores\n",
    "    sorted_doc_ids = np.argsort(-scores)\n",
    "    return scores, sorted_doc_ids"
   ]
  },
  {
   "cell_type": "markdown",
   "metadata": {},
   "source": [
    "### Testing\n",
    "\n",
    "Check if this type of ranking gives meaningful results. For each query output document category, doc_id, score, and the beginning of the document, as it is shown below. Analyze if categories and contents match the queries. "
   ]
  },
  {
   "cell_type": "code",
   "execution_count": 7,
   "metadata": {
    "scrolled": false
   },
   "outputs": [
    {
     "name": "stdout",
     "output_type": "stream",
     "text": [
      "user query: \u001b[95mpiano concert\u001b[0m\n",
      "prepared query: Counter({'piano': 1, 'concert': 1})\n",
      "\n",
      "search results:\n",
      "\u001b[1mmusic\u001b[0m 13330 0.012384164490679759\n",
      "atlanta prominent midtown intersection one step closer becoming major cultural landmark the atlanta ...\n",
      "\u001b[1meconomy\u001b[0m 11335 0.012384164490679759\n",
      "atlanta prominent midtown intersection one step closer becoming major cultural landmark the atlanta ...\n",
      "\u001b[1mmusic\u001b[0m 12926 0.011382499792705511\n",
      "felt like was going church marry guy never met said the jazz violinist regina carter the metaphorica...\n",
      "\u001b[1mmusic\u001b[0m 14390 0.010661589922122\n",
      "hailed los angeles brightest flower its flashiest ship sail its keenest architectural triumph perhap...\n",
      "\u001b[1mmusic\u001b[0m 13818 0.010549141787975117\n",
      "everything was finished sept the super bowl logo would reflection new orleans featuring streetcar an...\n",
      "\n",
      "\n",
      "user query: \u001b[95msymptoms of head trauma\u001b[0m\n",
      "prepared query: Counter({'symptoms': 1, 'head': 1, 'trauma': 1})\n",
      "\n",
      "search results:\n",
      "\u001b[1mbrain_injury\u001b[0m 7319 0.06022877378376099\n",
      "the direct economic burden blunt and penetrating trauma managed care population background although ...\n",
      "\u001b[1mbrain_injury\u001b[0m 6987 0.05854539395767944\n",
      "history reported head trauma sample women substance abuse treatment objectives determine the prevale...\n",
      "\u001b[1mbrain_injury\u001b[0m 5257 0.05760140208255336\n",
      "violent head trauma china report cases background the occurrence violent trauma has recently increas...\n",
      "\u001b[1mbrain_injury\u001b[0m 1536 0.055365767080148634\n",
      "mild head trauma and chronic headaches returning soldiers objective determine the incidence and type...\n",
      "\u001b[1mbrain_injury\u001b[0m 8874 0.05379997937839304\n",
      "maxillofacial trauma major trauma patients background trauma has been identified major public health...\n",
      "\n",
      "\n",
      "user query: \u001b[95mwall street journal\u001b[0m\n",
      "prepared query: Counter({'wall': 1, 'street': 1, 'journal': 1})\n",
      "\n",
      "search results:\n",
      "\u001b[1meconomy\u001b[0m 11294 0.027288833622119528\n",
      "these business stories for release tuesday january are moving today clients the new york times news ...\n",
      "\u001b[1meconomy\u001b[0m 11295 0.027288833622119528\n",
      "these business stories for release tuesday january are moving today clients the new york times news ...\n",
      "\u001b[1mmusic\u001b[0m 14641 0.026716049665405375\n",
      "these feature stories are moving today clients the new york times news service stories are for relea...\n",
      "\u001b[1mmusic\u001b[0m 14640 0.026716049665405375\n",
      "these feature stories are moving today clients the new york times news service stories are for relea...\n",
      "\u001b[1meconomy\u001b[0m 11297 0.025763725974814314\n",
      "these feature stories are moving today clients the new york times news service stories are for relea...\n",
      "\n",
      "\n"
     ]
    }
   ],
   "source": [
    "from collections import Counter\n",
    "from nltk.corpus import stopwords\n",
    "from nltk import word_tokenize\n",
    "import string\n",
    "\n",
    "def prepare_query(raw_query):\n",
    "    # lower-case, remove punctuation and stopwords\n",
    "    stop_words = list(string.punctuation) + stopwords.words('english')\n",
    "    return Counter([i for i in word_tokenize(raw_query.lower()) if i not in stop_words])\n",
    "\n",
    "\n",
    "def process_query(raw_query, counts_data, terms, data_ranges):\n",
    "    # TODO process user query and print search results including document category, id, score, and some part of it\n",
    "    query = prepare_query(raw_query)\n",
    "    print(\"user query:\", '\\033[95m' + raw_query + '\\033[0m')\n",
    "    print(\"prepared query:\", query)\n",
    "    doc_scores, doc_ids_sorted = lm_rank_documents(query, counts_data, terms)\n",
    "    print(\"\\nsearch results:\")\n",
    "    for i in range(5):\n",
    "        doc_id = doc_ids_sorted[i]\n",
    "        print('\\033[1m' + get_doc_category(doc_id, data_ranges) + '\\033[0m', doc_id, doc_scores[doc_id])\n",
    "        print(all_data[doc_id][:100] + \"...\")\n",
    "    \n",
    "\n",
    "user_queries = [\"piano concert\", \"symptoms of head trauma\", \"wall street journal\"]\n",
    "for q in user_queries:\n",
    "    process_query(q, counts_data, terms, data_ranges)\n",
    "    print(\"\\n\")"
   ]
  },
  {
   "cell_type": "markdown",
   "metadata": {},
   "source": [
    "## 2. Topic modeling\n",
    "\n",
    "Now let's use *Latent Dirichlet Allocation* to identify topics in this collection and check if they match the original topics (fuel, economy, etc.). Go through the tutorial [here](https://towardsdatascience.com/end-to-end-topic-modeling-in-python-latent-dirichlet-allocation-lda-35ce4ed6b3e0) and apply the ideas there to our dataset. "
   ]
  },
  {
   "cell_type": "code",
   "execution_count": 8,
   "metadata": {},
   "outputs": [
    {
     "name": "stdout",
     "output_type": "stream",
     "text": [
      "Topics found via LDA:\n",
      "\n",
      "Topic #0:\n",
      "brain injury patients tbi traumatic study cerebral results severe group cognitive clinical pressure imaging following outcome control using children test\n",
      "\n",
      "Topic #1:\n",
      "new said york news atlanta like times year service time people undated just music journal constitution city says com years\n",
      "\n",
      "Topic #2:\n",
      "patients injury injuries trauma head study results traumatic brain treatment cases patient fractures years case outcome methods clinical tbi surgery\n",
      "\n",
      "Topic #3:\n",
      "said year bush percent new enron company president government people economy years million state companies states economic united time billion\n"
     ]
    }
   ],
   "source": [
    "# TODO: apply LDA to our dataset and output the resulting categories \n",
    "from sklearn.decomposition import LatentDirichletAllocation as LDA\n",
    "\n",
    "# Helper function\n",
    "def print_topics(model, count_vectorizer, n_top_words):\n",
    "    words = count_vectorizer.get_feature_names()\n",
    "    for topic_idx, topic in enumerate(model.components_):\n",
    "        print(\"\\nTopic #%d:\" % topic_idx)\n",
    "        print(\" \".join([words[i]\n",
    "                        for i in topic.argsort()[:-n_top_words - 1:-1]]))\n",
    "\n",
    "\n",
    "# Tweak the two parameters below\n",
    "number_topics = 4\n",
    "number_words = 20\n",
    "# Create and fit the LDA model\n",
    "lda = LDA(n_components=number_topics, n_jobs=-1)\n",
    "lda.fit(counts_data)\n",
    "# Print the topics found by the LDA model\n",
    "print(\"Topics found via LDA:\")\n",
    "print_topics(lda, vectorizer, number_words)"
   ]
  }
 ],
 "metadata": {
  "kernelspec": {
   "display_name": "Python 3",
   "language": "python",
   "name": "python3"
  },
  "language_info": {
   "codemirror_mode": {
    "name": "ipython",
    "version": 3
   },
   "file_extension": ".py",
   "mimetype": "text/x-python",
   "name": "python",
   "nbconvert_exporter": "python",
   "pygments_lexer": "ipython3",
   "version": "3.6.5"
  }
 },
 "nbformat": 4,
 "nbformat_minor": 4
}
