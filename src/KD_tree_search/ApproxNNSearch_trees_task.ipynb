{
 "cells": [
  {
   "cell_type": "markdown",
   "metadata": {
    "colab_type": "text",
    "id": "N3jWAGm59d1D"
   },
   "source": [
    "# Approximate Nearest Neighbours Search. Tree indices\n",
    "\n",
    "Today's lab is devoted to ANNS with trees. At the lecture we discussed that trees can be very useful, if we have vector representation of an object. Today you will write your our own index (simple kd-tree) and compare it with [Annoy](https://github.com/spotify/annoy) library.\n",
    "\n",
    "Tutorial consists of the following parts:\n",
    "1. Writing kd-tree\n",
    "  1. building kd-tree index\n",
    "  2. implementing kd-tree search\n",
    "  3. implementing KNN search\n",
    "  4. implementing kd-tree insertion\n",
    "2. Building Annoy index (`pip install --user annoy`)\n",
    "3. Practicing on real data (download a dataset from [here](https://drive.google.com/drive/folders/1nhiJC6g5R5uPDYwa-6sz9_bJ3sYGm8mM?usp=sharing))\n",
    "  1. KNN search on real data\n",
    "  2. implementing kd-tree range search\n",
    "4. Bonus Task. Set of open questions"
   ]
  },
  {
   "cell_type": "code",
   "execution_count": 0,
   "metadata": {
    "colab": {},
    "colab_type": "code",
    "id": "1CTHeBB39hLz"
   },
   "outputs": [],
   "source": [
    "# !pip3 install --user annoy"
   ]
  },
  {
   "cell_type": "code",
   "execution_count": 0,
   "metadata": {
    "colab": {},
    "colab_type": "code",
    "id": "kIEHsW7A9d1I"
   },
   "outputs": [],
   "source": [
    "# all necessary imports are here\n",
    "import random, time, sys\n",
    "from tqdm import tqdm_notebook\n",
    "import matplotlib.pyplot as plt\n",
    "import numpy as np\n",
    "from scipy.spatial import distance\n",
    "import pickle"
   ]
  },
  {
   "cell_type": "markdown",
   "metadata": {
    "colab_type": "text",
    "id": "8c50ViH29d1U"
   },
   "source": [
    "# Data Generation\n",
    "Firstly you will test your data structure using randomly generated values. At this step generate big enough random dataset. If your laptop spends a lot of time on this operation, please, reduce `maxsize` value and rerun.\n",
    "\n",
    "After you finish implementation, you can tune `K_random` parameter to see how the number of dimensions influences data structure time complexity (see question 4)."
   ]
  },
  {
   "cell_type": "code",
   "execution_count": 3,
   "metadata": {
    "colab": {
     "base_uri": "https://localhost:8080/",
     "height": 71
    },
    "colab_type": "code",
    "id": "Nt7cf49p9d1Z",
    "outputId": "e5f8afd5-3a9a-48c0-9273-c044e189dd44"
   },
   "outputs": [
    {
     "name": "stdout",
     "output_type": "stream",
     "text": [
      "[([0.010695734412771052, 0.44526220986644727, 0.9172163665636917], 'stub value 0'), ([0.367044062934214, 0.36639855645272545, 0.2332246869116782], 'stub value 1'), ([0.5225134391325585, 0.07148305041335856, 0.9562075018274194], 'stub value 2')]\n",
      "500000 rows generated in 1.19 s\n"
     ]
    }
   ],
   "source": [
    "K_random = 3\n",
    "maxsize = 500000\n",
    "start = time.time()\n",
    "R = np.random.rand(maxsize, K_random)\n",
    "R = [(row.tolist(), \"stub value {}\".format(i)) for i, row in enumerate(R)]\n",
    "print(R[:3])\n",
    "finish = time.time()\n",
    "print(\"{} rows generated in {:.2f} s\".format(len(R), finish - start))"
   ]
  },
  {
   "cell_type": "markdown",
   "metadata": {
    "colab_type": "text",
    "id": "0oKWLv-r9d1j"
   },
   "source": [
    "# 1. Implementations\n",
    "Within this cell you will iteratively implement major methods of [kd-tree](https://en.wikipedia.org/wiki/K-d_tree) data structure. Biggest part of code is already written - just fill remaining gaps. \n",
    "\n",
    "This particular implementation is designed to be **non-homogeneous**, which means it **stores values only in leaf nodes**. But this doesn't limit you if you want to implement other approach.\n",
    "\n",
    "Each leaf node can hold up to `leaf_capacity` items.\n",
    "\n",
    "Item stored in an index is a tuple: `(coordinate_k_dim_vector, value)`.\n",
    "\n",
    "Search requires only `coordinate_k_dim_vector` and returns relevant item(s)."
   ]
  },
  {
   "cell_type": "code",
   "execution_count": 0,
   "metadata": {
    "colab": {},
    "colab_type": "code",
    "id": "KFVRx7-s9d1m"
   },
   "outputs": [],
   "source": [
    "class Node:\n",
    "  def __init__(self, K=None, parent=None):\n",
    "    assert K is not None or parent, \"Either `K` should be provided for root node, or `parent` for internal nodes\"\n",
    "    # Reference to parent node. Used in ANNS search\n",
    "    self.parent = parent\n",
    "    # depth start from 0. To compute dimension, relevant to the level, use (self.depth % self.K)\n",
    "    self.depth = (parent.depth + 1) if parent else 0\n",
    "    # K means number of vector dimensions\n",
    "    self.K = parent.K if parent else K\n",
    "    # value, which splits subspace into to parts using hyperplane: item[self.depth % self.K] == self.pivot\n",
    "    # pivot is empty for any leaf node.\n",
    "    self.pivot = None\n",
    "    # left and right child nodes\n",
    "    self.left = None\n",
    "    self.right = None\n",
    "    # collection of items\n",
    "    self.items = None\n",
    "      \n",
    "  def build_kd_tree(self, items, leaf_capacity=4):\n",
    "\n",
    "    '''Takes a list of items and arranges it in a kd-tree'''\n",
    "    assert items is not None, \"Please provide at least one point\"\n",
    "    # put all items in the node if they fit into limit\n",
    "    if len(items) <= leaf_capacity:\n",
    "      self.items = items\n",
    "    # or else split items into 2 subnodes using median value\n",
    "    else:\n",
    "      self.items = None\n",
    "      self.left = Node(parent=self)\n",
    "      self.right = Node(parent=self)\n",
    "      \n",
    "      #TODO 1.A.: fill in the code to initialize internal node.\n",
    "      # Be careful: there may be multiple items with the same values as pivot,\n",
    "      # make sure they go to the same child.\n",
    "      # Also, there may be duplicate items, and you need to deal with them\n",
    "      split_d = self.depth % self.K\n",
    "      sorted_items = sorted(items, key=lambda k : k[0][split_d])\n",
    "\n",
    "      pivot_idx = len(sorted_items) // 2    # here you should write median value with respect to coordinate\n",
    "\n",
    "      #find duplicates by split axis and all\n",
    "      dup = [i for i , x in enumerate(sorted_items) if (x[0] == sorted_items[pivot_idx][0] or x[0][split_d] == sorted_items[pivot_idx][0][split_d])]\n",
    "\n",
    "      pivot_idx = len(sorted_items) // 2 if len(dup) == 1 else dup[-1] \n",
    "\n",
    "      # put all duplicates in one leaf \n",
    "      if all([sorted_items[i][0] == sorted_items[pivot_idx][0] for i in dup]) and len(dup) == len(sorted_items):\n",
    "        self.pivot = None\n",
    "        self.items = items\n",
    "        self.left = None \n",
    "        self.right = None\n",
    "        return self\n",
    "      \n",
    "      self.pivot = sorted_items[pivot_idx][0][split_d]\n",
    "\n",
    "      left = sorted_items[:pivot_idx]         # those items, which are smaller than the pivot value\n",
    "      right = sorted_items[pivot_idx:]          # those items, which are greater than the pivot value\n",
    "\n",
    "      self.left.build_kd_tree(left)\n",
    "      self.right.build_kd_tree(right)\n",
    "    return self\n",
    "\n",
    "  def kd_find_leaf(self, key):\n",
    "    ''' returns a node where key should be stored (but can be not present)'''\n",
    "    if self.pivot is None or self.items is not None: # leaf node OR empty root\n",
    "      return self\n",
    "      \n",
    "    return self.right.kd_find_leaf(key) if self.pivot < key[self.depth % self.K] else self.left.kd_find_leaf(key)\n",
    "      \n",
    "  def kd_insert_with_split(self, item, leaf_capacity=4):\n",
    "    '''This method recursively splits the nodes into 2 child nodes if they overflow `leaf_capacity`'''\n",
    "    \n",
    "    node = self.kd_find_leaf(item[0])\n",
    "\n",
    "    if node.items is None:\n",
    "      node = node.build_kd_tree(items = [item],leaf_capacity=leaf_capacity)\n",
    "    else:\n",
    "      if len(node.items) > leaf_capacity :\n",
    "        node = node.build_kd_tree(items = node.items + [item],leaf_capacity=leaf_capacity)\n",
    "        node.items = None\n",
    "      else:\n",
    "        node.items += [item]\n",
    "  def get_items(self):\n",
    "    if self.pivot is None and self.items is not None:\n",
    "      return self.items.copy()\n",
    "    else:\n",
    "      return self.left.get_items() + self.right.get_items()\n",
    "\n",
    "  def get_nn(self, key, knn):\n",
    "\n",
    "    '''Return K approximate nearest neighbours for a given key'''\n",
    "    node = self.kd_find_leaf(key)\n",
    "    best = []\n",
    "\n",
    "    # if len(node.items) >= knn :\n",
    "    #   best = node.items.copy()\n",
    "    # else:\n",
    "    best = node.items\n",
    "    while(len(best) < knn):\n",
    "      node = node.parent.right if node.parent.left is node else node.parent.left\n",
    "\n",
    "      if node.items is not None:\n",
    "        best += node.items.copy()\n",
    "      else : \n",
    "        best += node.get_items()\n",
    "      node = node.parent\n",
    "    best = sorted(best, key = lambda x : distance.euclidean(x[0], key) )\n",
    "    \n",
    "    return best[:knn]\n",
    "\n",
    "  def get_in_range(self, lower_left_bound_key, upper_right_bound_key):\n",
    "\n",
    "    '''Runs range query. Returns all items bounded by the given corners: `lower_left_bound_key`, `upper_right_bound_key`'''\n",
    "    result = []\n",
    "    if self.pivot is None or self.items is not None:\n",
    "      lower, upper = lower_left_bound_key , lower_left_bound_key\n",
    "      \n",
    "      result += list(filter([lambda x: (x[0][i] > lower[i] and x[0][i] < upper[i] ) for i in range(len(bound))] , self.items) )\n",
    "      \n",
    "      return result\n",
    "    else:\n",
    "      return result"
   ]
  },
  {
   "cell_type": "markdown",
   "metadata": {
    "colab_type": "text",
    "id": "zTGuANYK9d1s"
   },
   "source": [
    "### 1.A. Build procedure ###\n",
    "`build_kd_tree()` method implements the core idea. This is the suggested idea, but you can modify it slightly:\n",
    "- tree is non-homogenous, thus, items are stored in leaf nodes only.\n",
    "- `self.pivot` should be assigned the median value for correspoinding `depth % K` coordinate.\n",
    "- `left` variable should hold all the items <= than `self.pivot`.\n",
    "- `right` variable should hold all the items > than `self.pivot`.\n",
    "- `node_capacity=X` allows to store up to `X` items in a leaf node.\n",
    "\n",
    "This is how it works for `K=2, node_capacity=2`:\n",
    "![kd-tree](http://sprotasov.ru/files/kd.png)\n",
    "\n",
    "Next block will generate you a graph `time(size)`. Please explore the graph. Is it close to linear function?"
   ]
  },
  {
   "cell_type": "code",
   "execution_count": 5,
   "metadata": {
    "colab": {
     "base_uri": "https://localhost:8080/",
     "height": 453,
     "referenced_widgets": [
      "80e53846257842dd8b148a1ed4d8accf",
      "76514656bc7445af8c66322cb71bdaf1",
      "a5d7c089ce664f189658cd14e1abb16c",
      "32052a3f345a4fd6a4026d2187b5ddd8",
      "a58da87c26624ed992fdee7adc7a74ee",
      "5a063c56e72644aa8173b65ed2c955dc",
      "bdbce80f590649c4954e5b7946a578ca",
      "c366ff4748794b0aabd5efdc2d235a59"
     ]
    },
    "colab_type": "code",
    "id": "ie4Og8Jss7nF",
    "outputId": "8c90662c-7d2c-4660-bc60-d687c89d8072"
   },
   "outputs": [
    {
     "data": {
      "application/vnd.jupyter.widget-view+json": {
       "model_id": "80e53846257842dd8b148a1ed4d8accf",
       "version_major": 2,
       "version_minor": 0
      },
      "text/plain": [
       "HBox(children=(IntProgress(value=0, max=10), HTML(value='')))"
      ]
     },
     "metadata": {
      "tags": []
     },
     "output_type": "display_data"
    },
    {
     "name": "stdout",
     "output_type": "stream",
     "text": [
      "\n"
     ]
    },
    {
     "data": {
      "image/png": "[encoded data removed]",
      "text/plain": [
       "<Figure size 720x432 with 1 Axes>"
      ]
     },
     "metadata": {
      "tags": []
     },
     "output_type": "display_data"
    }
   ],
   "source": [
    "# sample 10, 20, ..., 100% of R\n",
    "step = len(R) // 10\n",
    "sizes, build_times = [], []\n",
    "\n",
    "# tqdm_notebook draws a progress bar. If it doesnt't work in your environment, just remove it.\n",
    "for size in tqdm_notebook(range(1, len(R) + 1, step)):\n",
    "  sample = R[:size]\n",
    "  start = time.time()\n",
    "  kdtree = Node(K=K_random).build_kd_tree(sample)\n",
    "  finish = time.time()\n",
    "  sizes.append(size)\n",
    "  build_times.append((finish - start) * 1000)\n",
    "   \n",
    "fig = plt.figure(figsize=(10, 6))\n",
    "a = plt.axes()\n",
    "a.set_xlabel('dataset size')\n",
    "a.set_ylabel('time, ms')\n",
    "plt.plot(sizes, build_times)\n",
    "plt.title(\"KD-tree build speed\")\n",
    "plt.show()"
   ]
  },
  {
   "cell_type": "markdown",
   "metadata": {
    "colab_type": "text",
    "id": "6DZPMld09d13"
   },
   "source": [
    "### 1.B. Search ###\n",
    "Before running this block, please complete the finction `kd_find_leaf()` which accepts a key vector and returns one leaf node, which should store this key. After you complete, you will see how fastly your queries can be processed with respect to dataset size."
   ]
  },
  {
   "cell_type": "code",
   "execution_count": 6,
   "metadata": {
    "colab": {
     "base_uri": "https://localhost:8080/",
     "height": 453,
     "referenced_widgets": [
      "04122fcdbf5245388a54f8f67c7ec490",
      "b189f69232e642d7836aa42bca22491b",
      "cdc554ef9e35416296576c987022ae9e",
      "746881fc805d4bb1a0c468c32e11e17f",
      "4f529511e355470eb5a0a87d2cd52972",
      "00648b44c61c47b4b007bf638a21ec72",
      "d5b5b12ebd924625862742fc10d69e78",
      "6f848eef8d38490d9f6309aabee1af5f"
     ]
    },
    "colab_type": "code",
    "id": "Bijm604G9d15",
    "outputId": "93e315b1-441d-49a3-c361-73c96196aaf5"
   },
   "outputs": [
    {
     "data": {
      "application/vnd.jupyter.widget-view+json": {
       "model_id": "04122fcdbf5245388a54f8f67c7ec490",
       "version_major": 2,
       "version_minor": 0
      },
      "text/plain": [
       "HBox(children=(IntProgress(value=0, max=10), HTML(value='')))"
      ]
     },
     "metadata": {
      "tags": []
     },
     "output_type": "display_data"
    },
    {
     "name": "stdout",
     "output_type": "stream",
     "text": [
      "\n"
     ]
    },
    {
     "data": {
      "image/png": "[encoded data removed]",
      "text/plain": [
       "<Figure size 720x432 with 1 Axes>"
      ]
     },
     "metadata": {
      "tags": []
     },
     "output_type": "display_data"
    }
   ],
   "source": [
    "step = len(R) // 10\n",
    "sizes, search_times = [], []\n",
    "\n",
    "for size in tqdm_notebook(range(step, len(R) + 1, step)):\n",
    "  kdtree = Node(K=K_random).build_kd_tree(R[:size])\n",
    "  \n",
    "  iterations = 100\n",
    "  duration = None\n",
    "  for i in range(iterations):\n",
    "    x = R[random.randint(0, len(R) - 1)]\n",
    "    start = time.time()\n",
    "    kdtree.kd_find_leaf(x[0])\n",
    "    finish = time.time()\n",
    "    duration = max(duration, finish - start) if duration else finish - start\n",
    "      \n",
    "  sizes.append(size)\n",
    "  search_times.append(duration * 1000)\n",
    "    \n",
    "    \n",
    "fig = plt.figure(figsize=(10, 6))\n",
    "a = plt.axes()\n",
    "a.set_xlabel('dataset size')\n",
    "a.set_ylabel('worst search time (100 attempts), ms')\n",
    "plt.plot(sizes, search_times)\n",
    "plt.title(\"KD-tree search speed\")\n",
    "plt.show()"
   ]
  },
  {
   "cell_type": "markdown",
   "metadata": {
    "colab_type": "text",
    "id": "oWwnHiCG9d2A"
   },
   "source": [
    "### 1.C. Insertion ###\n",
    "Now let's see how fast the tree depth is growing for different capacity set-ups. Implement the remaining part of `kd_insert_with_split()` and run the test."
   ]
  },
  {
   "cell_type": "code",
   "execution_count": 7,
   "metadata": {
    "colab": {
     "base_uri": "https://localhost:8080/",
     "height": 453,
     "referenced_widgets": [
      "75dd7ebdf73242d992bdb195d8f78e18",
      "e83af5c4fdf24c959971c7d6e8e5d260",
      "627971d78e924bd287b8c1ea7d30f817",
      "26e66c498a924cf583aa96a1613438f6",
      "1cd1c26dc66b408e95b6f7abc6af98a1",
      "d97eb899a16644b1bbcbaa52458a3fe5",
      "608629d048cf4eb88a2b548ed1310714",
      "b0af4cf6c43a4672a96e9cd3f9444072"
     ]
    },
    "colab_type": "code",
    "id": "sD2F24BIJAdH",
    "outputId": "21ea1f6c-953e-4cd8-d209-152404ea525a"
   },
   "outputs": [
    {
     "data": {
      "application/vnd.jupyter.widget-view+json": {
       "model_id": "75dd7ebdf73242d992bdb195d8f78e18",
       "version_major": 2,
       "version_minor": 0
      },
      "text/plain": [
       "HBox(children=(IntProgress(value=0), HTML(value='')))"
      ]
     },
     "metadata": {
      "tags": []
     },
     "output_type": "display_data"
    },
    {
     "name": "stdout",
     "output_type": "stream",
     "text": [
      "\n"
     ]
    },
    {
     "data": {
      "image/png": "[encoded data removed]",
      "text/plain": [
       "<Figure size 720x432 with 1 Axes>"
      ]
     },
     "metadata": {
      "tags": []
     },
     "output_type": "display_data"
    }
   ],
   "source": [
    "step = 5000\n",
    "sample_size = 500000\n",
    "\n",
    "trees = [Node(K=K_random),Node(K=K_random), Node(K=K_random)]\n",
    "capacities = [1, 4, 10]\n",
    "\n",
    "sizes, depths = [], [[], [], []]\n",
    "max_depth = [0, 0, 0]\n",
    "\n",
    "for i in tqdm_notebook(range(0, sample_size, step)):\n",
    "  for item in R[i:i+step]:\n",
    "    for t in range(3):\n",
    "      trees[t].kd_insert_with_split((item[0], \"stub value test 1.C.\"), leaf_capacity=capacities[t])\n",
    "      max_depth[t] = max(trees[t].kd_find_leaf(item[0]).depth, max_depth[t])\n",
    "  sizes.append(i)\n",
    "  for t in range(3):\n",
    "    depths[t].append(max_depth[t])\n",
    "\n",
    "fig = plt.figure(figsize=(10, 6))\n",
    "a = plt.axes()\n",
    "a.set_xlabel('iteration of inserting 5000 points')\n",
    "a.set_ylabel('tree depth after insertions')\n",
    "plt.plot(sizes, depths[0], label=\"capacity={}\".format(capacities[0]))\n",
    "plt.plot(sizes, depths[1], label=\"capacity={}\".format(capacities[1]))\n",
    "plt.plot(sizes, depths[2], label=\"capacity={}\".format(capacities[2]))\n",
    "plt.legend(loc=\"upper left\")\n",
    "plt.title(\"KD-tree insertion speed\")\n",
    "plt.show()"
   ]
  },
  {
   "cell_type": "markdown",
   "metadata": {
    "colab_type": "text",
    "id": "yw98hfpr9d2I"
   },
   "source": [
    "### 1.D. ANNS search ### \n",
    "This block tests `get_nn()` method, which performs approximate nearest neighbour search. Please, complete this method. After you run this block you will see how NN count influences search speed."
   ]
  },
  {
   "cell_type": "code",
   "execution_count": 8,
   "metadata": {
    "colab": {
     "base_uri": "https://localhost:8080/",
     "height": 453,
     "referenced_widgets": [
      "92d8cad54e214820a861e1c280e629fd",
      "1ffc4396943644ac9046caf870eb0d43",
      "d988593d0bf843edb2cc5505e99ad589",
      "ba7c6f989a494e32a5761d0475ee33ea",
      "d01e3cfb32da4a94be549064c6f7052f",
      "990ee634ca7c4418be606bbfe606acad",
      "d383f12d71784e3d81d01970f2396ea5",
      "261c234051bb41dc8c9d789d601eb3f7"
     ]
    },
    "colab_type": "code",
    "id": "EMFSdzo3GhxJ",
    "outputId": "d94bc5d9-39dd-415a-9ac0-07744be02477"
   },
   "outputs": [
    {
     "data": {
      "application/vnd.jupyter.widget-view+json": {
       "model_id": "92d8cad54e214820a861e1c280e629fd",
       "version_major": 2,
       "version_minor": 0
      },
      "text/plain": [
       "HBox(children=(IntProgress(value=0, max=6), HTML(value='')))"
      ]
     },
     "metadata": {
      "tags": []
     },
     "output_type": "display_data"
    },
    {
     "name": "stdout",
     "output_type": "stream",
     "text": [
      "\n"
     ]
    },
    {
     "data": {
      "image/png": "[encoded data removed]",
      "text/plain": [
       "<Figure size 720x432 with 1 Axes>"
      ]
     },
     "metadata": {
      "tags": []
     },
     "output_type": "display_data"
    }
   ],
   "source": [
    "# NN SEARCH\n",
    "kdtree = Node(K=K_random).build_kd_tree(R)\n",
    "times = []\n",
    "nns = [10, 100, 1000, 10000, 20000, 40000]\n",
    "iterations = 10\n",
    "for nn in tqdm_notebook(nns):\n",
    "    start = time.time()\n",
    "    for t in range(iterations):\n",
    "        x = R[random.randint(0, len(R) - 1)]\n",
    "        kdtree.get_nn(x[0], nn)\n",
    "    finish = time.time()\n",
    "    times.append((finish - start) * 1000 / iterations)\n",
    "\n",
    "fig = plt.figure(figsize=(10, 6))\n",
    "a = plt.axes()\n",
    "a.set_xlabel('How many NNs we request')\n",
    "a.set_ylabel('time of search, ms')\n",
    "plt.title(\"KD-tree depth growth with insertions\")\n",
    "plt.plot(nns,times)\n",
    "plt.show()"
   ]
  },
  {
   "cell_type": "code",
   "execution_count": 9,
   "metadata": {
    "colab": {
     "base_uri": "https://localhost:8080/",
     "height": 453,
     "referenced_widgets": [
      "0fc96b6640504903a22b1320cc4c1512",
      "149e43f0bd9c4c6082076affc49eb69e",
      "f71d787b0c204241a235b130f43dc7d2",
      "aae6a447887141298eedf287f9375174",
      "3e5bee9893574e09ae05def6e57eff9a",
      "f957fc4684c144f5b6998b5e430cc45e",
      "277fcfa092a64cb9b71f992648ba3677",
      "3751a61e22114b429131a88dc473792e"
     ]
    },
    "colab_type": "code",
    "id": "3l6hb60E9d2L",
    "outputId": "8335fa00-46bd-4445-d7ca-89846bb08482"
   },
   "outputs": [
    {
     "data": {
      "application/vnd.jupyter.widget-view+json": {
       "model_id": "0fc96b6640504903a22b1320cc4c1512",
       "version_major": 2,
       "version_minor": 0
      },
      "text/plain": [
       "HBox(children=(IntProgress(value=0, max=6), HTML(value='')))"
      ]
     },
     "metadata": {
      "tags": []
     },
     "output_type": "display_data"
    },
    {
     "name": "stdout",
     "output_type": "stream",
     "text": [
      "\n"
     ]
    },
    {
     "data": {
      "image/png": "[encoded data removed]",
      "text/plain": [
       "<Figure size 720x432 with 1 Axes>"
      ]
     },
     "metadata": {
      "tags": []
     },
     "output_type": "display_data"
    }
   ],
   "source": [
    "# NN SEARCH\n",
    "kdtree = Node(K=K_random).build_kd_tree(R)\n",
    "times = []\n",
    "nns = [10, 100, 1000, 10000, 20000, 40000]\n",
    "iterations = 10\n",
    "for nn in tqdm_notebook(nns):\n",
    "    start = time.time()\n",
    "    for t in range(iterations):\n",
    "        x = R[random.randint(0, len(R) - 1)]\n",
    "        kdtree.get_nn(x[0], nn)\n",
    "    finish = time.time()\n",
    "    times.append((finish - start) * 1000 / iterations)\n",
    "\n",
    "fig = plt.figure(figsize=(10, 6))\n",
    "a = plt.axes()\n",
    "a.set_xlabel('How many NNs we request')\n",
    "a.set_ylabel('time of search, ms')\n",
    "plt.title(\"KD-tree depth growth with insertions\")\n",
    "plt.plot(nns,times)\n",
    "plt.show()"
   ]
  },
  {
   "cell_type": "markdown",
   "metadata": {
    "colab_type": "text",
    "id": "ph4C013Z9d2P"
   },
   "source": [
    "## 2. [Annoy](https://github.com/spotify/annoy) library ## \n",
    "\n",
    "Now you have your own index data structure. How far is it from industrial implementations?\n",
    "\n",
    "First of all, let's install and import the requirement. Just run it."
   ]
  },
  {
   "cell_type": "code",
   "execution_count": 0,
   "metadata": {
    "colab": {},
    "colab_type": "code",
    "id": "2pdPsGOy9d2Q"
   },
   "outputs": [],
   "source": [
    "# !pip install --user annoy\n",
    "from annoy import AnnoyIndex"
   ]
  },
  {
   "cell_type": "code",
   "execution_count": 11,
   "metadata": {
    "colab": {
     "base_uri": "https://localhost:8080/",
     "height": 34
    },
    "colab_type": "code",
    "id": "GQ6dL-LO9d2V",
    "outputId": "2775dc18-d22a-4a49-8df6-85e1c7965eef"
   },
   "outputs": [
    {
     "data": {
      "text/plain": [
       "True"
      ]
     },
     "execution_count": 11,
     "metadata": {
      "tags": []
     },
     "output_type": "execute_result"
    }
   ],
   "source": [
    "# use Eiclidean distance for the index. Also multiple others allowed\n",
    "index = AnnoyIndex(K_random, 'euclidean')\n",
    "\n",
    "for i, row in enumerate(R):\n",
    "    index.add_item(i, row[0])\n",
    "\n",
    "index.build(10) # number of trees\n",
    "\n",
    "# this code shows how to save the index. Loading is fast - it uses memory map (mmap) of file\n",
    "# index.save('test2.ann')\n",
    "# index = AnnoyIndex(dim, 'euclidean')\n",
    "# u.load('test2.ann')"
   ]
  },
  {
   "cell_type": "markdown",
   "metadata": {
    "colab_type": "text",
    "id": "SxL5lN3-9d2a"
   },
   "source": [
    "Second, let's run a test for KNN search. \n",
    "\n",
    "Is it much faster?\n",
    "\n",
    "Is it assimpotically faster?"
   ]
  },
  {
   "cell_type": "code",
   "execution_count": 12,
   "metadata": {
    "colab": {
     "base_uri": "https://localhost:8080/",
     "height": 453,
     "referenced_widgets": [
      "aa09a0c90e3a458ab287b677907696a8",
      "2d7da7dd5c8741fd81f49b733c0b9010",
      "b9029ccc15654701bf1eb95ec8752a6b",
      "a6fbe2a0362e4d9595759322430945d9",
      "5416c0402da445718700f83655644f14",
      "bee88224acf54af186fe01545191ab76",
      "545ee674c0344913a78c078c209af600",
      "650a7ab9a3184d849181700a15f2644c"
     ]
    },
    "colab_type": "code",
    "id": "JVaLf8My9d2b",
    "outputId": "874fa96a-56ab-4914-a003-856d23370fd6"
   },
   "outputs": [
    {
     "data": {
      "application/vnd.jupyter.widget-view+json": {
       "model_id": "aa09a0c90e3a458ab287b677907696a8",
       "version_major": 2,
       "version_minor": 0
      },
      "text/plain": [
       "HBox(children=(IntProgress(value=0, max=6), HTML(value='')))"
      ]
     },
     "metadata": {
      "tags": []
     },
     "output_type": "display_data"
    },
    {
     "name": "stdout",
     "output_type": "stream",
     "text": [
      "\n"
     ]
    },
    {
     "data": {
      "image/png": "[encoded data removed]",
      "text/plain": [
       "<Figure size 720x432 with 1 Axes>"
      ]
     },
     "metadata": {
      "tags": []
     },
     "output_type": "display_data"
    }
   ],
   "source": [
    "# NN SEARCH\n",
    "times_annoy = []\n",
    "nns = [10, 100, 1000, 10000, 20000, 40000]\n",
    "iterations = 10\n",
    "for nn in tqdm_notebook(nns):\n",
    "    start = time.time()\n",
    "    for t in range(iterations):\n",
    "        x = R[random.randint(0, len(R) - 1)]\n",
    "        index.get_nns_by_vector(x[0], nn)\n",
    "    finish = time.time()\n",
    "    times_annoy.append((finish - start) * 1000 / iterations)\n",
    "\n",
    "fig = plt.figure(figsize=(10, 6))\n",
    "a = plt.axes()\n",
    "a.set_xlabel('How many NNs we request')\n",
    "a.set_ylabel('time, ms')\n",
    "plt.plot(nns, times_annoy, label='Annoy')\n",
    "# you can also build times array on the same graph\n",
    "plt.plot(nns, times, label='KD-tree')\n",
    "plt.legend(loc=\"upper left\")\n",
    "plt.title(\"KD-tree VS Annoy. NN search speed\")\n",
    "plt.show()"
   ]
  },
  {
   "cell_type": "code",
   "execution_count": 0,
   "metadata": {
    "colab": {},
    "colab_type": "code",
    "id": "ThOwWmcAfnWC"
   },
   "outputs": [],
   "source": [
    "# !unzip ./poi_sample_200K.zip"
   ]
  },
  {
   "cell_type": "markdown",
   "metadata": {
    "colab_type": "text",
    "id": "8MFPQ7AI9d2f"
   },
   "source": [
    "## 3. Real data ##\n",
    "\n",
    "Let's pracite on the real data. [Here are samples](https://drive.google.com/drive/folders/1nhiJC6g5R5uPDYwa-6sz9_bJ3sYGm8mM?usp=sharing) of GeoSite's database (63 countries, 21M POIs). Download and uncompress any dataset you like (or can), and load the data with pickle."
   ]
  },
  {
   "cell_type": "code",
   "execution_count": 14,
   "metadata": {
    "colab": {
     "base_uri": "https://localhost:8080/",
     "height": 606
    },
    "colab_type": "code",
    "id": "Z3iPGhYF9d2g",
    "outputId": "b5bb3171-f554-4774-fab0-51bff5417220"
   },
   "outputs": [
    {
     "data": {
      "image/png": "[encoded data removed]",
      "text/plain": [
       "<Figure size 1080x720 with 1 Axes>"
      ]
     },
     "metadata": {
      "tags": []
     },
     "output_type": "display_data"
    }
   ],
   "source": [
    "# replace filename if you want to use other index file\n",
    "with open(\"poi_sample001.pickle\", \"rb\") as f:\n",
    "    dataset = pickle.load(f)\n",
    "\n",
    "# let's sample 20000 of points to draw\n",
    "step = len(dataset) // 20000\n",
    "    \n",
    "X = [v[0][0] for v in dataset[::step]]\n",
    "Y = [v[0][1] for v in dataset[::step]]\n",
    "\n",
    "plt.figure(figsize=(15, 10))\n",
    "a = plt.axes()\n",
    "a.set_xlabel('longitude')\n",
    "a.set_ylabel('latitude')\n",
    "plt.axhline(0, color='red')\n",
    "plt.axvline(0, color='black')\n",
    "plt.scatter(X, Y)\n",
    "plt.show()"
   ]
  },
  {
   "cell_type": "markdown",
   "metadata": {
    "colab_type": "text",
    "id": "Ndtq8bjY9d2n"
   },
   "source": [
    "Now let's build the index on this real data. As it holds latitude and longutude, we will have `K=2`."
   ]
  },
  {
   "cell_type": "code",
   "execution_count": 15,
   "metadata": {
    "colab": {
     "base_uri": "https://localhost:8080/",
     "height": 34
    },
    "colab_type": "code",
    "id": "aVMlcbcy9d2o",
    "outputId": "6fafc508-dc34-44bf-b1dc-aea4911dbe45"
   },
   "outputs": [
    {
     "name": "stdout",
     "output_type": "stream",
     "text": [
      "Index build in 3.44 sec.\n"
     ]
    }
   ],
   "source": [
    "K_real = 2\n",
    "start = time.time()\n",
    "kdtree = Node(K=K_real).build_kd_tree(dataset)\n",
    "finish = time.time()\n",
    "print(\"Index build in {:.2f} sec.\".format(finish - start))"
   ]
  },
  {
   "cell_type": "markdown",
   "metadata": {
    "colab_type": "text",
    "id": "HO_hI7Ky9d2s"
   },
   "source": [
    "Check your nearest neighbours search works on real data."
   ]
  },
  {
   "cell_type": "code",
   "execution_count": 16,
   "metadata": {
    "colab": {
     "base_uri": "https://localhost:8080/",
     "height": 54
    },
    "colab_type": "code",
    "id": "pS_zG5OK9d2u",
    "outputId": "2e7b2700-032a-4e7d-d69a-2a835d340c9a"
   },
   "outputs": [
    {
     "name": "stdout",
     "output_type": "stream",
     "text": [
      "Australia, Sidney, food [([151.208053589, -33.8758888245], 'Health Plus, Food & Beverages, Specialty. AU, Sydney, Shop 10, 324 Pitt St'), ([151.205154419, -33.8717842102], 'Cabinet Corporate Hospitality The, Food & Beverages, Liquor & Beverages. AU, Sydney, 414 Kent St'), ([151.204437256, -33.8766212463], 'Uniliquor, Food & Beverages, Liquor & Beverages. AU, Sydney, 377 Sussex St'), ([151.202468872, -33.8838043213], \"McDonald's Family Restaurants, Fast Food, . AU, Broadway, 863 George St\"), ([151.223999023, -33.8751792908], 'Hunter Valley Food Services, Shopping, Stationery & Office Supplies. AU, Potts Point, 33 Bayswater Rd')]\n"
     ]
    }
   ],
   "source": [
    "paris = [2.334083, 48.853260]\n",
    "boulder = [-105.205606, 40.063987]\n",
    "sidney = [151.211122, -33.874236]\n",
    "\n",
    "paris_nn = [v for v in kdtree.get_nn(paris, 5000) if 'Shop' in v[1]]\n",
    "boulder_nn = [v for v in kdtree.get_nn(boulder, 5000) if \"College\" in v[1]]\n",
    "sidney_nn = [v for v in kdtree.get_nn(sidney, 5000) if \"Food\" in v[1]]\n",
    "\n",
    "# print to check that places you found are actually in neighbourhood\n",
    "print(\"Australia, Sidney, food\", sidney_nn[:5])"
   ]
  },
  {
   "cell_type": "markdown",
   "metadata": {
    "colab_type": "text",
    "id": "i9DrO1u49d2y"
   },
   "source": [
    "Next block will draw your results on a map."
   ]
  },
  {
   "cell_type": "code",
   "execution_count": 17,
   "metadata": {
    "colab": {
     "base_uri": "https://localhost:8080/",
     "height": 388
    },
    "colab_type": "code",
    "id": "Apib8sdC9d20",
    "outputId": "88ee97e0-3320-4d5f-f079-3ea0cc0600d2"
   },
   "outputs": [
    {
     "data": {
      "image/png": "[encoded data removed]",
      "text/plain": [
       "<Figure size 720x432 with 1 Axes>"
      ]
     },
     "metadata": {
      "tags": []
     },
     "output_type": "display_data"
    }
   ],
   "source": [
    "X = [v[0][0] for v in dataset[::step]]\n",
    "Y = [v[0][1] for v in dataset[::step]]\n",
    "BX, BY = [v[0][0] for v in boulder_nn], [v[0][1] for v in boulder_nn]\n",
    "PX, PY = [v[0][0] for v in paris_nn], [v[0][1] for v in paris_nn]\n",
    "SX, SY = [v[0][0] for v in sidney_nn], [v[0][1] for v in sidney_nn]\n",
    "plt.figure(figsize=(10, 6))\n",
    "a = plt.axes()\n",
    "a.set_xlabel('longitude')\n",
    "a.set_ylabel('latitude')\n",
    "plt.axhline(0, color='black')\n",
    "plt.axvline(0, color='black')\n",
    "plt.scatter(X, Y)\n",
    "plt.scatter(BX, BY, marker=\"*\", s=50)\n",
    "plt.scatter(PX, PY, marker=\"^\", s=50, color=\"orange\")\n",
    "plt.scatter(SX, SY, marker=\"+\", s=50, color='yellow')\n",
    "plt.show()"
   ]
  },
  {
   "cell_type": "markdown",
   "metadata": {
    "colab_type": "text",
    "id": "Fa6g7pCR9d23"
   },
   "source": [
    "## 3.B. Range search ##\n",
    "Range search in kd-tree is based on the idea, that we skip branches that do not intersect search range. You can use comparison with `pivot` element to decide. Please write your code in `get_in_range()` method. It accepts 2 vector keys of lower-left and upper-right bounds.\n",
    "\n",
    "Then run 2 following blocks to see if it works. At the map it should be a region on the East coast of US."
   ]
  },
  {
   "cell_type": "code",
   "execution_count": 18,
   "metadata": {
    "colab": {
     "base_uri": "https://localhost:8080/",
     "height": 34
    },
    "colab_type": "code",
    "id": "fmaxjsAZ9d24",
    "outputId": "b61d53f9-e058-4454-8963-9b3ad5b3d315"
   },
   "outputs": [
    {
     "name": "stdout",
     "output_type": "stream",
     "text": [
      "Found: 0 items\n"
     ]
    }
   ],
   "source": [
    "low, high = [-76.0, 38.0], [-72.0, 42.0]\n",
    "region = kdtree.get_in_range(low, high)\n",
    "print(\"Found: {} items\".format(len(region)))"
   ]
  },
  {
   "cell_type": "code",
   "execution_count": 19,
   "metadata": {
    "colab": {
     "base_uri": "https://localhost:8080/",
     "height": 388
    },
    "colab_type": "code",
    "id": "ljPg8Xbk9d29",
    "outputId": "a347d937-3871-4da1-8ad5-ce99d2aa8403"
   },
   "outputs": [
    {
     "data": {
      "image/png": "[encoded data removed]",
      "text/plain": [
       "<Figure size 720x432 with 1 Axes>"
      ]
     },
     "metadata": {
      "tags": []
     },
     "output_type": "display_data"
    }
   ],
   "source": [
    "X = [v[0][0] for v in dataset[::step]]\n",
    "Y = [v[0][1] for v in dataset[::step]]\n",
    "RX, RY = [v[0][0] for v in region], [v[0][1] for v in region]\n",
    "plt.figure(figsize=(10, 6))\n",
    "a = plt.axes()\n",
    "a.set_xlabel('longitude')\n",
    "a.set_ylabel('latitude')\n",
    "plt.axhline(0, color='black')\n",
    "plt.axvline(0, color='black')\n",
    "plt.scatter(X, Y)\n",
    "plt.scatter(RX, RY, marker=\".\", s=50)\n",
    "plt.show()"
   ]
  },
  {
   "cell_type": "markdown",
   "metadata": {
    "colab_type": "text",
    "id": "Rh_boZu19d3B"
   },
   "source": [
    "## 4. Bonus Task. Open questions ##\n",
    "Change your code to answer:\n",
    "1. How `K` parameter influences kd-tree search speed?\n",
    "2. How `K` parameter influences Annoy search speed?\n",
    "3. How branch split technique (pivot selection) influence tree depth?\n",
    "4. How range size and `K` parameter influence range search in kd-tree?\n",
    "\n",
    "Summarize your findings below.\n"
   ]
  }
 ],
 "metadata": {
  "colab": {
   "collapsed_sections": [],
   "name": "ApproxNNSearch_trees_Gcinizwe.ipynb",
   "provenance": []
  },
  "kernelspec": {
   "display_name": "Python 3",
   "language": "python",
   "name": "python3"
  },
  "language_info": {
   "codemirror_mode": {
    "name": "ipython",
    "version": 3
   },
   "file_extension": ".py",
   "mimetype": "text/x-python",
   "name": "python",
   "nbconvert_exporter": "python",
   "pygments_lexer": "ipython3",
   "version": "3.6.5"
  },
  "widgets": {
   "application/vnd.jupyter.widget-state+json": {
    "00648b44c61c47b4b007bf638a21ec72": {
     "model_module": "@jupyter-widgets/base",
     "model_name": "LayoutModel",
     "state": {
      "_model_module": "@jupyter-widgets/base",
      "_model_module_version": "1.2.0",
      "_model_name": "LayoutModel",
      "_view_count": null,
      "_view_module": "@jupyter-widgets/base",
      "_view_module_version": "1.2.0",
      "_view_name": "LayoutView",
      "align_content": null,
      "align_items": null,
      "align_self": null,
      "border": null,
      "bottom": null,
      "display": null,
      "flex": null,
      "flex_flow": null,
      "grid_area": null,
      "grid_auto_columns": null,
      "grid_auto_flow": null,
      "grid_auto_rows": null,
      "grid_column": null,
      "grid_gap": null,
      "grid_row": null,
      "grid_template_areas": null,
      "grid_template_columns": null,
      "grid_template_rows": null,
      "height": null,
      "justify_content": null,
      "justify_items": null,
      "left": null,
      "margin": null,
      "max_height": null,
      "max_width": null,
      "min_height": null,
      "min_width": null,
      "object_fit": null,
      "object_position": null,
      "order": null,
      "overflow": null,
      "overflow_x": null,
      "overflow_y": null,
      "padding": null,
      "right": null,
      "top": null,
      "visibility": null,
      "width": null
     }
    },
    "04122fcdbf5245388a54f8f67c7ec490": {
     "model_module": "@jupyter-widgets/controls",
     "model_name": "HBoxModel",
     "state": {
      "_dom_classes": [],
      "_model_module": "@jupyter-widgets/controls",
      "_model_module_version": "1.5.0",
      "_model_name": "HBoxModel",
      "_view_count": null,
      "_view_module": "@jupyter-widgets/controls",
      "_view_module_version": "1.5.0",
      "_view_name": "HBoxView",
      "box_style": "",
      "children": [
       "IPY_MODEL_cdc554ef9e35416296576c987022ae9e",
       "IPY_MODEL_746881fc805d4bb1a0c468c32e11e17f"
      ],
      "layout": "IPY_MODEL_b189f69232e642d7836aa42bca22491b"
     }
    },
    "0fc96b6640504903a22b1320cc4c1512": {
     "model_module": "@jupyter-widgets/controls",
     "model_name": "HBoxModel",
     "state": {
      "_dom_classes": [],
      "_model_module": "@jupyter-widgets/controls",
      "_model_module_version": "1.5.0",
      "_model_name": "HBoxModel",
      "_view_count": null,
      "_view_module": "@jupyter-widgets/controls",
      "_view_module_version": "1.5.0",
      "_view_name": "HBoxView",
      "box_style": "",
      "children": [
       "IPY_MODEL_f71d787b0c204241a235b130f43dc7d2",
       "IPY_MODEL_aae6a447887141298eedf287f9375174"
      ],
      "layout": "IPY_MODEL_149e43f0bd9c4c6082076affc49eb69e"
     }
    },
    "149e43f0bd9c4c6082076affc49eb69e": {
     "model_module": "@jupyter-widgets/base",
     "model_name": "LayoutModel",
     "state": {
      "_model_module": "@jupyter-widgets/base",
      "_model_module_version": "1.2.0",
      "_model_name": "LayoutModel",
      "_view_count": null,
      "_view_module": "@jupyter-widgets/base",
      "_view_module_version": "1.2.0",
      "_view_name": "LayoutView",
      "align_content": null,
      "align_items": null,
      "align_self": null,
      "border": null,
      "bottom": null,
      "display": null,
      "flex": null,
      "flex_flow": null,
      "grid_area": null,
      "grid_auto_columns": null,
      "grid_auto_flow": null,
      "grid_auto_rows": null,
      "grid_column": null,
      "grid_gap": null,
      "grid_row": null,
      "grid_template_areas": null,
      "grid_template_columns": null,
      "grid_template_rows": null,
      "height": null,
      "justify_content": null,
      "justify_items": null,
      "left": null,
      "margin": null,
      "max_height": null,
      "max_width": null,
      "min_height": null,
      "min_width": null,
      "object_fit": null,
      "object_position": null,
      "order": null,
      "overflow": null,
      "overflow_x": null,
      "overflow_y": null,
      "padding": null,
      "right": null,
      "top": null,
      "visibility": null,
      "width": null
     }
    },
    "1cd1c26dc66b408e95b6f7abc6af98a1": {
     "model_module": "@jupyter-widgets/controls",
     "model_name": "ProgressStyleModel",
     "state": {
      "_model_module": "@jupyter-widgets/controls",
      "_model_module_version": "1.5.0",
      "_model_name": "ProgressStyleModel",
      "_view_count": null,
      "_view_module": "@jupyter-widgets/base",
      "_view_module_version": "1.2.0",
      "_view_name": "StyleView",
      "bar_color": null,
      "description_width": ""
     }
    },
    "1ffc4396943644ac9046caf870eb0d43": {
     "model_module": "@jupyter-widgets/base",
     "model_name": "LayoutModel",
     "state": {
      "_model_module": "@jupyter-widgets/base",
      "_model_module_version": "1.2.0",
      "_model_name": "LayoutModel",
      "_view_count": null,
      "_view_module": "@jupyter-widgets/base",
      "_view_module_version": "1.2.0",
      "_view_name": "LayoutView",
      "align_content": null,
      "align_items": null,
      "align_self": null,
      "border": null,
      "bottom": null,
      "display": null,
      "flex": null,
      "flex_flow": null,
      "grid_area": null,
      "grid_auto_columns": null,
      "grid_auto_flow": null,
      "grid_auto_rows": null,
      "grid_column": null,
      "grid_gap": null,
      "grid_row": null,
      "grid_template_areas": null,
      "grid_template_columns": null,
      "grid_template_rows": null,
      "height": null,
      "justify_content": null,
      "justify_items": null,
      "left": null,
      "margin": null,
      "max_height": null,
      "max_width": null,
      "min_height": null,
      "min_width": null,
      "object_fit": null,
      "object_position": null,
      "order": null,
      "overflow": null,
      "overflow_x": null,
      "overflow_y": null,
      "padding": null,
      "right": null,
      "top": null,
      "visibility": null,
      "width": null
     }
    },
    "261c234051bb41dc8c9d789d601eb3f7": {
     "model_module": "@jupyter-widgets/base",
     "model_name": "LayoutModel",
     "state": {
      "_model_module": "@jupyter-widgets/base",
      "_model_module_version": "1.2.0",
      "_model_name": "LayoutModel",
      "_view_count": null,
      "_view_module": "@jupyter-widgets/base",
      "_view_module_version": "1.2.0",
      "_view_name": "LayoutView",
      "align_content": null,
      "align_items": null,
      "align_self": null,
      "border": null,
      "bottom": null,
      "display": null,
      "flex": null,
      "flex_flow": null,
      "grid_area": null,
      "grid_auto_columns": null,
      "grid_auto_flow": null,
      "grid_auto_rows": null,
      "grid_column": null,
      "grid_gap": null,
      "grid_row": null,
      "grid_template_areas": null,
      "grid_template_columns": null,
      "grid_template_rows": null,
      "height": null,
      "justify_content": null,
      "justify_items": null,
      "left": null,
      "margin": null,
      "max_height": null,
      "max_width": null,
      "min_height": null,
      "min_width": null,
      "object_fit": null,
      "object_position": null,
      "order": null,
      "overflow": null,
      "overflow_x": null,
      "overflow_y": null,
      "padding": null,
      "right": null,
      "top": null,
      "visibility": null,
      "width": null
     }
    },
    "26e66c498a924cf583aa96a1613438f6": {
     "model_module": "@jupyter-widgets/controls",
     "model_name": "HTMLModel",
     "state": {
      "_dom_classes": [],
      "_model_module": "@jupyter-widgets/controls",
      "_model_module_version": "1.5.0",
      "_model_name": "HTMLModel",
      "_view_count": null,
      "_view_module": "@jupyter-widgets/controls",
      "_view_module_version": "1.5.0",
      "_view_name": "HTMLView",
      "description": "",
      "description_tooltip": null,
      "layout": "IPY_MODEL_b0af4cf6c43a4672a96e9cd3f9444072",
      "placeholder": "​",
      "style": "IPY_MODEL_608629d048cf4eb88a2b548ed1310714",
      "value": "100% 100/100 [00:46&lt;00:00,  1.03it/s]"
     }
    },
    "277fcfa092a64cb9b71f992648ba3677": {
     "model_module": "@jupyter-widgets/controls",
     "model_name": "DescriptionStyleModel",
     "state": {
      "_model_module": "@jupyter-widgets/controls",
      "_model_module_version": "1.5.0",
      "_model_name": "DescriptionStyleModel",
      "_view_count": null,
      "_view_module": "@jupyter-widgets/base",
      "_view_module_version": "1.2.0",
      "_view_name": "StyleView",
      "description_width": ""
     }
    },
    "2d7da7dd5c8741fd81f49b733c0b9010": {
     "model_module": "@jupyter-widgets/base",
     "model_name": "LayoutModel",
     "state": {
      "_model_module": "@jupyter-widgets/base",
      "_model_module_version": "1.2.0",
      "_model_name": "LayoutModel",
      "_view_count": null,
      "_view_module": "@jupyter-widgets/base",
      "_view_module_version": "1.2.0",
      "_view_name": "LayoutView",
      "align_content": null,
      "align_items": null,
      "align_self": null,
      "border": null,
      "bottom": null,
      "display": null,
      "flex": null,
      "flex_flow": null,
      "grid_area": null,
      "grid_auto_columns": null,
      "grid_auto_flow": null,
      "grid_auto_rows": null,
      "grid_column": null,
      "grid_gap": null,
      "grid_row": null,
      "grid_template_areas": null,
      "grid_template_columns": null,
      "grid_template_rows": null,
      "height": null,
      "justify_content": null,
      "justify_items": null,
      "left": null,
      "margin": null,
      "max_height": null,
      "max_width": null,
      "min_height": null,
      "min_width": null,
      "object_fit": null,
      "object_position": null,
      "order": null,
      "overflow": null,
      "overflow_x": null,
      "overflow_y": null,
      "padding": null,
      "right": null,
      "top": null,
      "visibility": null,
      "width": null
     }
    },
    "32052a3f345a4fd6a4026d2187b5ddd8": {
     "model_module": "@jupyter-widgets/controls",
     "model_name": "HTMLModel",
     "state": {
      "_dom_classes": [],
      "_model_module": "@jupyter-widgets/controls",
      "_model_module_version": "1.5.0",
      "_model_name": "HTMLModel",
      "_view_count": null,
      "_view_module": "@jupyter-widgets/controls",
      "_view_module_version": "1.5.0",
      "_view_name": "HTMLView",
      "description": "",
      "description_tooltip": null,
      "layout": "IPY_MODEL_c366ff4748794b0aabd5efdc2d235a59",
      "placeholder": "​",
      "style": "IPY_MODEL_bdbce80f590649c4954e5b7946a578ca",
      "value": "100% 10/10 [00:48&lt;00:00,  7.65s/it]"
     }
    },
    "3751a61e22114b429131a88dc473792e": {
     "model_module": "@jupyter-widgets/base",
     "model_name": "LayoutModel",
     "state": {
      "_model_module": "@jupyter-widgets/base",
      "_model_module_version": "1.2.0",
      "_model_name": "LayoutModel",
      "_view_count": null,
      "_view_module": "@jupyter-widgets/base",
      "_view_module_version": "1.2.0",
      "_view_name": "LayoutView",
      "align_content": null,
      "align_items": null,
      "align_self": null,
      "border": null,
      "bottom": null,
      "display": null,
      "flex": null,
      "flex_flow": null,
      "grid_area": null,
      "grid_auto_columns": null,
      "grid_auto_flow": null,
      "grid_auto_rows": null,
      "grid_column": null,
      "grid_gap": null,
      "grid_row": null,
      "grid_template_areas": null,
      "grid_template_columns": null,
      "grid_template_rows": null,
      "height": null,
      "justify_content": null,
      "justify_items": null,
      "left": null,
      "margin": null,
      "max_height": null,
      "max_width": null,
      "min_height": null,
      "min_width": null,
      "object_fit": null,
      "object_position": null,
      "order": null,
      "overflow": null,
      "overflow_x": null,
      "overflow_y": null,
      "padding": null,
      "right": null,
      "top": null,
      "visibility": null,
      "width": null
     }
    },
    "3e5bee9893574e09ae05def6e57eff9a": {
     "model_module": "@jupyter-widgets/controls",
     "model_name": "ProgressStyleModel",
     "state": {
      "_model_module": "@jupyter-widgets/controls",
      "_model_module_version": "1.5.0",
      "_model_name": "ProgressStyleModel",
      "_view_count": null,
      "_view_module": "@jupyter-widgets/base",
      "_view_module_version": "1.2.0",
      "_view_name": "StyleView",
      "bar_color": null,
      "description_width": ""
     }
    },
    "4f529511e355470eb5a0a87d2cd52972": {
     "model_module": "@jupyter-widgets/controls",
     "model_name": "ProgressStyleModel",
     "state": {
      "_model_module": "@jupyter-widgets/controls",
      "_model_module_version": "1.5.0",
      "_model_name": "ProgressStyleModel",
      "_view_count": null,
      "_view_module": "@jupyter-widgets/base",
      "_view_module_version": "1.2.0",
      "_view_name": "StyleView",
      "bar_color": null,
      "description_width": ""
     }
    },
    "5416c0402da445718700f83655644f14": {
     "model_module": "@jupyter-widgets/controls",
     "model_name": "ProgressStyleModel",
     "state": {
      "_model_module": "@jupyter-widgets/controls",
      "_model_module_version": "1.5.0",
      "_model_name": "ProgressStyleModel",
      "_view_count": null,
      "_view_module": "@jupyter-widgets/base",
      "_view_module_version": "1.2.0",
      "_view_name": "StyleView",
      "bar_color": null,
      "description_width": ""
     }
    },
    "545ee674c0344913a78c078c209af600": {
     "model_module": "@jupyter-widgets/controls",
     "model_name": "DescriptionStyleModel",
     "state": {
      "_model_module": "@jupyter-widgets/controls",
      "_model_module_version": "1.5.0",
      "_model_name": "DescriptionStyleModel",
      "_view_count": null,
      "_view_module": "@jupyter-widgets/base",
      "_view_module_version": "1.2.0",
      "_view_name": "StyleView",
      "description_width": ""
     }
    },
    "5a063c56e72644aa8173b65ed2c955dc": {
     "model_module": "@jupyter-widgets/base",
     "model_name": "LayoutModel",
     "state": {
      "_model_module": "@jupyter-widgets/base",
      "_model_module_version": "1.2.0",
      "_model_name": "LayoutModel",
      "_view_count": null,
      "_view_module": "@jupyter-widgets/base",
      "_view_module_version": "1.2.0",
      "_view_name": "LayoutView",
      "align_content": null,
      "align_items": null,
      "align_self": null,
      "border": null,
      "bottom": null,
      "display": null,
      "flex": null,
      "flex_flow": null,
      "grid_area": null,
      "grid_auto_columns": null,
      "grid_auto_flow": null,
      "grid_auto_rows": null,
      "grid_column": null,
      "grid_gap": null,
      "grid_row": null,
      "grid_template_areas": null,
      "grid_template_columns": null,
      "grid_template_rows": null,
      "height": null,
      "justify_content": null,
      "justify_items": null,
      "left": null,
      "margin": null,
      "max_height": null,
      "max_width": null,
      "min_height": null,
      "min_width": null,
      "object_fit": null,
      "object_position": null,
      "order": null,
      "overflow": null,
      "overflow_x": null,
      "overflow_y": null,
      "padding": null,
      "right": null,
      "top": null,
      "visibility": null,
      "width": null
     }
    },
    "608629d048cf4eb88a2b548ed1310714": {
     "model_module": "@jupyter-widgets/controls",
     "model_name": "DescriptionStyleModel",
     "state": {
      "_model_module": "@jupyter-widgets/controls",
      "_model_module_version": "1.5.0",
      "_model_name": "DescriptionStyleModel",
      "_view_count": null,
      "_view_module": "@jupyter-widgets/base",
      "_view_module_version": "1.2.0",
      "_view_name": "StyleView",
      "description_width": ""
     }
    },
    "627971d78e924bd287b8c1ea7d30f817": {
     "model_module": "@jupyter-widgets/controls",
     "model_name": "IntProgressModel",
     "state": {
      "_dom_classes": [],
      "_model_module": "@jupyter-widgets/controls",
      "_model_module_version": "1.5.0",
      "_model_name": "IntProgressModel",
      "_view_count": null,
      "_view_module": "@jupyter-widgets/controls",
      "_view_module_version": "1.5.0",
      "_view_name": "ProgressView",
      "bar_style": "success",
      "description": "",
      "description_tooltip": null,
      "layout": "IPY_MODEL_d97eb899a16644b1bbcbaa52458a3fe5",
      "max": 100,
      "min": 0,
      "orientation": "horizontal",
      "style": "IPY_MODEL_1cd1c26dc66b408e95b6f7abc6af98a1",
      "value": 100
     }
    },
    "650a7ab9a3184d849181700a15f2644c": {
     "model_module": "@jupyter-widgets/base",
     "model_name": "LayoutModel",
     "state": {
      "_model_module": "@jupyter-widgets/base",
      "_model_module_version": "1.2.0",
      "_model_name": "LayoutModel",
      "_view_count": null,
      "_view_module": "@jupyter-widgets/base",
      "_view_module_version": "1.2.0",
      "_view_name": "LayoutView",
      "align_content": null,
      "align_items": null,
      "align_self": null,
      "border": null,
      "bottom": null,
      "display": null,
      "flex": null,
      "flex_flow": null,
      "grid_area": null,
      "grid_auto_columns": null,
      "grid_auto_flow": null,
      "grid_auto_rows": null,
      "grid_column": null,
      "grid_gap": null,
      "grid_row": null,
      "grid_template_areas": null,
      "grid_template_columns": null,
      "grid_template_rows": null,
      "height": null,
      "justify_content": null,
      "justify_items": null,
      "left": null,
      "margin": null,
      "max_height": null,
      "max_width": null,
      "min_height": null,
      "min_width": null,
      "object_fit": null,
      "object_position": null,
      "order": null,
      "overflow": null,
      "overflow_x": null,
      "overflow_y": null,
      "padding": null,
      "right": null,
      "top": null,
      "visibility": null,
      "width": null
     }
    },
    "6f848eef8d38490d9f6309aabee1af5f": {
     "model_module": "@jupyter-widgets/base",
     "model_name": "LayoutModel",
     "state": {
      "_model_module": "@jupyter-widgets/base",
      "_model_module_version": "1.2.0",
      "_model_name": "LayoutModel",
      "_view_count": null,
      "_view_module": "@jupyter-widgets/base",
      "_view_module_version": "1.2.0",
      "_view_name": "LayoutView",
      "align_content": null,
      "align_items": null,
      "align_self": null,
      "border": null,
      "bottom": null,
      "display": null,
      "flex": null,
      "flex_flow": null,
      "grid_area": null,
      "grid_auto_columns": null,
      "grid_auto_flow": null,
      "grid_auto_rows": null,
      "grid_column": null,
      "grid_gap": null,
      "grid_row": null,
      "grid_template_areas": null,
      "grid_template_columns": null,
      "grid_template_rows": null,
      "height": null,
      "justify_content": null,
      "justify_items": null,
      "left": null,
      "margin": null,
      "max_height": null,
      "max_width": null,
      "min_height": null,
      "min_width": null,
      "object_fit": null,
      "object_position": null,
      "order": null,
      "overflow": null,
      "overflow_x": null,
      "overflow_y": null,
      "padding": null,
      "right": null,
      "top": null,
      "visibility": null,
      "width": null
     }
    },
    "746881fc805d4bb1a0c468c32e11e17f": {
     "model_module": "@jupyter-widgets/controls",
     "model_name": "HTMLModel",
     "state": {
      "_dom_classes": [],
      "_model_module": "@jupyter-widgets/controls",
      "_model_module_version": "1.5.0",
      "_model_name": "HTMLModel",
      "_view_count": null,
      "_view_module": "@jupyter-widgets/controls",
      "_view_module_version": "1.5.0",
      "_view_name": "HTMLView",
      "description": "",
      "description_tooltip": null,
      "layout": "IPY_MODEL_6f848eef8d38490d9f6309aabee1af5f",
      "placeholder": "​",
      "style": "IPY_MODEL_d5b5b12ebd924625862742fc10d69e78",
      "value": "100% 10/10 [01:01&lt;00:00,  9.04s/it]"
     }
    },
    "75dd7ebdf73242d992bdb195d8f78e18": {
     "model_module": "@jupyter-widgets/controls",
     "model_name": "HBoxModel",
     "state": {
      "_dom_classes": [],
      "_model_module": "@jupyter-widgets/controls",
      "_model_module_version": "1.5.0",
      "_model_name": "HBoxModel",
      "_view_count": null,
      "_view_module": "@jupyter-widgets/controls",
      "_view_module_version": "1.5.0",
      "_view_name": "HBoxView",
      "box_style": "",
      "children": [
       "IPY_MODEL_627971d78e924bd287b8c1ea7d30f817",
       "IPY_MODEL_26e66c498a924cf583aa96a1613438f6"
      ],
      "layout": "IPY_MODEL_e83af5c4fdf24c959971c7d6e8e5d260"
     }
    },
    "76514656bc7445af8c66322cb71bdaf1": {
     "model_module": "@jupyter-widgets/base",
     "model_name": "LayoutModel",
     "state": {
      "_model_module": "@jupyter-widgets/base",
      "_model_module_version": "1.2.0",
      "_model_name": "LayoutModel",
      "_view_count": null,
      "_view_module": "@jupyter-widgets/base",
      "_view_module_version": "1.2.0",
      "_view_name": "LayoutView",
      "align_content": null,
      "align_items": null,
      "align_self": null,
      "border": null,
      "bottom": null,
      "display": null,
      "flex": null,
      "flex_flow": null,
      "grid_area": null,
      "grid_auto_columns": null,
      "grid_auto_flow": null,
      "grid_auto_rows": null,
      "grid_column": null,
      "grid_gap": null,
      "grid_row": null,
      "grid_template_areas": null,
      "grid_template_columns": null,
      "grid_template_rows": null,
      "height": null,
      "justify_content": null,
      "justify_items": null,
      "left": null,
      "margin": null,
      "max_height": null,
      "max_width": null,
      "min_height": null,
      "min_width": null,
      "object_fit": null,
      "object_position": null,
      "order": null,
      "overflow": null,
      "overflow_x": null,
      "overflow_y": null,
      "padding": null,
      "right": null,
      "top": null,
      "visibility": null,
      "width": null
     }
    },
    "80e53846257842dd8b148a1ed4d8accf": {
     "model_module": "@jupyter-widgets/controls",
     "model_name": "HBoxModel",
     "state": {
      "_dom_classes": [],
      "_model_module": "@jupyter-widgets/controls",
      "_model_module_version": "1.5.0",
      "_model_name": "HBoxModel",
      "_view_count": null,
      "_view_module": "@jupyter-widgets/controls",
      "_view_module_version": "1.5.0",
      "_view_name": "HBoxView",
      "box_style": "",
      "children": [
       "IPY_MODEL_a5d7c089ce664f189658cd14e1abb16c",
       "IPY_MODEL_32052a3f345a4fd6a4026d2187b5ddd8"
      ],
      "layout": "IPY_MODEL_76514656bc7445af8c66322cb71bdaf1"
     }
    },
    "92d8cad54e214820a861e1c280e629fd": {
     "model_module": "@jupyter-widgets/controls",
     "model_name": "HBoxModel",
     "state": {
      "_dom_classes": [],
      "_model_module": "@jupyter-widgets/controls",
      "_model_module_version": "1.5.0",
      "_model_name": "HBoxModel",
      "_view_count": null,
      "_view_module": "@jupyter-widgets/controls",
      "_view_module_version": "1.5.0",
      "_view_name": "HBoxView",
      "box_style": "",
      "children": [
       "IPY_MODEL_d988593d0bf843edb2cc5505e99ad589",
       "IPY_MODEL_ba7c6f989a494e32a5761d0475ee33ea"
      ],
      "layout": "IPY_MODEL_1ffc4396943644ac9046caf870eb0d43"
     }
    },
    "990ee634ca7c4418be606bbfe606acad": {
     "model_module": "@jupyter-widgets/base",
     "model_name": "LayoutModel",
     "state": {
      "_model_module": "@jupyter-widgets/base",
      "_model_module_version": "1.2.0",
      "_model_name": "LayoutModel",
      "_view_count": null,
      "_view_module": "@jupyter-widgets/base",
      "_view_module_version": "1.2.0",
      "_view_name": "LayoutView",
      "align_content": null,
      "align_items": null,
      "align_self": null,
      "border": null,
      "bottom": null,
      "display": null,
      "flex": null,
      "flex_flow": null,
      "grid_area": null,
      "grid_auto_columns": null,
      "grid_auto_flow": null,
      "grid_auto_rows": null,
      "grid_column": null,
      "grid_gap": null,
      "grid_row": null,
      "grid_template_areas": null,
      "grid_template_columns": null,
      "grid_template_rows": null,
      "height": null,
      "justify_content": null,
      "justify_items": null,
      "left": null,
      "margin": null,
      "max_height": null,
      "max_width": null,
      "min_height": null,
      "min_width": null,
      "object_fit": null,
      "object_position": null,
      "order": null,
      "overflow": null,
      "overflow_x": null,
      "overflow_y": null,
      "padding": null,
      "right": null,
      "top": null,
      "visibility": null,
      "width": null
     }
    },
    "a58da87c26624ed992fdee7adc7a74ee": {
     "model_module": "@jupyter-widgets/controls",
     "model_name": "ProgressStyleModel",
     "state": {
      "_model_module": "@jupyter-widgets/controls",
      "_model_module_version": "1.5.0",
      "_model_name": "ProgressStyleModel",
      "_view_count": null,
      "_view_module": "@jupyter-widgets/base",
      "_view_module_version": "1.2.0",
      "_view_name": "StyleView",
      "bar_color": null,
      "description_width": ""
     }
    },
    "a5d7c089ce664f189658cd14e1abb16c": {
     "model_module": "@jupyter-widgets/controls",
     "model_name": "IntProgressModel",
     "state": {
      "_dom_classes": [],
      "_model_module": "@jupyter-widgets/controls",
      "_model_module_version": "1.5.0",
      "_model_name": "IntProgressModel",
      "_view_count": null,
      "_view_module": "@jupyter-widgets/controls",
      "_view_module_version": "1.5.0",
      "_view_name": "ProgressView",
      "bar_style": "success",
      "description": "",
      "description_tooltip": null,
      "layout": "IPY_MODEL_5a063c56e72644aa8173b65ed2c955dc",
      "max": 10,
      "min": 0,
      "orientation": "horizontal",
      "style": "IPY_MODEL_a58da87c26624ed992fdee7adc7a74ee",
      "value": 10
     }
    },
    "a6fbe2a0362e4d9595759322430945d9": {
     "model_module": "@jupyter-widgets/controls",
     "model_name": "HTMLModel",
     "state": {
      "_dom_classes": [],
      "_model_module": "@jupyter-widgets/controls",
      "_model_module_version": "1.5.0",
      "_model_name": "HTMLModel",
      "_view_count": null,
      "_view_module": "@jupyter-widgets/controls",
      "_view_module_version": "1.5.0",
      "_view_name": "HTMLView",
      "description": "",
      "description_tooltip": null,
      "layout": "IPY_MODEL_650a7ab9a3184d849181700a15f2644c",
      "placeholder": "​",
      "style": "IPY_MODEL_545ee674c0344913a78c078c209af600",
      "value": "100% 6/6 [00:01&lt;00:00,  2.69it/s]"
     }
    },
    "aa09a0c90e3a458ab287b677907696a8": {
     "model_module": "@jupyter-widgets/controls",
     "model_name": "HBoxModel",
     "state": {
      "_dom_classes": [],
      "_model_module": "@jupyter-widgets/controls",
      "_model_module_version": "1.5.0",
      "_model_name": "HBoxModel",
      "_view_count": null,
      "_view_module": "@jupyter-widgets/controls",
      "_view_module_version": "1.5.0",
      "_view_name": "HBoxView",
      "box_style": "",
      "children": [
       "IPY_MODEL_b9029ccc15654701bf1eb95ec8752a6b",
       "IPY_MODEL_a6fbe2a0362e4d9595759322430945d9"
      ],
      "layout": "IPY_MODEL_2d7da7dd5c8741fd81f49b733c0b9010"
     }
    },
    "aae6a447887141298eedf287f9375174": {
     "model_module": "@jupyter-widgets/controls",
     "model_name": "HTMLModel",
     "state": {
      "_dom_classes": [],
      "_model_module": "@jupyter-widgets/controls",
      "_model_module_version": "1.5.0",
      "_model_name": "HTMLModel",
      "_view_count": null,
      "_view_module": "@jupyter-widgets/controls",
      "_view_module_version": "1.5.0",
      "_view_name": "HTMLView",
      "description": "",
      "description_tooltip": null,
      "layout": "IPY_MODEL_3751a61e22114b429131a88dc473792e",
      "placeholder": "​",
      "style": "IPY_MODEL_277fcfa092a64cb9b71f992648ba3677",
      "value": "100% 6/6 [00:24&lt;00:00,  6.25s/it]"
     }
    },
    "b0af4cf6c43a4672a96e9cd3f9444072": {
     "model_module": "@jupyter-widgets/base",
     "model_name": "LayoutModel",
     "state": {
      "_model_module": "@jupyter-widgets/base",
      "_model_module_version": "1.2.0",
      "_model_name": "LayoutModel",
      "_view_count": null,
      "_view_module": "@jupyter-widgets/base",
      "_view_module_version": "1.2.0",
      "_view_name": "LayoutView",
      "align_content": null,
      "align_items": null,
      "align_self": null,
      "border": null,
      "bottom": null,
      "display": null,
      "flex": null,
      "flex_flow": null,
      "grid_area": null,
      "grid_auto_columns": null,
      "grid_auto_flow": null,
      "grid_auto_rows": null,
      "grid_column": null,
      "grid_gap": null,
      "grid_row": null,
      "grid_template_areas": null,
      "grid_template_columns": null,
      "grid_template_rows": null,
      "height": null,
      "justify_content": null,
      "justify_items": null,
      "left": null,
      "margin": null,
      "max_height": null,
      "max_width": null,
      "min_height": null,
      "min_width": null,
      "object_fit": null,
      "object_position": null,
      "order": null,
      "overflow": null,
      "overflow_x": null,
      "overflow_y": null,
      "padding": null,
      "right": null,
      "top": null,
      "visibility": null,
      "width": null
     }
    },
    "b189f69232e642d7836aa42bca22491b": {
     "model_module": "@jupyter-widgets/base",
     "model_name": "LayoutModel",
     "state": {
      "_model_module": "@jupyter-widgets/base",
      "_model_module_version": "1.2.0",
      "_model_name": "LayoutModel",
      "_view_count": null,
      "_view_module": "@jupyter-widgets/base",
      "_view_module_version": "1.2.0",
      "_view_name": "LayoutView",
      "align_content": null,
      "align_items": null,
      "align_self": null,
      "border": null,
      "bottom": null,
      "display": null,
      "flex": null,
      "flex_flow": null,
      "grid_area": null,
      "grid_auto_columns": null,
      "grid_auto_flow": null,
      "grid_auto_rows": null,
      "grid_column": null,
      "grid_gap": null,
      "grid_row": null,
      "grid_template_areas": null,
      "grid_template_columns": null,
      "grid_template_rows": null,
      "height": null,
      "justify_content": null,
      "justify_items": null,
      "left": null,
      "margin": null,
      "max_height": null,
      "max_width": null,
      "min_height": null,
      "min_width": null,
      "object_fit": null,
      "object_position": null,
      "order": null,
      "overflow": null,
      "overflow_x": null,
      "overflow_y": null,
      "padding": null,
      "right": null,
      "top": null,
      "visibility": null,
      "width": null
     }
    },
    "b9029ccc15654701bf1eb95ec8752a6b": {
     "model_module": "@jupyter-widgets/controls",
     "model_name": "IntProgressModel",
     "state": {
      "_dom_classes": [],
      "_model_module": "@jupyter-widgets/controls",
      "_model_module_version": "1.5.0",
      "_model_name": "IntProgressModel",
      "_view_count": null,
      "_view_module": "@jupyter-widgets/controls",
      "_view_module_version": "1.5.0",
      "_view_name": "ProgressView",
      "bar_style": "success",
      "description": "",
      "description_tooltip": null,
      "layout": "IPY_MODEL_bee88224acf54af186fe01545191ab76",
      "max": 6,
      "min": 0,
      "orientation": "horizontal",
      "style": "IPY_MODEL_5416c0402da445718700f83655644f14",
      "value": 6
     }
    },
    "ba7c6f989a494e32a5761d0475ee33ea": {
     "model_module": "@jupyter-widgets/controls",
     "model_name": "HTMLModel",
     "state": {
      "_dom_classes": [],
      "_model_module": "@jupyter-widgets/controls",
      "_model_module_version": "1.5.0",
      "_model_name": "HTMLModel",
      "_view_count": null,
      "_view_module": "@jupyter-widgets/controls",
      "_view_module_version": "1.5.0",
      "_view_name": "HTMLView",
      "description": "",
      "description_tooltip": null,
      "layout": "IPY_MODEL_261c234051bb41dc8c9d789d601eb3f7",
      "placeholder": "​",
      "style": "IPY_MODEL_d383f12d71784e3d81d01970f2396ea5",
      "value": "100% 6/6 [00:29&lt;00:00,  7.73s/it]"
     }
    },
    "bdbce80f590649c4954e5b7946a578ca": {
     "model_module": "@jupyter-widgets/controls",
     "model_name": "DescriptionStyleModel",
     "state": {
      "_model_module": "@jupyter-widgets/controls",
      "_model_module_version": "1.5.0",
      "_model_name": "DescriptionStyleModel",
      "_view_count": null,
      "_view_module": "@jupyter-widgets/base",
      "_view_module_version": "1.2.0",
      "_view_name": "StyleView",
      "description_width": ""
     }
    },
    "bee88224acf54af186fe01545191ab76": {
     "model_module": "@jupyter-widgets/base",
     "model_name": "LayoutModel",
     "state": {
      "_model_module": "@jupyter-widgets/base",
      "_model_module_version": "1.2.0",
      "_model_name": "LayoutModel",
      "_view_count": null,
      "_view_module": "@jupyter-widgets/base",
      "_view_module_version": "1.2.0",
      "_view_name": "LayoutView",
      "align_content": null,
      "align_items": null,
      "align_self": null,
      "border": null,
      "bottom": null,
      "display": null,
      "flex": null,
      "flex_flow": null,
      "grid_area": null,
      "grid_auto_columns": null,
      "grid_auto_flow": null,
      "grid_auto_rows": null,
      "grid_column": null,
      "grid_gap": null,
      "grid_row": null,
      "grid_template_areas": null,
      "grid_template_columns": null,
      "grid_template_rows": null,
      "height": null,
      "justify_content": null,
      "justify_items": null,
      "left": null,
      "margin": null,
      "max_height": null,
      "max_width": null,
      "min_height": null,
      "min_width": null,
      "object_fit": null,
      "object_position": null,
      "order": null,
      "overflow": null,
      "overflow_x": null,
      "overflow_y": null,
      "padding": null,
      "right": null,
      "top": null,
      "visibility": null,
      "width": null
     }
    },
    "c366ff4748794b0aabd5efdc2d235a59": {
     "model_module": "@jupyter-widgets/base",
     "model_name": "LayoutModel",
     "state": {
      "_model_module": "@jupyter-widgets/base",
      "_model_module_version": "1.2.0",
      "_model_name": "LayoutModel",
      "_view_count": null,
      "_view_module": "@jupyter-widgets/base",
      "_view_module_version": "1.2.0",
      "_view_name": "LayoutView",
      "align_content": null,
      "align_items": null,
      "align_self": null,
      "border": null,
      "bottom": null,
      "display": null,
      "flex": null,
      "flex_flow": null,
      "grid_area": null,
      "grid_auto_columns": null,
      "grid_auto_flow": null,
      "grid_auto_rows": null,
      "grid_column": null,
      "grid_gap": null,
      "grid_row": null,
      "grid_template_areas": null,
      "grid_template_columns": null,
      "grid_template_rows": null,
      "height": null,
      "justify_content": null,
      "justify_items": null,
      "left": null,
      "margin": null,
      "max_height": null,
      "max_width": null,
      "min_height": null,
      "min_width": null,
      "object_fit": null,
      "object_position": null,
      "order": null,
      "overflow": null,
      "overflow_x": null,
      "overflow_y": null,
      "padding": null,
      "right": null,
      "top": null,
      "visibility": null,
      "width": null
     }
    },
    "cdc554ef9e35416296576c987022ae9e": {
     "model_module": "@jupyter-widgets/controls",
     "model_name": "IntProgressModel",
     "state": {
      "_dom_classes": [],
      "_model_module": "@jupyter-widgets/controls",
      "_model_module_version": "1.5.0",
      "_model_name": "IntProgressModel",
      "_view_count": null,
      "_view_module": "@jupyter-widgets/controls",
      "_view_module_version": "1.5.0",
      "_view_name": "ProgressView",
      "bar_style": "success",
      "description": "",
      "description_tooltip": null,
      "layout": "IPY_MODEL_00648b44c61c47b4b007bf638a21ec72",
      "max": 10,
      "min": 0,
      "orientation": "horizontal",
      "style": "IPY_MODEL_4f529511e355470eb5a0a87d2cd52972",
      "value": 10
     }
    },
    "d01e3cfb32da4a94be549064c6f7052f": {
     "model_module": "@jupyter-widgets/controls",
     "model_name": "ProgressStyleModel",
     "state": {
      "_model_module": "@jupyter-widgets/controls",
      "_model_module_version": "1.5.0",
      "_model_name": "ProgressStyleModel",
      "_view_count": null,
      "_view_module": "@jupyter-widgets/base",
      "_view_module_version": "1.2.0",
      "_view_name": "StyleView",
      "bar_color": null,
      "description_width": ""
     }
    },
    "d383f12d71784e3d81d01970f2396ea5": {
     "model_module": "@jupyter-widgets/controls",
     "model_name": "DescriptionStyleModel",
     "state": {
      "_model_module": "@jupyter-widgets/controls",
      "_model_module_version": "1.5.0",
      "_model_name": "DescriptionStyleModel",
      "_view_count": null,
      "_view_module": "@jupyter-widgets/base",
      "_view_module_version": "1.2.0",
      "_view_name": "StyleView",
      "description_width": ""
     }
    },
    "d5b5b12ebd924625862742fc10d69e78": {
     "model_module": "@jupyter-widgets/controls",
     "model_name": "DescriptionStyleModel",
     "state": {
      "_model_module": "@jupyter-widgets/controls",
      "_model_module_version": "1.5.0",
      "_model_name": "DescriptionStyleModel",
      "_view_count": null,
      "_view_module": "@jupyter-widgets/base",
      "_view_module_version": "1.2.0",
      "_view_name": "StyleView",
      "description_width": ""
     }
    },
    "d97eb899a16644b1bbcbaa52458a3fe5": {
     "model_module": "@jupyter-widgets/base",
     "model_name": "LayoutModel",
     "state": {
      "_model_module": "@jupyter-widgets/base",
      "_model_module_version": "1.2.0",
      "_model_name": "LayoutModel",
      "_view_count": null,
      "_view_module": "@jupyter-widgets/base",
      "_view_module_version": "1.2.0",
      "_view_name": "LayoutView",
      "align_content": null,
      "align_items": null,
      "align_self": null,
      "border": null,
      "bottom": null,
      "display": null,
      "flex": null,
      "flex_flow": null,
      "grid_area": null,
      "grid_auto_columns": null,
      "grid_auto_flow": null,
      "grid_auto_rows": null,
      "grid_column": null,
      "grid_gap": null,
      "grid_row": null,
      "grid_template_areas": null,
      "grid_template_columns": null,
      "grid_template_rows": null,
      "height": null,
      "justify_content": null,
      "justify_items": null,
      "left": null,
      "margin": null,
      "max_height": null,
      "max_width": null,
      "min_height": null,
      "min_width": null,
      "object_fit": null,
      "object_position": null,
      "order": null,
      "overflow": null,
      "overflow_x": null,
      "overflow_y": null,
      "padding": null,
      "right": null,
      "top": null,
      "visibility": null,
      "width": null
     }
    },
    "d988593d0bf843edb2cc5505e99ad589": {
     "model_module": "@jupyter-widgets/controls",
     "model_name": "IntProgressModel",
     "state": {
      "_dom_classes": [],
      "_model_module": "@jupyter-widgets/controls",
      "_model_module_version": "1.5.0",
      "_model_name": "IntProgressModel",
      "_view_count": null,
      "_view_module": "@jupyter-widgets/controls",
      "_view_module_version": "1.5.0",
      "_view_name": "ProgressView",
      "bar_style": "success",
      "description": "",
      "description_tooltip": null,
      "layout": "IPY_MODEL_990ee634ca7c4418be606bbfe606acad",
      "max": 6,
      "min": 0,
      "orientation": "horizontal",
      "style": "IPY_MODEL_d01e3cfb32da4a94be549064c6f7052f",
      "value": 6
     }
    },
    "e83af5c4fdf24c959971c7d6e8e5d260": {
     "model_module": "@jupyter-widgets/base",
     "model_name": "LayoutModel",
     "state": {
      "_model_module": "@jupyter-widgets/base",
      "_model_module_version": "1.2.0",
      "_model_name": "LayoutModel",
      "_view_count": null,
      "_view_module": "@jupyter-widgets/base",
      "_view_module_version": "1.2.0",
      "_view_name": "LayoutView",
      "align_content": null,
      "align_items": null,
      "align_self": null,
      "border": null,
      "bottom": null,
      "display": null,
      "flex": null,
      "flex_flow": null,
      "grid_area": null,
      "grid_auto_columns": null,
      "grid_auto_flow": null,
      "grid_auto_rows": null,
      "grid_column": null,
      "grid_gap": null,
      "grid_row": null,
      "grid_template_areas": null,
      "grid_template_columns": null,
      "grid_template_rows": null,
      "height": null,
      "justify_content": null,
      "justify_items": null,
      "left": null,
      "margin": null,
      "max_height": null,
      "max_width": null,
      "min_height": null,
      "min_width": null,
      "object_fit": null,
      "object_position": null,
      "order": null,
      "overflow": null,
      "overflow_x": null,
      "overflow_y": null,
      "padding": null,
      "right": null,
      "top": null,
      "visibility": null,
      "width": null
     }
    },
    "f71d787b0c204241a235b130f43dc7d2": {
     "model_module": "@jupyter-widgets/controls",
     "model_name": "IntProgressModel",
     "state": {
      "_dom_classes": [],
      "_model_module": "@jupyter-widgets/controls",
      "_model_module_version": "1.5.0",
      "_model_name": "IntProgressModel",
      "_view_count": null,
      "_view_module": "@jupyter-widgets/controls",
      "_view_module_version": "1.5.0",
      "_view_name": "ProgressView",
      "bar_style": "success",
      "description": "",
      "description_tooltip": null,
      "layout": "IPY_MODEL_f957fc4684c144f5b6998b5e430cc45e",
      "max": 6,
      "min": 0,
      "orientation": "horizontal",
      "style": "IPY_MODEL_3e5bee9893574e09ae05def6e57eff9a",
      "value": 6
     }
    },
    "f957fc4684c144f5b6998b5e430cc45e": {
     "model_module": "@jupyter-widgets/base",
     "model_name": "LayoutModel",
     "state": {
      "_model_module": "@jupyter-widgets/base",
      "_model_module_version": "1.2.0",
      "_model_name": "LayoutModel",
      "_view_count": null,
      "_view_module": "@jupyter-widgets/base",
      "_view_module_version": "1.2.0",
      "_view_name": "LayoutView",
      "align_content": null,
      "align_items": null,
      "align_self": null,
      "border": null,
      "bottom": null,
      "display": null,
      "flex": null,
      "flex_flow": null,
      "grid_area": null,
      "grid_auto_columns": null,
      "grid_auto_flow": null,
      "grid_auto_rows": null,
      "grid_column": null,
      "grid_gap": null,
      "grid_row": null,
      "grid_template_areas": null,
      "grid_template_columns": null,
      "grid_template_rows": null,
      "height": null,
      "justify_content": null,
      "justify_items": null,
      "left": null,
      "margin": null,
      "max_height": null,
      "max_width": null,
      "min_height": null,
      "min_width": null,
      "object_fit": null,
      "object_position": null,
      "order": null,
      "overflow": null,
      "overflow_x": null,
      "overflow_y": null,
      "padding": null,
      "right": null,
      "top": null,
      "visibility": null,
      "width": null
     }
    }
   }
  }
 },
 "nbformat": 4,
 "nbformat_minor": 1
}
