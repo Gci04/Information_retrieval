{
  "nbformat": 4,
  "nbformat_minor": 0,
  "metadata": {
    "kernelspec": {
      "display_name": "Python 3",
      "language": "python",
      "name": "python3"
    },
    "language_info": {
      "codemirror_mode": {
        "name": "ipython",
        "version": 3
      },
      "file_extension": ".py",
      "mimetype": "text/x-python",
      "name": "python",
      "nbconvert_exporter": "python",
      "pygments_lexer": "ipython3",
      "version": "3.6.3"
    },
    "colab": {
      "name": "ApproxNNSearch_gcinizwe.ipynb",
      "provenance": [],
      "collapsed_sections": []
    }
  },
  "cells": [
    {
      "cell_type": "markdown",
      "metadata": {
        "id": "UfKDUNZ9FakL",
        "colab_type": "text"
      },
      "source": [
        "# Approximate Nearest Neighbours Search\n",
        "\n",
        "Sometimes, when we are processing a user query, it may be **acceptable to retrieve a \"good guess\"** of \n",
        "nearest neighbours to the query **instead of true nearest neighbours**. In those cases, one can use an algorithm which doesn't guarantee to return the actual nearest neighbour in every case, **in return for improved speed or memory savings**. Thus, with the help of such algorithms one can do a **fast approximate search in a very large dataset**. Today we will expore one of such approaches based on graphs.\n",
        "\n",
        "This is what we are going to do in this lab: \n",
        "\n",
        "1. Complete implementation of small-world graph;\n",
        "2. Implement search in this graph;\n",
        "3. Build a *navigable* small-world graph;\n",
        "4. Compare search quality in the resulting graphs.\n",
        "\n",
        "\n",
        "## 1. Dataset preparation\n",
        "We will utilize the same dataset which was used in the last lab - the [dataset with curious facts](https://github.com/hsu-ai-course/hsu.ai/blob/master/code/datasets/nlp/facts.txt). Using trained `doc2vec` [model](https://github.com/jhlau/doc2vec) (Associated Press News DBOW (0.6GB), we will infer vectors for every fact and normalize them.\n",
        "\n",
        "\n",
        "### 1.1 Loading doc2vec model"
      ]
    },
    {
      "cell_type": "code",
      "metadata": {
        "id": "Um0-sxC_GkXM",
        "colab_type": "code",
        "outputId": "53bd9c1c-e506-446d-d293-e4c50e3c6af0",
        "colab": {
          "base_uri": "https://localhost:8080/",
          "height": 292
        }
      },
      "source": [
        "!wget https://public.boxcloud.com/d/1/b1!pYoDizDrnvwUjLXgvZpxVm6deEuR1me7krnkfJ_LjXZkepSMHu7wmnjOl5kgLlcd9Wz_aPLYQCzqw4llU2xhndfNdMlTlvKFWPMJMsREXuqRGiAXV2eaZVaNaFvlTSkc_L4wlgAxeFxA0LK3jW61dWri7pXoMAsiknyJ75c6_LXteWIvxRStbXuFAqy_Ne-IIP79F1uI5Jv-bRYDv_Vk7dFh3vZj9dAew1oxPjWYioGuvM37K9eQJ5L5aoLh7JxgqRfbviEOScKe66rjCnQ_Mm283mOdFBzbC_Iy2l9vFa6NoGtkjt259IRcr-Fhmktbp2q-4pa7Gy0WS5Rayolu4_6gDfy_d570E68BTIBs4nkvxilMvBoK7NvbysmbxnFsISBGPjAmxOOrA_C3rxjPd-YgT9jMGgM-nV51Qr8Vqb8VlAgX4BINVCzS6Vmsm-HYiOIFBM5tfE5pY6dSc0_WZqBbPowB6mYXsh2mof4K_YUXnhGzYeJ53Em3zym49F5fY1rcLd_israuyNy9XQMWIcPlbNt_P5iiNLENQlTF0NE8iJdAkf3SNcBMXfG1td4cpkLSrM6-QsqHOt-AGph6iyIPM4qxI5EbKtYcwy7E1YA5rxQ2yehDXdqelqz9kieKoXrAYVdM-V4Rx96u-YDFcVKbry059aMIctyapXLNnYVoHmqklal54RVKAsM2HTc7hHEMQ9HWVZL2nHdxq3KOm2quHQADCdmhsehYUFEJ6LTWPcscZpL82GZIxvVLZAB4i2eNIaWh8sD7svGq1A4SQvtNleqbUlbsUlVfrsAB5Cq4iC-oo0xLSF74_scUdr6a3doByhrCx7X1Udz4i7BhmkZvqHYOUCMpviphGazZBzh8a__zkUIG9tAyFMSwznDImSFpeQVN99KxDC_scXt1wWz7nJRwaPWyBG7vbhMvQHZMusSGNaDCrXoKew-Z_YzY9_tVIgrqF6mavFsw-mH2fzCh6TqiE92Icf39ZSF2JMpd1JB1Ay5phSOu3UgqZzQOUviyOl3G_Qi1oJndAYmswvQyyP65ucOsA52NAPb3iRdKhPJ_pPtSHprxTwuVsA3OrFe4ackSRC_goMgY6JkBS06iwKbiQx975uffoFzmYPmadvD5m1Q-NLt6l6Xm0ltmaiKFEeeTzx5Nwha8Eis1OLF2NDpckNxx-ZgKKGPd5f9X3-UpmeyieCkCuQCo62GwycpZ1ESfyLOEF-RTVIIzBbaQ1I2a_LnfA9XRlcVhFN4rQxfHgYqQXJAiWFQwYy0FG48EMQZtxJx6ER6Bl18YWq4rQ2CX2JYAZ6nKgbiWMSXj/download\n",
        "!tar -xvzf \"./download\""
      ],
      "execution_count": 0,
      "outputs": [
        {
          "output_type": "stream",
          "text": [
            "--2020-02-23 04:24:01--  https://public.boxcloud.com/d/1/b1!pYoDizDrnvwUjLXgvZpxVm6deEuR1me7krnkfJ_LjXZkepSMHu7wmnjOl5kgLlcd9Wz_aPLYQCzqw4llU2xhndfNdMlTlvKFWPMJMsREXuqRGiAXV2eaZVaNaFvlTSkc_L4wlgAxeFxA0LK3jW61dWri7pXoMAsiknyJ75c6_LXteWIvxRStbXuFAqy_Ne-IIP79F1uI5Jv-bRYDv_Vk7dFh3vZj9dAew1oxPjWYioGuvM37K9eQJ5L5aoLh7JxgqRfbviEOScKe66rjCnQ_Mm283mOdFBzbC_Iy2l9vFa6NoGtkjt259IRcr-Fhmktbp2q-4pa7Gy0WS5Rayolu4_6gDfy_d570E68BTIBs4nkvxilMvBoK7NvbysmbxnFsISBGPjAmxOOrA_C3rxjPd-YgT9jMGgM-nV51Qr8Vqb8VlAgX4BINVCzS6Vmsm-HYiOIFBM5tfE5pY6dSc0_WZqBbPowB6mYXsh2mof4K_YUXnhGzYeJ53Em3zym49F5fY1rcLd_israuyNy9XQMWIcPlbNt_P5iiNLENQlTF0NE8iJdAkf3SNcBMXfG1td4cpkLSrM6-QsqHOt-AGph6iyIPM4qxI5EbKtYcwy7E1YA5rxQ2yehDXdqelqz9kieKoXrAYVdM-V4Rx96u-YDFcVKbry059aMIctyapXLNnYVoHmqklal54RVKAsM2HTc7hHEMQ9HWVZL2nHdxq3KOm2quHQADCdmhsehYUFEJ6LTWPcscZpL82GZIxvVLZAB4i2eNIaWh8sD7svGq1A4SQvtNleqbUlbsUlVfrsAB5Cq4iC-oo0xLSF74_scUdr6a3doByhrCx7X1Udz4i7BhmkZvqHYOUCMpviphGazZBzh8a__zkUIG9tAyFMSwznDImSFpeQVN99KxDC_scXt1wWz7nJRwaPWyBG7vbhMvQHZMusSGNaDCrXoKew-Z_YzY9_tVIgrqF6mavFsw-mH2fzCh6TqiE92Icf39ZSF2JMpd1JB1Ay5phSOu3UgqZzQOUviyOl3G_Qi1oJndAYmswvQyyP65ucOsA52NAPb3iRdKhPJ_pPtSHprxTwuVsA3OrFe4ackSRC_goMgY6JkBS06iwKbiQx975uffoFzmYPmadvD5m1Q-NLt6l6Xm0ltmaiKFEeeTzx5Nwha8Eis1OLF2NDpckNxx-ZgKKGPd5f9X3-UpmeyieCkCuQCo62GwycpZ1ESfyLOEF-RTVIIzBbaQ1I2a_LnfA9XRlcVhFN4rQxfHgYqQXJAiWFQwYy0FG48EMQZtxJx6ER6Bl18YWq4rQ2CX2JYAZ6nKgbiWMSXj/download\n",
            "Resolving public.boxcloud.com (public.boxcloud.com)... 103.116.4.200\n",
            "Connecting to public.boxcloud.com (public.boxcloud.com)|103.116.4.200|:443... connected.\n",
            "HTTP request sent, awaiting response... 200 OK\n",
            "Length: 665844707 (635M) [application/octet-stream]\n",
            "Saving to: ‘download’\n",
            "\n",
            "download            100%[===================>] 635.00M  16.1MB/s    in 40s     \n",
            "\n",
            "2020-02-23 04:24:42 (15.7 MB/s) - ‘download’ saved [665844707/665844707]\n",
            "\n",
            "apnews_dbow/\n",
            "apnews_dbow/doc2vec.bin.syn1neg.npy\n",
            "apnews_dbow/doc2vec.bin.syn0.npy\n",
            "apnews_dbow/doc2vec.bin\n"
          ],
          "name": "stdout"
        }
      ]
    },
    {
      "cell_type": "code",
      "metadata": {
        "id": "-G7rHh5qFakN",
        "colab_type": "code",
        "outputId": "d4600fb6-18d8-4a1c-e2ce-2b4456abd521",
        "colab": {
          "base_uri": "https://localhost:8080/",
          "height": 173
        }
      },
      "source": [
        "from gensim.models.doc2vec import Doc2Vec\n",
        "\n",
        "# unpack a model into 3 files and target the main one\n",
        "# doc2vec.bin  <---------- this\n",
        "# doc2vec.bin.syn0.npy\n",
        "# doc2vec.bin.sin1neg.npy\n",
        "model = Doc2Vec.load('./apnews_dbow/doc2vec.bin', mmap=None)\n",
        "print(type(model))\n",
        "print(type(model.infer_vector([\"to\", \"be\", \"or\", \"not\"])))"
      ],
      "execution_count": 0,
      "outputs": [
        {
          "output_type": "stream",
          "text": [
            "/usr/local/lib/python3.6/dist-packages/smart_open/smart_open_lib.py:402: UserWarning: This function is deprecated, use smart_open.open instead. See the migration notes for details: https://github.com/RaRe-Technologies/smart_open/blob/master/README.rst#migrating-to-the-new-open-function\n",
            "  'See the migration notes for details: %s' % _MIGRATION_NOTES_URL\n"
          ],
          "name": "stderr"
        },
        {
          "output_type": "stream",
          "text": [
            "<class 'gensim.models.doc2vec.Doc2Vec'>\n",
            "<class 'numpy.ndarray'>\n"
          ],
          "name": "stdout"
        },
        {
          "output_type": "stream",
          "text": [
            "/usr/local/lib/python3.6/dist-packages/gensim/models/doc2vec.py:566: UserWarning: The parameter `iter` is deprecated, will be removed in 4.0.0, use `epochs` instead.\n",
            "  warnings.warn(\"The parameter `iter` is deprecated, will be removed in 4.0.0, use `epochs` instead.\")\n",
            "/usr/local/lib/python3.6/dist-packages/gensim/models/doc2vec.py:570: UserWarning: The parameter `size` is deprecated, will be removed in 4.0.0, use `vector_size` instead.\n",
            "  warnings.warn(\"The parameter `size` is deprecated, will be removed in 4.0.0, use `vector_size` instead.\")\n"
          ],
          "name": "stderr"
        }
      ]
    },
    {
      "cell_type": "markdown",
      "metadata": {
        "id": "ZIOQ-6CeFakS",
        "colab_type": "text"
      },
      "source": [
        "### 1.2 Reading data"
      ]
    },
    {
      "cell_type": "code",
      "metadata": {
        "id": "rJ-zfxZ8FakT",
        "colab_type": "code",
        "colab": {}
      },
      "source": [
        "import urllib.request\n",
        "data_url = \"https://raw.githubusercontent.com/hsu-ai-course/hsu.ai/master/code/datasets/nlp/facts.txt\"\n",
        "file_name= \"facts.txt\"\n",
        "urllib.request.urlretrieve(data_url, file_name)\n",
        "\n",
        "facts = []\n",
        "with open(file_name,encoding=\"windows-1251\") as fp:\n",
        "  for cnt, line in enumerate(fp):\n",
        "    facts.append(line.strip('\\n'))"
      ],
      "execution_count": 0,
      "outputs": []
    },
    {
      "cell_type": "markdown",
      "metadata": {
        "id": "AKbpIykKFakX",
        "colab_type": "text"
      },
      "source": [
        "### 1.3 Transforming sentences into vectors"
      ]
    },
    {
      "cell_type": "code",
      "metadata": {
        "id": "q6Zh_kqWFakY",
        "colab_type": "code",
        "outputId": "04a55553-db5f-4699-c197-793ae13c6dec",
        "colab": {
          "base_uri": "https://localhost:8080/",
          "height": 51
        }
      },
      "source": [
        "import nltk\n",
        "nltk.download('punkt')\n",
        "import numpy as np\n",
        "\n",
        "def word_tokenize(sentence):\n",
        "    return nltk.word_tokenize(sentence.lower())\n",
        "\n",
        "def get_words_from_sentence(sentences):\n",
        "    for sentence in sentences: \n",
        "        yield word_tokenize(sentence.split('.', 1)[1])\n",
        "\n",
        "sent_vecs = np.array(list(model.infer_vector(words) for words in get_words_from_sentence(facts)))"
      ],
      "execution_count": 0,
      "outputs": [
        {
          "output_type": "stream",
          "text": [
            "[nltk_data] Downloading package punkt to /root/nltk_data...\n",
            "[nltk_data]   Unzipping tokenizers/punkt.zip.\n"
          ],
          "name": "stdout"
        }
      ]
    },
    {
      "cell_type": "markdown",
      "metadata": {
        "id": "H4Rq0C8uFakb",
        "colab_type": "text"
      },
      "source": [
        "### 1.4 Normalizing vectors"
      ]
    },
    {
      "cell_type": "code",
      "metadata": {
        "id": "-B4ZiBu6Fakc",
        "colab_type": "code",
        "colab": {}
      },
      "source": [
        "def norm_vectors(A):\n",
        "  An = A.copy()\n",
        "  for i, row in enumerate(An):\n",
        "    An[i, :] /= np.linalg.norm(row)\n",
        "  return An\n",
        "\n",
        "def find_k_closest(query, dataset, k=5):    \n",
        "    index = list((i, v, np.dot(query, v)) for i, v in enumerate(dataset))    \n",
        "    return sorted(index, key=lambda pair: pair[2], reverse=True)[:k]\n",
        "\n",
        "sent_vecs_normed = norm_vectors(sent_vecs)"
      ],
      "execution_count": 0,
      "outputs": []
    },
    {
      "cell_type": "markdown",
      "metadata": {
        "id": "34aC_K7IFakg",
        "colab_type": "text"
      },
      "source": [
        "## 2. Small world network ##\n",
        "We discussed [small world networks](https://en.wikipedia.org/wiki/Small-world_network) in lecture. This beautiful concept utilizes skip-list idea to reach query neighbourhood fastly from any random graph node. You have practically all code written, you just need to complete `rewire()` function with respect to [Watts–Strogatz process](https://en.wikipedia.org/wiki/Watts%E2%80%93Strogatz_model).\n",
        "\n",
        "**Please write rewiring code.**\n",
        "\n",
        "Function `build_graph` accepts some iterable collection of `values`. In our case this will be embeddings. \n",
        "\n",
        "- `K` is a parameter of Watts–Strogatz model, expressing average degree of graph nodes.\n",
        "- `p` stands for probability of \"rewiring\"."
      ]
    },
    {
      "cell_type": "code",
      "metadata": {
        "id": "ScCfjGC4Fakh",
        "colab_type": "code",
        "colab": {}
      },
      "source": [
        "import random\n",
        "class Node:\n",
        "    ''' Graph node class. Major properties are `value` to access embedding and `neighbourhood` for adjacent nodes '''\n",
        "    def __init__(self, value, idx):\n",
        "      self.value = value\n",
        "      self.idx = idx\n",
        "      self.neighbourhood = set()\n",
        "        \n",
        "\n",
        "def build_graph(values, K, p=0.4):\n",
        "    '''Accepts container with values. Returns list with graph nodes'''\n",
        "    \n",
        "    N = len(values)\n",
        "    nodes = [None] * N\n",
        "    \n",
        "    # create nodes\n",
        "    for i, val in enumerate(values):\n",
        "      nodes[i] = Node(val, i)\n",
        "    \n",
        "    # create K-regular lattice\n",
        "    for i, val in enumerate(nodes):\n",
        "      for j in range(i - K // 2, i + K // 2 + 1):\n",
        "        if i != j:\n",
        "          nodes[i].neighbourhood.add(j % N)\n",
        "          nodes[j % N].neighbourhood.add(i)\n",
        "\n",
        "    for i, node in enumerate(nodes):\n",
        "      for j in range(i+1,i + K //2 + 1):\n",
        "        if random.random() < p:\n",
        "          k = random.randint(0,N-1)\n",
        "          while(k == i) : k = random.randint(0,N-1)\n",
        "\n",
        "          nodes[k].neighbourhood.add(i)\n",
        "          nodes[i].neighbourhood.add(k)\n",
        "          \n",
        "          nodes[i].neighbourhood.remove(j%N)\n",
        "          nodes[j%N].neighbourhood.remove(i)\n",
        "        \n",
        "    return nodes"
      ],
      "execution_count": 0,
      "outputs": []
    },
    {
      "cell_type": "markdown",
      "metadata": {
        "id": "N2g0RsaTFakn",
        "colab_type": "text"
      },
      "source": [
        "The bigger `K` and `p` you choose, the longer method runs. Bigger `K` leads to bigger near-cliques in a graph and, as a consequence, bigger context to consider at each step of search. Bigger `p` is for a better \"remote hops\", but it should not be close to 1, as it will make graph random (not SW)."
      ]
    },
    {
      "cell_type": "code",
      "metadata": {
        "id": "9tee3-GxFako",
        "colab_type": "code",
        "outputId": "64c2bf8d-eb14-45cb-ed04-b12645b6aee0",
        "colab": {
          "base_uri": "https://localhost:8080/",
          "height": 34
        }
      },
      "source": [
        "import time\n",
        "start = time.time()\n",
        "G = build_graph(sent_vecs_normed, K=10, p=0.2)\n",
        "finish = time.time()\n",
        "print(\"Graph built in {:.2f} ms\".format(1000 * (finish - start)))"
      ],
      "execution_count": 0,
      "outputs": [
        {
          "output_type": "stream",
          "text": [
            "Graph built in 2.20 ms\n"
          ],
          "name": "stdout"
        }
      ]
    },
    {
      "cell_type": "markdown",
      "metadata": {
        "id": "V6aE4gl0Fakr",
        "colab_type": "text"
      },
      "source": [
        "### 2.1 Searching in a small-world graph"
      ]
    },
    {
      "cell_type": "markdown",
      "metadata": {
        "id": "XZ4dYk3IFaks",
        "colab_type": "text"
      },
      "source": [
        "Now you need to implement an efficient search procedure which would utilize small world properties. Starting from the random node, at each step you should move towards the closest node (in terms of cosine simiarity, in our case), meanwhile keeping and refreshing top-K nearest neightbours collection. \n",
        "\n",
        "**Please implement basic NSW search**. \n",
        "\n",
        "You can refer to the `K-NNSearch` algorithm which pseudocode is given in section 4.2 of the [original paper](https://publications.hse.ru/mirror/pubs/share/folder/x5p6h7thif/direct/128296059).\n",
        "\n",
        "`search_nsw_basic()`\n",
        "- `query` - `vector` (`np.ndarray`) representing a query.\n",
        "- `nsw` - SW graph.\n",
        "- `top` - re-ranking set size.\n",
        "- `guard_hops` - if method does not converge, we will terminate when reaching guard_hops #steps.\n",
        "- `returns` - a pair of a `set` of indices and number of hops `(nearest_neighbours_set, hops)`"
      ]
    },
    {
      "cell_type": "code",
      "metadata": {
        "id": "qse_6VMN-6ZI",
        "colab_type": "code",
        "colab": {}
      },
      "source": [
        "test_queries = [\"good mood\", \"birds\", \"virus and bacteria\"]\n",
        "test_vectors = np.array([model.infer_vector(word_tokenize(q)) for q in test_queries])\n",
        "test_queries_normed = norm_vectors(test_vectors)"
      ],
      "execution_count": 0,
      "outputs": []
    },
    {
      "cell_type": "code",
      "metadata": {
        "id": "444gUmq3Fakt",
        "colab_type": "code",
        "colab": {}
      },
      "source": [
        "import sortedcontainers\n",
        "from scipy.spatial import distance\n",
        "\n",
        "def search_nsw_basic(query, nsw, top=5, guard_hops=100):\n",
        "  ''' basic search algorithm, takes vector query and returns a pair (nearest_neighbours, hops)'''\n",
        "  hops = 0\n",
        "  candidates = set()\n",
        "  result = sortedcontainers.SortedDict({float(\"inf\"):0})\n",
        "  \n",
        "  visitedSet = set()\n",
        "  for i in range(guard_hops):\n",
        "    entry_point = random.randint(0,len(nsw)-1)\n",
        "    candidates.add(entry_point)\n",
        "    tempRes = {}\n",
        "\n",
        "    # start = time.time()\n",
        "    while (len(candidates) != 0 and hops < guard_hops):\n",
        "      c = candidates.pop()\n",
        "      c_dist = distance.cosine(query, nsw[c].value)\n",
        "      if len(result) < top :\n",
        "        for e in nsw[c].neighbourhood :  \n",
        "          if e not in visitedSet:\n",
        "            visitedSet.add(e)\n",
        "            candidates.add(e)\n",
        "            e_dist = distance.cosine(query, nsw[e].value)\n",
        "            tempRes.update({e_dist:e})\n",
        "\n",
        "        hops += 1 \n",
        "      else:\n",
        "        cur_k_value = result.peekitem(top-1)[0]\n",
        "        if c_dist > cur_k_value:\n",
        "          break\n",
        "        else : \n",
        "          for e in nsw[c].neighbourhood :  \n",
        "            if e not in visitedSet:\n",
        "              visitedSet.add(e)\n",
        "              candidates.add(e)\n",
        "              e_dist = distance.cosine(query, nsw[e].value)\n",
        "              if e_dist < cur_k_value : \n",
        "                tempRes.update({e_dist:e})\n",
        "\n",
        "          hops += 1\n",
        "      # finish = time.time()\n",
        "      # print(\"time : \",finish) \n",
        "\n",
        "      result.update(tempRes) \n",
        "\n",
        "  return list(dict(result).values())[:top], hops\n"
      ],
      "execution_count": 0,
      "outputs": []
    },
    {
      "cell_type": "code",
      "metadata": {
        "id": "vKTTWwxBxxgb",
        "colab_type": "code",
        "outputId": "91d0931b-32cf-414e-fcf5-9fb58e9c4740",
        "colab": {
          "base_uri": "https://localhost:8080/",
          "height": 408
        }
      },
      "source": [
        "search_time = 0\n",
        "for i, query in enumerate(test_queries):\n",
        "  start = time.time()\n",
        "  ans, hops = search_nsw_basic(test_queries_normed[i], G)\n",
        "  finish = time.time()\n",
        "  search_time += finish - start\n",
        "\n",
        "  print(\"\\nResults for query:\", query)\n",
        "  for k in ans:\n",
        "    print(\"\\t\", facts[k], \"sim=\", np.dot(test_queries_normed[i], sent_vecs_normed[k]))\n",
        "      \n",
        "print(\"\\nBasic nsw search took {:.4f} ms on average\".format(1000 * (search_time/len(test_queries))))    "
      ],
      "execution_count": 0,
      "outputs": [
        {
          "output_type": "stream",
          "text": [
            "\n",
            "Results for query: good mood\n",
            "\t 68. Cherophobia is the fear of fun. sim= 0.59202355\n",
            "\t 144. Dolphins sleep with one eye open! sim= 0.5452426\n",
            "\t 100. The tongue is the strongest muscle in the body. sim= 0.5288233\n",
            "\t 125. A ball of glass will bounce higher than a ball of rubber. sim= 0.5231798\n",
            "\t 110. Cats have 32 muscles in each of their ears. sim= 0.50996894\n",
            "\n",
            "Results for query: birds\n",
            "\t 47. Avocados are poisonous to birds. sim= 0.7139558\n",
            "\t 111. Butterflies taste their food with their feet. sim= 0.6685472\n",
            "\t 109. Cows kill more people than sharks do. sim= 0.6383454\n",
            "\t 104. Sea otters hold hands when they sleep so that they do not drift apart. sim= 0.5876639\n",
            "\t 106. The male ostrich can roar just like a lion. sim= 0.5867424\n",
            "\n",
            "Results for query: virus and bacteria\n",
            "\t 47. Avocados are poisonous to birds. sim= 0.607918\n",
            "\t 54. Coconut water can be used as blood plasma. sim= 0.6062611\n",
            "\t 39. A 2010 study found that 48% of soda fountain contained fecal bacteria, and 11% contained E. Coli. sim= 0.60551715\n",
            "\t 83. During your lifetime, you will produce enough saliva to fill two swimming pools. sim= 0.58383393\n",
            "\t 52. More people are allergic to cow’s milk than any other food. sim= 0.54787856\n",
            "\n",
            "Basic nsw search took 14.3421 ms on average\n"
          ],
          "name": "stdout"
        }
      ]
    },
    {
      "cell_type": "markdown",
      "metadata": {
        "id": "NZJv7HHfFakz",
        "colab_type": "text"
      },
      "source": [
        "### 2.2 Test the search procedure"
      ]
    },
    {
      "cell_type": "code",
      "metadata": {
        "id": "bRMPHcVkFak0",
        "colab_type": "code",
        "colab": {}
      },
      "source": [
        "test_queries = [\"good mood\", \"birds\", \"virus and bacteria\"]\n",
        "test_vectors = np.array([model.infer_vector(word_tokenize(q)) for q in test_queries])\n",
        "test_queries_normed = norm_vectors(test_vectors)"
      ],
      "execution_count": 0,
      "outputs": []
    },
    {
      "cell_type": "markdown",
      "metadata": {
        "id": "t1fRoczmFak3",
        "colab_type": "text"
      },
      "source": [
        "First, let's display the true nearest neighbours and measure average search time. "
      ]
    },
    {
      "cell_type": "code",
      "metadata": {
        "id": "Xt96Ed3BFak4",
        "colab_type": "code",
        "outputId": "c7ad4538-4030-4440-f1e6-28e2a9fe028a",
        "colab": {
          "base_uri": "https://localhost:8080/",
          "height": 408
        }
      },
      "source": [
        "search_time = 0\n",
        "for i, query in enumerate(test_queries):\n",
        "    start = time.time()\n",
        "    r = find_k_closest(test_queries_normed[i], sent_vecs_normed)\n",
        "    finish = time.time()\n",
        "    search_time += finish - start  \n",
        "\n",
        "    print(\"\\nResults for query:\", query)\n",
        "    for k, v, p in r:\n",
        "        print(\"\\t\", facts[k], \"sim=\", p)\n",
        "\n",
        "print(\"\\nExact search took {:.4f} ms on average\".format(1000 * (search_time/len(test_queries))))"
      ],
      "execution_count": 0,
      "outputs": [
        {
          "output_type": "stream",
          "text": [
            "\n",
            "Results for query: good mood\n",
            "\t 68. Cherophobia is the fear of fun. sim= 0.59344584\n",
            "\t 76. You breathe on average about 8,409,600 times a year sim= 0.5577691\n",
            "\t 144. Dolphins sleep with one eye open! sim= 0.54780835\n",
            "\t 97. 111,111,111 X 111,111,111 = 12,345,678,987,654,321 sim= 0.53923696\n",
            "\t 18. You cannot snore and dream at the same time. sim= 0.5374446\n",
            "\n",
            "Results for query: birds\n",
            "\t 47. Avocados are poisonous to birds. sim= 0.7135332\n",
            "\t 111. Butterflies taste their food with their feet. sim= 0.66875094\n",
            "\t 121. Birds don’t urinate. sim= 0.64172643\n",
            "\t 109. Cows kill more people than sharks do. sim= 0.6407076\n",
            "\t 144. Dolphins sleep with one eye open! sim= 0.61201656\n",
            "\n",
            "Results for query: virus and bacteria\n",
            "\t 47. Avocados are poisonous to birds. sim= 0.60784465\n",
            "\t 54. Coconut water can be used as blood plasma. sim= 0.60641485\n",
            "\t 39. A 2010 study found that 48% of soda fountain contained fecal bacteria, and 11% contained E. Coli. sim= 0.6055732\n",
            "\t 109. Cows kill more people than sharks do. sim= 0.59397703\n",
            "\t 83. During your lifetime, you will produce enough saliva to fill two swimming pools. sim= 0.583288\n",
            "\n",
            "Exact search took 0.8601 ms on average\n"
          ],
          "name": "stdout"
        }
      ]
    },
    {
      "cell_type": "markdown",
      "metadata": {
        "id": "QQ3z-r3BFak7",
        "colab_type": "text"
      },
      "source": [
        "Now, let's see `search_nsw_basic` in action. It should work way faster than pairwise comparisons above."
      ]
    },
    {
      "cell_type": "code",
      "metadata": {
        "id": "y_cXxEazFak8",
        "colab_type": "code",
        "outputId": "4fb2dd0a-69ef-4dd7-f440-56992e226039",
        "colab": {
          "base_uri": "https://localhost:8080/",
          "height": 408
        }
      },
      "source": [
        "search_time = 0\n",
        "for i, query in enumerate(test_queries):\n",
        "    start = time.time()\n",
        "    ans, hops = search_nsw_basic(test_queries_normed[i], G)\n",
        "    finish = time.time()\n",
        "    search_time += finish - start\n",
        "\n",
        "    print(\"\\nResults for query:\", query)\n",
        "    for k in ans:\n",
        "        print(\"\\t\", facts[k], \"sim=\", np.dot(test_queries_normed[i], sent_vecs_normed[k]))\n",
        "        \n",
        "print(\"\\nBasic nsw search took {:.4f} ms on average\".format(1000 * (search_time/len(test_queries))))    "
      ],
      "execution_count": 0,
      "outputs": [
        {
          "output_type": "stream",
          "text": [
            "\n",
            "Results for query: good mood\n",
            "\t 68. Cherophobia is the fear of fun. sim= 0.6166097\n",
            "\t 76. You breathe on average about 8,409,600 times a year sim= 0.52935636\n",
            "\t 100. The tongue is the strongest muscle in the body. sim= 0.5195673\n",
            "\t 97. 111,111,111 X 111,111,111 = 12,345,678,987,654,321 sim= 0.51652116\n",
            "\t 18. You cannot snore and dream at the same time. sim= 0.51284623\n",
            "\n",
            "Results for query: birds\n",
            "\t 111. Butterflies taste their food with their feet. sim= 0.6510542\n",
            "\t 109. Cows kill more people than sharks do. sim= 0.6387982\n",
            "\t 73. Scientists have tracked butterflies that travel over 3,000 miles. sim= 0.5914467\n",
            "\t 106. The male ostrich can roar just like a lion. sim= 0.5908794\n",
            "\t 68. Cherophobia is the fear of fun. sim= 0.5767305\n",
            "\n",
            "Results for query: virus and bacteria\n",
            "\t 39. A 2010 study found that 48% of soda fountain contained fecal bacteria, and 11% contained E. Coli. sim= 0.62402725\n",
            "\t 47. Avocados are poisonous to birds. sim= 0.6083069\n",
            "\t 109. Cows kill more people than sharks do. sim= 0.6044575\n",
            "\t 54. Coconut water can be used as blood plasma. sim= 0.6033967\n",
            "\t 83. During your lifetime, you will produce enough saliva to fill two swimming pools. sim= 0.5823899\n",
            "\n",
            "Basic nsw search took 14.4749 ms on average\n"
          ],
          "name": "stdout"
        }
      ]
    },
    {
      "cell_type": "markdown",
      "metadata": {
        "id": "LE62dWb3Fak_",
        "colab_type": "text"
      },
      "source": [
        "The results you see should be worse than the exact nearest neighbours, however, not completely random. Pay attention to the similarity values."
      ]
    },
    {
      "cell_type": "markdown",
      "metadata": {
        "id": "SxjR6k-xFalA",
        "colab_type": "text"
      },
      "source": [
        "## 3. Navigable small-world graph\n",
        "\n",
        "When building small-world graph using Watts–Strogatz model, there was no notion of proximity between the nodes - it was completely ignored. In Navigable small-world graphs, however, the idea is to insert nodes in such a way that the cliques form real neighbourhoods, meaning points that are connected are close to each other. Please refer to section 5 of the [paper](https://publications.hse.ru/mirror/pubs/share/folder/x5p6h7thif/direct/128296059) for the details."
      ]
    },
    {
      "cell_type": "code",
      "metadata": {
        "id": "0uHJ32PyFalB",
        "colab_type": "code",
        "colab": {}
      },
      "source": [
        "def build_navigable_graph(values, K):\n",
        "  '''Accepts container with values. Returns list with graph nodes.\n",
        "  K parameter stands for the size of the set of closest neighbors to connect to when adding a node'''\n",
        "  #TODO implement navigable small-world graph consrtuction\n",
        "  N = len(values)\n",
        "  nodes = [None] * N\n",
        "  \n",
        "  # create nodes\n",
        "  for i, val in enumerate(values):\n",
        "    nodes[i] = Node(val, i)\n",
        "  \n",
        "  for v in nodes:\n",
        "    temp = sortedcontainers.SortedDict([(distance.cosine(values[0], i),j) for j,i in enumerate(values[1:])])\n",
        "    neighbors = list(temp.values())[:K]\n",
        "    \n",
        "    #bi-directional insert\n",
        "    v.neighbourhood.update(neighbors)\n",
        "    for i in neighbors:\n",
        "      nodes[i].neighbourhood.add(v.idx)\n",
        "              \n",
        "  return nodes"
      ],
      "execution_count": 0,
      "outputs": []
    },
    {
      "cell_type": "markdown",
      "metadata": {
        "id": "yF6A06a3FalG",
        "colab_type": "text"
      },
      "source": [
        "### 3.1 Building and testing the graph"
      ]
    },
    {
      "cell_type": "code",
      "metadata": {
        "id": "UstaoN4nFalH",
        "colab_type": "code",
        "colab": {}
      },
      "source": [
        "navigable_G = build_navigable_graph(sent_vecs_normed, K=10)"
      ],
      "execution_count": 0,
      "outputs": []
    },
    {
      "cell_type": "code",
      "metadata": {
        "id": "R1uNmJNWHnui",
        "colab_type": "code",
        "outputId": "fd523dcf-a722-44dd-d671-e3bd51f0fa3a",
        "colab": {
          "base_uri": "https://localhost:8080/",
          "height": 408
        }
      },
      "source": [
        "search_time = 0\n",
        "for i, query in enumerate(test_queries):\n",
        "    start = time.time()\n",
        "    ans, hops = search_nsw_basic(test_queries_normed[i], navigable_G) \n",
        "    finish = time.time()\n",
        "    search_time += finish - start\n",
        "    \n",
        "    print(\"\\nResults for query:\", query)\n",
        "    for k in ans:\n",
        "        print(\"\\t\", facts[k], \"sim=\", np.dot(test_queries_normed[i], sent_vecs_normed[k]))\n",
        "        \n",
        "print(\"\\nSearch in navigable graph took {:.4f} ms on average\".format(1000 * (search_time/len(test_queries))))  "
      ],
      "execution_count": 0,
      "outputs": [
        {
          "output_type": "stream",
          "text": [
            "\n",
            "Results for query: good mood\n",
            "\t 68. Cherophobia is the fear of fun. sim= 0.6166097\n",
            "\t 45. About half of all Americans are on a diet on any given day. sim= 0.54642195\n",
            "\t 76. You breathe on average about 8,409,600 times a year sim= 0.52935636\n",
            "\t 144. Dolphins sleep with one eye open! sim= 0.5247298\n",
            "\t 57. Gorillas burp when they are happy sim= 0.5226717\n",
            "\n",
            "Results for query: birds\n",
            "\t 47. Avocados are poisonous to birds. sim= 0.71066236\n",
            "\t 121. Birds don’t urinate. sim= 0.6603135\n",
            "\t 111. Butterflies taste their food with their feet. sim= 0.6510542\n",
            "\t 109. Cows kill more people than sharks do. sim= 0.6387982\n",
            "\t 73. Scientists have tracked butterflies that travel over 3,000 miles. sim= 0.5914467\n",
            "\n",
            "Results for query: virus and bacteria\n",
            "\t 39. A 2010 study found that 48% of soda fountain contained fecal bacteria, and 11% contained E. Coli. sim= 0.62402725\n",
            "\t 47. Avocados are poisonous to birds. sim= 0.6083069\n",
            "\t 109. Cows kill more people than sharks do. sim= 0.6044575\n",
            "\t 54. Coconut water can be used as blood plasma. sim= 0.6033967\n",
            "\t 83. During your lifetime, you will produce enough saliva to fill two swimming pools. sim= 0.5823899\n",
            "\n",
            "Search in navigable graph took 16.7131 ms on average\n"
          ],
          "name": "stdout"
        }
      ]
    },
    {
      "cell_type": "code",
      "metadata": {
        "id": "szeYzAyuFalK",
        "colab_type": "code",
        "outputId": "d64f5495-603e-43f7-b00a-96a0f5d8432a",
        "colab": {}
      },
      "source": [
        "search_time = 0\n",
        "for i, query in enumerate(test_queries):\n",
        "    start = time.time()\n",
        "    ans, hops = search_nsw_basic(test_queries_normed[i], navigable_G) \n",
        "    finish = time.time()\n",
        "    search_time += finish - start\n",
        "    \n",
        "    print(\"\\nResults for query:\", query)\n",
        "    for k in ans:\n",
        "        print(\"\\t\", facts[k], \"sim=\", np.dot(test_queries_normed[i], sent_vecs_normed[k]))\n",
        "        \n",
        "print(\"\\nSearch in navigable graph took {:.4f} ms on average\".format(1000 * (search_time/len(test_queries))))  "
      ],
      "execution_count": 0,
      "outputs": [
        {
          "output_type": "stream",
          "text": [
            "\n",
            "Results for query: good mood\n",
            "\t 68. Cherophobia is the fear of fun. sim= 0.59210587\n",
            "\t 45. About half of all Americans are on a diet on any given day. sim= 0.526565\n",
            "\t 57. Gorillas burp when they are happy sim= 0.5145933\n",
            "\t 70. Pirates wore earrings because they believed it improved their eyesight. sim= 0.49504918\n",
            "\t 6. There are more lifeforms living on your skin than there are people on the planet. sim= 0.48445895\n",
            "\n",
            "Results for query: birds\n",
            "\t 47. Avocados are poisonous to birds. sim= 0.7138059\n",
            "\t 111. Butterflies taste their food with their feet. sim= 0.66970384\n",
            "\t 12. A human will eat on average 70 assorted insects and 10 spiders while sleeping. sim= 0.593714\n",
            "\t 112. A tarantula can live without food for more than two years. sim= 0.5825779\n",
            "\t 110. Cats have 32 muscles in each of their ears. sim= 0.5541166\n",
            "\n",
            "Results for query: virus and bacteria\n",
            "\t 6. There are more lifeforms living on your skin than there are people on the planet. sim= 0.5208382\n",
            "\t 12. A human will eat on average 70 assorted insects and 10 spiders while sleeping. sim= 0.48884314\n",
            "\t 9. One in every five adults believe that aliens are hiding in our planet disguised as humans. sim= 0.46911395\n",
            "\t 16. Men are 6 times more likely to be struck by lightning than women. sim= 0.44280326\n",
            "\t 20. A coyote can hear a mouse moving underneath a foot of snow. sim= 0.43118066\n",
            "\n",
            "Search in navigable graph took 0.3335 ms on average\n"
          ],
          "name": "stdout"
        }
      ]
    },
    {
      "cell_type": "markdown",
      "metadata": {
        "id": "t7b7XWkNFalN",
        "colab_type": "text"
      },
      "source": [
        "## 4. Comparing search quality in resulting graphs\n",
        "\n",
        "For both graphs, for each data sample, retrieve K nearest neighbours and compare them to the true nearest neighbours of the sample. If the retrieved result is present in the true top-k list of the sample, then it is counted as a hit. For both graphs, report the total number of hits, and the average number of hits per sample.\n",
        "\n",
        "For example: `Number of hits 394 out of 795, avg per query 2.48`"
      ]
    },
    {
      "cell_type": "code",
      "metadata": {
        "id": "_vtj5QRfFalO",
        "colab_type": "code",
        "outputId": "a328c07e-3d0a-404b-f69e-8381bc7329b5",
        "colab": {
          "base_uri": "https://localhost:8080/",
          "height": 51
        }
      },
      "source": [
        "#TODO measure and report the described metrics\n",
        "Watts_Strogatz_G_hits = 0\n",
        "navigable_G_hits = 0\n",
        "\n",
        "top = 10\n",
        "\n",
        "N = len(sent_vecs_normed)\n",
        "for i in range(N):\n",
        "  Watts_Strogatz_G, _ = search_nsw_basic(sent_vecs_normed[i], G,top=top)\n",
        "  navigable_ans, _ = search_nsw_basic(sent_vecs_normed[i], navigable_G,top=top)\n",
        "\n",
        "  real_ans = [doc[0] for doc in find_k_closest(sent_vecs_normed[i], sent_vecs_normed,k=top)]\n",
        "\n",
        "  for f in Watts_Strogatz_G :\n",
        "    if f in real_ans :  Watts_Strogatz_G_hits +=1 \n",
        "  \n",
        "  for f in navigable_ans :\n",
        "    if f in real_ans :  navigable_G_hits +=1 \n",
        "\n",
        "tot_checks = top * N\n",
        "\n",
        "print(f\"Watts Strogatz made Graph has : {Watts_Strogatz_G_hits} hits out of {tot_checks} avg per query {Watts_Strogatz_G_hits/N}\")\n",
        "print(f\"Navigable small-world graph has : {navigable_G_hits} hits out of {tot_checks}. avg per query {navigable_G_hits/N}\")"
      ],
      "execution_count": 0,
      "outputs": [
        {
          "output_type": "stream",
          "text": [
            "Watts Strogatz made Graph has : 1122 hits out of 1590 avg per query 7.056603773584905\n",
            "Navigable small-world graph has : 1590 hits out of 1590. avg per query 10.0\n"
          ],
          "name": "stdout"
        }
      ]
    },
    {
      "cell_type": "markdown",
      "metadata": {
        "id": "rsMzDjQuFalR",
        "colab_type": "text"
      },
      "source": [
        "### Bonus task\n",
        "\n",
        "Generate a small set of 2d points and build 2 types of graphs for this set: small-world graph based on Watts–Strogatz algorithm, and Navigable small-world graph. Visualize both graphs and analyze their structures - do they differ? Does Navigable small-world graph capture geometric proximity better?"
      ]
    },
    {
      "cell_type": "code",
      "metadata": {
        "id": "G8DUgl8sFalS",
        "colab_type": "code",
        "colab": {}
      },
      "source": [
        "#TODO bonus task\n",
        "import plotly.graph_objects as go\n",
        "from matplotlib import pyplot as plt \n",
        "%matplotlib inline"
      ],
      "execution_count": 0,
      "outputs": []
    },
    {
      "cell_type": "code",
      "metadata": {
        "id": "bdPnz4cmnPN4",
        "colab_type": "code",
        "outputId": "4a003db4-4d1c-4a02-a16e-2445226fe5f1",
        "colab": {
          "base_uri": "https://localhost:8080/",
          "height": 281
        }
      },
      "source": [
        "vertices_coordinates = np.random.random(100).reshape((-1,2))\n",
        "# plt.scatter(vertices_coordinates[:,0],vertices_coordinates[:,1])\n",
        "norm_vertices_coordinates = norm_vectors(vertices_coordinates)\n",
        "plt.title(\"Gragh nodes scatter plot\")\n",
        "plt.scatter(vertices_coordinates[:,0],vertices_coordinates[:,1])\n",
        "plt.show()"
      ],
      "execution_count": 0,
      "outputs": [
        {
          "output_type": "display_data",
          "data": {
            "image/png": "[encoded data removed]",
            "text/plain": [
              "<Figure size 432x288 with 1 Axes>"
            ]
          },
          "metadata": {
            "tags": []
          }
        }
      ]
    },
    {
      "cell_type": "code",
      "metadata": {
        "id": "Us8lVl10nQOz",
        "colab_type": "code",
        "colab": {}
      },
      "source": [
        "coordinates_navigable_G = build_navigable_graph(vertices_coordinates, K=5) # create a navigable graph with 2d points as nodes\n",
        "coordinates_Watts_Strogatz_G = build_graph(vertices_coordinates, K=10, p=0.2)#create a basic graph using Watts–Strogatz model\n",
        "\n",
        "# Create Gragh list of edges  \n",
        "res_edges = set()\n",
        "edge_x = []\n",
        "edge_y = []\n",
        "\n",
        "for nod in coordinates_navigable_G:\n",
        "  for e in nod.neighbourhood:\n",
        "    if (e, nod.idx) not in res_edges:\n",
        "      res_edges.add((nod.idx, e))\n",
        "      x0, y0 = nod.value\n",
        "      x1, y1 = coordinates_navigable_G[e].value\n",
        "      edge_x.append(x0)\n",
        "      edge_x.append(x1)\n",
        "      edge_x.append(None)\n",
        "      edge_y.append(y0)\n",
        "      edge_y.append(y1)\n",
        "      edge_y.append(None)\n",
        "\n",
        "ws_res_edges = set()\n",
        "ws_edge_x = []\n",
        "ws_edge_y = []\n",
        "\n",
        "for nod in coordinates_Watts_Strogatz_G:\n",
        "  for e in nod.neighbourhood:\n",
        "    if (e, nod.idx) not in res_edges:\n",
        "      ws_res_edges.add((nod.idx, e))\n",
        "      x0, y0 = nod.value\n",
        "      x1, y1 = coordinates_Watts_Strogatz_G[e].value\n",
        "      ws_edge_x.append(x0)\n",
        "      ws_edge_x.append(x1)\n",
        "      ws_edge_x.append(None)\n",
        "      ws_edge_y.append(y0)\n",
        "      ws_edge_y.append(y1)\n",
        "      ws_edge_y.append(None)\n"
      ],
      "execution_count": 0,
      "outputs": []
    },
    {
      "cell_type": "code",
      "metadata": {
        "id": "JpdGlRxnTaqu",
        "colab_type": "code",
        "colab": {}
      },
      "source": [
        "#Get the nodes positions in the 2d plane (nodes are the same for both graphs but different connections between the nodes)\n",
        "node_x = []\n",
        "node_y = []\n",
        "for nod in coordinates_navigable_G:\n",
        "    x, y = nod.value\n",
        "    node_x.append(x)\n",
        "    node_y.append(y)"
      ],
      "execution_count": 0,
      "outputs": []
    },
    {
      "cell_type": "code",
      "metadata": {
        "id": "v-wxAvevU7fD",
        "colab_type": "code",
        "colab": {}
      },
      "source": [
        "# Scatter the nodes in the 2d graph \n",
        "edge_trace = go.Scatter(\n",
        "    x=edge_x, y=edge_y,name = 'navigable G Edge',\n",
        "    line=dict(width=0.5, color='#888'),\n",
        "    hoverinfo='none',\n",
        "    mode='lines')\n",
        "\n",
        "node_trace = go.Scatter(\n",
        "    x=node_x, y=node_y,\n",
        "    mode='markers', name = 'Vertex',\n",
        "    marker=dict(\n",
        "        showscale=True,\n",
        "        colorscale='YlGnBu',\n",
        "        reversescale=True,\n",
        "        color=[],\n",
        "        size=10,\n",
        "        colorbar=dict(\n",
        "            thickness=15,\n",
        "            title='Node Connections level',\n",
        "            xanchor='left',\n",
        "            titleside='right'\n",
        "        ),\n",
        "        line_width=2))"
      ],
      "execution_count": 0,
      "outputs": []
    },
    {
      "cell_type": "code",
      "metadata": {
        "id": "CTrPIsBKXhMG",
        "colab_type": "code",
        "outputId": "ff57bec1-a2e6-45ee-d186-e9952e7ff523",
        "colab": {
          "base_uri": "https://localhost:8080/",
          "height": 542
        }
      },
      "source": [
        "fig = go.Figure(data=[edge_trace, node_trace],\n",
        "             layout=go.Layout(\n",
        "                title='Watts–Strogatz model & Nevigable Network Graph\\n',\n",
        "                titlefont_size=16,\n",
        "                showlegend=True,\n",
        "                hovermode='closest',\n",
        "                xaxis_title = 'x-axis', yaxis_title = 'y-axis',\n",
        "                margin=dict(b=20,l=5,r=5,t=40),\n",
        "                xaxis=dict(showgrid=False, zeroline=False, showticklabels=True),\n",
        "                yaxis=dict(showgrid=False, zeroline=False, showticklabels=True))\n",
        "                )\n",
        "\n",
        "#Show edges of Graph created using Watts–Strogatz model (Red color)\n",
        "fig.add_trace(go.Scatter\n",
        "              (\n",
        "                x=ws_edge_x, y=ws_edge_y,name = 'Watts–Strogatz G Edge',\n",
        "                line=dict(width=0.5, color='red'),\n",
        "                hoverinfo='none',\n",
        "                mode='lines'\n",
        "              )\n",
        "    \n",
        ")\n",
        "\n",
        "fig.update_traces(marker_showscale=False)\n",
        "fig.show()"
      ],
      "execution_count": 0,
      "outputs": [
        {
          "output_type": "display_data",
          "data": {
            "text/html": [
              "<html>\n",
              "<head><meta charset=\"utf-8\" /></head>\n",
              "<body>\n",
              "    <div>\n",
              "            <script src=\"https://cdnjs.cloudflare.com/ajax/libs/mathjax/2.7.5/MathJax.js?config=TeX-AMS-MML_SVG\"></script><script type=\"text/javascript\">if (window.MathJax) {MathJax.Hub.Config({SVG: {font: \"STIX-Web\"}});}</script>\n",
              "                <script type=\"text/javascript\">window.PlotlyConfig = {MathJaxConfig: 'local'};</script>\n",
              "        <script src=\"https://cdn.plot.ly/plotly-latest.min.js\"></script>    \n",
              "            <div id=\"e6c61eca-da87-4e9e-a5b4-ef4aaf13ace4\" class=\"plotly-graph-div\" style=\"height:525px; width:100%;\"></div>\n",
              "            <script type=\"text/javascript\">\n",
              "                \n",
              "                    window.PLOTLYENV=window.PLOTLYENV || {};\n",
              "                    \n",
              "                if (document.getElementById(\"e6c61eca-da87-4e9e-a5b4-ef4aaf13ace4\")) {\n",
              "                    Plotly.newPlot(\n",
              "                        'e6c61eca-da87-4e9e-a5b4-ef4aaf13ace4',\n",
              "                        [{\"hoverinfo\": \"none\", \"line\": {\"color\": \"#888\", \"width\": 0.5}, \"marker\": {\"showscale\": false}, \"mode\": \"lines\", \"name\": \"navigable G Edge\", \"type\": \"scatter\", \"x\": [0.8841625930108095, 0.4775036397100275, null, 0.8841625930108095, 0.9274132569051825, null, 0.8841625930108095, 0.05215736494674883, null, 0.8841625930108095, 0.40265025737264704, null, 0.8841625930108095, 0.017416832650948844, null, 0.14308660095771797, 0.4775036397100275, null, 0.14308660095771797, 0.9274132569051825, null, 0.14308660095771797, 0.05215736494674883, null, 0.14308660095771797, 0.40265025737264704, null, 0.14308660095771797, 0.017416832650948844, null, 0.9785245896701793, 0.4775036397100275, null, 0.9785245896701793, 0.9274132569051825, null, 0.9785245896701793, 0.05215736494674883, null, 0.9785245896701793, 0.40265025737264704, null, 0.9785245896701793, 0.017416832650948844, null, 0.41210844136325864, 0.4775036397100275, null, 0.41210844136325864, 0.9274132569051825, null, 0.41210844136325864, 0.05215736494674883, null, 0.41210844136325864, 0.40265025737264704, null, 0.41210844136325864, 0.017416832650948844, null, 0.4775036397100275, 0.4775036397100275, null, 0.4775036397100275, 0.9764589840390693, null, 0.4775036397100275, 0.46983516900482725, null, 0.4775036397100275, 0.061823551679140665, null, 0.4775036397100275, 0.469513727797932, null, 0.4775036397100275, 0.09409167178871047, null, 0.4775036397100275, 0.7703370176943619, null, 0.4775036397100275, 0.09132036246699848, null, 0.4775036397100275, 0.769792450845588, null, 0.4775036397100275, 0.4250350245190728, null, 0.4775036397100275, 0.7347630730131083, null, 0.4775036397100275, 0.700940274160926, null, 0.4775036397100275, 0.7684065087078331, null, 0.4775036397100275, 0.4482584114574567, null, 0.4775036397100275, 0.40265025737264704, null, 0.4775036397100275, 0.8227842606941458, null, 0.4775036397100275, 0.4510606536986165, null, 0.4775036397100275, 0.04552236645718288, null, 0.4775036397100275, 0.017416832650948844, null, 0.4775036397100275, 0.6249057469956782, null, 0.4775036397100275, 0.4670122089426876, null, 0.4775036397100275, 0.5035315290762507, null, 0.4775036397100275, 0.020071601348980894, null, 0.4775036397100275, 0.7952441404504171, null, 0.4775036397100275, 0.5396780151915767, null, 0.4775036397100275, 0.3256448267931994, null, 0.4775036397100275, 0.23325342517144332, null, 0.4775036397100275, 0.7487550737403089, null, 0.4775036397100275, 0.6853058263707427, null, 0.4775036397100275, 0.141257488675133, null, 0.4775036397100275, 0.6176293282359925, null, 0.4775036397100275, 0.8532040493008488, null, 0.4775036397100275, 0.9274132569051825, null, 0.4775036397100275, 0.4113833800755168, null, 0.4775036397100275, 0.023736163392269027, null, 0.4775036397100275, 0.4737722997459952, null, 0.4775036397100275, 0.3688371551064842, null, 0.4775036397100275, 0.8478761673932416, null, 0.4775036397100275, 0.07737578903244191, null, 0.4775036397100275, 0.05215736494674883, null, 0.4775036397100275, 0.7507262200760251, null, 0.4775036397100275, 0.40417070525584375, null, 0.4775036397100275, 0.7982683358387678, null, 0.4775036397100275, 0.5716263562874557, null, 0.4775036397100275, 0.9556267513996727, null, 0.4775036397100275, 0.8676336279548219, null, 0.9764589840390693, 0.9274132569051825, null, 0.9764589840390693, 0.05215736494674883, null, 0.9764589840390693, 0.40265025737264704, null, 0.9764589840390693, 0.017416832650948844, null, 0.46983516900482725, 0.9274132569051825, null, 0.46983516900482725, 0.05215736494674883, null, 0.46983516900482725, 0.40265025737264704, null, 0.46983516900482725, 0.017416832650948844, null, 0.061823551679140665, 0.9274132569051825, null, 0.061823551679140665, 0.05215736494674883, null, 0.061823551679140665, 0.40265025737264704, null, 0.061823551679140665, 0.017416832650948844, null, 0.469513727797932, 0.9274132569051825, null, 0.469513727797932, 0.05215736494674883, null, 0.469513727797932, 0.40265025737264704, null, 0.469513727797932, 0.017416832650948844, null, 0.09409167178871047, 0.9274132569051825, null, 0.09409167178871047, 0.05215736494674883, null, 0.09409167178871047, 0.40265025737264704, null, 0.09409167178871047, 0.017416832650948844, null, 0.7703370176943619, 0.9274132569051825, null, 0.7703370176943619, 0.05215736494674883, null, 0.7703370176943619, 0.40265025737264704, null, 0.7703370176943619, 0.017416832650948844, null, 0.09132036246699848, 0.9274132569051825, null, 0.09132036246699848, 0.05215736494674883, null, 0.09132036246699848, 0.40265025737264704, null, 0.09132036246699848, 0.017416832650948844, null, 0.769792450845588, 0.9274132569051825, null, 0.769792450845588, 0.05215736494674883, null, 0.769792450845588, 0.40265025737264704, null, 0.769792450845588, 0.017416832650948844, null, 0.4250350245190728, 0.9274132569051825, null, 0.4250350245190728, 0.05215736494674883, null, 0.4250350245190728, 0.40265025737264704, null, 0.4250350245190728, 0.017416832650948844, null, 0.7347630730131083, 0.9274132569051825, null, 0.7347630730131083, 0.05215736494674883, null, 0.7347630730131083, 0.40265025737264704, null, 0.7347630730131083, 0.017416832650948844, null, 0.700940274160926, 0.9274132569051825, null, 0.700940274160926, 0.05215736494674883, null, 0.700940274160926, 0.40265025737264704, null, 0.700940274160926, 0.017416832650948844, null, 0.7684065087078331, 0.9274132569051825, null, 0.7684065087078331, 0.05215736494674883, null, 0.7684065087078331, 0.40265025737264704, null, 0.7684065087078331, 0.017416832650948844, null, 0.4482584114574567, 0.9274132569051825, null, 0.4482584114574567, 0.05215736494674883, null, 0.4482584114574567, 0.40265025737264704, null, 0.4482584114574567, 0.017416832650948844, null, 0.40265025737264704, 0.40265025737264704, null, 0.40265025737264704, 0.8227842606941458, null, 0.40265025737264704, 0.4510606536986165, null, 0.40265025737264704, 0.04552236645718288, null, 0.40265025737264704, 0.017416832650948844, null, 0.40265025737264704, 0.6249057469956782, null, 0.40265025737264704, 0.4670122089426876, null, 0.40265025737264704, 0.5035315290762507, null, 0.40265025737264704, 0.020071601348980894, null, 0.40265025737264704, 0.7952441404504171, null, 0.40265025737264704, 0.5396780151915767, null, 0.40265025737264704, 0.3256448267931994, null, 0.40265025737264704, 0.23325342517144332, null, 0.40265025737264704, 0.7487550737403089, null, 0.40265025737264704, 0.6853058263707427, null, 0.40265025737264704, 0.141257488675133, null, 0.40265025737264704, 0.6176293282359925, null, 0.40265025737264704, 0.8532040493008488, null, 0.40265025737264704, 0.9274132569051825, null, 0.40265025737264704, 0.4113833800755168, null, 0.40265025737264704, 0.023736163392269027, null, 0.40265025737264704, 0.4737722997459952, null, 0.40265025737264704, 0.3688371551064842, null, 0.40265025737264704, 0.8478761673932416, null, 0.40265025737264704, 0.07737578903244191, null, 0.40265025737264704, 0.05215736494674883, null, 0.40265025737264704, 0.7507262200760251, null, 0.40265025737264704, 0.40417070525584375, null, 0.40265025737264704, 0.7982683358387678, null, 0.40265025737264704, 0.5716263562874557, null, 0.40265025737264704, 0.9556267513996727, null, 0.40265025737264704, 0.8676336279548219, null, 0.8227842606941458, 0.9274132569051825, null, 0.8227842606941458, 0.05215736494674883, null, 0.8227842606941458, 0.017416832650948844, null, 0.4510606536986165, 0.9274132569051825, null, 0.4510606536986165, 0.05215736494674883, null, 0.4510606536986165, 0.017416832650948844, null, 0.04552236645718288, 0.9274132569051825, null, 0.04552236645718288, 0.05215736494674883, null, 0.04552236645718288, 0.017416832650948844, null, 0.017416832650948844, 0.017416832650948844, null, 0.017416832650948844, 0.6249057469956782, null, 0.017416832650948844, 0.4670122089426876, null, 0.017416832650948844, 0.5035315290762507, null, 0.017416832650948844, 0.020071601348980894, null, 0.017416832650948844, 0.7952441404504171, null, 0.017416832650948844, 0.5396780151915767, null, 0.017416832650948844, 0.3256448267931994, null, 0.017416832650948844, 0.23325342517144332, null, 0.017416832650948844, 0.7487550737403089, null, 0.017416832650948844, 0.6853058263707427, null, 0.017416832650948844, 0.141257488675133, null, 0.017416832650948844, 0.6176293282359925, null, 0.017416832650948844, 0.8532040493008488, null, 0.017416832650948844, 0.9274132569051825, null, 0.017416832650948844, 0.4113833800755168, null, 0.017416832650948844, 0.023736163392269027, null, 0.017416832650948844, 0.4737722997459952, null, 0.017416832650948844, 0.3688371551064842, null, 0.017416832650948844, 0.8478761673932416, null, 0.017416832650948844, 0.07737578903244191, null, 0.017416832650948844, 0.05215736494674883, null, 0.017416832650948844, 0.7507262200760251, null, 0.017416832650948844, 0.40417070525584375, null, 0.017416832650948844, 0.7982683358387678, null, 0.017416832650948844, 0.5716263562874557, null, 0.017416832650948844, 0.9556267513996727, null, 0.017416832650948844, 0.8676336279548219, null, 0.6249057469956782, 0.9274132569051825, null, 0.6249057469956782, 0.05215736494674883, null, 0.4670122089426876, 0.9274132569051825, null, 0.4670122089426876, 0.05215736494674883, null, 0.5035315290762507, 0.9274132569051825, null, 0.5035315290762507, 0.05215736494674883, null, 0.020071601348980894, 0.9274132569051825, null, 0.020071601348980894, 0.05215736494674883, null, 0.7952441404504171, 0.9274132569051825, null, 0.7952441404504171, 0.05215736494674883, null, 0.5396780151915767, 0.9274132569051825, null, 0.5396780151915767, 0.05215736494674883, null, 0.3256448267931994, 0.9274132569051825, null, 0.3256448267931994, 0.05215736494674883, null, 0.23325342517144332, 0.9274132569051825, null, 0.23325342517144332, 0.05215736494674883, null, 0.7487550737403089, 0.9274132569051825, null, 0.7487550737403089, 0.05215736494674883, null, 0.6853058263707427, 0.9274132569051825, null, 0.6853058263707427, 0.05215736494674883, null, 0.141257488675133, 0.9274132569051825, null, 0.141257488675133, 0.05215736494674883, null, 0.6176293282359925, 0.9274132569051825, null, 0.6176293282359925, 0.05215736494674883, null, 0.8532040493008488, 0.9274132569051825, null, 0.8532040493008488, 0.05215736494674883, null, 0.9274132569051825, 0.9274132569051825, null, 0.9274132569051825, 0.4113833800755168, null, 0.9274132569051825, 0.023736163392269027, null, 0.9274132569051825, 0.4737722997459952, null, 0.9274132569051825, 0.3688371551064842, null, 0.9274132569051825, 0.8478761673932416, null, 0.9274132569051825, 0.07737578903244191, null, 0.9274132569051825, 0.05215736494674883, null, 0.9274132569051825, 0.7507262200760251, null, 0.9274132569051825, 0.40417070525584375, null, 0.9274132569051825, 0.7982683358387678, null, 0.9274132569051825, 0.5716263562874557, null, 0.9274132569051825, 0.9556267513996727, null, 0.9274132569051825, 0.8676336279548219, null, 0.4113833800755168, 0.05215736494674883, null, 0.023736163392269027, 0.05215736494674883, null, 0.4737722997459952, 0.05215736494674883, null, 0.3688371551064842, 0.05215736494674883, null, 0.8478761673932416, 0.05215736494674883, null, 0.07737578903244191, 0.05215736494674883, null, 0.05215736494674883, 0.05215736494674883, null, 0.05215736494674883, 0.7507262200760251, null, 0.05215736494674883, 0.40417070525584375, null, 0.05215736494674883, 0.7982683358387678, null, 0.05215736494674883, 0.5716263562874557, null, 0.05215736494674883, 0.9556267513996727, null, 0.05215736494674883, 0.8676336279548219, null], \"y\": [0.410625111559778, 0.022701354826743514, null, 0.410625111559778, 0.6994872275045121, null, 0.410625111559778, 0.24203107645733657, null, 0.410625111559778, 0.07939140654569743, null, 0.410625111559778, 0.9788830034299174, null, 0.03465301458809478, 0.022701354826743514, null, 0.03465301458809478, 0.6994872275045121, null, 0.03465301458809478, 0.24203107645733657, null, 0.03465301458809478, 0.07939140654569743, null, 0.03465301458809478, 0.9788830034299174, null, 0.8220069019549774, 0.022701354826743514, null, 0.8220069019549774, 0.6994872275045121, null, 0.8220069019549774, 0.24203107645733657, null, 0.8220069019549774, 0.07939140654569743, null, 0.8220069019549774, 0.9788830034299174, null, 0.0021370193760614775, 0.022701354826743514, null, 0.0021370193760614775, 0.6994872275045121, null, 0.0021370193760614775, 0.24203107645733657, null, 0.0021370193760614775, 0.07939140654569743, null, 0.0021370193760614775, 0.9788830034299174, null, 0.022701354826743514, 0.022701354826743514, null, 0.022701354826743514, 0.369710943324118, null, 0.022701354826743514, 0.5895856929610802, null, 0.022701354826743514, 0.5321543562996337, null, 0.022701354826743514, 0.4157398454435022, null, 0.022701354826743514, 0.8281076384026915, null, 0.022701354826743514, 0.18712446139357364, null, 0.022701354826743514, 0.379285054355725, null, 0.022701354826743514, 0.10538889357153791, null, 0.022701354826743514, 0.3033322878396393, null, 0.022701354826743514, 0.5436271500948792, null, 0.022701354826743514, 0.8480801571540955, null, 0.022701354826743514, 0.1751504228307046, null, 0.022701354826743514, 0.9413335960388368, null, 0.022701354826743514, 0.07939140654569743, null, 0.022701354826743514, 0.3221488427746325, null, 0.022701354826743514, 0.6528246674461463, null, 0.022701354826743514, 0.250039030038817, null, 0.022701354826743514, 0.9788830034299174, null, 0.022701354826743514, 0.3043105925259618, null, 0.022701354826743514, 0.37624486333935125, null, 0.022701354826743514, 0.8976678252741956, null, 0.022701354826743514, 0.2620850749775715, null, 0.022701354826743514, 0.16498298371574482, null, 0.022701354826743514, 0.029588867991015788, null, 0.022701354826743514, 0.8923727955603736, null, 0.022701354826743514, 0.7096674929371884, null, 0.022701354826743514, 0.7886334628934482, null, 0.022701354826743514, 0.862686041946886, null, 0.022701354826743514, 0.9860650639606101, null, 0.022701354826743514, 0.11158185460217895, null, 0.022701354826743514, 0.02141599119823212, null, 0.022701354826743514, 0.6994872275045121, null, 0.022701354826743514, 0.13338247153187743, null, 0.022701354826743514, 0.6846335633603898, null, 0.022701354826743514, 0.8700873011919422, null, 0.022701354826743514, 0.33677452560261245, null, 0.022701354826743514, 0.03831453455515077, null, 0.022701354826743514, 0.35719309053429926, null, 0.022701354826743514, 0.24203107645733657, null, 0.022701354826743514, 0.40159499884325756, null, 0.022701354826743514, 0.7097831568285732, null, 0.022701354826743514, 0.23409767483840493, null, 0.022701354826743514, 0.6669821971373364, null, 0.022701354826743514, 0.07665073719187843, null, 0.022701354826743514, 0.5738016502494884, null, 0.369710943324118, 0.6994872275045121, null, 0.369710943324118, 0.24203107645733657, null, 0.369710943324118, 0.07939140654569743, null, 0.369710943324118, 0.9788830034299174, null, 0.5895856929610802, 0.6994872275045121, null, 0.5895856929610802, 0.24203107645733657, null, 0.5895856929610802, 0.07939140654569743, null, 0.5895856929610802, 0.9788830034299174, null, 0.5321543562996337, 0.6994872275045121, null, 0.5321543562996337, 0.24203107645733657, null, 0.5321543562996337, 0.07939140654569743, null, 0.5321543562996337, 0.9788830034299174, null, 0.4157398454435022, 0.6994872275045121, null, 0.4157398454435022, 0.24203107645733657, null, 0.4157398454435022, 0.07939140654569743, null, 0.4157398454435022, 0.9788830034299174, null, 0.8281076384026915, 0.6994872275045121, null, 0.8281076384026915, 0.24203107645733657, null, 0.8281076384026915, 0.07939140654569743, null, 0.8281076384026915, 0.9788830034299174, null, 0.18712446139357364, 0.6994872275045121, null, 0.18712446139357364, 0.24203107645733657, null, 0.18712446139357364, 0.07939140654569743, null, 0.18712446139357364, 0.9788830034299174, null, 0.379285054355725, 0.6994872275045121, null, 0.379285054355725, 0.24203107645733657, null, 0.379285054355725, 0.07939140654569743, null, 0.379285054355725, 0.9788830034299174, null, 0.10538889357153791, 0.6994872275045121, null, 0.10538889357153791, 0.24203107645733657, null, 0.10538889357153791, 0.07939140654569743, null, 0.10538889357153791, 0.9788830034299174, null, 0.3033322878396393, 0.6994872275045121, null, 0.3033322878396393, 0.24203107645733657, null, 0.3033322878396393, 0.07939140654569743, null, 0.3033322878396393, 0.9788830034299174, null, 0.5436271500948792, 0.6994872275045121, null, 0.5436271500948792, 0.24203107645733657, null, 0.5436271500948792, 0.07939140654569743, null, 0.5436271500948792, 0.9788830034299174, null, 0.8480801571540955, 0.6994872275045121, null, 0.8480801571540955, 0.24203107645733657, null, 0.8480801571540955, 0.07939140654569743, null, 0.8480801571540955, 0.9788830034299174, null, 0.1751504228307046, 0.6994872275045121, null, 0.1751504228307046, 0.24203107645733657, null, 0.1751504228307046, 0.07939140654569743, null, 0.1751504228307046, 0.9788830034299174, null, 0.9413335960388368, 0.6994872275045121, null, 0.9413335960388368, 0.24203107645733657, null, 0.9413335960388368, 0.07939140654569743, null, 0.9413335960388368, 0.9788830034299174, null, 0.07939140654569743, 0.07939140654569743, null, 0.07939140654569743, 0.3221488427746325, null, 0.07939140654569743, 0.6528246674461463, null, 0.07939140654569743, 0.250039030038817, null, 0.07939140654569743, 0.9788830034299174, null, 0.07939140654569743, 0.3043105925259618, null, 0.07939140654569743, 0.37624486333935125, null, 0.07939140654569743, 0.8976678252741956, null, 0.07939140654569743, 0.2620850749775715, null, 0.07939140654569743, 0.16498298371574482, null, 0.07939140654569743, 0.029588867991015788, null, 0.07939140654569743, 0.8923727955603736, null, 0.07939140654569743, 0.7096674929371884, null, 0.07939140654569743, 0.7886334628934482, null, 0.07939140654569743, 0.862686041946886, null, 0.07939140654569743, 0.9860650639606101, null, 0.07939140654569743, 0.11158185460217895, null, 0.07939140654569743, 0.02141599119823212, null, 0.07939140654569743, 0.6994872275045121, null, 0.07939140654569743, 0.13338247153187743, null, 0.07939140654569743, 0.6846335633603898, null, 0.07939140654569743, 0.8700873011919422, null, 0.07939140654569743, 0.33677452560261245, null, 0.07939140654569743, 0.03831453455515077, null, 0.07939140654569743, 0.35719309053429926, null, 0.07939140654569743, 0.24203107645733657, null, 0.07939140654569743, 0.40159499884325756, null, 0.07939140654569743, 0.7097831568285732, null, 0.07939140654569743, 0.23409767483840493, null, 0.07939140654569743, 0.6669821971373364, null, 0.07939140654569743, 0.07665073719187843, null, 0.07939140654569743, 0.5738016502494884, null, 0.3221488427746325, 0.6994872275045121, null, 0.3221488427746325, 0.24203107645733657, null, 0.3221488427746325, 0.9788830034299174, null, 0.6528246674461463, 0.6994872275045121, null, 0.6528246674461463, 0.24203107645733657, null, 0.6528246674461463, 0.9788830034299174, null, 0.250039030038817, 0.6994872275045121, null, 0.250039030038817, 0.24203107645733657, null, 0.250039030038817, 0.9788830034299174, null, 0.9788830034299174, 0.9788830034299174, null, 0.9788830034299174, 0.3043105925259618, null, 0.9788830034299174, 0.37624486333935125, null, 0.9788830034299174, 0.8976678252741956, null, 0.9788830034299174, 0.2620850749775715, null, 0.9788830034299174, 0.16498298371574482, null, 0.9788830034299174, 0.029588867991015788, null, 0.9788830034299174, 0.8923727955603736, null, 0.9788830034299174, 0.7096674929371884, null, 0.9788830034299174, 0.7886334628934482, null, 0.9788830034299174, 0.862686041946886, null, 0.9788830034299174, 0.9860650639606101, null, 0.9788830034299174, 0.11158185460217895, null, 0.9788830034299174, 0.02141599119823212, null, 0.9788830034299174, 0.6994872275045121, null, 0.9788830034299174, 0.13338247153187743, null, 0.9788830034299174, 0.6846335633603898, null, 0.9788830034299174, 0.8700873011919422, null, 0.9788830034299174, 0.33677452560261245, null, 0.9788830034299174, 0.03831453455515077, null, 0.9788830034299174, 0.35719309053429926, null, 0.9788830034299174, 0.24203107645733657, null, 0.9788830034299174, 0.40159499884325756, null, 0.9788830034299174, 0.7097831568285732, null, 0.9788830034299174, 0.23409767483840493, null, 0.9788830034299174, 0.6669821971373364, null, 0.9788830034299174, 0.07665073719187843, null, 0.9788830034299174, 0.5738016502494884, null, 0.3043105925259618, 0.6994872275045121, null, 0.3043105925259618, 0.24203107645733657, null, 0.37624486333935125, 0.6994872275045121, null, 0.37624486333935125, 0.24203107645733657, null, 0.8976678252741956, 0.6994872275045121, null, 0.8976678252741956, 0.24203107645733657, null, 0.2620850749775715, 0.6994872275045121, null, 0.2620850749775715, 0.24203107645733657, null, 0.16498298371574482, 0.6994872275045121, null, 0.16498298371574482, 0.24203107645733657, null, 0.029588867991015788, 0.6994872275045121, null, 0.029588867991015788, 0.24203107645733657, null, 0.8923727955603736, 0.6994872275045121, null, 0.8923727955603736, 0.24203107645733657, null, 0.7096674929371884, 0.6994872275045121, null, 0.7096674929371884, 0.24203107645733657, null, 0.7886334628934482, 0.6994872275045121, null, 0.7886334628934482, 0.24203107645733657, null, 0.862686041946886, 0.6994872275045121, null, 0.862686041946886, 0.24203107645733657, null, 0.9860650639606101, 0.6994872275045121, null, 0.9860650639606101, 0.24203107645733657, null, 0.11158185460217895, 0.6994872275045121, null, 0.11158185460217895, 0.24203107645733657, null, 0.02141599119823212, 0.6994872275045121, null, 0.02141599119823212, 0.24203107645733657, null, 0.6994872275045121, 0.6994872275045121, null, 0.6994872275045121, 0.13338247153187743, null, 0.6994872275045121, 0.6846335633603898, null, 0.6994872275045121, 0.8700873011919422, null, 0.6994872275045121, 0.33677452560261245, null, 0.6994872275045121, 0.03831453455515077, null, 0.6994872275045121, 0.35719309053429926, null, 0.6994872275045121, 0.24203107645733657, null, 0.6994872275045121, 0.40159499884325756, null, 0.6994872275045121, 0.7097831568285732, null, 0.6994872275045121, 0.23409767483840493, null, 0.6994872275045121, 0.6669821971373364, null, 0.6994872275045121, 0.07665073719187843, null, 0.6994872275045121, 0.5738016502494884, null, 0.13338247153187743, 0.24203107645733657, null, 0.6846335633603898, 0.24203107645733657, null, 0.8700873011919422, 0.24203107645733657, null, 0.33677452560261245, 0.24203107645733657, null, 0.03831453455515077, 0.24203107645733657, null, 0.35719309053429926, 0.24203107645733657, null, 0.24203107645733657, 0.24203107645733657, null, 0.24203107645733657, 0.40159499884325756, null, 0.24203107645733657, 0.7097831568285732, null, 0.24203107645733657, 0.23409767483840493, null, 0.24203107645733657, 0.6669821971373364, null, 0.24203107645733657, 0.07665073719187843, null, 0.24203107645733657, 0.5738016502494884, null]}, {\"marker\": {\"color\": [], \"colorbar\": {\"thickness\": 15, \"title\": {\"side\": \"right\", \"text\": \"Node Connections level\"}, \"xanchor\": \"left\"}, \"colorscale\": [[0.0, \"rgb(255,255,217)\"], [0.125, \"rgb(237,248,177)\"], [0.25, \"rgb(199,233,180)\"], [0.375, \"rgb(127,205,187)\"], [0.5, \"rgb(65,182,196)\"], [0.625, \"rgb(29,145,192)\"], [0.75, \"rgb(34,94,168)\"], [0.875, \"rgb(37,52,148)\"], [1.0, \"rgb(8,29,88)\"]], \"line\": {\"width\": 2}, \"reversescale\": true, \"showscale\": false, \"size\": 10}, \"mode\": \"markers\", \"name\": \"Vertex\", \"type\": \"scatter\", \"x\": [0.8841625930108095, 0.14308660095771797, 0.9785245896701793, 0.41210844136325864, 0.4775036397100275, 0.9764589840390693, 0.46983516900482725, 0.061823551679140665, 0.469513727797932, 0.09409167178871047, 0.7703370176943619, 0.09132036246699848, 0.769792450845588, 0.4250350245190728, 0.7347630730131083, 0.700940274160926, 0.7684065087078331, 0.4482584114574567, 0.40265025737264704, 0.8227842606941458, 0.4510606536986165, 0.04552236645718288, 0.017416832650948844, 0.6249057469956782, 0.4670122089426876, 0.5035315290762507, 0.020071601348980894, 0.7952441404504171, 0.5396780151915767, 0.3256448267931994, 0.23325342517144332, 0.7487550737403089, 0.6853058263707427, 0.141257488675133, 0.6176293282359925, 0.8532040493008488, 0.9274132569051825, 0.4113833800755168, 0.023736163392269027, 0.4737722997459952, 0.3688371551064842, 0.8478761673932416, 0.07737578903244191, 0.05215736494674883, 0.7507262200760251, 0.40417070525584375, 0.7982683358387678, 0.5716263562874557, 0.9556267513996727, 0.8676336279548219], \"y\": [0.410625111559778, 0.03465301458809478, 0.8220069019549774, 0.0021370193760614775, 0.022701354826743514, 0.369710943324118, 0.5895856929610802, 0.5321543562996337, 0.4157398454435022, 0.8281076384026915, 0.18712446139357364, 0.379285054355725, 0.10538889357153791, 0.3033322878396393, 0.5436271500948792, 0.8480801571540955, 0.1751504228307046, 0.9413335960388368, 0.07939140654569743, 0.3221488427746325, 0.6528246674461463, 0.250039030038817, 0.9788830034299174, 0.3043105925259618, 0.37624486333935125, 0.8976678252741956, 0.2620850749775715, 0.16498298371574482, 0.029588867991015788, 0.8923727955603736, 0.7096674929371884, 0.7886334628934482, 0.862686041946886, 0.9860650639606101, 0.11158185460217895, 0.02141599119823212, 0.6994872275045121, 0.13338247153187743, 0.6846335633603898, 0.8700873011919422, 0.33677452560261245, 0.03831453455515077, 0.35719309053429926, 0.24203107645733657, 0.40159499884325756, 0.7097831568285732, 0.23409767483840493, 0.6669821971373364, 0.07665073719187843, 0.5738016502494884]}, {\"hoverinfo\": \"none\", \"line\": {\"color\": \"red\", \"width\": 0.5}, \"marker\": {\"showscale\": false}, \"mode\": \"lines\", \"name\": \"Watts\\u2013Strogatz G Edge\", \"type\": \"scatter\", \"x\": [0.8841625930108095, 0.141257488675133, null, 0.8841625930108095, 0.41210844136325864, null, 0.8841625930108095, 0.4775036397100275, null, 0.8841625930108095, 0.469513727797932, null, 0.8841625930108095, 0.769792450845588, null, 0.8841625930108095, 0.40417070525584375, null, 0.8841625930108095, 0.7982683358387678, null, 0.8841625930108095, 0.5716263562874557, null, 0.8841625930108095, 0.9556267513996727, null, 0.14308660095771797, 0.9785245896701793, null, 0.14308660095771797, 0.4775036397100275, null, 0.14308660095771797, 0.9764589840390693, null, 0.14308660095771797, 0.46983516900482725, null, 0.14308660095771797, 0.5716263562874557, null, 0.14308660095771797, 0.8676336279548219, null, 0.14308660095771797, 0.7347630730131083, null, 0.9785245896701793, 0.6853058263707427, null, 0.9785245896701793, 0.14308660095771797, null, 0.9785245896701793, 0.41210844136325864, null, 0.9785245896701793, 0.4775036397100275, null, 0.9785245896701793, 0.9764589840390693, null, 0.9785245896701793, 0.46983516900482725, null, 0.9785245896701793, 0.061823551679140665, null, 0.9785245896701793, 0.5716263562874557, null, 0.9785245896701793, 0.9556267513996727, null, 0.9785245896701793, 0.8676336279548219, null, 0.41210844136325864, 0.8841625930108095, null, 0.41210844136325864, 0.141257488675133, null, 0.41210844136325864, 0.9785245896701793, null, 0.41210844136325864, 0.9764589840390693, null, 0.41210844136325864, 0.46983516900482725, null, 0.41210844136325864, 0.061823551679140665, null, 0.41210844136325864, 0.09409167178871047, null, 0.4775036397100275, 0.9764589840390693, null, 0.4775036397100275, 0.061823551679140665, null, 0.4775036397100275, 0.09409167178871047, null, 0.4775036397100275, 0.7507262200760251, null, 0.4775036397100275, 0.8676336279548219, null, 0.4775036397100275, 0.7487550737403089, null, 0.9764589840390693, 0.14308660095771797, null, 0.9764589840390693, 0.9785245896701793, null, 0.9764589840390693, 0.41210844136325864, null, 0.9764589840390693, 0.46983516900482725, null, 0.9764589840390693, 0.061823551679140665, null, 0.9764589840390693, 0.469513727797932, null, 0.9764589840390693, 0.09409167178871047, null, 0.9764589840390693, 0.7703370176943619, null, 0.9764589840390693, 0.5716263562874557, null, 0.46983516900482725, 0.14308660095771797, null, 0.46983516900482725, 0.9785245896701793, null, 0.46983516900482725, 0.41210844136325864, null, 0.46983516900482725, 0.9274132569051825, null, 0.46983516900482725, 0.9764589840390693, null, 0.46983516900482725, 0.061823551679140665, null, 0.46983516900482725, 0.469513727797932, null, 0.46983516900482725, 0.09132036246699848, null, 0.061823551679140665, 0.9785245896701793, null, 0.061823551679140665, 0.41210844136325864, null, 0.061823551679140665, 0.9764589840390693, null, 0.061823551679140665, 0.46983516900482725, null, 0.061823551679140665, 0.469513727797932, null, 0.061823551679140665, 0.09409167178871047, null, 0.061823551679140665, 0.09132036246699848, null, 0.061823551679140665, 0.769792450845588, null, 0.061823551679140665, 0.8676336279548219, null, 0.469513727797932, 0.8841625930108095, null, 0.469513727797932, 0.9764589840390693, null, 0.469513727797932, 0.46983516900482725, null, 0.469513727797932, 0.061823551679140665, null, 0.469513727797932, 0.09132036246699848, null, 0.469513727797932, 0.769792450845588, null, 0.469513727797932, 0.7507262200760251, null, 0.469513727797932, 0.7684065087078331, null, 0.469513727797932, 0.9556267513996727, null, 0.469513727797932, 0.6249057469956782, null, 0.09409167178871047, 0.41210844136325864, null, 0.09409167178871047, 0.9764589840390693, null, 0.09409167178871047, 0.061823551679140665, null, 0.09409167178871047, 0.7703370176943619, null, 0.09409167178871047, 0.09132036246699848, null, 0.09409167178871047, 0.769792450845588, null, 0.09409167178871047, 0.4250350245190728, null, 0.09409167178871047, 0.8227842606941458, null, 0.7703370176943619, 0.9764589840390693, null, 0.7703370176943619, 0.09409167178871047, null, 0.7703370176943619, 0.8478761673932416, null, 0.7703370176943619, 0.09132036246699848, null, 0.7703370176943619, 0.769792450845588, null, 0.7703370176943619, 0.7347630730131083, null, 0.7703370176943619, 0.700940274160926, null, 0.09132036246699848, 0.46983516900482725, null, 0.09132036246699848, 0.061823551679140665, null, 0.09132036246699848, 0.469513727797932, null, 0.09132036246699848, 0.09409167178871047, null, 0.09132036246699848, 0.7703370176943619, null, 0.09132036246699848, 0.769792450845588, null, 0.09132036246699848, 0.4250350245190728, null, 0.09132036246699848, 0.7347630730131083, null, 0.09132036246699848, 0.7684065087078331, null, 0.769792450845588, 0.8841625930108095, null, 0.769792450845588, 0.061823551679140665, null, 0.769792450845588, 0.469513727797932, null, 0.769792450845588, 0.09409167178871047, null, 0.769792450845588, 0.7703370176943619, null, 0.769792450845588, 0.09132036246699848, null, 0.769792450845588, 0.4250350245190728, null, 0.769792450845588, 0.7347630730131083, null, 0.769792450845588, 0.700940274160926, null, 0.769792450845588, 0.7684065087078331, null, 0.769792450845588, 0.4482584114574567, null, 0.4250350245190728, 0.09409167178871047, null, 0.4250350245190728, 0.09132036246699848, null, 0.4250350245190728, 0.769792450845588, null, 0.4250350245190728, 0.7347630730131083, null, 0.4250350245190728, 0.700940274160926, null, 0.4250350245190728, 0.7684065087078331, null, 0.4250350245190728, 0.4482584114574567, null, 0.4250350245190728, 0.40265025737264704, null, 0.4250350245190728, 0.6249057469956782, null, 0.4250350245190728, 0.3256448267931994, null, 0.7347630730131083, 0.14308660095771797, null, 0.7347630730131083, 0.7703370176943619, null, 0.7347630730131083, 0.09132036246699848, null, 0.7347630730131083, 0.769792450845588, null, 0.7347630730131083, 0.4250350245190728, null, 0.7347630730131083, 0.7684065087078331, null, 0.7347630730131083, 0.4482584114574567, null, 0.7347630730131083, 0.40265025737264704, null, 0.7347630730131083, 0.8227842606941458, null, 0.700940274160926, 0.7703370176943619, null, 0.700940274160926, 0.769792450845588, null, 0.700940274160926, 0.4250350245190728, null, 0.700940274160926, 0.7684065087078331, null, 0.700940274160926, 0.4482584114574567, null, 0.700940274160926, 0.40265025737264704, null, 0.700940274160926, 0.8227842606941458, null, 0.700940274160926, 0.4510606536986165, null, 0.7684065087078331, 0.023736163392269027, null, 0.7684065087078331, 0.469513727797932, null, 0.7684065087078331, 0.09132036246699848, null, 0.7684065087078331, 0.769792450845588, null, 0.7684065087078331, 0.4250350245190728, null, 0.7684065087078331, 0.7347630730131083, null, 0.7684065087078331, 0.700940274160926, null, 0.7684065087078331, 0.4482584114574567, null, 0.7684065087078331, 0.40265025737264704, null, 0.7684065087078331, 0.8227842606941458, null, 0.7684065087078331, 0.4510606536986165, null, 0.7684065087078331, 0.04552236645718288, null, 0.4482584114574567, 0.141257488675133, null, 0.4482584114574567, 0.769792450845588, null, 0.4482584114574567, 0.4250350245190728, null, 0.4482584114574567, 0.7347630730131083, null, 0.4482584114574567, 0.700940274160926, null, 0.4482584114574567, 0.7684065087078331, null, 0.4482584114574567, 0.7982683358387678, null, 0.4482584114574567, 0.40265025737264704, null, 0.4482584114574567, 0.8227842606941458, null, 0.4482584114574567, 0.4510606536986165, null, 0.4482584114574567, 0.04552236645718288, null, 0.4482584114574567, 0.017416832650948844, null, 0.40265025737264704, 0.8227842606941458, null, 0.40265025737264704, 0.4510606536986165, null, 0.40265025737264704, 0.04552236645718288, null, 0.40265025737264704, 0.017416832650948844, null, 0.40265025737264704, 0.6249057469956782, null, 0.40265025737264704, 0.4670122089426876, null, 0.8227842606941458, 0.09409167178871047, null, 0.8227842606941458, 0.7347630730131083, null, 0.8227842606941458, 0.700940274160926, null, 0.8227842606941458, 0.7684065087078331, null, 0.8227842606941458, 0.4482584114574567, null, 0.8227842606941458, 0.4510606536986165, null, 0.8227842606941458, 0.04552236645718288, null, 0.8227842606941458, 0.017416832650948844, null, 0.8227842606941458, 0.6249057469956782, null, 0.8227842606941458, 0.4670122089426876, null, 0.4510606536986165, 0.700940274160926, null, 0.4510606536986165, 0.7684065087078331, null, 0.4510606536986165, 0.4482584114574567, null, 0.4510606536986165, 0.8227842606941458, null, 0.4510606536986165, 0.04552236645718288, null, 0.4510606536986165, 0.017416832650948844, null, 0.4510606536986165, 0.6249057469956782, null, 0.4510606536986165, 0.4670122089426876, null, 0.4510606536986165, 0.5035315290762507, null, 0.04552236645718288, 0.8478761673932416, null, 0.04552236645718288, 0.7684065087078331, null, 0.04552236645718288, 0.4482584114574567, null, 0.04552236645718288, 0.8227842606941458, null, 0.04552236645718288, 0.4510606536986165, null, 0.04552236645718288, 0.9556267513996727, null, 0.04552236645718288, 0.017416832650948844, null, 0.04552236645718288, 0.6249057469956782, null, 0.04552236645718288, 0.5035315290762507, null, 0.04552236645718288, 0.020071601348980894, null, 0.017416832650948844, 0.7507262200760251, null, 0.017416832650948844, 0.4670122089426876, null, 0.017416832650948844, 0.020071601348980894, null, 0.017416832650948844, 0.7952441404504171, null, 0.6249057469956782, 0.141257488675133, null, 0.6249057469956782, 0.469513727797932, null, 0.6249057469956782, 0.4250350245190728, null, 0.6249057469956782, 0.8227842606941458, null, 0.6249057469956782, 0.4510606536986165, null, 0.6249057469956782, 0.04552236645718288, null, 0.6249057469956782, 0.5035315290762507, null, 0.6249057469956782, 0.7952441404504171, null, 0.4670122089426876, 0.05215736494674883, null, 0.4670122089426876, 0.8227842606941458, null, 0.4670122089426876, 0.4510606536986165, null, 0.4670122089426876, 0.020071601348980894, null, 0.4670122089426876, 0.7952441404504171, null, 0.4670122089426876, 0.5396780151915767, null, 0.5035315290762507, 0.6176293282359925, null, 0.5035315290762507, 0.4510606536986165, null, 0.5035315290762507, 0.04552236645718288, null, 0.5035315290762507, 0.6249057469956782, null, 0.5035315290762507, 0.020071601348980894, null, 0.5035315290762507, 0.7952441404504171, null, 0.5035315290762507, 0.5396780151915767, null, 0.5035315290762507, 0.3256448267931994, null, 0.5035315290762507, 0.23325342517144332, null, 0.020071601348980894, 0.9556267513996727, null, 0.020071601348980894, 0.04552236645718288, null, 0.020071601348980894, 0.4670122089426876, null, 0.020071601348980894, 0.5035315290762507, null, 0.020071601348980894, 0.7952441404504171, null, 0.020071601348980894, 0.5396780151915767, null, 0.020071601348980894, 0.3256448267931994, null, 0.020071601348980894, 0.23325342517144332, null, 0.7952441404504171, 0.6853058263707427, null, 0.7952441404504171, 0.6249057469956782, null, 0.7952441404504171, 0.4670122089426876, null, 0.7952441404504171, 0.5035315290762507, null, 0.7952441404504171, 0.020071601348980894, null, 0.7952441404504171, 0.5396780151915767, null, 0.7952441404504171, 0.3256448267931994, null, 0.7952441404504171, 0.23325342517144332, null, 0.7952441404504171, 0.7487550737403089, null, 0.5396780151915767, 0.141257488675133, null, 0.5396780151915767, 0.9274132569051825, null, 0.5396780151915767, 0.5716263562874557, null, 0.5396780151915767, 0.4670122089426876, null, 0.5396780151915767, 0.5035315290762507, null, 0.5396780151915767, 0.020071601348980894, null, 0.5396780151915767, 0.7952441404504171, null, 0.5396780151915767, 0.3256448267931994, null, 0.5396780151915767, 0.23325342517144332, null, 0.5396780151915767, 0.7487550737403089, null, 0.3256448267931994, 0.6853058263707427, null, 0.3256448267931994, 0.141257488675133, null, 0.3256448267931994, 0.6176293282359925, null, 0.3256448267931994, 0.4250350245190728, null, 0.3256448267931994, 0.5035315290762507, null, 0.3256448267931994, 0.020071601348980894, null, 0.3256448267931994, 0.7952441404504171, null, 0.3256448267931994, 0.5396780151915767, null, 0.3256448267931994, 0.23325342517144332, null, 0.23325342517144332, 0.6853058263707427, null, 0.23325342517144332, 0.141257488675133, null, 0.23325342517144332, 0.6176293282359925, null, 0.23325342517144332, 0.8676336279548219, null, 0.23325342517144332, 0.5035315290762507, null, 0.23325342517144332, 0.020071601348980894, null, 0.23325342517144332, 0.7952441404504171, null, 0.23325342517144332, 0.5396780151915767, null, 0.23325342517144332, 0.3256448267931994, null, 0.23325342517144332, 0.7487550737403089, null, 0.7487550737403089, 0.6853058263707427, null, 0.7487550737403089, 0.141257488675133, null, 0.7487550737403089, 0.8532040493008488, null, 0.7487550737403089, 0.9274132569051825, null, 0.7487550737403089, 0.9556267513996727, null, 0.7487550737403089, 0.7952441404504171, null, 0.7487550737403089, 0.5396780151915767, null, 0.7487550737403089, 0.23325342517144332, null, 0.6853058263707427, 0.141257488675133, null, 0.6853058263707427, 0.6176293282359925, null, 0.6853058263707427, 0.9274132569051825, null, 0.6853058263707427, 0.4113833800755168, null, 0.6853058263707427, 0.9785245896701793, null, 0.6853058263707427, 0.7952441404504171, null, 0.6853058263707427, 0.3256448267931994, null, 0.6853058263707427, 0.23325342517144332, null, 0.6853058263707427, 0.7487550737403089, null, 0.141257488675133, 0.6853058263707427, null, 0.141257488675133, 0.8841625930108095, null, 0.141257488675133, 0.8532040493008488, null, 0.141257488675133, 0.9274132569051825, null, 0.141257488675133, 0.41210844136325864, null, 0.141257488675133, 0.7507262200760251, null, 0.141257488675133, 0.4482584114574567, null, 0.141257488675133, 0.6249057469956782, null, 0.141257488675133, 0.5396780151915767, null, 0.141257488675133, 0.3256448267931994, null, 0.141257488675133, 0.23325342517144332, null, 0.141257488675133, 0.7487550737403089, null, 0.6176293282359925, 0.6853058263707427, null, 0.6176293282359925, 0.9274132569051825, null, 0.6176293282359925, 0.4113833800755168, null, 0.6176293282359925, 0.023736163392269027, null, 0.6176293282359925, 0.4737722997459952, null, 0.6176293282359925, 0.05215736494674883, null, 0.6176293282359925, 0.5035315290762507, null, 0.6176293282359925, 0.3256448267931994, null, 0.6176293282359925, 0.23325342517144332, null, 0.8532040493008488, 0.141257488675133, null, 0.8532040493008488, 0.9274132569051825, null, 0.8532040493008488, 0.4113833800755168, null, 0.8532040493008488, 0.4737722997459952, null, 0.8532040493008488, 0.3688371551064842, null, 0.8532040493008488, 0.7487550737403089, null, 0.9274132569051825, 0.4113833800755168, null, 0.9274132569051825, 0.023736163392269027, null, 0.9274132569051825, 0.4737722997459952, null, 0.9274132569051825, 0.3688371551064842, null, 0.9274132569051825, 0.07737578903244191, null, 0.4113833800755168, 0.6853058263707427, null, 0.4113833800755168, 0.6176293282359925, null, 0.4113833800755168, 0.8532040493008488, null, 0.4113833800755168, 0.023736163392269027, null, 0.4113833800755168, 0.4737722997459952, null, 0.4113833800755168, 0.3688371551064842, null, 0.4113833800755168, 0.8478761673932416, null, 0.4113833800755168, 0.07737578903244191, null, 0.023736163392269027, 0.6176293282359925, null, 0.023736163392269027, 0.4113833800755168, null, 0.023736163392269027, 0.4737722997459952, null, 0.023736163392269027, 0.3688371551064842, null, 0.023736163392269027, 0.8478761673932416, null, 0.023736163392269027, 0.7507262200760251, null, 0.023736163392269027, 0.7684065087078331, null, 0.4737722997459952, 0.6176293282359925, null, 0.4737722997459952, 0.8532040493008488, null, 0.4737722997459952, 0.4113833800755168, null, 0.4737722997459952, 0.023736163392269027, null, 0.4737722997459952, 0.3688371551064842, null, 0.4737722997459952, 0.8478761673932416, null, 0.4737722997459952, 0.07737578903244191, null, 0.4737722997459952, 0.05215736494674883, null, 0.4737722997459952, 0.7507262200760251, null, 0.3688371551064842, 0.8532040493008488, null, 0.3688371551064842, 0.4113833800755168, null, 0.3688371551064842, 0.023736163392269027, null, 0.3688371551064842, 0.4737722997459952, null, 0.3688371551064842, 0.8478761673932416, null, 0.3688371551064842, 0.07737578903244191, null, 0.3688371551064842, 0.05215736494674883, null, 0.3688371551064842, 0.7507262200760251, null, 0.3688371551064842, 0.40417070525584375, null, 0.8478761673932416, 0.4113833800755168, null, 0.8478761673932416, 0.023736163392269027, null, 0.8478761673932416, 0.4737722997459952, null, 0.8478761673932416, 0.3688371551064842, null, 0.8478761673932416, 0.07737578903244191, null, 0.8478761673932416, 0.7507262200760251, null, 0.8478761673932416, 0.40417070525584375, null, 0.8478761673932416, 0.7982683358387678, null, 0.8478761673932416, 0.7703370176943619, null, 0.8478761673932416, 0.04552236645718288, null, 0.07737578903244191, 0.4113833800755168, null, 0.07737578903244191, 0.4737722997459952, null, 0.07737578903244191, 0.3688371551064842, null, 0.07737578903244191, 0.8478761673932416, null, 0.07737578903244191, 0.40417070525584375, null, 0.07737578903244191, 0.7982683358387678, null, 0.07737578903244191, 0.5716263562874557, null, 0.05215736494674883, 0.7507262200760251, null, 0.05215736494674883, 0.40417070525584375, null, 0.05215736494674883, 0.7982683358387678, null, 0.05215736494674883, 0.5716263562874557, null, 0.7507262200760251, 0.141257488675133, null, 0.7507262200760251, 0.023736163392269027, null, 0.7507262200760251, 0.4737722997459952, null, 0.7507262200760251, 0.3688371551064842, null, 0.7507262200760251, 0.8478761673932416, null, 0.7507262200760251, 0.469513727797932, null, 0.7507262200760251, 0.40417070525584375, null, 0.7507262200760251, 0.5716263562874557, null, 0.7507262200760251, 0.9556267513996727, null, 0.40417070525584375, 0.8841625930108095, null, 0.40417070525584375, 0.3688371551064842, null, 0.40417070525584375, 0.8478761673932416, null, 0.40417070525584375, 0.07737578903244191, null, 0.40417070525584375, 0.7507262200760251, null, 0.40417070525584375, 0.7982683358387678, null, 0.40417070525584375, 0.5716263562874557, null, 0.40417070525584375, 0.8676336279548219, null, 0.7982683358387678, 0.8841625930108095, null, 0.7982683358387678, 0.8478761673932416, null, 0.7982683358387678, 0.07737578903244191, null, 0.7982683358387678, 0.40417070525584375, null, 0.7982683358387678, 0.5716263562874557, null, 0.7982683358387678, 0.9556267513996727, null, 0.7982683358387678, 0.8676336279548219, null, 0.7982683358387678, 0.4482584114574567, null, 0.5716263562874557, 0.8841625930108095, null, 0.5716263562874557, 0.14308660095771797, null, 0.5716263562874557, 0.9785245896701793, null, 0.5716263562874557, 0.9764589840390693, null, 0.5716263562874557, 0.07737578903244191, null, 0.5716263562874557, 0.7507262200760251, null, 0.5716263562874557, 0.40417070525584375, null, 0.5716263562874557, 0.7982683358387678, null, 0.5716263562874557, 0.8676336279548219, null, 0.5716263562874557, 0.5396780151915767, null, 0.9556267513996727, 0.8841625930108095, null, 0.9556267513996727, 0.9785245896701793, null, 0.9556267513996727, 0.469513727797932, null, 0.9556267513996727, 0.7507262200760251, null, 0.9556267513996727, 0.7982683358387678, null, 0.9556267513996727, 0.8676336279548219, null, 0.9556267513996727, 0.04552236645718288, null, 0.9556267513996727, 0.020071601348980894, null, 0.9556267513996727, 0.7487550737403089, null, 0.8676336279548219, 0.14308660095771797, null, 0.8676336279548219, 0.9785245896701793, null, 0.8676336279548219, 0.061823551679140665, null, 0.8676336279548219, 0.40417070525584375, null, 0.8676336279548219, 0.7982683358387678, null, 0.8676336279548219, 0.5716263562874557, null, 0.8676336279548219, 0.9556267513996727, null, 0.8676336279548219, 0.23325342517144332, null], \"y\": [0.410625111559778, 0.9860650639606101, null, 0.410625111559778, 0.0021370193760614775, null, 0.410625111559778, 0.022701354826743514, null, 0.410625111559778, 0.4157398454435022, null, 0.410625111559778, 0.10538889357153791, null, 0.410625111559778, 0.7097831568285732, null, 0.410625111559778, 0.23409767483840493, null, 0.410625111559778, 0.6669821971373364, null, 0.410625111559778, 0.07665073719187843, null, 0.03465301458809478, 0.8220069019549774, null, 0.03465301458809478, 0.022701354826743514, null, 0.03465301458809478, 0.369710943324118, null, 0.03465301458809478, 0.5895856929610802, null, 0.03465301458809478, 0.6669821971373364, null, 0.03465301458809478, 0.5738016502494884, null, 0.03465301458809478, 0.5436271500948792, null, 0.8220069019549774, 0.862686041946886, null, 0.8220069019549774, 0.03465301458809478, null, 0.8220069019549774, 0.0021370193760614775, null, 0.8220069019549774, 0.022701354826743514, null, 0.8220069019549774, 0.369710943324118, null, 0.8220069019549774, 0.5895856929610802, null, 0.8220069019549774, 0.5321543562996337, null, 0.8220069019549774, 0.6669821971373364, null, 0.8220069019549774, 0.07665073719187843, null, 0.8220069019549774, 0.5738016502494884, null, 0.0021370193760614775, 0.410625111559778, null, 0.0021370193760614775, 0.9860650639606101, null, 0.0021370193760614775, 0.8220069019549774, null, 0.0021370193760614775, 0.369710943324118, null, 0.0021370193760614775, 0.5895856929610802, null, 0.0021370193760614775, 0.5321543562996337, null, 0.0021370193760614775, 0.8281076384026915, null, 0.022701354826743514, 0.369710943324118, null, 0.022701354826743514, 0.5321543562996337, null, 0.022701354826743514, 0.8281076384026915, null, 0.022701354826743514, 0.40159499884325756, null, 0.022701354826743514, 0.5738016502494884, null, 0.022701354826743514, 0.7886334628934482, null, 0.369710943324118, 0.03465301458809478, null, 0.369710943324118, 0.8220069019549774, null, 0.369710943324118, 0.0021370193760614775, null, 0.369710943324118, 0.5895856929610802, null, 0.369710943324118, 0.5321543562996337, null, 0.369710943324118, 0.4157398454435022, null, 0.369710943324118, 0.8281076384026915, null, 0.369710943324118, 0.18712446139357364, null, 0.369710943324118, 0.6669821971373364, null, 0.5895856929610802, 0.03465301458809478, null, 0.5895856929610802, 0.8220069019549774, null, 0.5895856929610802, 0.0021370193760614775, null, 0.5895856929610802, 0.6994872275045121, null, 0.5895856929610802, 0.369710943324118, null, 0.5895856929610802, 0.5321543562996337, null, 0.5895856929610802, 0.4157398454435022, null, 0.5895856929610802, 0.379285054355725, null, 0.5321543562996337, 0.8220069019549774, null, 0.5321543562996337, 0.0021370193760614775, null, 0.5321543562996337, 0.369710943324118, null, 0.5321543562996337, 0.5895856929610802, null, 0.5321543562996337, 0.4157398454435022, null, 0.5321543562996337, 0.8281076384026915, null, 0.5321543562996337, 0.379285054355725, null, 0.5321543562996337, 0.10538889357153791, null, 0.5321543562996337, 0.5738016502494884, null, 0.4157398454435022, 0.410625111559778, null, 0.4157398454435022, 0.369710943324118, null, 0.4157398454435022, 0.5895856929610802, null, 0.4157398454435022, 0.5321543562996337, null, 0.4157398454435022, 0.379285054355725, null, 0.4157398454435022, 0.10538889357153791, null, 0.4157398454435022, 0.40159499884325756, null, 0.4157398454435022, 0.1751504228307046, null, 0.4157398454435022, 0.07665073719187843, null, 0.4157398454435022, 0.3043105925259618, null, 0.8281076384026915, 0.0021370193760614775, null, 0.8281076384026915, 0.369710943324118, null, 0.8281076384026915, 0.5321543562996337, null, 0.8281076384026915, 0.18712446139357364, null, 0.8281076384026915, 0.379285054355725, null, 0.8281076384026915, 0.10538889357153791, null, 0.8281076384026915, 0.3033322878396393, null, 0.8281076384026915, 0.3221488427746325, null, 0.18712446139357364, 0.369710943324118, null, 0.18712446139357364, 0.8281076384026915, null, 0.18712446139357364, 0.03831453455515077, null, 0.18712446139357364, 0.379285054355725, null, 0.18712446139357364, 0.10538889357153791, null, 0.18712446139357364, 0.5436271500948792, null, 0.18712446139357364, 0.8480801571540955, null, 0.379285054355725, 0.5895856929610802, null, 0.379285054355725, 0.5321543562996337, null, 0.379285054355725, 0.4157398454435022, null, 0.379285054355725, 0.8281076384026915, null, 0.379285054355725, 0.18712446139357364, null, 0.379285054355725, 0.10538889357153791, null, 0.379285054355725, 0.3033322878396393, null, 0.379285054355725, 0.5436271500948792, null, 0.379285054355725, 0.1751504228307046, null, 0.10538889357153791, 0.410625111559778, null, 0.10538889357153791, 0.5321543562996337, null, 0.10538889357153791, 0.4157398454435022, null, 0.10538889357153791, 0.8281076384026915, null, 0.10538889357153791, 0.18712446139357364, null, 0.10538889357153791, 0.379285054355725, null, 0.10538889357153791, 0.3033322878396393, null, 0.10538889357153791, 0.5436271500948792, null, 0.10538889357153791, 0.8480801571540955, null, 0.10538889357153791, 0.1751504228307046, null, 0.10538889357153791, 0.9413335960388368, null, 0.3033322878396393, 0.8281076384026915, null, 0.3033322878396393, 0.379285054355725, null, 0.3033322878396393, 0.10538889357153791, null, 0.3033322878396393, 0.5436271500948792, null, 0.3033322878396393, 0.8480801571540955, null, 0.3033322878396393, 0.1751504228307046, null, 0.3033322878396393, 0.9413335960388368, null, 0.3033322878396393, 0.07939140654569743, null, 0.3033322878396393, 0.3043105925259618, null, 0.3033322878396393, 0.8923727955603736, null, 0.5436271500948792, 0.03465301458809478, null, 0.5436271500948792, 0.18712446139357364, null, 0.5436271500948792, 0.379285054355725, null, 0.5436271500948792, 0.10538889357153791, null, 0.5436271500948792, 0.3033322878396393, null, 0.5436271500948792, 0.1751504228307046, null, 0.5436271500948792, 0.9413335960388368, null, 0.5436271500948792, 0.07939140654569743, null, 0.5436271500948792, 0.3221488427746325, null, 0.8480801571540955, 0.18712446139357364, null, 0.8480801571540955, 0.10538889357153791, null, 0.8480801571540955, 0.3033322878396393, null, 0.8480801571540955, 0.1751504228307046, null, 0.8480801571540955, 0.9413335960388368, null, 0.8480801571540955, 0.07939140654569743, null, 0.8480801571540955, 0.3221488427746325, null, 0.8480801571540955, 0.6528246674461463, null, 0.1751504228307046, 0.6846335633603898, null, 0.1751504228307046, 0.4157398454435022, null, 0.1751504228307046, 0.379285054355725, null, 0.1751504228307046, 0.10538889357153791, null, 0.1751504228307046, 0.3033322878396393, null, 0.1751504228307046, 0.5436271500948792, null, 0.1751504228307046, 0.8480801571540955, null, 0.1751504228307046, 0.9413335960388368, null, 0.1751504228307046, 0.07939140654569743, null, 0.1751504228307046, 0.3221488427746325, null, 0.1751504228307046, 0.6528246674461463, null, 0.1751504228307046, 0.250039030038817, null, 0.9413335960388368, 0.9860650639606101, null, 0.9413335960388368, 0.10538889357153791, null, 0.9413335960388368, 0.3033322878396393, null, 0.9413335960388368, 0.5436271500948792, null, 0.9413335960388368, 0.8480801571540955, null, 0.9413335960388368, 0.1751504228307046, null, 0.9413335960388368, 0.23409767483840493, null, 0.9413335960388368, 0.07939140654569743, null, 0.9413335960388368, 0.3221488427746325, null, 0.9413335960388368, 0.6528246674461463, null, 0.9413335960388368, 0.250039030038817, null, 0.9413335960388368, 0.9788830034299174, null, 0.07939140654569743, 0.3221488427746325, null, 0.07939140654569743, 0.6528246674461463, null, 0.07939140654569743, 0.250039030038817, null, 0.07939140654569743, 0.9788830034299174, null, 0.07939140654569743, 0.3043105925259618, null, 0.07939140654569743, 0.37624486333935125, null, 0.3221488427746325, 0.8281076384026915, null, 0.3221488427746325, 0.5436271500948792, null, 0.3221488427746325, 0.8480801571540955, null, 0.3221488427746325, 0.1751504228307046, null, 0.3221488427746325, 0.9413335960388368, null, 0.3221488427746325, 0.6528246674461463, null, 0.3221488427746325, 0.250039030038817, null, 0.3221488427746325, 0.9788830034299174, null, 0.3221488427746325, 0.3043105925259618, null, 0.3221488427746325, 0.37624486333935125, null, 0.6528246674461463, 0.8480801571540955, null, 0.6528246674461463, 0.1751504228307046, null, 0.6528246674461463, 0.9413335960388368, null, 0.6528246674461463, 0.3221488427746325, null, 0.6528246674461463, 0.250039030038817, null, 0.6528246674461463, 0.9788830034299174, null, 0.6528246674461463, 0.3043105925259618, null, 0.6528246674461463, 0.37624486333935125, null, 0.6528246674461463, 0.8976678252741956, null, 0.250039030038817, 0.03831453455515077, null, 0.250039030038817, 0.1751504228307046, null, 0.250039030038817, 0.9413335960388368, null, 0.250039030038817, 0.3221488427746325, null, 0.250039030038817, 0.6528246674461463, null, 0.250039030038817, 0.07665073719187843, null, 0.250039030038817, 0.9788830034299174, null, 0.250039030038817, 0.3043105925259618, null, 0.250039030038817, 0.8976678252741956, null, 0.250039030038817, 0.2620850749775715, null, 0.9788830034299174, 0.40159499884325756, null, 0.9788830034299174, 0.37624486333935125, null, 0.9788830034299174, 0.2620850749775715, null, 0.9788830034299174, 0.16498298371574482, null, 0.3043105925259618, 0.9860650639606101, null, 0.3043105925259618, 0.4157398454435022, null, 0.3043105925259618, 0.3033322878396393, null, 0.3043105925259618, 0.3221488427746325, null, 0.3043105925259618, 0.6528246674461463, null, 0.3043105925259618, 0.250039030038817, null, 0.3043105925259618, 0.8976678252741956, null, 0.3043105925259618, 0.16498298371574482, null, 0.37624486333935125, 0.24203107645733657, null, 0.37624486333935125, 0.3221488427746325, null, 0.37624486333935125, 0.6528246674461463, null, 0.37624486333935125, 0.2620850749775715, null, 0.37624486333935125, 0.16498298371574482, null, 0.37624486333935125, 0.029588867991015788, null, 0.8976678252741956, 0.11158185460217895, null, 0.8976678252741956, 0.6528246674461463, null, 0.8976678252741956, 0.250039030038817, null, 0.8976678252741956, 0.3043105925259618, null, 0.8976678252741956, 0.2620850749775715, null, 0.8976678252741956, 0.16498298371574482, null, 0.8976678252741956, 0.029588867991015788, null, 0.8976678252741956, 0.8923727955603736, null, 0.8976678252741956, 0.7096674929371884, null, 0.2620850749775715, 0.07665073719187843, null, 0.2620850749775715, 0.250039030038817, null, 0.2620850749775715, 0.37624486333935125, null, 0.2620850749775715, 0.8976678252741956, null, 0.2620850749775715, 0.16498298371574482, null, 0.2620850749775715, 0.029588867991015788, null, 0.2620850749775715, 0.8923727955603736, null, 0.2620850749775715, 0.7096674929371884, null, 0.16498298371574482, 0.862686041946886, null, 0.16498298371574482, 0.3043105925259618, null, 0.16498298371574482, 0.37624486333935125, null, 0.16498298371574482, 0.8976678252741956, null, 0.16498298371574482, 0.2620850749775715, null, 0.16498298371574482, 0.029588867991015788, null, 0.16498298371574482, 0.8923727955603736, null, 0.16498298371574482, 0.7096674929371884, null, 0.16498298371574482, 0.7886334628934482, null, 0.029588867991015788, 0.9860650639606101, null, 0.029588867991015788, 0.6994872275045121, null, 0.029588867991015788, 0.6669821971373364, null, 0.029588867991015788, 0.37624486333935125, null, 0.029588867991015788, 0.8976678252741956, null, 0.029588867991015788, 0.2620850749775715, null, 0.029588867991015788, 0.16498298371574482, null, 0.029588867991015788, 0.8923727955603736, null, 0.029588867991015788, 0.7096674929371884, null, 0.029588867991015788, 0.7886334628934482, null, 0.8923727955603736, 0.862686041946886, null, 0.8923727955603736, 0.9860650639606101, null, 0.8923727955603736, 0.11158185460217895, null, 0.8923727955603736, 0.3033322878396393, null, 0.8923727955603736, 0.8976678252741956, null, 0.8923727955603736, 0.2620850749775715, null, 0.8923727955603736, 0.16498298371574482, null, 0.8923727955603736, 0.029588867991015788, null, 0.8923727955603736, 0.7096674929371884, null, 0.7096674929371884, 0.862686041946886, null, 0.7096674929371884, 0.9860650639606101, null, 0.7096674929371884, 0.11158185460217895, null, 0.7096674929371884, 0.5738016502494884, null, 0.7096674929371884, 0.8976678252741956, null, 0.7096674929371884, 0.2620850749775715, null, 0.7096674929371884, 0.16498298371574482, null, 0.7096674929371884, 0.029588867991015788, null, 0.7096674929371884, 0.8923727955603736, null, 0.7096674929371884, 0.7886334628934482, null, 0.7886334628934482, 0.862686041946886, null, 0.7886334628934482, 0.9860650639606101, null, 0.7886334628934482, 0.02141599119823212, null, 0.7886334628934482, 0.6994872275045121, null, 0.7886334628934482, 0.07665073719187843, null, 0.7886334628934482, 0.16498298371574482, null, 0.7886334628934482, 0.029588867991015788, null, 0.7886334628934482, 0.7096674929371884, null, 0.862686041946886, 0.9860650639606101, null, 0.862686041946886, 0.11158185460217895, null, 0.862686041946886, 0.6994872275045121, null, 0.862686041946886, 0.13338247153187743, null, 0.862686041946886, 0.8220069019549774, null, 0.862686041946886, 0.16498298371574482, null, 0.862686041946886, 0.8923727955603736, null, 0.862686041946886, 0.7096674929371884, null, 0.862686041946886, 0.7886334628934482, null, 0.9860650639606101, 0.862686041946886, null, 0.9860650639606101, 0.410625111559778, null, 0.9860650639606101, 0.02141599119823212, null, 0.9860650639606101, 0.6994872275045121, null, 0.9860650639606101, 0.0021370193760614775, null, 0.9860650639606101, 0.40159499884325756, null, 0.9860650639606101, 0.9413335960388368, null, 0.9860650639606101, 0.3043105925259618, null, 0.9860650639606101, 0.029588867991015788, null, 0.9860650639606101, 0.8923727955603736, null, 0.9860650639606101, 0.7096674929371884, null, 0.9860650639606101, 0.7886334628934482, null, 0.11158185460217895, 0.862686041946886, null, 0.11158185460217895, 0.6994872275045121, null, 0.11158185460217895, 0.13338247153187743, null, 0.11158185460217895, 0.6846335633603898, null, 0.11158185460217895, 0.8700873011919422, null, 0.11158185460217895, 0.24203107645733657, null, 0.11158185460217895, 0.8976678252741956, null, 0.11158185460217895, 0.8923727955603736, null, 0.11158185460217895, 0.7096674929371884, null, 0.02141599119823212, 0.9860650639606101, null, 0.02141599119823212, 0.6994872275045121, null, 0.02141599119823212, 0.13338247153187743, null, 0.02141599119823212, 0.8700873011919422, null, 0.02141599119823212, 0.33677452560261245, null, 0.02141599119823212, 0.7886334628934482, null, 0.6994872275045121, 0.13338247153187743, null, 0.6994872275045121, 0.6846335633603898, null, 0.6994872275045121, 0.8700873011919422, null, 0.6994872275045121, 0.33677452560261245, null, 0.6994872275045121, 0.35719309053429926, null, 0.13338247153187743, 0.862686041946886, null, 0.13338247153187743, 0.11158185460217895, null, 0.13338247153187743, 0.02141599119823212, null, 0.13338247153187743, 0.6846335633603898, null, 0.13338247153187743, 0.8700873011919422, null, 0.13338247153187743, 0.33677452560261245, null, 0.13338247153187743, 0.03831453455515077, null, 0.13338247153187743, 0.35719309053429926, null, 0.6846335633603898, 0.11158185460217895, null, 0.6846335633603898, 0.13338247153187743, null, 0.6846335633603898, 0.8700873011919422, null, 0.6846335633603898, 0.33677452560261245, null, 0.6846335633603898, 0.03831453455515077, null, 0.6846335633603898, 0.40159499884325756, null, 0.6846335633603898, 0.1751504228307046, null, 0.8700873011919422, 0.11158185460217895, null, 0.8700873011919422, 0.02141599119823212, null, 0.8700873011919422, 0.13338247153187743, null, 0.8700873011919422, 0.6846335633603898, null, 0.8700873011919422, 0.33677452560261245, null, 0.8700873011919422, 0.03831453455515077, null, 0.8700873011919422, 0.35719309053429926, null, 0.8700873011919422, 0.24203107645733657, null, 0.8700873011919422, 0.40159499884325756, null, 0.33677452560261245, 0.02141599119823212, null, 0.33677452560261245, 0.13338247153187743, null, 0.33677452560261245, 0.6846335633603898, null, 0.33677452560261245, 0.8700873011919422, null, 0.33677452560261245, 0.03831453455515077, null, 0.33677452560261245, 0.35719309053429926, null, 0.33677452560261245, 0.24203107645733657, null, 0.33677452560261245, 0.40159499884325756, null, 0.33677452560261245, 0.7097831568285732, null, 0.03831453455515077, 0.13338247153187743, null, 0.03831453455515077, 0.6846335633603898, null, 0.03831453455515077, 0.8700873011919422, null, 0.03831453455515077, 0.33677452560261245, null, 0.03831453455515077, 0.35719309053429926, null, 0.03831453455515077, 0.40159499884325756, null, 0.03831453455515077, 0.7097831568285732, null, 0.03831453455515077, 0.23409767483840493, null, 0.03831453455515077, 0.18712446139357364, null, 0.03831453455515077, 0.250039030038817, null, 0.35719309053429926, 0.13338247153187743, null, 0.35719309053429926, 0.8700873011919422, null, 0.35719309053429926, 0.33677452560261245, null, 0.35719309053429926, 0.03831453455515077, null, 0.35719309053429926, 0.7097831568285732, null, 0.35719309053429926, 0.23409767483840493, null, 0.35719309053429926, 0.6669821971373364, null, 0.24203107645733657, 0.40159499884325756, null, 0.24203107645733657, 0.7097831568285732, null, 0.24203107645733657, 0.23409767483840493, null, 0.24203107645733657, 0.6669821971373364, null, 0.40159499884325756, 0.9860650639606101, null, 0.40159499884325756, 0.6846335633603898, null, 0.40159499884325756, 0.8700873011919422, null, 0.40159499884325756, 0.33677452560261245, null, 0.40159499884325756, 0.03831453455515077, null, 0.40159499884325756, 0.4157398454435022, null, 0.40159499884325756, 0.7097831568285732, null, 0.40159499884325756, 0.6669821971373364, null, 0.40159499884325756, 0.07665073719187843, null, 0.7097831568285732, 0.410625111559778, null, 0.7097831568285732, 0.33677452560261245, null, 0.7097831568285732, 0.03831453455515077, null, 0.7097831568285732, 0.35719309053429926, null, 0.7097831568285732, 0.40159499884325756, null, 0.7097831568285732, 0.23409767483840493, null, 0.7097831568285732, 0.6669821971373364, null, 0.7097831568285732, 0.5738016502494884, null, 0.23409767483840493, 0.410625111559778, null, 0.23409767483840493, 0.03831453455515077, null, 0.23409767483840493, 0.35719309053429926, null, 0.23409767483840493, 0.7097831568285732, null, 0.23409767483840493, 0.6669821971373364, null, 0.23409767483840493, 0.07665073719187843, null, 0.23409767483840493, 0.5738016502494884, null, 0.23409767483840493, 0.9413335960388368, null, 0.6669821971373364, 0.410625111559778, null, 0.6669821971373364, 0.03465301458809478, null, 0.6669821971373364, 0.8220069019549774, null, 0.6669821971373364, 0.369710943324118, null, 0.6669821971373364, 0.35719309053429926, null, 0.6669821971373364, 0.40159499884325756, null, 0.6669821971373364, 0.7097831568285732, null, 0.6669821971373364, 0.23409767483840493, null, 0.6669821971373364, 0.5738016502494884, null, 0.6669821971373364, 0.029588867991015788, null, 0.07665073719187843, 0.410625111559778, null, 0.07665073719187843, 0.8220069019549774, null, 0.07665073719187843, 0.4157398454435022, null, 0.07665073719187843, 0.40159499884325756, null, 0.07665073719187843, 0.23409767483840493, null, 0.07665073719187843, 0.5738016502494884, null, 0.07665073719187843, 0.250039030038817, null, 0.07665073719187843, 0.2620850749775715, null, 0.07665073719187843, 0.7886334628934482, null, 0.5738016502494884, 0.03465301458809478, null, 0.5738016502494884, 0.8220069019549774, null, 0.5738016502494884, 0.5321543562996337, null, 0.5738016502494884, 0.7097831568285732, null, 0.5738016502494884, 0.23409767483840493, null, 0.5738016502494884, 0.6669821971373364, null, 0.5738016502494884, 0.07665073719187843, null, 0.5738016502494884, 0.7096674929371884, null]}],\n",
              "                        {\"hovermode\": \"closest\", \"margin\": {\"b\": 20, \"l\": 5, \"r\": 5, \"t\": 40}, \"showlegend\": true, \"template\": {\"data\": {\"bar\": [{\"error_x\": {\"color\": \"#2a3f5f\"}, \"error_y\": {\"color\": \"#2a3f5f\"}, \"marker\": {\"line\": {\"color\": \"#E5ECF6\", \"width\": 0.5}}, \"type\": \"bar\"}], \"barpolar\": [{\"marker\": {\"line\": {\"color\": \"#E5ECF6\", \"width\": 0.5}}, \"type\": \"barpolar\"}], \"carpet\": [{\"aaxis\": {\"endlinecolor\": \"#2a3f5f\", \"gridcolor\": \"white\", \"linecolor\": \"white\", \"minorgridcolor\": \"white\", \"startlinecolor\": \"#2a3f5f\"}, \"baxis\": {\"endlinecolor\": \"#2a3f5f\", \"gridcolor\": \"white\", \"linecolor\": \"white\", \"minorgridcolor\": \"white\", \"startlinecolor\": \"#2a3f5f\"}, \"type\": \"carpet\"}], \"choropleth\": [{\"colorbar\": {\"outlinewidth\": 0, \"ticks\": \"\"}, \"type\": \"choropleth\"}], \"contour\": [{\"colorbar\": {\"outlinewidth\": 0, \"ticks\": \"\"}, \"colorscale\": [[0.0, \"#0d0887\"], [0.1111111111111111, \"#46039f\"], [0.2222222222222222, \"#7201a8\"], [0.3333333333333333, \"#9c179e\"], [0.4444444444444444, \"#bd3786\"], [0.5555555555555556, \"#d8576b\"], [0.6666666666666666, \"#ed7953\"], [0.7777777777777778, \"#fb9f3a\"], [0.8888888888888888, \"#fdca26\"], [1.0, \"#f0f921\"]], \"type\": \"contour\"}], \"contourcarpet\": [{\"colorbar\": {\"outlinewidth\": 0, \"ticks\": \"\"}, \"type\": \"contourcarpet\"}], \"heatmap\": [{\"colorbar\": {\"outlinewidth\": 0, \"ticks\": \"\"}, \"colorscale\": [[0.0, \"#0d0887\"], [0.1111111111111111, \"#46039f\"], [0.2222222222222222, \"#7201a8\"], [0.3333333333333333, \"#9c179e\"], [0.4444444444444444, \"#bd3786\"], [0.5555555555555556, \"#d8576b\"], [0.6666666666666666, \"#ed7953\"], [0.7777777777777778, \"#fb9f3a\"], [0.8888888888888888, \"#fdca26\"], [1.0, \"#f0f921\"]], \"type\": \"heatmap\"}], \"heatmapgl\": [{\"colorbar\": {\"outlinewidth\": 0, \"ticks\": \"\"}, \"colorscale\": [[0.0, \"#0d0887\"], [0.1111111111111111, \"#46039f\"], [0.2222222222222222, \"#7201a8\"], [0.3333333333333333, \"#9c179e\"], [0.4444444444444444, \"#bd3786\"], [0.5555555555555556, \"#d8576b\"], [0.6666666666666666, \"#ed7953\"], [0.7777777777777778, \"#fb9f3a\"], [0.8888888888888888, \"#fdca26\"], [1.0, \"#f0f921\"]], \"type\": \"heatmapgl\"}], \"histogram\": [{\"marker\": {\"colorbar\": {\"outlinewidth\": 0, \"ticks\": \"\"}}, \"type\": \"histogram\"}], \"histogram2d\": [{\"colorbar\": {\"outlinewidth\": 0, \"ticks\": \"\"}, \"colorscale\": [[0.0, \"#0d0887\"], [0.1111111111111111, \"#46039f\"], [0.2222222222222222, \"#7201a8\"], [0.3333333333333333, \"#9c179e\"], [0.4444444444444444, \"#bd3786\"], [0.5555555555555556, \"#d8576b\"], [0.6666666666666666, \"#ed7953\"], [0.7777777777777778, \"#fb9f3a\"], [0.8888888888888888, \"#fdca26\"], [1.0, \"#f0f921\"]], \"type\": \"histogram2d\"}], \"histogram2dcontour\": [{\"colorbar\": {\"outlinewidth\": 0, \"ticks\": \"\"}, \"colorscale\": [[0.0, \"#0d0887\"], [0.1111111111111111, \"#46039f\"], [0.2222222222222222, \"#7201a8\"], [0.3333333333333333, \"#9c179e\"], [0.4444444444444444, \"#bd3786\"], [0.5555555555555556, \"#d8576b\"], [0.6666666666666666, \"#ed7953\"], [0.7777777777777778, \"#fb9f3a\"], [0.8888888888888888, \"#fdca26\"], [1.0, \"#f0f921\"]], \"type\": \"histogram2dcontour\"}], \"mesh3d\": [{\"colorbar\": {\"outlinewidth\": 0, \"ticks\": \"\"}, \"type\": \"mesh3d\"}], \"parcoords\": [{\"line\": {\"colorbar\": {\"outlinewidth\": 0, \"ticks\": \"\"}}, \"type\": \"parcoords\"}], \"pie\": [{\"automargin\": true, \"type\": \"pie\"}], \"scatter\": [{\"marker\": {\"colorbar\": {\"outlinewidth\": 0, \"ticks\": \"\"}}, \"type\": \"scatter\"}], \"scatter3d\": [{\"line\": {\"colorbar\": {\"outlinewidth\": 0, \"ticks\": \"\"}}, \"marker\": {\"colorbar\": {\"outlinewidth\": 0, \"ticks\": \"\"}}, \"type\": \"scatter3d\"}], \"scattercarpet\": [{\"marker\": {\"colorbar\": {\"outlinewidth\": 0, \"ticks\": \"\"}}, \"type\": \"scattercarpet\"}], \"scattergeo\": [{\"marker\": {\"colorbar\": {\"outlinewidth\": 0, \"ticks\": \"\"}}, \"type\": \"scattergeo\"}], \"scattergl\": [{\"marker\": {\"colorbar\": {\"outlinewidth\": 0, \"ticks\": \"\"}}, \"type\": \"scattergl\"}], \"scattermapbox\": [{\"marker\": {\"colorbar\": {\"outlinewidth\": 0, \"ticks\": \"\"}}, \"type\": \"scattermapbox\"}], \"scatterpolar\": [{\"marker\": {\"colorbar\": {\"outlinewidth\": 0, \"ticks\": \"\"}}, \"type\": \"scatterpolar\"}], \"scatterpolargl\": [{\"marker\": {\"colorbar\": {\"outlinewidth\": 0, \"ticks\": \"\"}}, \"type\": \"scatterpolargl\"}], \"scatterternary\": [{\"marker\": {\"colorbar\": {\"outlinewidth\": 0, \"ticks\": \"\"}}, \"type\": \"scatterternary\"}], \"surface\": [{\"colorbar\": {\"outlinewidth\": 0, \"ticks\": \"\"}, \"colorscale\": [[0.0, \"#0d0887\"], [0.1111111111111111, \"#46039f\"], [0.2222222222222222, \"#7201a8\"], [0.3333333333333333, \"#9c179e\"], [0.4444444444444444, \"#bd3786\"], [0.5555555555555556, \"#d8576b\"], [0.6666666666666666, \"#ed7953\"], [0.7777777777777778, \"#fb9f3a\"], [0.8888888888888888, \"#fdca26\"], [1.0, \"#f0f921\"]], \"type\": \"surface\"}], \"table\": [{\"cells\": {\"fill\": {\"color\": \"#EBF0F8\"}, \"line\": {\"color\": \"white\"}}, \"header\": {\"fill\": {\"color\": \"#C8D4E3\"}, \"line\": {\"color\": \"white\"}}, \"type\": \"table\"}]}, \"layout\": {\"annotationdefaults\": {\"arrowcolor\": \"#2a3f5f\", \"arrowhead\": 0, \"arrowwidth\": 1}, \"coloraxis\": {\"colorbar\": {\"outlinewidth\": 0, \"ticks\": \"\"}}, \"colorscale\": {\"diverging\": [[0, \"#8e0152\"], [0.1, \"#c51b7d\"], [0.2, \"#de77ae\"], [0.3, \"#f1b6da\"], [0.4, \"#fde0ef\"], [0.5, \"#f7f7f7\"], [0.6, \"#e6f5d0\"], [0.7, \"#b8e186\"], [0.8, \"#7fbc41\"], [0.9, \"#4d9221\"], [1, \"#276419\"]], \"sequential\": [[0.0, \"#0d0887\"], [0.1111111111111111, \"#46039f\"], [0.2222222222222222, \"#7201a8\"], [0.3333333333333333, \"#9c179e\"], [0.4444444444444444, \"#bd3786\"], [0.5555555555555556, \"#d8576b\"], [0.6666666666666666, \"#ed7953\"], [0.7777777777777778, \"#fb9f3a\"], [0.8888888888888888, \"#fdca26\"], [1.0, \"#f0f921\"]], \"sequentialminus\": [[0.0, \"#0d0887\"], [0.1111111111111111, \"#46039f\"], [0.2222222222222222, \"#7201a8\"], [0.3333333333333333, \"#9c179e\"], [0.4444444444444444, \"#bd3786\"], [0.5555555555555556, \"#d8576b\"], [0.6666666666666666, \"#ed7953\"], [0.7777777777777778, \"#fb9f3a\"], [0.8888888888888888, \"#fdca26\"], [1.0, \"#f0f921\"]]}, \"colorway\": [\"#636efa\", \"#EF553B\", \"#00cc96\", \"#ab63fa\", \"#FFA15A\", \"#19d3f3\", \"#FF6692\", \"#B6E880\", \"#FF97FF\", \"#FECB52\"], \"font\": {\"color\": \"#2a3f5f\"}, \"geo\": {\"bgcolor\": \"white\", \"lakecolor\": \"white\", \"landcolor\": \"#E5ECF6\", \"showlakes\": true, \"showland\": true, \"subunitcolor\": \"white\"}, \"hoverlabel\": {\"align\": \"left\"}, \"hovermode\": \"closest\", \"mapbox\": {\"style\": \"light\"}, \"paper_bgcolor\": \"white\", \"plot_bgcolor\": \"#E5ECF6\", \"polar\": {\"angularaxis\": {\"gridcolor\": \"white\", \"linecolor\": \"white\", \"ticks\": \"\"}, \"bgcolor\": \"#E5ECF6\", \"radialaxis\": {\"gridcolor\": \"white\", \"linecolor\": \"white\", \"ticks\": \"\"}}, \"scene\": {\"xaxis\": {\"backgroundcolor\": \"#E5ECF6\", \"gridcolor\": \"white\", \"gridwidth\": 2, \"linecolor\": \"white\", \"showbackground\": true, \"ticks\": \"\", \"zerolinecolor\": \"white\"}, \"yaxis\": {\"backgroundcolor\": \"#E5ECF6\", \"gridcolor\": \"white\", \"gridwidth\": 2, \"linecolor\": \"white\", \"showbackground\": true, \"ticks\": \"\", \"zerolinecolor\": \"white\"}, \"zaxis\": {\"backgroundcolor\": \"#E5ECF6\", \"gridcolor\": \"white\", \"gridwidth\": 2, \"linecolor\": \"white\", \"showbackground\": true, \"ticks\": \"\", \"zerolinecolor\": \"white\"}}, \"shapedefaults\": {\"line\": {\"color\": \"#2a3f5f\"}}, \"ternary\": {\"aaxis\": {\"gridcolor\": \"white\", \"linecolor\": \"white\", \"ticks\": \"\"}, \"baxis\": {\"gridcolor\": \"white\", \"linecolor\": \"white\", \"ticks\": \"\"}, \"bgcolor\": \"#E5ECF6\", \"caxis\": {\"gridcolor\": \"white\", \"linecolor\": \"white\", \"ticks\": \"\"}}, \"title\": {\"x\": 0.05}, \"xaxis\": {\"automargin\": true, \"gridcolor\": \"white\", \"linecolor\": \"white\", \"ticks\": \"\", \"title\": {\"standoff\": 15}, \"zerolinecolor\": \"white\", \"zerolinewidth\": 2}, \"yaxis\": {\"automargin\": true, \"gridcolor\": \"white\", \"linecolor\": \"white\", \"ticks\": \"\", \"title\": {\"standoff\": 15}, \"zerolinecolor\": \"white\", \"zerolinewidth\": 2}}}, \"title\": {\"font\": {\"size\": 16}, \"text\": \"Watts\\u2013Strogatz model & Nevigable Network Graph\\n\"}, \"xaxis\": {\"showgrid\": false, \"showticklabels\": true, \"title\": {\"text\": \"x-axis\"}, \"zeroline\": false}, \"yaxis\": {\"showgrid\": false, \"showticklabels\": true, \"title\": {\"text\": \"y-axis\"}, \"zeroline\": false}},\n",
              "                        {\"responsive\": true}\n",
              "                    ).then(function(){\n",
              "                            \n",
              "var gd = document.getElementById('e6c61eca-da87-4e9e-a5b4-ef4aaf13ace4');\n",
              "var x = new MutationObserver(function (mutations, observer) {{\n",
              "        var display = window.getComputedStyle(gd).display;\n",
              "        if (!display || display === 'none') {{\n",
              "            console.log([gd, 'removed!']);\n",
              "            Plotly.purge(gd);\n",
              "            observer.disconnect();\n",
              "        }}\n",
              "}});\n",
              "\n",
              "// Listen for the removal of the full notebook cells\n",
              "var notebookContainer = gd.closest('#notebook-container');\n",
              "if (notebookContainer) {{\n",
              "    x.observe(notebookContainer, {childList: true});\n",
              "}}\n",
              "\n",
              "// Listen for the clearing of the current output cell\n",
              "var outputEl = gd.closest('.output');\n",
              "if (outputEl) {{\n",
              "    x.observe(outputEl, {childList: true});\n",
              "}}\n",
              "\n",
              "                        })\n",
              "                };\n",
              "                \n",
              "            </script>\n",
              "        </div>\n",
              "</body>\n",
              "</html>"
            ]
          },
          "metadata": {
            "tags": []
          }
        }
      ]
    },
    {
      "cell_type": "markdown",
      "metadata": {
        "id": "7dcUeF8WyRuk",
        "colab_type": "text"
      },
      "source": [
        "## **Conclusion** \n",
        "- Theoreticaly Navigable small-world graph should somehow capture geometric proximity better than a graph created using Watts–Strogatz model. Looking at the plot above it is not crystal clear. I suspect that my implementation for creating Navigable small-world has mistakes."
      ]
    },
    {
      "cell_type": "code",
      "metadata": {
        "id": "LcH3e3f41RVn",
        "colab_type": "code",
        "colab": {}
      },
      "source": [
        ""
      ],
      "execution_count": 0,
      "outputs": []
    }
  ]
}