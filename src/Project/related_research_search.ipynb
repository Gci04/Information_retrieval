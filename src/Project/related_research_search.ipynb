{
 "cells": [
  {
   "cell_type": "markdown",
   "metadata": {},
   "source": [
    "## <center> Related Scientific Work Search </center>"
   ]
  },
  {
   "cell_type": "markdown",
   "metadata": {},
   "source": [
    "Bla bla bla\n",
    "\n",
    "### Objective\n",
    "1. Search for most relavent scientific research paper based on query \n",
    "1. Spellcheck query "
   ]
  },
  {
   "cell_type": "code",
   "execution_count": 39,
   "metadata": {},
   "outputs": [],
   "source": [
    "import time, os, selenium, requests, re \n",
    "\n",
    "from selenium import webdriver\n",
    "from selenium.webdriver.common.action_chains import ActionChains\n",
    "from selenium.webdriver.common.by import By\n",
    "from selenium.webdriver.common.keys import Keys\n",
    "from selenium.webdriver.support import expected_conditions as EC\n",
    "from selenium.webdriver.support.ui import WebDriverWait\n",
    "\n",
    "from abc import ABCMeta, abstractmethod"
   ]
  },
  {
   "cell_type": "code",
   "execution_count": 40,
   "metadata": {},
   "outputs": [],
   "source": [
    "class DataCrawler(metaclass=ABCMeta):\n",
    "    \"\"\"Base searcher to be used for all academic databases crawlers.\"\"\"\n",
    "    def __init__(self, output_directory, base_url):\n",
    "        self.output_directory = output_directory\n",
    "        self.base_url = base_url\n",
    "        self.results = {}\n",
    "    \n",
    "    @abstractmethod\n",
    "    def search(self):\n",
    "        \"\"\"Search a given query using base_url\"\"\"\n",
    "        pass\n",
    "\n",
    "    @abstractmethod\n",
    "    def filter_by_year(self):\n",
    "        \"\"\"Processes raw data. This step should create the raw dataframe with all the required features. Shouldn't implement statistical or text cleaning.\"\"\"\n",
    "        pass\n",
    "\n",
    "    @abstractmethod\n",
    "    def save(self):\n",
    "        \"\"\"Saves processed data.\"\"\"\n",
    "        pass\n",
    "    "
   ]
  },
  {
   "cell_type": "code",
   "execution_count": 41,
   "metadata": {},
   "outputs": [],
   "source": [
    "class IEEESeach(DataCrawler):\n",
    "    \"\"\"IEEE document base searcher\"\"\"\n",
    "    def __init__(self,output_dir):\n",
    "        self.url = \"https://ieeexplore.ieee.org\"\n",
    "        self.browser = webdriver.Chrome(executable_path='./chromedriver')\n",
    "        super().__init__(os.path.join(output_dir, 'IEEE'),self.url)\n",
    "    \n",
    "    def search(self,query=\"A Lightweight Autoencoder\"):\n",
    "        \"\"\"finds documents related to query in IEEE document base\"\"\"\n",
    "        \n",
    "        self.browser.get(\"https://ieeexplore.ieee.org\")\n",
    "        self.browser.implicitly_wait(10) #wait 10 sec for website to load \n",
    "        input_element = self.browser.find_element_by_class_name(\"Typeahead-input\") #find the query input field\n",
    "        input_element.send_keys(query) #pass the query to input field\n",
    "        \n",
    "        action = ActionChains(self.browser).send_keys(Keys.ENTER)\n",
    "        action.perform() #press search button\n",
    "        \n",
    "        #get all the urls of the articles/documents found\n",
    "        for item in self.browser.find_elements_by_class_name(\"List-results-items\"):\n",
    "            text = item.text.split(\"\\n\")\n",
    "            title = text[0].strip()\n",
    "            year = text[3].split(\"|\")[0].split(\":\")[1].strip()\n",
    "    \n",
    "            #Get document link \n",
    "            link = item.find_element_by_tag_name(\"a\").get_attribute(\"href\")\n",
    "            self.results[title] = {\"year\" : int(year), \"link\":link}\n",
    "        \n",
    "        #retrieve abstract text for each article/document in the results\n",
    "        for name, doc_info in self.results.items():\n",
    "            self.browser.get(doc_info['link'])\n",
    "            time.sleep(0.05)\n",
    "            abstract_text = self.browser.find_element_by_class_name(\"abstract-text\").text\n",
    "            self.results[name].update({\"Abstract\":abstract_text.split(\"\\n\")[1]})\n",
    "        \n",
    "        self.browser.quit()\n",
    "            \n",
    "    def filter_by_year(self):\n",
    "        \"\"\"extract any text if any .pdf, \"\"\"\n",
    "        print(\"Coming soon!!\")\n",
    "        \n",
    "    def save(self):\n",
    "        \"\"\"Saves processed data.\"\"\"\n",
    "        print(\"Saving....\")\n",
    "    "
   ]
  },
  {
   "cell_type": "code",
   "execution_count": 89,
   "metadata": {},
   "outputs": [],
   "source": [
    "test = IEEESeach(\"./\")\n",
    "test.search()"
   ]
  },
  {
   "cell_type": "code",
   "execution_count": 42,
   "metadata": {},
   "outputs": [],
   "source": [
    "class arXiv(DataCrawler):\n",
    "    \"\"\"arXiv.org document base searcher\"\"\"\n",
    "    def __init__(self,output_dir):\n",
    "        self.url = \"https://arxiv.org\"\n",
    "        self.browser = webdriver.Chrome(executable_path='./chromedriver')\n",
    "        super().__init__(os.path.join(output_dir, 'arXiv'),self.url)\n",
    "    \n",
    "    def search(self,query=\"A Lightweight Autoencoder\"):\n",
    "        \"\"\"finds documents related to query in arXiv document base\"\"\"\n",
    "        \n",
    "        self.browser.get(self.url)\n",
    "        self.browser.implicitly_wait(10) #wait 10 sec for website to load \n",
    "        input_element = self.browser.find_element_by_name(\"query\") #find the query input field\n",
    "        input_element.send_keys(query) #pass the query to input field\n",
    "        \n",
    "        action = ActionChains(self.browser).send_keys(Keys.ENTER)\n",
    "        action.perform() #press search button\n",
    "        \n",
    "        #expand the result div to show full abstract text\n",
    "        expand = self.browser.find_elements_by_partial_link_text('▽ More')\n",
    "        for x in range(0,len(expand)):\n",
    "            expand[x].click()\n",
    "        \n",
    "        #get all the urls of the articles/documents found\n",
    "        res_art = self.browser.find_elements_by_class_name(\"arxiv-result\")\n",
    "        self.results = {}\n",
    "        for r in res_art:\n",
    "            title = r.find_element_by_class_name(\"title\").text\n",
    "            abstract = r.find_element_by_class_name(\"abstract\").text\n",
    "            pdf_link = r.find_element_by_partial_link_text(\"pdf\").get_attribute(\"href\")\n",
    "            dates = r.find_element_by_css_selector(\"p.is-size-7\").text\n",
    "            self.results[title] = { \"year\": dates, \"abstract\":abstract, \"pdf_link\": pdf_link, \"title\": title }\n",
    "\n",
    "        self.browser.quit()\n",
    "            \n",
    "    def filter_by_year(self):\n",
    "        \"\"\"extract any text if any .pdf, \"\"\"\n",
    "        print(\"Coming soon!!\")\n",
    "        \n",
    "    def save(self):\n",
    "        \"\"\"Saves processed data.\"\"\"\n",
    "        print(\"Saving....\")"
   ]
  },
  {
   "cell_type": "code",
   "execution_count": 91,
   "metadata": {},
   "outputs": [],
   "source": [
    "test2 = arXiv(\"./\")\n",
    "test2.search(\"Autoencoder\")"
   ]
  },
  {
   "cell_type": "code",
   "execution_count": 43,
   "metadata": {},
   "outputs": [],
   "source": [
    "class ScienceDirect(DataCrawler):\n",
    "    \"\"\"sciencedirect.com document base searcher\"\"\"\n",
    "    def __init__(self,output_dir):\n",
    "        self.url = \"https://www.sciencedirect.com\"\n",
    "        self.browser = webdriver.Chrome(executable_path='./chromedriver')\n",
    "        super().__init__(os.path.join(output_dir, 'sciencedirect'),self.url)\n",
    "    \n",
    "    def search(self,query=\"A Lightweight Autoencoder\"):\n",
    "        \"\"\"finds documents related to query in science direct document base\"\"\"\n",
    "        \n",
    "        self.browser.get(self.url)\n",
    "        self.browser.implicitly_wait(10) #wait 10 sec for website to load \n",
    "        input_element = self.browser.find_element_by_name(\"qs\") #find the query input field\n",
    "        input_element.send_keys(query) #pass the query to input field\n",
    "        \n",
    "        action = ActionChains(self.browser).send_keys(Keys.ENTER)\n",
    "        action.perform() #press search button\n",
    "        \n",
    "        #expand the result div to show full abstract text\n",
    "        self.results = {}\n",
    "        time.sleep(0.01)\n",
    "        res_items = self.browser.find_elements_by_class_name(\"ResultItem\")\n",
    "        time.sleep(0.01)\n",
    "        for i in res_items:\n",
    "            wait = WebDriverWait(i, 10)\n",
    "            i.find_element_by_css_selector(\"[aria-label=Abstract]\").click()\n",
    "            element = wait.until(EC.presence_of_element_located((By.CLASS_NAME,'preview-body-container')))\n",
    "            \n",
    "            abstract = element.find_element_by_tag_name(\"p\").text\n",
    "            title = i.find_element_by_class_name(\"result-list-title-link\").text\n",
    "            pdf_link = i.find_element_by_partial_link_text(\"Download PDF\").get_attribute(\"href\")\n",
    "            \n",
    "            date = \" \".join([j.text for j in i.find_element_by_class_name(\"SubType\").find_elements_by_tag_name('span')])\n",
    "            date = re.findall('(?:January|February|March|April|May|June|July|August|September|October|November|December)[\\s-]\\d{2,4}', date)\n",
    "    \n",
    "            self.results[title] = { \"year\": date, \"abstract\":abstract, \"pdf_link\": pdf_link, \"title\": title }\n",
    "        \n",
    "        self.browser.quit()\n",
    "            \n",
    "    def filter_by_year(self):\n",
    "        \"\"\"extract any text if any .pdf, \"\"\"\n",
    "        print(\"Coming soon!!\")\n",
    "        \n",
    "    def save(self):\n",
    "        \"\"\"Saves processed data.\"\"\"\n",
    "        print(\"Saving....\")"
   ]
  },
  {
   "cell_type": "code",
   "execution_count": 44,
   "metadata": {},
   "outputs": [],
   "source": [
    "test3 = ScienceDirect(\"./\")\n",
    "test3.search(\"sugar\")"
   ]
  },
  {
   "cell_type": "code",
   "execution_count": 34,
   "metadata": {},
   "outputs": [],
   "source": [
    "#Science Direct\n",
    "\n",
    "browser = webdriver.Chrome(executable_path='./chromedriver')\n",
    "\n",
    "browser.get(\"https://www.sciencedirect.com\")\n",
    "browser.implicitly_wait(60) #wait 10 sec for website to load \n",
    "input_element = browser.find_element_by_name(\"qs\") #find the query input field\n",
    "# input_element.send_keys(\"A lightweight autoencoder\") #pass the query to input field\n",
    "input_element.send_keys(\"sugar\")\n",
    "\n",
    "action = ActionChains(browser).send_keys(Keys.ENTER)\n",
    "action.perform() #press search button"
   ]
  },
  {
   "cell_type": "code",
   "execution_count": 46,
   "metadata": {},
   "outputs": [],
   "source": [
    "res_items = browser.find_elements_by_class_name(\"ResultItem\")\n",
    "res_dict = {}\n",
    "\n",
    "\n",
    "for i in res_items:\n",
    "    try:\n",
    "        wait = WebDriverWait(i, 10)\n",
    "        i.find_element_by_css_selector(\"[aria-label=Abstract]\").click()\n",
    "#         element = wait.until(EC.presence_of_element_located((By.CLASS_NAME,'preview-body-container')))\n",
    "        title = i.find_element_by_class_name(\"result-list-title-link\").text\n",
    "        text = i.find_element_by_class_name(\"preview-body-container\").find_element_by_tag_name(\"p\").text\n",
    "        pdf_link = i.find_element_by_partial_link_text(\"Download PDF\").get_attribute(\"href\")\n",
    "        dates = \" \".join([j.text for j in i.find_element_by_class_name(\"SubType\").find_elements_by_tag_name('span')])\n",
    "        date = re.findall('(?:January|February|March|April|May|June|July|August|September|October|November|December)[\\s-]\\d{2,4}', dates)\n",
    "    except:\n",
    "        print(\"expect\")\n",
    "        i.find_element_by_css_selector(\"[aria-label=Abstract]\").click()\n",
    "        \n",
    "    print(title)\n",
    "    print(date)\n",
    "    print(i.find_element_by_class_name(\"Authors\").text)\n",
    "    print(pdf_link)\n",
    "    print(text)\n",
    "    print()\n",
    "    \n",
    "browser.quit()  "
   ]
  },
  {
   "cell_type": "code",
   "execution_count": 38,
   "metadata": {},
   "outputs": [],
   "source": []
  },
  {
   "cell_type": "code",
   "execution_count": null,
   "metadata": {},
   "outputs": [],
   "source": [
    "#Researchgate - maybe"
   ]
  },
  {
   "cell_type": "code",
   "execution_count": 55,
   "metadata": {},
   "outputs": [],
   "source": [
    "#mdpi\n",
    "#Science Direct\n",
    "\n",
    "browser = webdriver.Chrome(executable_path='./chromedriver')\n",
    "\n",
    "browser.get(\"https://www.mdpi.com\")\n",
    "browser.implicitly_wait(60) #wait 10 sec for website to load \n",
    "input_element = browser.find_element_by_name(\"q\") #find the query input field\n",
    "# input_element.send_keys(\"A lightweight autoencoder\") #pass the query to input field\n",
    "input_element.send_keys(\"sugar\")\n",
    "\n",
    "action = ActionChains(browser).send_keys(Keys.ENTER)\n",
    "action.perform() #press search button"
   ]
  },
  {
   "cell_type": "code",
   "execution_count": 63,
   "metadata": {},
   "outputs": [],
   "source": [
    "items = browser.find_elements_by_class_name(\"article-item\")"
   ]
  },
  {
   "cell_type": "code",
   "execution_count": 73,
   "metadata": {},
   "outputs": [
    {
     "name": "stdout",
     "output_type": "stream",
     "text": [
      "Effects of Non-Leguminous Cover Crops on Yield and Quality of Baby Corn (Zea mays L.) Grown under Subtropical Conditions\n",
      "<selenium.webdriver.remote.webelement.WebElement (session=\"c57b64efa80c3b25b1e46746686f0de4\", element=\"bf5669c9-379c-4eb8-a81c-dcc595f98d37\")>\n"
     ]
    }
   ],
   "source": [
    "print(items[0].find_element_by_class_name(\"title-link\").text)\n",
    "print(items[1].find_element_by_class_name(\"abstract-full\"))"
   ]
  },
  {
   "cell_type": "code",
   "execution_count": 88,
   "metadata": {},
   "outputs": [],
   "source": [
    "a = items[10].find_element_by_partial_link_text(\"Read more.\")"
   ]
  }
 ],
 "metadata": {
  "kernelspec": {
   "display_name": "Python 3",
   "language": "python",
   "name": "python3"
  },
  "language_info": {
   "codemirror_mode": {
    "name": "ipython",
    "version": 3
   },
   "file_extension": ".py",
   "mimetype": "text/x-python",
   "name": "python",
   "nbconvert_exporter": "python",
   "pygments_lexer": "ipython3",
   "version": "3.6.5"
  }
 },
 "nbformat": 4,
 "nbformat_minor": 2
}
