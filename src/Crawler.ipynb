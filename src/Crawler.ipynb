{
  "nbformat": 4,
  "nbformat_minor": 0,
  "metadata": {
    "kernelspec": {
      "display_name": "Python 3",
      "language": "python",
      "name": "python3"
    },
    "language_info": {
      "codemirror_mode": {
        "name": "ipython",
        "version": 3
      },
      "file_extension": ".py",
      "mimetype": "text/x-python",
      "name": "python",
      "nbconvert_exporter": "python",
      "pygments_lexer": "ipython3",
      "version": "3.6.3"
    },
    "colab": {
      "name": "Crawler.ipynb",
      "provenance": []
    }
  },
  "cells": [
    {
      "cell_type": "markdown",
      "metadata": {
        "id": "zpylCYX107qo",
        "colab_type": "text"
      },
      "source": [
        "# 1. Download and persist #\n",
        "Please complete a code for `load()`, `download()` and `persist()` methods of `Document` class. What they do:\n",
        "- for a given URL `download()` method downloads binary data and stores in `self.content`. It returns `True` for success, else `False`.\n",
        "- `persist()` method saves `self.content` somewhere. We do it to avoid multiple downloads.\n",
        "- `load()` method loads data from hard drive. Returns `True` for success.\n",
        "\n",
        "Tests checks that your code somehow works."
      ]
    },
    {
      "cell_type": "code",
      "metadata": {
        "id": "K-4-mN2i07qr",
        "colab_type": "code",
        "colab": {}
      },
      "source": [
        "import requests\n",
        "from urllib.parse import quote\n",
        "\n",
        "class Document:\n",
        "    \n",
        "    def __init__(self, url):\n",
        "        self.url = url\n",
        "        \n",
        "    def get(self):\n",
        "        if not self.load():\n",
        "            if not self.download():\n",
        "                raise FileNotFoundError(self.url)\n",
        "            else:\n",
        "                self.persist()\n",
        "    \n",
        "    def download(self):\n",
        "        try:\n",
        "            response = requests.get(self.url)\n",
        "            if response.status_code == 200:\n",
        "                self.content = response.content\n",
        "                return True\n",
        "            else:\n",
        "                return False\n",
        "        except:\n",
        "            return False\n",
        "    \n",
        "    def persist(self):\n",
        "        with open(quote(self.url).replace('/', '_'), 'wb') as f:\n",
        "            f.write(self.content)\n",
        "            \n",
        "    def load(self):\n",
        "        # print(\"Loading from drive\")\n",
        "        try:\n",
        "            with open(quote(self.url).replace('/', '_'), 'rb') as f:\n",
        "                self.content = f.read()\n",
        "            # print(\"Loaded from drive\")\n",
        "            return True\n",
        "        except:\n",
        "            return False"
      ],
      "execution_count": 0,
      "outputs": []
    },
    {
      "cell_type": "markdown",
      "metadata": {
        "id": "s_L7nw7e07qw",
        "colab_type": "text"
      },
      "source": [
        "## 1.1. Tests ##"
      ]
    },
    {
      "cell_type": "code",
      "metadata": {
        "id": "BT_vmDaS07qx",
        "colab_type": "code",
        "colab": {}
      },
      "source": [
        "doc = Document('http://sprotasov.ru/data/iu.txt')\n",
        "\n",
        "doc.get()\n",
        "assert doc.content, \"Document download failed\"\n",
        "assert \"Code snippets, demos and labs for the course\" in str(doc.content), \"Document content error\"\n",
        "\n",
        "doc.get()\n",
        "assert doc.load(), \"Load should return true for saved document\"\n",
        "assert \"Code snippets, demos and labs for the course\" in str(doc.content), \"Document load from disk error\""
      ],
      "execution_count": 0,
      "outputs": []
    },
    {
      "cell_type": "markdown",
      "metadata": {
        "id": "GJN2CKIP07q1",
        "colab_type": "text"
      },
      "source": [
        "# 2. Parse HTML #\n",
        "`BeautifulSoap` library is a de facto standard to parse XML and HTML documents in python. Use it to complete `parse()` method that extracts document contents. You should initialize:\n",
        "- `self.anchors` list of tuples `('text', 'url')` met in a document. Be aware, there exist relative links. Use `urllib.parse.urljoin()` to fix this issue.\n",
        "- `self.images` list of images met in a document. Again links can be relative.\n",
        "- `self.text` should keep plain text of the document without scripts, tags, comments and so on. You can refer to [this stackoverflow answer](https://stackoverflow.com/a/1983219) for details."
      ]
    },
    {
      "cell_type": "code",
      "metadata": {
        "id": "xAv1mTrP07q2",
        "colab_type": "code",
        "colab": {}
      },
      "source": [
        "from bs4 import BeautifulSoup\n",
        "from bs4.element import Comment\n",
        "import urllib.parse\n",
        "\n",
        "\n",
        "class HtmlDocument(Document):\n",
        "    \n",
        "    def normalize(self, href):\n",
        "        if href is not None and href[:4] != 'http':\n",
        "            href = urllib.parse.urljoin(self.url, href)\n",
        "        return href\n",
        "    \n",
        "    \n",
        "    def parse(self):\n",
        "        \n",
        "        def tag_visible(element):\n",
        "            if element.parent.name in ['style', 'script', 'head', 'title', 'meta', '[document]']:\n",
        "                return False\n",
        "            if isinstance(element, Comment):\n",
        "                return False\n",
        "            return True\n",
        "            \n",
        "        \n",
        "        model = BeautifulSoup(self.content)\n",
        "        \n",
        "        self.anchors = []\n",
        "        a = model.find_all('a')\n",
        "        for anchor in a:\n",
        "            href = self.normalize(anchor.get('href'))\n",
        "            text = anchor.text\n",
        "            self.anchors.append((text, href))\n",
        "                        \n",
        "        self.images = []\n",
        "        i = model.find_all('img')\n",
        "        for img in i:\n",
        "            href = self.normalize(img.get('src'))\n",
        "            self.images.append(href)\n",
        "        \n",
        "        texts = model.findAll(text=True)\n",
        "        visible_texts = filter(tag_visible, texts)  \n",
        "        self.text = u\" \".join(t.strip() for t in visible_texts)"
      ],
      "execution_count": 0,
      "outputs": []
    },
    {
      "cell_type": "markdown",
      "metadata": {
        "id": "AxPIMJN907q6",
        "colab_type": "text"
      },
      "source": [
        "## 2.1. Tests ##"
      ]
    },
    {
      "cell_type": "code",
      "metadata": {
        "id": "N9-L3rar07q7",
        "colab_type": "code",
        "colab": {}
      },
      "source": [
        "doc = HtmlDocument(\"http://sprotasov.ru\")\n",
        "doc.get()\n",
        "doc.parse()\n",
        "\n",
        "assert \"тестирующий сервер codetest\" in doc.text, \"Error parsing text\"\n",
        "assert \"http://sprotasov.ru/images/phone.png\" in doc.images, \"Error parsing images\"\n",
        "assert any(p[1] == \"http://university.innopolis.ru/\" for p in doc.anchors), \"Error parsing links\""
      ],
      "execution_count": 0,
      "outputs": []
    },
    {
      "cell_type": "markdown",
      "metadata": {
        "id": "DeYLK8yT07q-",
        "colab_type": "text"
      },
      "source": [
        "# 3. Document analysis #\n",
        "Complete the code for `HtmlDocumentTextData` class. Implement word (and sentence) splitting. Your `get_word_stats()` method should return `Counter` object. Don't forget to lowercase your words."
      ]
    },
    {
      "cell_type": "code",
      "metadata": {
        "id": "WcWW6osa07q_",
        "colab_type": "code",
        "colab": {}
      },
      "source": [
        "from collections import Counter\n",
        "import nltk\n",
        "import re\n",
        "\n",
        "class HtmlDocumentTextData:\n",
        "    \n",
        "    def __init__(self, url):\n",
        "        self.doc = HtmlDocument(url)\n",
        "        self.doc.get()\n",
        "        self.doc.parse()\n",
        "    \n",
        "    def get_sentences(self):\n",
        "        nltk.download('punkt')\n",
        "        sentences = nltk.tokenize.sent_tokenize(self.doc.text)\n",
        "        result = []\n",
        "        for sent in sentences:\n",
        "            for line in sent.split('\\n'):\n",
        "                if line.strip():\n",
        "                    result.append(line.strip())\n",
        "        return result\n",
        "    \n",
        "    def get_word_stats(self):\n",
        "        return Counter([word.lower() for word in re.split('\\W', self.doc.text) if word and not word[0].isdigit()])"
      ],
      "execution_count": 0,
      "outputs": []
    },
    {
      "cell_type": "markdown",
      "metadata": {
        "id": "8TkxX7Z407rE",
        "colab_type": "text"
      },
      "source": [
        "## 3.1. Tests ##"
      ]
    },
    {
      "cell_type": "code",
      "metadata": {
        "id": "csnHn46307rF",
        "colab_type": "code",
        "colab": {},
        "outputId": "ed2a8e69-d84c-4496-9cc8-31f685c64f3e"
      },
      "source": [
        "doc = HtmlDocumentTextData(\"https://university.innopolis.ru\")\n",
        "\n",
        "print(doc.get_word_stats().most_common(10))\n",
        "assert [x for x in doc.get_word_stats().most_common(10) if x[0] == 'иннополис'], 'иннополис sould be among most common'"
      ],
      "execution_count": 0,
      "outputs": [
        {
          "output_type": "stream",
          "text": [
            "[('и', 52), ('в', 37), ('иннополис', 32), ('по', 30), ('ул', 25), ('на', 24), ('из', 18), ('ост', 16), ('университет', 15), ('ит', 14)]\n"
          ],
          "name": "stdout"
        }
      ]
    },
    {
      "cell_type": "markdown",
      "metadata": {
        "id": "Vj2mHQOJ07rK",
        "colab_type": "text"
      },
      "source": [
        "# 4. Crawling #\n",
        "\n",
        "Method `crawl_generator()` is given starting url (`source`) and max depth of search. It should return a **generator** of `HtmlDocumentTextData` objects (return a document as soon as it is downloaded and parsed). You can benefit from `yield obj_name` python construction. Use `HtmlDocumentTextData.anchors` field to go deeper."
      ]
    },
    {
      "cell_type": "code",
      "metadata": {
        "id": "J_7_tRmG07rL",
        "colab_type": "code",
        "colab": {}
      },
      "source": [
        "from queue import Queue\n",
        "\n",
        "class Crawler:\n",
        "    \n",
        "    def crawl_generator(self, source, depth=1):\n",
        "        q = Queue()\n",
        "        q.put((source, 0))\n",
        "        visited = set()\n",
        "        while not q.empty():\n",
        "            url, url_depth = q.get()\n",
        "            if url not in visited:\n",
        "                visited.add(url)\n",
        "                try:\n",
        "                    doc = HtmlDocumentTextData(url)\n",
        "                    for a in doc.doc.anchors:\n",
        "                        if url_depth + 1 < depth:\n",
        "                            q.put((a[1], url_depth + 1))\n",
        "                    yield doc\n",
        "                except FileNotFoundError as e:\n",
        "                    print(\"Analyzing\", url, \"led to FileNotFoundError\")"
      ],
      "execution_count": 0,
      "outputs": []
    },
    {
      "cell_type": "markdown",
      "metadata": {
        "id": "tllVg0BT07rP",
        "colab_type": "text"
      },
      "source": [
        "## 4.1. Tests ##"
      ]
    },
    {
      "cell_type": "code",
      "metadata": {
        "id": "JvMZ-J5j07rR",
        "colab_type": "code",
        "colab": {},
        "outputId": "c9dca1f6-9913-4c84-9867-03403322dbb4"
      },
      "source": [
        "crawler = Crawler()\n",
        "counter = Counter()\n",
        "\n",
        "for c in crawler.crawl_generator(\"https://university.innopolis.ru/en/\", 2):\n",
        "    print(c.doc.url)\n",
        "    if c.doc.url[-4:] in ('.pdf', '.mp3', '.avi', '.mp4', '.txt'):\n",
        "        print(\"Skipping\", c.doc.url)\n",
        "        continue\n",
        "    counter.update(c.get_word_stats())\n",
        "    print(len(counter), \"distinct word(s) so far\")\n",
        "    \n",
        "print(\"Done\")\n",
        "\n",
        "print(counter.most_common(20))\n",
        "assert [x for x in counter.most_common(20) if x[0] == 'innopolis'], 'innopolis sould be among most common'"
      ],
      "execution_count": 0,
      "outputs": [
        {
          "output_type": "stream",
          "text": [
            "https://university.innopolis.ru/en/\n",
            "395 distinct word(s) so far\n",
            "https://university.innopolis.ru/\n",
            "899 distinct word(s) so far\n",
            "https://university.innopolis.ru/en/?special=Y\n",
            "910 distinct word(s) so far\n",
            "https://university.innopolis.ru/en/about/\n",
            "1047 distinct word(s) so far\n",
            "https://university.innopolis.ru/en/about/city\n",
            "1112 distinct word(s) so far\n",
            "https://university.innopolis.ru/en/about/board\n",
            "1172 distinct word(s) so far\n",
            "https://university.innopolis.ru/en/about/job\n",
            "1430 distinct word(s) so far\n",
            "https://university.innopolis.ru/en/about/structure\n",
            "1571 distinct word(s) so far\n",
            "https://university.innopolis.ru/en/about/teaching-composition/\n",
            "1648 distinct word(s) so far\n",
            "https://university.innopolis.ru/upload/iblock/026/IU_AR2018_eng.pdf\n",
            "Skipping https://university.innopolis.ru/upload/iblock/026/IU_AR2018_eng.pdf\n",
            "https://university.innopolis.ru/en/education/\n",
            "1680 distinct word(s) so far\n",
            "https://university.innopolis.ru/en/education/bachelor/\n",
            "1709 distinct word(s) so far\n",
            "https://university.innopolis.ru/en/education/master/\n",
            "1720 distinct word(s) so far\n",
            "https://university.innopolis.ru/en/education/stem\n",
            "1789 distinct word(s) so far\n",
            "https://university.innopolis.ru/en/education/visit\n",
            "1817 distinct word(s) so far\n",
            "https://university.innopolis.ru/en/education/shadowing-program/\n",
            "1867 distinct word(s) so far\n",
            "https://university.innopolis.ru/en/research/\n",
            "1883 distinct word(s) so far\n",
            "https://university.innopolis.ru/en/research/competitions-and-grants/\n",
            "1924 distinct word(s) so far\n",
            "https://university.innopolis.ru/en/research/robotics/\n",
            "1984 distinct word(s) so far\n",
            "https://university.innopolis.ru/en/research/iis/\n",
            "2023 distinct word(s) so far\n",
            "https://university.innopolis.ru/en/research/itsd/\n",
            "2093 distinct word(s) so far\n",
            "https://university.innopolis.ru/en/cooperation/\n",
            "2100 distinct word(s) so far\n",
            "https://university.innopolis.ru/en/cooperation/global/\n",
            "2186 distinct word(s) so far\n",
            "https://university.innopolis.ru/en/cooperation/industry/\n",
            "2219 distinct word(s) so far\n",
            "https://apply.innopolis.ru/it-degrees-en/?utm_source=ui-en-slider&utm_medium=btn&utm_campaign=ui-site\n",
            "2256 distinct word(s) so far\n",
            "https://university.innopolis.ru/en/news/\n",
            "2256 distinct word(s) so far\n",
            "https://university.innopolis.ru/en/?TAGS=Industry\n",
            "2323 distinct word(s) so far\n",
            "https://university.innopolis.ru/en/?TAGS=Research\n",
            "2391 distinct word(s) so far\n",
            "https://university.innopolis.ru/en/?TAGS=Education\n",
            "2437 distinct word(s) so far\n",
            "https://university.innopolis.ru/en/?TAGS=Students life\n",
            "2505 distinct word(s) so far\n",
            "https://university.innopolis.ru/en/?TAGS=Global\n",
            "2533 distinct word(s) so far\n",
            "https://university.innopolis.ru/en/#tile\n",
            "2533 distinct word(s) so far\n",
            "https://university.innopolis.ru/en/#line\n",
            "2533 distinct word(s) so far\n",
            "https://university.innopolis.ru/en/news/webinar-for-international-candidates-/\n",
            "2558 distinct word(s) so far\n",
            "https://university.innopolis.ru/en/news/registration-innopolis-open-2020/\n",
            "2579 distinct word(s) so far\n",
            "https://university.innopolis.ru/en/news/cyber-resilience-petrenko/\n",
            "2648 distinct word(s) so far\n",
            "https://university.innopolis.ru/en/news/innopolis-university-extends-international-application-deadline-/\n",
            "2682 distinct word(s) so far\n",
            "https://university.innopolis.ru/en/news/self-driven-school/\n",
            "2700 distinct word(s) so far\n",
            "https://university.innopolis.ru/en/news/webinar-for-international-candidates/\n",
            "2704 distinct word(s) so far\n",
            "https://university.innopolis.ru/en/news/the-first-release-for-testers-in-innopolis-university/\n",
            "2767 distinct word(s) so far\n",
            "https://university.innopolis.ru/en/news/iati-2018/\n",
            "2826 distinct word(s) so far\n",
            "Analyzing javascript:; led to FileNotFoundError\n",
            "https://university.innopolis.ru/en/?PAGEN_1=2&SIZEN_1=8\n",
            "2826 distinct word(s) so far\n",
            "https://university.innopolis.ru/en/?PAGEN_1=3&SIZEN_1=8\n",
            "2836 distinct word(s) so far\n",
            "https://university.innopolis.ru/en/?PAGEN_1=4&SIZEN_1=8\n",
            "2863 distinct word(s) so far\n",
            "https://university.innopolis.ru/en/?PAGEN_1=5&SIZEN_1=8\n",
            "2873 distinct word(s) so far\n",
            "https://university.innopolis.ru/en/?PAGEN_1=40&SIZEN_1=8\n",
            "2921 distinct word(s) so far\n",
            "https://university.innopolis.ru/en/?PAGEN_1=41&SIZEN_1=8\n",
            "2930 distinct word(s) so far\n",
            "http://english.corp.megafon.ru/\n",
            "3023 distinct word(s) so far\n",
            "http://www.vtb.com/\n",
            "3132 distinct word(s) so far\n",
            "http://rostec.ru/?lang=rus\n",
            "3346 distinct word(s) so far\n",
            "http://en.mts.ru/\n",
            "3589 distinct word(s) so far\n",
            "http://www.kirkazan.ru/en/about-the-company/company-review/\n",
            "3702 distinct word(s) so far\n",
            "http://www.acronis.com/en-eu/\n",
            "3877 distinct word(s) so far\n",
            "http://www.parallels.com/\n",
            "3941 distinct word(s) so far\n",
            "http://www.icl.ru/web/guest\n",
            "4203 distinct word(s) so far\n",
            "http://at-consulting.co.uk/\n",
            "4238 distinct word(s) so far\n",
            "http://sin-x.ru/about/\n",
            "4373 distinct word(s) so far\n",
            "http://www.i-teco.ru/en/\n",
            "4644 distinct word(s) so far\n",
            "https://corp.mail.ru/en/\n",
            "4686 distinct word(s) so far\n",
            "http://xn--h1aax.xn--p1ai/\n",
            "4757 distinct word(s) so far\n",
            "http://bars-open.ru/eng/\n",
            "4796 distinct word(s) so far\n",
            "http://etton.ru/\n",
            "4932 distinct word(s) so far\n",
            "http://www.infomatika.ru/\n",
            "5400 distinct word(s) so far\n",
            "https://kontur.ru/eng/about\n",
            "5498 distinct word(s) so far\n",
            "http://itpark-kazan.ru/ru/node/540\n",
            "5520 distinct word(s) so far\n",
            "http://cg.ru/\n",
            "5657 distinct word(s) so far\n",
            "https://www.bitrix24.com/\n",
            "5734 distinct word(s) so far\n",
            "http://rusenres.ru/\n",
            "5978 distinct word(s) so far\n",
            "http://maykor.com/en/\n",
            "6050 distinct word(s) so far\n",
            "http://www.russianpost.ru/rp/servise/en/home/postuslug/internationalmail/company\n",
            "6050 distinct word(s) so far\n",
            "http://www.kaspersky.co.uk/#\n",
            "6163 distinct word(s) so far\n",
            "http://www.sberbank.ru/en/\n",
            "6246 distinct word(s) so far\n",
            "Analyzing https://myoffice.ru/ led to FileNotFoundError\n",
            "Analyzing http://mga-security.com/ led to FileNotFoundError\n",
            "https://introscan.ru/\n",
            "6292 distinct word(s) so far\n",
            "http://www.informatics-europe.org/\n",
            "6337 distinct word(s) so far\n",
            "https://postgrespro.com/\n",
            "6441 distinct word(s) so far\n",
            "http://www.kuka-robotics.com/russia/ru/\n",
            "6926 distinct word(s) so far\n",
            "http://tatarstan.ru/eng/\n",
            "6985 distinct word(s) so far\n",
            "http://www.minsvyaz.ru/en/\n",
            "7021 distinct word(s) so far\n",
            "https://university.innopolis.ru/en/join-us/industry/\n",
            "7021 distinct word(s) so far\n",
            "Analyzing http://xn--80abucjiibhv9a.xn--p1ai/ led to FileNotFoundError\n",
            "http://www.innopolis.com/city/how-to-get/\n",
            "7191 distinct word(s) so far\n",
            "https://www.youtube.com/user/InnopolisU\n",
            "7269 distinct word(s) so far\n",
            "http://vk.com/innopolisu\n",
            "7422 distinct word(s) so far\n",
            "https://www.facebook.com/InnopolisU\n",
            "7519 distinct word(s) so far\n",
            "https://twitter.com/@InnopolisU\n",
            "7957 distinct word(s) so far\n",
            "http://habrahabr.ru/company/innopolis_university/\n",
            "7959 distinct word(s) so far\n",
            "https://university.innopolis.ru/en/#route-tab-198\n",
            "7959 distinct word(s) so far\n",
            "https://university.innopolis.ru/en/#route-tab-199\n",
            "7959 distinct word(s) so far\n",
            "https://university.innopolis.ru/en/#route-tab-route-result-200\n",
            "7959 distinct word(s) so far\n",
            "https://university.innopolis.ru/en/#route-tab-route-result-201\n",
            "7959 distinct word(s) so far\n",
            "https://docs.google.com/spreadsheets/d/139t1MN5hVdWQwpWh8oLUDMUcSou9XDyQvDUHilhKahc/pubhtml#\n",
            "8034 distinct word(s) so far\n",
            "https://university.innopolis.ru/en/tel:88002222287\n",
            "8034 distinct word(s) so far\n",
            "https://university.innopolis.ru/en/#route-tab-route-result-203\n",
            "8034 distinct word(s) so far\n",
            "https://university.innopolis.ru/en/#route-tab-route-result-202\n",
            "8034 distinct word(s) so far\n",
            "Done\n",
            "[('of', 2672), ('the', 2459), ('and', 2219), ('ул', 1357), ('university', 1161), ('innopolis', 1135), ('for', 1031), ('in', 1010), ('ост', 991), ('to', 684), ('со', 684), ('стороны', 668), ('education', 619), ('institute', 576), ('д', 558), ('a', 552), ('s', 523), ('research', 457), ('about', 453), ('и', 452)]\n"
          ],
          "name": "stdout"
        }
      ]
    }
  ]
}