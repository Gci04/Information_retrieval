{
 "cells": [
  {
   "cell_type": "markdown",
   "metadata": {},
   "source": [
    "# Language and Topic models\n",
    "\n",
    "A common suggestion to users for coming up with good queries is to think of words that would likely appear in a relevant document, and to use those words as the query. The language modeling approach to IR directly models this idea: a document is a good match to a query if the document model is likely to generate the query, which will in turn happen if the document contains the query words often. \n",
    "\n",
    "Today we will score documents with respect to user query using language models and also get some experience with topic modelling."
   ]
  },
  {
   "cell_type": "markdown",
   "metadata": {},
   "source": [
    "## Loading data\n",
    "\n",
    "In this class we will use the dataset we already used once - [this topic-modeling dataset](https://code.google.com/archive/p/topic-modeling-tool/downloads)."
   ]
  },
  {
   "cell_type": "code",
   "execution_count": 1,
   "metadata": {},
   "outputs": [],
   "source": [
    "#read the dataset\n",
    "from urllib.request import urlopen\n",
    "all_data = {}\n",
    "links = {\"fuel\":\"https://storage.googleapis.com/google-code-archive-downloads/v2/code.google.com/topic-modeling-tool/testdata_news_fuel_845docs.txt\",\n",
    "        \"economy\":\"https://storage.googleapis.com/google-code-archive-downloads/v2/code.google.com/topic-modeling-tool/testdata_news_economy_2073docs.txt\",\n",
    "        \"music\": \"https://storage.googleapis.com/google-code-archive-downloads/v2/code.google.com/topic-modeling-tool/testdata_news_music_2084docs.txt\",\n",
    "        \"brain_injury\":\"https://storage.googleapis.com/google-code-archive-downloads/v2/code.google.com/topic-modeling-tool/testdata_braininjury_10000docs.txt\"}\n",
    "\n",
    "\n",
    "for topic, link in links.items():\n",
    "    f = urlopen(link)\n",
    "    myfile = f.readlines()\n",
    "    for i , doc in enumerate(myfile,1):\n",
    "        all_data[f'{topic}_{i}'] = doc.decode('utf-8').strip()\n"
   ]
  },
  {
   "cell_type": "code",
   "execution_count": 2,
   "metadata": {
    "scrolled": true
   },
   "outputs": [
    {
     "name": "stdout",
     "output_type": "stream",
     "text": [
      "# of documents 15002\n"
     ]
    }
   ],
   "source": [
    "print(\"# of documents\", len(all_data))\n",
    "assert len(all_data) == 15002"
   ]
  },
  {
   "cell_type": "markdown",
   "metadata": {},
   "source": [
    "## 1. Ranking Using Language Models\n",
    "Our goal is to rank documents by *P(d|q)*, where the probability of a document is interpreted as the likelihood that it is relevant to the query. \n",
    "\n",
    "Using Bayes rule: *P(d|q) = P(q|d)P(d)/P(q)*\n",
    "\n",
    "*P(q)* is the same for all documents, and so can be ignored. The prior probability of a document *P(d)* is often treated as uniform across all *d* and so it can also be ignored. What does it mean? \n",
    "\n",
    "It means that comparing *P(q|d)* between different documents we can compare how relevant are they to the query. How can we estimate *P(q|d)*?\n",
    "\n",
    "*P(q|d)* can be estimated as:\n",
    "![](https://i.imgur.com/BEIMAC1.png)\n",
    "\n",
    "where M<sub>d</sub> is the language model of document *d*, tf<sub>t,d</sub> is the term frequency of term *t* in document *d*, and L<sub>d</sub> is the number of tokens in document *d*. That is, we just count up how often each word occurred, and divide by the total number of words in the document *d*. The first thing we need to do is to build a term-document matrix for tour dataset."
   ]
  },
  {
   "cell_type": "code",
   "execution_count": 3,
   "metadata": {},
   "outputs": [],
   "source": [
    "# build term-document matrix for the dataset\n",
    "from sklearn.feature_extraction.text import CountVectorizer\n",
    "vectorizer = CountVectorizer()\n",
    "tdm = vectorizer.fit_transform(list(all_data.values())).toarray()"
   ]
  },
  {
   "cell_type": "markdown",
   "metadata": {},
   "source": [
    "### Smoothing\n",
    "\n",
    "Now, you need to implement the abovementioned logic in the `lm_rank_documents` function below. Do you see any potential problems?\n",
    "\n",
    "Yes, data sparsity - we don't expect to meet each term in each doc, so, in most cases, we will get zero scores, which is not what we really want.\n",
    "\n",
    "The solution is smooting.\n",
    "\n",
    "One option is *additive smoothing* - adding a small number (0 to 1) to the observed counts and renormalizing to give a probability distribution.\n",
    "\n",
    "Another option is called Jelinek-Mercer smoothing - a simple idea that works well in practice is to use a mixture between a document-specific distribution and distribution estimated from the entire collection:\n",
    "\n",
    "![](https://i.imgur.com/8Qv41Wp.png)\n",
    "\n",
    "where 0 < λ < 1 and M<sub>c</sub> is a language model built from the entire document collection.\n",
    "\n",
    "Refer to *Chapter 12* for the detailed explanation.\n",
    "\n",
    "\n",
    "You are going to apply both in your `lm_rank_documents` function. This function takes as an input tdm matrix, and ranks all documents \"building\" a language model for each document, returning relative probabilities of query being generated by a document as a document's score."
   ]
  },
  {
   "cell_type": "code",
   "execution_count": 6,
   "metadata": {
    "collapsed": true
   },
   "outputs": [],
   "source": [
    "import numpy as np\n",
    "\n",
    "def lm_rank_documents(query, tdm, terms_list, smoothing='additive', param=0.001):\n",
    "    # TODO: score each document in tdm using this document's language model\n",
    "    # implement two types of smoothing. Looks up term frequencies in tdm\n",
    "    # return document scores in a convenient form\n",
    "    # param is alpha for additive / lambda for jelinek-mercer\n",
    "    scores = []\n",
    "    return scores"
   ]
  },
  {
   "cell_type": "markdown",
   "metadata": {},
   "source": [
    "### Testing\n",
    "\n",
    "Check if this type of ranking gives meaningful results. For each query output document category, doc_id, score, and the beginning of the document, as it is shown below. Analyze if categories and contents match the queries. "
   ]
  },
  {
   "cell_type": "code",
   "execution_count": 7,
   "metadata": {
    "scrolled": false
   },
   "outputs": [
    {
     "name": "stdout",
     "output_type": "stream",
     "text": [
      "user query: \u001b[95mpiano concert\u001b[0m\n",
      "prepared query: Counter({'piano': 1, 'concert': 1})\n",
      "\n",
      "search results:\n",
      "\u001b[1mmusic\u001b[0m 13330 0.012384164490679759\n",
      "atlanta prominent midtown intersection one step closer becoming major cultural landmark the atlanta ...\n",
      "\u001b[1meconomy\u001b[0m 11335 0.012384164490679759\n",
      "atlanta prominent midtown intersection one step closer becoming major cultural landmark the atlanta ...\n",
      "\u001b[1mmusic\u001b[0m 12926 0.011382499792705511\n",
      "felt like was going church marry guy never met said the jazz violinist regina carter the metaphorica...\n",
      "\u001b[1mmusic\u001b[0m 14390 0.010661589922122\n",
      "hailed los angeles brightest flower its flashiest ship sail its keenest architectural triumph perhap...\n",
      "\u001b[1mmusic\u001b[0m 13818 0.010549141787975117\n",
      "everything was finished sept the super bowl logo would reflection new orleans featuring streetcar an...\n",
      "\n",
      "\n",
      "user query: \u001b[95msymptoms of head trauma\u001b[0m\n",
      "prepared query: Counter({'symptoms': 1, 'head': 1, 'trauma': 1})\n",
      "\n",
      "search results:\n",
      "\u001b[1mbrain_injury\u001b[0m 7319 0.06022877378376099\n",
      "the direct economic burden blunt and penetrating trauma managed care population background although ...\n",
      "\u001b[1mbrain_injury\u001b[0m 6987 0.05854539395767944\n",
      "history reported head trauma sample women substance abuse treatment objectives determine the prevale...\n",
      "\u001b[1mbrain_injury\u001b[0m 5257 0.05760140208255336\n",
      "violent head trauma china report cases background the occurrence violent trauma has recently increas...\n",
      "\u001b[1mbrain_injury\u001b[0m 1536 0.055365767080148634\n",
      "mild head trauma and chronic headaches returning soldiers objective determine the incidence and type...\n",
      "\u001b[1mbrain_injury\u001b[0m 8874 0.05379997937839304\n",
      "maxillofacial trauma major trauma patients background trauma has been identified major public health...\n",
      "\n",
      "\n",
      "user query: \u001b[95mwall street journal\u001b[0m\n",
      "prepared query: Counter({'wall': 1, 'street': 1, 'journal': 1})\n",
      "\n",
      "search results:\n",
      "\u001b[1meconomy\u001b[0m 11294 0.027288833622119528\n",
      "these business stories for release tuesday january are moving today clients the new york times news ...\n",
      "\u001b[1meconomy\u001b[0m 11295 0.027288833622119528\n",
      "these business stories for release tuesday january are moving today clients the new york times news ...\n",
      "\u001b[1mmusic\u001b[0m 14641 0.026716049665405375\n",
      "these feature stories are moving today clients the new york times news service stories are for relea...\n",
      "\u001b[1mmusic\u001b[0m 14640 0.026716049665405375\n",
      "these feature stories are moving today clients the new york times news service stories are for relea...\n",
      "\u001b[1meconomy\u001b[0m 11297 0.025763725974814314\n",
      "these feature stories are moving today clients the new york times news service stories are for relea...\n",
      "\n",
      "\n"
     ]
    }
   ],
   "source": [
    "def process_query(raw_query):\n",
    "    # TODO: process user query and print search results including document category, id, score, and some part of it\n",
    "    pass\n",
    "    \n",
    "\n",
    "user_queries = [\"piano concert\", \"symptoms of head trauma\", \"wall street journal\"]\n",
    "for q in user_queries:\n",
    "    process_query(q)\n",
    "    print(\"\\n\")"
   ]
  },
  {
   "cell_type": "markdown",
   "metadata": {},
   "source": [
    "## 2. Topic modeling\n",
    "\n",
    "Now let's use *Latent Dirichlet Allocation* to identify topics in this collection and check if they match the original topics (fuel, economy, etc.). Go through the tutorial [here](https://towardsdatascience.com/end-to-end-topic-modeling-in-python-latent-dirichlet-allocation-lda-35ce4ed6b3e0) and apply the ideas there to our dataset. "
   ]
  },
  {
   "cell_type": "code",
   "execution_count": 8,
   "metadata": {
    "scrolled": true
   },
   "outputs": [
    {
     "name": "stdout",
     "output_type": "stream",
     "text": [
      "Topics found via LDA:\n",
      "\n",
      "Topic #0:\n",
      "brain injury patients tbi traumatic study cerebral results severe group cognitive clinical pressure imaging following outcome control using children test\n",
      "\n",
      "Topic #1:\n",
      "new said york news atlanta like times year service time people undated just music journal constitution city says com years\n",
      "\n",
      "Topic #2:\n",
      "patients injury injuries trauma head study results traumatic brain treatment cases patient fractures years case outcome methods clinical tbi surgery\n",
      "\n",
      "Topic #3:\n",
      "said year bush percent new enron company president government people economy years million state companies states economic united time billion\n"
     ]
    }
   ],
   "source": [
    "# TODO: apply LDA to our dataset and output the resulting categories \n"
   ]
  }
 ],
 "metadata": {
  "kernelspec": {
   "display_name": "Python 3",
   "language": "python",
   "name": "python3"
  },
  "language_info": {
   "codemirror_mode": {
    "name": "ipython",
    "version": 3
   },
   "file_extension": ".py",
   "mimetype": "text/x-python",
   "name": "python",
   "nbconvert_exporter": "python",
   "pygments_lexer": "ipython3",
   "version": "3.6.5"
  }
 },
 "nbformat": 4,
 "nbformat_minor": 4
}
